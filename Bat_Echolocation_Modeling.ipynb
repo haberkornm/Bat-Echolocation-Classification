{
 "cells": [
  {
   "cell_type": "markdown",
   "metadata": {
    "toc": true
   },
   "source": [
    "<h1>Table of Contents<span class=\"tocSkip\"></span></h1>\n",
    "<div class=\"toc\"><ul class=\"toc-item\"><li><span><a href=\"#Loading,-Splitting,-and-Scaling-Data\" data-toc-modified-id=\"Loading,-Splitting,-and-Scaling-Data-1\"><span class=\"toc-item-num\">1&nbsp;&nbsp;</span>Loading, Splitting, and Scaling Data</a></span></li><li><span><a href=\"#Dummy-Classifier\" data-toc-modified-id=\"Dummy-Classifier-2\"><span class=\"toc-item-num\">2&nbsp;&nbsp;</span>Dummy Classifier</a></span><ul class=\"toc-item\"><li><span><a href=\"#All-Species\" data-toc-modified-id=\"All-Species-2.1\"><span class=\"toc-item-num\">2.1&nbsp;&nbsp;</span>All Species</a></span></li><li><span><a href=\"#Three-Species\" data-toc-modified-id=\"Three-Species-2.2\"><span class=\"toc-item-num\">2.2&nbsp;&nbsp;</span>Three Species</a></span></li></ul></li><li><span><a href=\"#Random-Forest-Classifier\" data-toc-modified-id=\"Random-Forest-Classifier-3\"><span class=\"toc-item-num\">3&nbsp;&nbsp;</span>Random Forest Classifier</a></span><ul class=\"toc-item\"><li><span><a href=\"#All-Species-Classifier\" data-toc-modified-id=\"All-Species-Classifier-3.1\"><span class=\"toc-item-num\">3.1&nbsp;&nbsp;</span>All Species Classifier</a></span></li><li><span><a href=\"#Three-Species-Classifier\" data-toc-modified-id=\"Three-Species-Classifier-3.2\"><span class=\"toc-item-num\">3.2&nbsp;&nbsp;</span>Three Species Classifier</a></span></li><li><span><a href=\"#Multicollinear-features-removed--All-Species\" data-toc-modified-id=\"Multicollinear-features-removed--All-Species-3.3\"><span class=\"toc-item-num\">3.3&nbsp;&nbsp;</span>Multicollinear features removed- All Species</a></span></li><li><span><a href=\"#Multicollinear-features-removed--Three-Species\" data-toc-modified-id=\"Multicollinear-features-removed--Three-Species-3.4\"><span class=\"toc-item-num\">3.4&nbsp;&nbsp;</span>Multicollinear features removed- Three Species</a></span></li></ul></li><li><span><a href=\"#KNN\" data-toc-modified-id=\"KNN-4\"><span class=\"toc-item-num\">4&nbsp;&nbsp;</span>KNN</a></span><ul class=\"toc-item\"><li><span><a href=\"#All-Species\" data-toc-modified-id=\"All-Species-4.1\"><span class=\"toc-item-num\">4.1&nbsp;&nbsp;</span>All Species</a></span></li><li><span><a href=\"#Three-Species\" data-toc-modified-id=\"Three-Species-4.2\"><span class=\"toc-item-num\">4.2&nbsp;&nbsp;</span>Three Species</a></span></li><li><span><a href=\"#Scaled-All-Species\" data-toc-modified-id=\"Scaled-All-Species-4.3\"><span class=\"toc-item-num\">4.3&nbsp;&nbsp;</span>Scaled All Species</a></span></li><li><span><a href=\"#Scaled-Three-Species\" data-toc-modified-id=\"Scaled-Three-Species-4.4\"><span class=\"toc-item-num\">4.4&nbsp;&nbsp;</span>Scaled Three Species</a></span></li></ul></li><li><span><a href=\"#XGBoost\" data-toc-modified-id=\"XGBoost-5\"><span class=\"toc-item-num\">5&nbsp;&nbsp;</span>XGBoost</a></span><ul class=\"toc-item\"><li><span><a href=\"#All-Species-Classifier\" data-toc-modified-id=\"All-Species-Classifier-5.1\"><span class=\"toc-item-num\">5.1&nbsp;&nbsp;</span>All Species Classifier</a></span></li><li><span><a href=\"#Three-Species-Classifier\" data-toc-modified-id=\"Three-Species-Classifier-5.2\"><span class=\"toc-item-num\">5.2&nbsp;&nbsp;</span>Three Species Classifier</a></span></li></ul></li><li><span><a href=\"#Logistic-Regression\" data-toc-modified-id=\"Logistic-Regression-6\"><span class=\"toc-item-num\">6&nbsp;&nbsp;</span>Logistic Regression</a></span><ul class=\"toc-item\"><li><span><a href=\"#All-Species\" data-toc-modified-id=\"All-Species-6.1\"><span class=\"toc-item-num\">6.1&nbsp;&nbsp;</span>All Species</a></span></li><li><span><a href=\"#Three-Species\" data-toc-modified-id=\"Three-Species-6.2\"><span class=\"toc-item-num\">6.2&nbsp;&nbsp;</span>Three Species</a></span></li><li><span><a href=\"#Scaled-All-Species\" data-toc-modified-id=\"Scaled-All-Species-6.3\"><span class=\"toc-item-num\">6.3&nbsp;&nbsp;</span>Scaled All Species</a></span></li><li><span><a href=\"#Scaled-Three-Species\" data-toc-modified-id=\"Scaled-Three-Species-6.4\"><span class=\"toc-item-num\">6.4&nbsp;&nbsp;</span>Scaled Three Species</a></span></li></ul></li><li><span><a href=\"#Model-By-Match-Ratio\" data-toc-modified-id=\"Model-By-Match-Ratio-7\"><span class=\"toc-item-num\">7&nbsp;&nbsp;</span>Model By Match Ratio</a></span><ul class=\"toc-item\"><li><span><a href=\"#Original-Dataframe-With-Match-Ratios\" data-toc-modified-id=\"Original-Dataframe-With-Match-Ratios-7.1\"><span class=\"toc-item-num\">7.1&nbsp;&nbsp;</span>Original Dataframe With Match Ratios</a></span><ul class=\"toc-item\"><li><span><a href=\"#Kaleidoscope-Pro-Accuracy-With-All-Species\" data-toc-modified-id=\"Kaleidoscope-Pro-Accuracy-With-All-Species-7.1.1\"><span class=\"toc-item-num\">7.1.1&nbsp;&nbsp;</span>Kaleidoscope Pro Accuracy With All Species</a></span></li><li><span><a href=\"#Kaleidoscope-Pro-Accuracy-All-Species-With-NoID-Removed\" data-toc-modified-id=\"Kaleidoscope-Pro-Accuracy-All-Species-With-NoID-Removed-7.1.2\"><span class=\"toc-item-num\">7.1.2&nbsp;&nbsp;</span>Kaleidoscope Pro Accuracy All Species With NoID Removed</a></span></li><li><span><a href=\"#Kaleidoscope-Pro-Accuracy-Three-Species\" data-toc-modified-id=\"Kaleidoscope-Pro-Accuracy-Three-Species-7.1.3\"><span class=\"toc-item-num\">7.1.3&nbsp;&nbsp;</span>Kaleidoscope Pro Accuracy Three Species</a></span></li><li><span><a href=\"#Kaleidoscope-Pro-Accuracy-By-Individual-Speceis\" data-toc-modified-id=\"Kaleidoscope-Pro-Accuracy-By-Individual-Speceis-7.1.4\"><span class=\"toc-item-num\">7.1.4&nbsp;&nbsp;</span>Kaleidoscope Pro Accuracy By Individual Speceis</a></span></li></ul></li></ul></li><li><span><a href=\"#Final-Random-Forest-Model\" data-toc-modified-id=\"Final-Random-Forest-Model-8\"><span class=\"toc-item-num\">8&nbsp;&nbsp;</span>Final Random Forest Model</a></span><ul class=\"toc-item\"><li><span><a href=\"#RF-Test-Data\" data-toc-modified-id=\"RF-Test-Data-8.1\"><span class=\"toc-item-num\">8.1&nbsp;&nbsp;</span>RF Test Data</a></span><ul class=\"toc-item\"><li><span><a href=\"#All-Species\" data-toc-modified-id=\"All-Species-8.1.1\"><span class=\"toc-item-num\">8.1.1&nbsp;&nbsp;</span>All Species</a></span></li><li><span><a href=\"#All-Species-and-NoID-Removed\" data-toc-modified-id=\"All-Species-and-NoID-Removed-8.1.2\"><span class=\"toc-item-num\">8.1.2&nbsp;&nbsp;</span>All Species and NoID Removed</a></span></li><li><span><a href=\"#Three-Species-and-NoID-Removed\" data-toc-modified-id=\"Three-Species-and-NoID-Removed-8.1.3\"><span class=\"toc-item-num\">8.1.3&nbsp;&nbsp;</span>Three Species and NoID Removed</a></span></li><li><span><a href=\"#Three-Species-with-NoID\" data-toc-modified-id=\"Three-Species-with-NoID-8.1.4\"><span class=\"toc-item-num\">8.1.4&nbsp;&nbsp;</span>Three Species with NoID</a></span></li><li><span><a href=\"#Model-Test-Data-Individual-Species\" data-toc-modified-id=\"Model-Test-Data-Individual-Species-8.1.5\"><span class=\"toc-item-num\">8.1.5&nbsp;&nbsp;</span>Model Test Data Individual Species</a></span></li></ul></li><li><span><a href=\"#RF-All-Data\" data-toc-modified-id=\"RF-All-Data-8.2\"><span class=\"toc-item-num\">8.2&nbsp;&nbsp;</span>RF All Data</a></span><ul class=\"toc-item\"><li><span><a href=\"#All-Species\" data-toc-modified-id=\"All-Species-8.2.1\"><span class=\"toc-item-num\">8.2.1&nbsp;&nbsp;</span>All Species</a></span></li><li><span><a href=\"#All-Species-and-NoID-Removed\" data-toc-modified-id=\"All-Species-and-NoID-Removed-8.2.2\"><span class=\"toc-item-num\">8.2.2&nbsp;&nbsp;</span>All Species and NoID Removed</a></span></li><li><span><a href=\"#Three-Species-and-NoID-Removed\" data-toc-modified-id=\"Three-Species-and-NoID-Removed-8.2.3\"><span class=\"toc-item-num\">8.2.3&nbsp;&nbsp;</span>Three Species and NoID Removed</a></span></li><li><span><a href=\"#Three-Species-with-NoID\" data-toc-modified-id=\"Three-Species-with-NoID-8.2.4\"><span class=\"toc-item-num\">8.2.4&nbsp;&nbsp;</span>Three Species with NoID</a></span></li><li><span><a href=\"#Individual-Species\" data-toc-modified-id=\"Individual-Species-8.2.5\"><span class=\"toc-item-num\">8.2.5&nbsp;&nbsp;</span>Individual Species</a></span></li></ul></li><li><span><a href=\"#Graphing-Accuracy\" data-toc-modified-id=\"Graphing-Accuracy-8.3\"><span class=\"toc-item-num\">8.3&nbsp;&nbsp;</span>Graphing Accuracy</a></span><ul class=\"toc-item\"><li><span><a href=\"#All-Species\" data-toc-modified-id=\"All-Species-8.3.1\"><span class=\"toc-item-num\">8.3.1&nbsp;&nbsp;</span>All Species</a></span></li><li><span><a href=\"#Three-Species\" data-toc-modified-id=\"Three-Species-8.3.2\"><span class=\"toc-item-num\">8.3.2&nbsp;&nbsp;</span>Three Species</a></span></li><li><span><a href=\"#Individual-Species\" data-toc-modified-id=\"Individual-Species-8.3.3\"><span class=\"toc-item-num\">8.3.3&nbsp;&nbsp;</span>Individual Species</a></span></li></ul></li></ul></li><li><span><a href=\"#One-Species-Models\" data-toc-modified-id=\"One-Species-Models-9\"><span class=\"toc-item-num\">9&nbsp;&nbsp;</span>One Species Models</a></span><ul class=\"toc-item\"><li><span><a href=\"#RF-1-species-models\" data-toc-modified-id=\"RF-1-species-models-9.1\"><span class=\"toc-item-num\">9.1&nbsp;&nbsp;</span>RF 1 species models</a></span><ul class=\"toc-item\"><li><span><a href=\"#TADBRA\" data-toc-modified-id=\"TADBRA-9.1.1\"><span class=\"toc-item-num\">9.1.1&nbsp;&nbsp;</span>TADBRA</a></span></li><li><span><a href=\"#MYOYUM\" data-toc-modified-id=\"MYOYUM-9.1.2\"><span class=\"toc-item-num\">9.1.2&nbsp;&nbsp;</span>MYOYUM</a></span></li><li><span><a href=\"#PARHES\" data-toc-modified-id=\"PARHES-9.1.3\"><span class=\"toc-item-num\">9.1.3&nbsp;&nbsp;</span>PARHES</a></span></li></ul></li></ul></li><li><span><a href=\"#F1-Scores-For-Each-Model\" data-toc-modified-id=\"F1-Scores-For-Each-Model-10\"><span class=\"toc-item-num\">10&nbsp;&nbsp;</span>F1 Scores For Each Model</a></span><ul class=\"toc-item\"><li><span><a href=\"#Calculating-F1-Scores\" data-toc-modified-id=\"Calculating-F1-Scores-10.1\"><span class=\"toc-item-num\">10.1&nbsp;&nbsp;</span>Calculating F1 Scores</a></span></li><li><span><a href=\"#Graphing-F1-Score-By-Threshold\" data-toc-modified-id=\"Graphing-F1-Score-By-Threshold-10.2\"><span class=\"toc-item-num\">10.2&nbsp;&nbsp;</span>Graphing F1 Score By Threshold</a></span></li></ul></li></ul></div>"
   ]
  },
  {
   "cell_type": "code",
   "execution_count": 2,
   "metadata": {},
   "outputs": [
    {
     "name": "stderr",
     "output_type": "stream",
     "text": [
      "C:\\Users\\matta\\anaconda3\\lib\\site-packages\\dask\\config.py:131: YAMLLoadWarning: calling yaml.load() without Loader=... is deprecated, as the default Loader is unsafe. Please read https://msg.pyyaml.org/load for full details.\n",
      "  data = yaml.load(f.read()) or {}\n"
     ]
    }
   ],
   "source": [
    "import pandas as pd\n",
    "import numpy as np\n",
    "import seaborn as sns\n",
    "from sklearn.model_selection import train_test_split, cross_validate, GridSearchCV, RandomizedSearchCV\n",
    "from sklearn.preprocessing import RobustScaler\n",
    "from sklearn.dummy import DummyClassifier\n",
    "from sklearn.ensemble import RandomForestClassifier\n",
    "from sklearn.neighbors import KNeighborsClassifier\n",
    "from sklearn.metrics import classification_report, confusion_matrix, roc_curve, fbeta_score, auc, roc_auc_score, accuracy_score, precision_score, f1_score, recall_score, balanced_accuracy_score\n",
    "from xgboost import XGBClassifier\n",
    "from sklearn.linear_model import LogisticRegression\n",
    "import matplotlib.pyplot as plt"
   ]
  },
  {
   "cell_type": "markdown",
   "metadata": {},
   "source": [
    "## Loading, Splitting, and Scaling Data"
   ]
  },
  {
   "cell_type": "code",
   "execution_count": 3,
   "metadata": {},
   "outputs": [],
   "source": [
    "#Load data\n",
    "three_spp = pd.read_csv('three_species_df.csv')\n",
    "all_spp = pd.read_csv('all_species_df.csv')"
   ]
  },
  {
   "cell_type": "code",
   "execution_count": 4,
   "metadata": {},
   "outputs": [],
   "source": [
    "#Test-train split for all species dataframe\n",
    "X_train, X_test, y_train, y_test = train_test_split(all_spp.drop(columns='Spp'), \n",
    "                                                    all_spp.Spp, test_size=0.3, \n",
    "                                                    random_state=42)"
   ]
  },
  {
   "cell_type": "code",
   "execution_count": 5,
   "metadata": {},
   "outputs": [],
   "source": [
    "#Test-train split for three species dataframe\n",
    "X_train3, X_test3, y_train3, y_test3 = train_test_split(three_spp.drop(columns='Spp'), \n",
    "                                                    three_spp.Spp, test_size=0.3, \n",
    "                                                    random_state=42)"
   ]
  },
  {
   "cell_type": "code",
   "execution_count": 6,
   "metadata": {},
   "outputs": [],
   "source": [
    "#Scaled data\n",
    "scaler_all = RobustScaler().fit(X_train)\n",
    "X_train_scaled = scaler_all.transform(X_train)\n",
    "X_test_scaled = scaler_all.transform(X_test)"
   ]
  },
  {
   "cell_type": "code",
   "execution_count": 7,
   "metadata": {},
   "outputs": [],
   "source": [
    "#Scaled three species\n",
    "scaler3 = RobustScaler().fit(X_train3)\n",
    "X_train_scaled3 = scaler3.transform(X_train3)\n",
    "X_test_scaled3 = scaler3.transform(X_test3)"
   ]
  },
  {
   "cell_type": "code",
   "execution_count": 8,
   "metadata": {},
   "outputs": [],
   "source": [
    "#High multicollinear features removed\n",
    "M_X_train = X_train.drop(columns = ['Fmax', 'Fmin', 'Fk'])\n",
    "M_X_test = X_test.drop(columns = ['Fmax', 'Fmin', 'Fk'])"
   ]
  },
  {
   "cell_type": "code",
   "execution_count": 9,
   "metadata": {},
   "outputs": [],
   "source": [
    "#High multicollinear features removed for three species dataframe\n",
    "M_X_train3 = X_train3.drop(columns = ['Fmax', 'Fmin', 'Fk'])\n",
    "M_X_test3 = X_test3.drop(columns = ['Fmax', 'Fmin', 'Fk'])"
   ]
  },
  {
   "cell_type": "markdown",
   "metadata": {},
   "source": [
    "## Dummy Classifier"
   ]
  },
  {
   "cell_type": "markdown",
   "metadata": {},
   "source": [
    "Dummy classifier coarried out in various methods to determine accuracy by random chance"
   ]
  },
  {
   "cell_type": "markdown",
   "metadata": {},
   "source": [
    "### All Species"
   ]
  },
  {
   "cell_type": "code",
   "execution_count": 119,
   "metadata": {},
   "outputs": [
    {
     "data": {
      "text/plain": [
       "0.30427350427350425"
      ]
     },
     "execution_count": 119,
     "metadata": {},
     "output_type": "execute_result"
    }
   ],
   "source": [
    "dummy = DummyClassifier(strategy = 'most_frequent', random_state = 42)\n",
    "dummy.fit(X_train, y_train)\n",
    "dummy.score(X_test, y_test)"
   ]
  },
  {
   "cell_type": "code",
   "execution_count": 120,
   "metadata": {},
   "outputs": [
    {
     "data": {
      "text/plain": [
       "0.2"
      ]
     },
     "execution_count": 120,
     "metadata": {},
     "output_type": "execute_result"
    }
   ],
   "source": [
    "dummy = DummyClassifier(strategy = 'stratified', random_state = 42)\n",
    "dummy.fit(X_train, y_train)\n",
    "dummy.score(X_test, y_test)"
   ]
  },
  {
   "cell_type": "code",
   "execution_count": 121,
   "metadata": {},
   "outputs": [
    {
     "data": {
      "text/plain": [
       "0.046723646723646726"
      ]
     },
     "execution_count": 121,
     "metadata": {},
     "output_type": "execute_result"
    }
   ],
   "source": [
    "dummy = DummyClassifier(strategy = 'uniform', random_state = 42)\n",
    "dummy.fit(X_train, y_train)\n",
    "dummy.score(X_test, y_test)"
   ]
  },
  {
   "cell_type": "markdown",
   "metadata": {},
   "source": [
    "### Three Species"
   ]
  },
  {
   "cell_type": "code",
   "execution_count": 122,
   "metadata": {},
   "outputs": [
    {
     "data": {
      "text/plain": [
       "0.4666666666666667"
      ]
     },
     "execution_count": 122,
     "metadata": {},
     "output_type": "execute_result"
    }
   ],
   "source": [
    "dummy = DummyClassifier(strategy = 'most_frequent', random_state = 42)\n",
    "dummy.fit(X_train3, y_train3)\n",
    "dummy.score(X_test3, y_test3)"
   ]
  },
  {
   "cell_type": "code",
   "execution_count": 123,
   "metadata": {},
   "outputs": [
    {
     "data": {
      "text/plain": [
       "0.3418803418803419"
      ]
     },
     "execution_count": 123,
     "metadata": {},
     "output_type": "execute_result"
    }
   ],
   "source": [
    "dummy = DummyClassifier(strategy = 'stratified', random_state = 42)\n",
    "dummy.fit(X_train3, y_train3)\n",
    "dummy.score(X_test3, y_test3)"
   ]
  },
  {
   "cell_type": "code",
   "execution_count": 124,
   "metadata": {},
   "outputs": [
    {
     "data": {
      "text/plain": [
       "0.2638176638176638"
      ]
     },
     "execution_count": 124,
     "metadata": {},
     "output_type": "execute_result"
    }
   ],
   "source": [
    "dummy = DummyClassifier(strategy = 'uniform', random_state = 42)\n",
    "dummy.fit(X_train3, y_train3)\n",
    "dummy.score(X_test3, y_test3)"
   ]
  },
  {
   "cell_type": "markdown",
   "metadata": {},
   "source": [
    "All dummy classifiers have very low accuracy for classification.  47% was highest."
   ]
  },
  {
   "cell_type": "markdown",
   "metadata": {},
   "source": [
    "## Random Forest Classifier"
   ]
  },
  {
   "cell_type": "code",
   "execution_count": 15,
   "metadata": {},
   "outputs": [],
   "source": [
    "#from sklearn.ensemble import RandomForestClassifier"
   ]
  },
  {
   "cell_type": "markdown",
   "metadata": {},
   "source": [
    "Random forest classifier carried out using the below parameters in the final grid search CV.  Other grid search CV's had n_estimators between 100 and 750 with best parameters generally between 180 and 220.  Max_features was carried out for auto, sqrt, and log2, with auto consistently being the best.  Max_depth was carried out for 2 through 11 with 11 being determined to be the best but only slightly (and likely insignificantly) better than 10. Criterion was carried out for gini and entropy, with gini typically being better but occasionally entropy being better.  "
   ]
  },
  {
   "cell_type": "code",
   "execution_count": 15,
   "metadata": {},
   "outputs": [],
   "source": [
    "#Setting parameters for gridsearch cv\n",
    "RF_param_grid = {'n_estimators': [200, 220, 240, 260, 280],\n",
    "             'max_features': ['auto', 'sqrt', 'log2'],\n",
    "             'max_depth' : [9, 10, 11],\n",
    "             'criterion' :['gini', 'entropy']}\n",
    "rfc = RandomForestClassifier(random_state = 42)"
   ]
  },
  {
   "cell_type": "markdown",
   "metadata": {},
   "source": [
    "### All Species Classifier"
   ]
  },
  {
   "cell_type": "code",
   "execution_count": 17,
   "metadata": {},
   "outputs": [
    {
     "name": "stderr",
     "output_type": "stream",
     "text": [
      "C:\\Users\\matta\\anaconda3\\lib\\site-packages\\sklearn\\model_selection\\_split.py:670: UserWarning: The least populated class in y has only 1 members, which is less than n_splits=5.\n",
      "  warnings.warn((\"The least populated class in y has only %d\"\n"
     ]
    },
    {
     "data": {
      "text/plain": [
       "GridSearchCV(cv=5, estimator=RandomForestClassifier(random_state=42),\n",
       "             param_grid={'criterion': ['gini', 'entropy'],\n",
       "                         'max_depth': [9, 10, 11], 'max_features': ['auto'],\n",
       "                         'n_estimators': [200, 220, 240]})"
      ]
     },
     "execution_count": 17,
     "metadata": {},
     "output_type": "execute_result"
    }
   ],
   "source": [
    "#Gridsearchcv and fitting random forest model to all species\n",
    "forest_cv_all= GridSearchCV(rfc, RF_param_grid, cv=5)\n",
    "forest_cv_all.fit(X_train, y_train)"
   ]
  },
  {
   "cell_type": "code",
   "execution_count": 18,
   "metadata": {},
   "outputs": [
    {
     "name": "stdout",
     "output_type": "stream",
     "text": [
      "Best score: 0.6629200736780199\n",
      "Best parameters: {'criterion': 'gini', 'max_depth': 11, 'max_features': 'auto', 'n_estimators': 220}\n"
     ]
    }
   ],
   "source": [
    "#Best score and parameters determined from gridsearch cv\n",
    "print('Best score:', forest_cv_all.best_score_)\n",
    "print('Best parameters:', forest_cv_all.best_params_)"
   ]
  },
  {
   "cell_type": "code",
   "execution_count": 20,
   "metadata": {},
   "outputs": [
    {
     "name": "stdout",
     "output_type": "stream",
     "text": [
      "Training accuracy:  0.8825109916951637\n",
      "Test set accuracy:  0.6609686609686609\n"
     ]
    }
   ],
   "source": [
    "#Deturmining score of training and test data classification\n",
    "print('Training accuracy: ', forest_cv_all.score(X_train, y_train))\n",
    "print('Test set accuracy: ', forest_cv_all.score(X_test, y_test))"
   ]
  },
  {
   "cell_type": "code",
   "execution_count": 74,
   "metadata": {},
   "outputs": [
    {
     "name": "stdout",
     "output_type": "stream",
     "text": [
      "Fbeta weighted:  0.6346742754372907\n",
      "Fbeta micro:  0.6609686609686609\n"
     ]
    }
   ],
   "source": [
    "#Determining fbeta scores for model predictions\n",
    "RF_y_pred_all = forest_cv_all.predict(X_test)\n",
    "print('Fbeta weighted: ', fbeta_score(y_test, RF_y_pred_all, beta=1, average='weighted'))\n",
    "print('Fbeta micro: ', fbeta_score(y_test, RF_y_pred_all, beta=1, average='micro'))"
   ]
  },
  {
   "cell_type": "code",
   "execution_count": 75,
   "metadata": {},
   "outputs": [
    {
     "name": "stdout",
     "output_type": "stream",
     "text": [
      "[[  8   0   0   0   0   0   2   0   0   0   0   0   0   0   0  19   0  20]\n",
      " [  0   5   1   0   0   0   0   0   0   0   0   0   0   0   0   1   0   0]\n",
      " [  0   0   3   0   2   0   0   0   0   0   0   0   0   0   0   7   0   0]\n",
      " [  0   0   0   2   0   0   0   0   0   0   0   0   0   2   0  14   4   0]\n",
      " [  0   0   0   0  39   0   0   0   0   0   0   0   0   0   0  26   0  29]\n",
      " [  0   0   0   0   0  15   0   0   0   0   0   0   0   0   0   8   0  62]\n",
      " [  0   0   0   0   0   0  22   0   0   0   0   0   0   0   0  15   0   3]\n",
      " [  0   0   0   0   0   0   0   5   0   0   0   0   0   7   0   5   0   0]\n",
      " [  0   0   0   0   0   0   0   0   1   0   0   0   0   0   0   0   0   0]\n",
      " [  0   0   0   0   0   0   0   0   0   0   0   0   0   0   0   2   0   0]\n",
      " [  0   0   0   0   0   0   0   0   0   0   2   0   0   0   0   0   0   0]\n",
      " [  0   0   0   0   0   0   0   0   0   0   0   0   0   0   0   2   0   0]\n",
      " [  0   0   0   0   0   0   0   0   0   0   0   0   0   0   0   5   0   0]\n",
      " [  0   0   0   0   0   0   0   4   0   0   0   0   0 207   0  19   1   0]\n",
      " [  0   0   0   0   1   0   0   0   0   0   0   0   0   0   1   3   0   0]\n",
      " [  3   3   1   0   9   5   6   7   0   0   1   0   0  31   0 222   9 179]\n",
      " [  0   0   0   0   0   0   0   0   0   0   0   0   0   1   0  13 155   2]\n",
      " [  2   0   0   0   2   3   2   0   0   0   0   0   0   0   0  52   0 473]]\n",
      "              precision    recall  f1-score   support\n",
      "\n",
      "      EPTFUS       0.62      0.16      0.26        49\n",
      "      EUMPER       0.62      0.71      0.67         7\n",
      "      EUMUND       0.60      0.25      0.35        12\n",
      "      LASBLO       1.00      0.09      0.17        22\n",
      "      LASCIN       0.74      0.41      0.53        94\n",
      "      LASNOC       0.65      0.18      0.28        85\n",
      "      LASXAN       0.69      0.55      0.61        40\n",
      "      MYOCAL       0.31      0.29      0.30        17\n",
      "      MYOCIL       1.00      1.00      1.00         1\n",
      "      MYOOCC       0.00      0.00      0.00         2\n",
      "      MYOTHY       0.67      1.00      0.80         2\n",
      "      MYOVEL       0.00      0.00      0.00         2\n",
      "      MYOVOL       0.00      0.00      0.00         5\n",
      "      MYOYUM       0.83      0.90      0.86       231\n",
      "      NYCFEM       1.00      0.20      0.33         5\n",
      "        NoID       0.54      0.47      0.50       476\n",
      "      PARHES       0.92      0.91      0.91       171\n",
      "      TADBRA       0.62      0.89      0.73       534\n",
      "\n",
      "    accuracy                           0.66      1755\n",
      "   macro avg       0.60      0.44      0.46      1755\n",
      "weighted avg       0.66      0.66      0.63      1755\n",
      "\n"
     ]
    },
    {
     "name": "stderr",
     "output_type": "stream",
     "text": [
      "C:\\Users\\matta\\anaconda3\\lib\\site-packages\\sklearn\\metrics\\_classification.py:1221: UndefinedMetricWarning: Precision and F-score are ill-defined and being set to 0.0 in labels with no predicted samples. Use `zero_division` parameter to control this behavior.\n",
      "  _warn_prf(average, modifier, msg_start, len(result))\n"
     ]
    }
   ],
   "source": [
    "#Confusion matrix and classification report\n",
    "print(confusion_matrix(y_test, RF_y_pred_all))\n",
    "print(classification_report(y_test, RF_y_pred_all))"
   ]
  },
  {
   "cell_type": "markdown",
   "metadata": {},
   "source": [
    "### Three Species Classifier"
   ]
  },
  {
   "cell_type": "markdown",
   "metadata": {},
   "source": [
    "Very similar to all species classifier except max depth was determined to be best at 9 and criterion was determined to be best with gini."
   ]
  },
  {
   "cell_type": "code",
   "execution_count": 10,
   "metadata": {},
   "outputs": [
    {
     "data": {
      "text/plain": [
       "GridSearchCV(cv=5, estimator=RandomForestClassifier(random_state=42),\n",
       "             param_grid={'criterion': ['gini', 'entropy'],\n",
       "                         'max_depth': [9, 10, 11], 'max_features': ['auto'],\n",
       "                         'n_estimators': [200, 220, 240]})"
      ]
     },
     "execution_count": 10,
     "metadata": {},
     "output_type": "execute_result"
    }
   ],
   "source": [
    "#Gridsearch cv for three species random forest\n",
    "forest_cv3= GridSearchCV(rfc, RF_param_grid, cv=5)\n",
    "forest_cv3.fit(X_train3, y_train3)"
   ]
  },
  {
   "cell_type": "code",
   "execution_count": 14,
   "metadata": {},
   "outputs": [
    {
     "name": "stdout",
     "output_type": "stream",
     "text": [
      "Best score: 0.7589077860471504\n",
      "Best parameters: {'criterion': 'gini', 'max_depth': 9, 'max_features': 'auto', 'n_estimators': 220}\n"
     ]
    }
   ],
   "source": [
    "#Best score and optimal hyperparameters for model\n",
    "print('Best score:', forest_cv3.best_score_)\n",
    "print('Best parameters:', forest_cv3.best_params_)"
   ]
  },
  {
   "cell_type": "code",
   "execution_count": 16,
   "metadata": {},
   "outputs": [
    {
     "name": "stdout",
     "output_type": "stream",
     "text": [
      "0.8690766976062531\n",
      "0.7612535612535613\n"
     ]
    }
   ],
   "source": [
    "#Training and test data prediction accuracy\n",
    "print(forest_cv3.score(X_train3, y_train3))\n",
    "print(forest_cv3.score(X_test3, y_test3))"
   ]
  },
  {
   "cell_type": "code",
   "execution_count": 18,
   "metadata": {},
   "outputs": [
    {
     "name": "stdout",
     "output_type": "stream",
     "text": [
      "[[202   1   0  28]\n",
      " [  0 155   1  15]\n",
      " [  0   0 428 106]\n",
      " [ 31  11 226 551]]\n",
      "              precision    recall  f1-score   support\n",
      "\n",
      "      MYOYUM       0.87      0.87      0.87       231\n",
      "      PARHES       0.93      0.91      0.92       171\n",
      "      TADBRA       0.65      0.80      0.72       534\n",
      "       other       0.79      0.67      0.73       819\n",
      "\n",
      "    accuracy                           0.76      1755\n",
      "   macro avg       0.81      0.81      0.81      1755\n",
      "weighted avg       0.77      0.76      0.76      1755\n",
      "\n"
     ]
    }
   ],
   "source": [
    "#Confusion matrix and classification report\n",
    "RF_y_pred3 = forest_cv3.predict(X_test3)\n",
    "print(confusion_matrix(y_test3, RF_y_pred3))\n",
    "print(classification_report(y_test3, RF_y_pred3))"
   ]
  },
  {
   "cell_type": "markdown",
   "metadata": {},
   "source": [
    "### Multicollinear features removed- All Species"
   ]
  },
  {
   "cell_type": "code",
   "execution_count": 16,
   "metadata": {},
   "outputs": [
    {
     "name": "stderr",
     "output_type": "stream",
     "text": [
      "C:\\Users\\matta\\anaconda3\\lib\\site-packages\\sklearn\\model_selection\\_split.py:670: UserWarning: The least populated class in y has only 1 members, which is less than n_splits=5.\n",
      "  warnings.warn((\"The least populated class in y has only %d\"\n"
     ]
    },
    {
     "data": {
      "text/plain": [
       "GridSearchCV(cv=5, estimator=RandomForestClassifier(random_state=42),\n",
       "             param_grid={'criterion': ['gini', 'entropy'],\n",
       "                         'max_depth': [9, 10, 11],\n",
       "                         'max_features': ['auto', 'sqrt', 'log2'],\n",
       "                         'n_estimators': [200, 220, 240, 260, 280]})"
      ]
     },
     "execution_count": 16,
     "metadata": {},
     "output_type": "execute_result"
    }
   ],
   "source": [
    "#Model gridsearch cv with multicollinear features removed for all species\n",
    "M_forest_cv_all= GridSearchCV(rfc, RF_param_grid, cv=5)\n",
    "M_forest_cv_all.fit(M_X_train, y_train)"
   ]
  },
  {
   "cell_type": "code",
   "execution_count": 17,
   "metadata": {},
   "outputs": [
    {
     "name": "stdout",
     "output_type": "stream",
     "text": [
      "Best score: 0.6514417666006909\n",
      "Best parameters: {'criterion': 'entropy', 'max_depth': 11, 'max_features': 'auto', 'n_estimators': 240}\n"
     ]
    }
   ],
   "source": [
    "#Best score and hyperparameters for model determined from gridsearch cv\n",
    "print('Best score:', M_forest_cv_all.best_score_)\n",
    "print('Best parameters:', M_forest_cv_all.best_params_)"
   ]
  },
  {
   "cell_type": "code",
   "execution_count": 18,
   "metadata": {},
   "outputs": [
    {
     "name": "stdout",
     "output_type": "stream",
     "text": [
      "0.9020517830972155\n",
      "0.6461538461538462\n"
     ]
    }
   ],
   "source": [
    "#Accuracy of training and testing data\n",
    "print(M_forest_cv_all.score(M_X_train, y_train))\n",
    "print(M_forest_cv_all.score(M_X_test, y_test))"
   ]
  },
  {
   "cell_type": "code",
   "execution_count": 19,
   "metadata": {},
   "outputs": [
    {
     "name": "stdout",
     "output_type": "stream",
     "text": [
      "Confusion matrix: [[  7   0   0   0   0   0   3   0   0   0   0   0   0   0   0  24   0  15]\n",
      " [  0   5   0   0   0   0   0   0   0   0   0   0   0   0   0   2   0   0]\n",
      " [  0   0   3   0   1   0   0   0   0   0   0   0   0   0   0   8   0   0]\n",
      " [  0   0   0   3   0   0   0   0   0   0   0   0   0   2   0  11   6   0]\n",
      " [  0   0   1   0  32   1   0   0   0   0   0   0   0   0   0  31   0  29]\n",
      " [  0   0   0   0   0  13   0   0   0   0   0   0   0   0   0   9   0  63]\n",
      " [  0   0   0   0   0   0  20   0   0   0   0   0   0   0   0  17   0   3]\n",
      " [  0   0   0   0   0   0   0   4   0   0   0   0   0   8   0   5   0   0]\n",
      " [  0   0   0   0   0   0   0   0   1   0   0   0   0   0   0   0   0   0]\n",
      " [  0   0   0   0   0   0   0   0   0   0   0   0   0   0   0   2   0   0]\n",
      " [  0   0   0   0   0   0   0   0   0   0   2   0   0   0   0   0   0   0]\n",
      " [  0   0   0   0   0   0   0   0   0   0   0   0   0   0   0   2   0   0]\n",
      " [  0   0   0   0   0   0   0   0   0   0   0   0   0   0   0   5   0   0]\n",
      " [  0   0   0   0   0   0   0   2   0   0   0   0   0 210   0  18   1   0]\n",
      " [  0   0   0   0   1   0   0   0   0   0   0   0   0   0   1   3   0   0]\n",
      " [  3   3   2   0   8   9   4   7   0   0   0   0   0  32   0 214   9 185]\n",
      " [  0   0   0   0   0   0   1   0   0   0   0   0   0   1   0  11 156   2]\n",
      " [  2   0   0   0   4   1   2   0   0   0   0   0   0   0   0  62   0 463]]\n",
      "Classification report:               precision    recall  f1-score   support\n",
      "\n",
      "      EPTFUS       0.58      0.14      0.23        49\n",
      "      EUMPER       0.62      0.71      0.67         7\n",
      "      EUMUND       0.50      0.25      0.33        12\n",
      "      LASBLO       1.00      0.14      0.24        22\n",
      "      LASCIN       0.70      0.34      0.46        94\n",
      "      LASNOC       0.54      0.15      0.24        85\n",
      "      LASXAN       0.67      0.50      0.57        40\n",
      "      MYOCAL       0.31      0.24      0.27        17\n",
      "      MYOCIL       1.00      1.00      1.00         1\n",
      "      MYOOCC       0.00      0.00      0.00         2\n",
      "      MYOTHY       1.00      1.00      1.00         2\n",
      "      MYOVEL       0.00      0.00      0.00         2\n",
      "      MYOVOL       0.00      0.00      0.00         5\n",
      "      MYOYUM       0.83      0.91      0.87       231\n",
      "      NYCFEM       1.00      0.20      0.33         5\n",
      "        NoID       0.50      0.45      0.48       476\n",
      "      PARHES       0.91      0.91      0.91       171\n",
      "      TADBRA       0.61      0.87      0.72       534\n",
      "\n",
      "    accuracy                           0.65      1755\n",
      "   macro avg       0.60      0.43      0.46      1755\n",
      "weighted avg       0.64      0.65      0.62      1755\n",
      "\n"
     ]
    },
    {
     "name": "stderr",
     "output_type": "stream",
     "text": [
      "C:\\Users\\matta\\anaconda3\\lib\\site-packages\\sklearn\\metrics\\_classification.py:1221: UndefinedMetricWarning: Precision and F-score are ill-defined and being set to 0.0 in labels with no predicted samples. Use `zero_division` parameter to control this behavior.\n",
      "  _warn_prf(average, modifier, msg_start, len(result))\n"
     ]
    }
   ],
   "source": [
    "#Confusion matrix and classification report\n",
    "RF_y_pred_all_M = M_forest_cv_all.predict(M_X_test)\n",
    "print('Confusion matrix:', confusion_matrix(y_test, RF_y_pred_all_M))\n",
    "print('Classification report:', classification_report(y_test, RF_y_pred_all_M))"
   ]
  },
  {
   "cell_type": "markdown",
   "metadata": {},
   "source": [
    "### Multicollinear features removed- Three Species"
   ]
  },
  {
   "cell_type": "code",
   "execution_count": 20,
   "metadata": {},
   "outputs": [
    {
     "data": {
      "text/plain": [
       "GridSearchCV(cv=5, estimator=RandomForestClassifier(random_state=42),\n",
       "             param_grid={'criterion': ['gini', 'entropy'],\n",
       "                         'max_depth': [9, 10, 11],\n",
       "                         'max_features': ['auto', 'sqrt', 'log2'],\n",
       "                         'n_estimators': [200, 220, 240, 260, 280]})"
      ]
     },
     "execution_count": 20,
     "metadata": {},
     "output_type": "execute_result"
    }
   ],
   "source": [
    "#Gridsearch cv for three species model with multicollinear features removed\n",
    "M_forest_cv_3 = GridSearchCV(rfc, RF_param_grid, cv=5)\n",
    "M_forest_cv_3.fit(M_X_train3, y_train3)"
   ]
  },
  {
   "cell_type": "code",
   "execution_count": 21,
   "metadata": {},
   "outputs": [
    {
     "name": "stdout",
     "output_type": "stream",
     "text": [
      "Best score: 0.7493884545229289\n",
      "Best parameters: {'criterion': 'gini', 'max_depth': 10, 'max_features': 'auto', 'n_estimators': 220}\n"
     ]
    }
   ],
   "source": [
    "#Best score and best hyperparameters for gridsearch cv\n",
    "print('Best score:', M_forest_cv_3.best_score_)\n",
    "print('Best parameters:', M_forest_cv_3.best_params_)"
   ]
  },
  {
   "cell_type": "code",
   "execution_count": 22,
   "metadata": {},
   "outputs": [
    {
     "name": "stdout",
     "output_type": "stream",
     "text": [
      "0.8878847093307279\n",
      "0.7504273504273504\n"
     ]
    }
   ],
   "source": [
    "#Accuracy for model for testing and training data\n",
    "print(M_forest_cv_3.score(M_X_train3, y_train3))\n",
    "print(M_forest_cv_3.score(M_X_test3, y_test3))"
   ]
  },
  {
   "cell_type": "code",
   "execution_count": 23,
   "metadata": {},
   "outputs": [
    {
     "name": "stdout",
     "output_type": "stream",
     "text": [
      "[[202   1   0  28]\n",
      " [  1 150   2  18]\n",
      " [  0   0 421 113]\n",
      " [ 33   7 235 544]]\n",
      "              precision    recall  f1-score   support\n",
      "\n",
      "      MYOYUM       0.86      0.87      0.87       231\n",
      "      PARHES       0.95      0.88      0.91       171\n",
      "      TADBRA       0.64      0.79      0.71       534\n",
      "       other       0.77      0.66      0.71       819\n",
      "\n",
      "    accuracy                           0.75      1755\n",
      "   macro avg       0.80      0.80      0.80      1755\n",
      "weighted avg       0.76      0.75      0.75      1755\n",
      "\n"
     ]
    }
   ],
   "source": [
    "#Confusion matrix and classification report\n",
    "RF_y_pred_3_M = M_forest_cv_3.predict(M_X_test3)\n",
    "print(confusion_matrix(y_test3, RF_y_pred_3_M))\n",
    "print(classification_report(y_test3, RF_y_pred_3_M))"
   ]
  },
  {
   "cell_type": "markdown",
   "metadata": {},
   "source": [
    "## KNN"
   ]
  },
  {
   "cell_type": "code",
   "execution_count": 60,
   "metadata": {},
   "outputs": [],
   "source": [
    "#from sklearn.neighbors import KNeighborsClassifier"
   ]
  },
  {
   "cell_type": "code",
   "execution_count": 89,
   "metadata": {},
   "outputs": [],
   "source": [
    "#Setting hyperparameters for gridsearch cv for KNN\n",
    "knn_params = {'n_neighbors':np.arange(1,50), \n",
    "             'weights': ['uniform', 'distance'], \n",
    "             'metric': ['euclidean', 'manhattan']}\n",
    "knn = KNeighborsClassifier()"
   ]
  },
  {
   "cell_type": "markdown",
   "metadata": {},
   "source": [
    "### All Species"
   ]
  },
  {
   "cell_type": "code",
   "execution_count": 147,
   "metadata": {},
   "outputs": [
    {
     "name": "stderr",
     "output_type": "stream",
     "text": [
      "C:\\Users\\matta\\anaconda3\\lib\\site-packages\\sklearn\\model_selection\\_split.py:670: UserWarning: The least populated class in y has only 1 members, which is less than n_splits=5.\n",
      "  warnings.warn((\"The least populated class in y has only %d\"\n"
     ]
    },
    {
     "data": {
      "text/plain": [
       "GridSearchCV(cv=5, estimator=KNeighborsClassifier(),\n",
       "             param_grid={'metric': ['euclidean', 'manhattan'],\n",
       "                         'n_neighbors': array([ 1,  2,  3,  4,  5,  6,  7,  8,  9, 10, 11, 12, 13, 14, 15, 16, 17,\n",
       "       18, 19, 20, 21, 22, 23, 24, 25, 26, 27, 28, 29, 30, 31, 32, 33, 34,\n",
       "       35, 36, 37, 38, 39, 40, 41, 42, 43, 44, 45, 46, 47, 48, 49]),\n",
       "                         'weights': ['uniform', 'distance']})"
      ]
     },
     "execution_count": 147,
     "metadata": {},
     "output_type": "execute_result"
    }
   ],
   "source": [
    "#Carrying out Gridsearch cv and fitting best model\n",
    "knn_cv_all= GridSearchCV(knn, knn_params, cv=5)\n",
    "knn_cv_all.fit(X_train, y_train)"
   ]
  },
  {
   "cell_type": "code",
   "execution_count": 148,
   "metadata": {},
   "outputs": [
    {
     "name": "stdout",
     "output_type": "stream",
     "text": [
      "Best Score:0.610404482776121\n",
      "Best Parameters: {'metric': 'manhattan', 'n_neighbors': 15, 'weights': 'distance'}\n"
     ]
    }
   ],
   "source": [
    "#Best score and hyperparameters for model\n",
    "print(\"Best Score:\" + str(knn_cv_all.best_score_))\n",
    "print(\"Best Parameters: \" + str(knn_cv_all.best_params_))"
   ]
  },
  {
   "cell_type": "code",
   "execution_count": 149,
   "metadata": {},
   "outputs": [
    {
     "name": "stdout",
     "output_type": "stream",
     "text": [
      "1.0\n",
      "0.6028490028490029\n"
     ]
    }
   ],
   "source": [
    "#Accuracy for training and testing data predictions\n",
    "print(knn_cv_all.score(X_train, y_train))\n",
    "print(knn_cv_all.score(X_test, y_test))"
   ]
  },
  {
   "cell_type": "code",
   "execution_count": 150,
   "metadata": {},
   "outputs": [
    {
     "name": "stdout",
     "output_type": "stream",
     "text": [
      "Confusion matrix: [[  7   0   0   0   0   0   3   0   0   0   0   0   0   0   0  14   0  25]\n",
      " [  0   5   0   0   0   0   0   0   0   0   0   0   0   0   0   2   0   0]\n",
      " [  0   0   0   0   2   0   0   0   0   0   0   0   0   0   0  10   0   0]\n",
      " [  0   0   0   2   0   0   0   0   0   0   0   0   0   6   0   7   6   1]\n",
      " [  0   0   0   0  26   1   0   0   0   0   0   0   0   0   0  25   0  42]\n",
      " [  1   0   0   0   0   7   0   0   0   0   0   0   0   0   0   8   0  69]\n",
      " [  1   0   0   0   0   0   9   0   0   0   0   0   0   0   0  19   1  10]\n",
      " [  0   0   0   0   0   0   0   0   0   0   0   0   0  12   0   4   1   0]\n",
      " [  0   0   0   0   0   0   0   0   0   0   0   0   0   1   0   0   0   0]\n",
      " [  0   0   0   0   0   0   0   0   0   0   0   0   0   0   0   2   0   0]\n",
      " [  0   0   0   0   0   0   0   0   0   0   2   0   0   0   0   0   0   0]\n",
      " [  0   0   0   0   0   0   0   0   0   0   0   0   0   2   0   0   0   0]\n",
      " [  0   0   0   0   0   0   0   0   0   0   0   0   0   1   0   4   0   0]\n",
      " [  0   0   0   0   0   0   0   2   0   0   0   0   0 206   0  18   4   1]\n",
      " [  0   0   0   0   0   0   0   0   0   0   0   0   0   0   1   3   0   1]\n",
      " [  5   4   0   0   9   4   2   1   0   0   0   0   0  47   0 175  11 218]\n",
      " [  0   0   0   0   0   0   0   0   0   0   0   0   0   2   0   9 158   2]\n",
      " [  6   0   0   0   6   5   1   0   0   0   0   0   0   1   0  55   0 460]]\n",
      "Classification report:               precision    recall  f1-score   support\n",
      "\n",
      "      EPTFUS       0.35      0.14      0.20        49\n",
      "      EUMPER       0.56      0.71      0.63         7\n",
      "      EUMUND       0.00      0.00      0.00        12\n",
      "      LASBLO       1.00      0.09      0.17        22\n",
      "      LASCIN       0.60      0.28      0.38        94\n",
      "      LASNOC       0.41      0.08      0.14        85\n",
      "      LASXAN       0.60      0.23      0.33        40\n",
      "      MYOCAL       0.00      0.00      0.00        17\n",
      "      MYOCIL       0.00      0.00      0.00         1\n",
      "      MYOOCC       0.00      0.00      0.00         2\n",
      "      MYOTHY       1.00      1.00      1.00         2\n",
      "      MYOVEL       0.00      0.00      0.00         2\n",
      "      MYOVOL       0.00      0.00      0.00         5\n",
      "      MYOYUM       0.74      0.89      0.81       231\n",
      "      NYCFEM       1.00      0.20      0.33         5\n",
      "        NoID       0.49      0.37      0.42       476\n",
      "      PARHES       0.87      0.92      0.90       171\n",
      "      TADBRA       0.55      0.86      0.67       534\n",
      "\n",
      "    accuracy                           0.60      1755\n",
      "   macro avg       0.45      0.32      0.33      1755\n",
      "weighted avg       0.58      0.60      0.56      1755\n",
      "\n"
     ]
    },
    {
     "name": "stderr",
     "output_type": "stream",
     "text": [
      "C:\\Users\\matta\\anaconda3\\lib\\site-packages\\sklearn\\metrics\\_classification.py:1221: UndefinedMetricWarning: Precision and F-score are ill-defined and being set to 0.0 in labels with no predicted samples. Use `zero_division` parameter to control this behavior.\n",
      "  _warn_prf(average, modifier, msg_start, len(result))\n"
     ]
    }
   ],
   "source": [
    "#Confusion matrix and classification report\n",
    "knn_y_pred_all = knn_cv_all.predict(X_test)\n",
    "print('Confusion matrix:', confusion_matrix(y_test, knn_y_pred_all))\n",
    "print('Classification report:', classification_report(y_test, knn_y_pred_all))"
   ]
  },
  {
   "cell_type": "markdown",
   "metadata": {},
   "source": [
    "### Three Species"
   ]
  },
  {
   "cell_type": "code",
   "execution_count": 94,
   "metadata": {},
   "outputs": [
    {
     "data": {
      "text/plain": [
       "GridSearchCV(cv=5, estimator=KNeighborsClassifier(),\n",
       "             param_grid={'metric': ['euclidean', 'manhattan'],\n",
       "                         'n_neighbors': array([ 1,  2,  3,  4,  5,  6,  7,  8,  9, 10, 11, 12, 13, 14, 15, 16, 17,\n",
       "       18, 19, 20, 21, 22, 23, 24, 25, 26, 27, 28, 29, 30, 31, 32, 33, 34,\n",
       "       35, 36, 37, 38, 39, 40, 41, 42, 43, 44, 45, 46, 47, 48, 49]),\n",
       "                         'weights': ['uniform', 'distance']})"
      ]
     },
     "execution_count": 94,
     "metadata": {},
     "output_type": "execute_result"
    }
   ],
   "source": [
    "#Gridsearch cd for three species and fitting model\n",
    "knn_cv3= GridSearchCV(knn, knn_params, cv=5)\n",
    "knn_cv3.fit(X_train3, y_train3)"
   ]
  },
  {
   "cell_type": "code",
   "execution_count": 95,
   "metadata": {},
   "outputs": [
    {
     "name": "stdout",
     "output_type": "stream",
     "text": [
      "Best Score:0.7147030638473183\n",
      "Best Parameters: {'metric': 'manhattan', 'n_neighbors': 23, 'weights': 'distance'}\n"
     ]
    }
   ],
   "source": [
    "#Best score and hyperparameters determined from gridsearch cv\n",
    "print(\"Best Score:\" + str(knn_cv3.best_score_))\n",
    "print(\"Best Parameters: \" + str(knn_cv3.best_params_))"
   ]
  },
  {
   "cell_type": "code",
   "execution_count": 100,
   "metadata": {},
   "outputs": [
    {
     "name": "stdout",
     "output_type": "stream",
     "text": [
      "1.0\n",
      "0.7037037037037037\n"
     ]
    }
   ],
   "source": [
    "#Training and test data accuracy\n",
    "print(knn_cv3.score(X_train3, y_train3))\n",
    "print(knn_cv3.score(X_test3, y_test3))"
   ]
  },
  {
   "cell_type": "code",
   "execution_count": 97,
   "metadata": {},
   "outputs": [
    {
     "name": "stdout",
     "output_type": "stream",
     "text": [
      "[[195   4   1  31]\n",
      " [  2 156   1  12]\n",
      " [  0   0 422 112]\n",
      " [ 59  14 284 462]]\n",
      "              precision    recall  f1-score   support\n",
      "\n",
      "      MYOYUM       0.76      0.84      0.80       231\n",
      "      PARHES       0.90      0.91      0.90       171\n",
      "      TADBRA       0.60      0.79      0.68       534\n",
      "       other       0.75      0.56      0.64       819\n",
      "\n",
      "    accuracy                           0.70      1755\n",
      "   macro avg       0.75      0.78      0.76      1755\n",
      "weighted avg       0.72      0.70      0.70      1755\n",
      "\n"
     ]
    }
   ],
   "source": [
    "#Confusion matrix and classification report\n",
    "knn_y_pred3 = knn_cv3.predict(X_test3)\n",
    "print(confusion_matrix(y_test3, knn_y_pred3))\n",
    "print(classification_report(y_test3, knn_y_pred3))"
   ]
  },
  {
   "cell_type": "markdown",
   "metadata": {},
   "source": [
    "### Scaled All Species"
   ]
  },
  {
   "cell_type": "code",
   "execution_count": 129,
   "metadata": {},
   "outputs": [
    {
     "name": "stderr",
     "output_type": "stream",
     "text": [
      "C:\\Users\\matta\\anaconda3\\lib\\site-packages\\sklearn\\model_selection\\_split.py:670: UserWarning: The least populated class in y has only 1 members, which is less than n_splits=5.\n",
      "  warnings.warn((\"The least populated class in y has only %d\"\n"
     ]
    },
    {
     "data": {
      "text/plain": [
       "GridSearchCV(cv=5, estimator=KNeighborsClassifier(),\n",
       "             param_grid={'metric': ['euclidean', 'manhattan'],\n",
       "                         'n_neighbors': array([ 1,  2,  3,  4,  5,  6,  7,  8,  9, 10, 11, 12, 13, 14, 15, 16, 17,\n",
       "       18, 19, 20, 21, 22, 23, 24, 25, 26, 27, 28, 29, 30, 31, 32, 33, 34,\n",
       "       35, 36, 37, 38, 39, 40, 41, 42, 43, 44, 45, 46, 47, 48, 49]),\n",
       "                         'weights': ['uniform', 'distance']})"
      ]
     },
     "execution_count": 129,
     "metadata": {},
     "output_type": "execute_result"
    }
   ],
   "source": [
    "#Gridsearch cv for KNN with scaled data and all species\n",
    "knn_cv_all_scaled = GridSearchCV(knn, knn_params, cv=5)\n",
    "knn_cv_all_scaled.fit(X_train_scaled, y_train)"
   ]
  },
  {
   "cell_type": "code",
   "execution_count": 130,
   "metadata": {},
   "outputs": [
    {
     "name": "stdout",
     "output_type": "stream",
     "text": [
      "Best Score:0.6426478710097292\n",
      "Best Parameters: {'metric': 'manhattan', 'n_neighbors': 19, 'weights': 'distance'}\n"
     ]
    }
   ],
   "source": [
    "#Best score and hyperparameters\n",
    "print(\"Best Score:\" + str(knn_cv_all_scaled.best_score_))\n",
    "print(\"Best Parameters: \" + str(knn_cv_all_scaled.best_params_))"
   ]
  },
  {
   "cell_type": "code",
   "execution_count": 131,
   "metadata": {},
   "outputs": [
    {
     "name": "stdout",
     "output_type": "stream",
     "text": [
      "1.0\n",
      "0.6336182336182337\n"
     ]
    }
   ],
   "source": [
    "#Training and test data accuracy\n",
    "print(knn_cv_all_scaled.score(X_train_scaled, y_train))\n",
    "print(knn_cv_all_scaled.score(X_test_scaled, y_test))"
   ]
  },
  {
   "cell_type": "code",
   "execution_count": 132,
   "metadata": {},
   "outputs": [
    {
     "name": "stdout",
     "output_type": "stream",
     "text": [
      "Confusion matrix: [[  0   0   0   0   0   0   0   0   0   0   0   0   0  49   0   0   0   0]\n",
      " [  0   0   0   0   0   0   0   0   0   0   0   0   0   5   0   0   2   0]\n",
      " [  0   0   0   0   0   0   0   0   0   0   0   0   0   6   0   1   5   0]\n",
      " [  0   0   0   0   0   0   0   0   0   0   0   0   0  22   0   0   0   0]\n",
      " [  0   0   0   0   0   0   0   0   0   0   0   0   0  90   0   0   4   0]\n",
      " [  0   0   0   0   0   0   0   0   0   0   0   0   0  80   0   0   5   0]\n",
      " [  0   0   0   0   0   0   0   0   0   0   0   0   0  40   0   0   0   0]\n",
      " [  0   0   0   0   0   0   0   0   0   0   0   0   0  17   0   0   0   0]\n",
      " [  0   0   0   0   0   0   0   0   0   0   0   0   0   1   0   0   0   0]\n",
      " [  0   0   0   0   0   0   0   0   0   0   0   0   0   2   0   0   0   0]\n",
      " [  0   0   0   0   0   0   0   0   0   0   0   0   0   2   0   0   0   0]\n",
      " [  0   0   0   0   0   0   0   0   0   0   0   0   0   2   0   0   0   0]\n",
      " [  0   0   0   0   0   0   0   0   0   0   0   0   0   5   0   0   0   0]\n",
      " [  0   0   0   0   0   0   0   0   0   0   0   0   0 231   0   0   0   0]\n",
      " [  0   0   0   0   0   0   0   0   0   0   0   0   0   5   0   0   0   0]\n",
      " [  0   0   0   0   0   0   0   0   0   0   0   0   0 423   0   0  53   0]\n",
      " [  0   0   0   0   0   0   0   0   0   0   0   0   0 171   0   0   0   0]\n",
      " [  0   0   0   0   0   0   0   0   0   0   0   0   0 509   0   0  25   0]]\n",
      "Classification report:               precision    recall  f1-score   support\n",
      "\n",
      "      EPTFUS       0.00      0.00      0.00        49\n",
      "      EUMPER       0.00      0.00      0.00         7\n",
      "      EUMUND       0.00      0.00      0.00        12\n",
      "      LASBLO       0.00      0.00      0.00        22\n",
      "      LASCIN       0.00      0.00      0.00        94\n",
      "      LASNOC       0.00      0.00      0.00        85\n",
      "      LASXAN       0.00      0.00      0.00        40\n",
      "      MYOCAL       0.00      0.00      0.00        17\n",
      "      MYOCIL       0.00      0.00      0.00         1\n",
      "      MYOOCC       0.00      0.00      0.00         2\n",
      "      MYOTHY       0.00      0.00      0.00         2\n",
      "      MYOVEL       0.00      0.00      0.00         2\n",
      "      MYOVOL       0.00      0.00      0.00         5\n",
      "      MYOYUM       0.14      1.00      0.24       231\n",
      "      NYCFEM       0.00      0.00      0.00         5\n",
      "        NoID       0.00      0.00      0.00       476\n",
      "      PARHES       0.00      0.00      0.00       171\n",
      "      TADBRA       0.00      0.00      0.00       534\n",
      "\n",
      "    accuracy                           0.13      1755\n",
      "   macro avg       0.01      0.06      0.01      1755\n",
      "weighted avg       0.02      0.13      0.03      1755\n",
      "\n"
     ]
    },
    {
     "name": "stderr",
     "output_type": "stream",
     "text": [
      "C:\\Users\\matta\\anaconda3\\lib\\site-packages\\sklearn\\metrics\\_classification.py:1221: UndefinedMetricWarning: Precision and F-score are ill-defined and being set to 0.0 in labels with no predicted samples. Use `zero_division` parameter to control this behavior.\n",
      "  _warn_prf(average, modifier, msg_start, len(result))\n"
     ]
    }
   ],
   "source": [
    "#Confusion matrix and classification report\n",
    "knn_y_pred_all_scaled = knn_cv_all_scaled.predict(X_test)\n",
    "print('Confusion matrix:', confusion_matrix(y_test, knn_y_pred_all_scaled))\n",
    "print('Classification report:', classification_report(y_test, knn_y_pred_all_scaled))"
   ]
  },
  {
   "cell_type": "markdown",
   "metadata": {},
   "source": [
    "### Scaled Three Species"
   ]
  },
  {
   "cell_type": "code",
   "execution_count": 133,
   "metadata": {},
   "outputs": [
    {
     "data": {
      "text/plain": [
       "GridSearchCV(cv=5, estimator=KNeighborsClassifier(),\n",
       "             param_grid={'metric': ['euclidean', 'manhattan'],\n",
       "                         'n_neighbors': array([ 1,  2,  3,  4,  5,  6,  7,  8,  9, 10, 11, 12, 13, 14, 15, 16, 17,\n",
       "       18, 19, 20, 21, 22, 23, 24, 25, 26, 27, 28, 29, 30, 31, 32, 33, 34,\n",
       "       35, 36, 37, 38, 39, 40, 41, 42, 43, 44, 45, 46, 47, 48, 49]),\n",
       "                         'weights': ['uniform', 'distance']})"
      ]
     },
     "execution_count": 133,
     "metadata": {},
     "output_type": "execute_result"
    }
   ],
   "source": [
    "#Gridsearch cv with scaled data and three species, and model fit\n",
    "knn_cv_all_scaled3 = GridSearchCV(knn, knn_params, cv=5)\n",
    "knn_cv_all_scaled3.fit(X_train_scaled3, y_train3)"
   ]
  },
  {
   "cell_type": "code",
   "execution_count": 134,
   "metadata": {},
   "outputs": [
    {
     "name": "stdout",
     "output_type": "stream",
     "text": [
      "Best Score:0.7420573721307218\n",
      "Best Parameters: {'metric': 'manhattan', 'n_neighbors': 16, 'weights': 'distance'}\n"
     ]
    }
   ],
   "source": [
    "#best score and hyperparameters\n",
    "print(\"Best Score:\" + str(knn_cv_all_scaled3.best_score_))\n",
    "print(\"Best Parameters: \" + str(knn_cv_all_scaled3.best_params_))"
   ]
  },
  {
   "cell_type": "code",
   "execution_count": 135,
   "metadata": {},
   "outputs": [
    {
     "name": "stdout",
     "output_type": "stream",
     "text": [
      "1.0\n",
      "0.7424501424501424\n"
     ]
    }
   ],
   "source": [
    "#Training and test data accuracy of model\n",
    "print(knn_cv_all_scaled3.score(X_train_scaled3, y_train3))\n",
    "print(knn_cv_all_scaled3.score(X_test_scaled3, y_test3))"
   ]
  },
  {
   "cell_type": "code",
   "execution_count": 136,
   "metadata": {},
   "outputs": [
    {
     "name": "stdout",
     "output_type": "stream",
     "text": [
      "Confusion matrix: [[231   0   0   0]\n",
      " [171   0   0   0]\n",
      " [507  25   0   2]\n",
      " [745  67   0   7]]\n",
      "Classification report:               precision    recall  f1-score   support\n",
      "\n",
      "      MYOYUM       0.14      1.00      0.25       231\n",
      "      PARHES       0.00      0.00      0.00       171\n",
      "      TADBRA       0.00      0.00      0.00       534\n",
      "       other       0.78      0.01      0.02       819\n",
      "\n",
      "    accuracy                           0.14      1755\n",
      "   macro avg       0.23      0.25      0.07      1755\n",
      "weighted avg       0.38      0.14      0.04      1755\n",
      "\n"
     ]
    },
    {
     "name": "stderr",
     "output_type": "stream",
     "text": [
      "C:\\Users\\matta\\anaconda3\\lib\\site-packages\\sklearn\\metrics\\_classification.py:1221: UndefinedMetricWarning: Precision and F-score are ill-defined and being set to 0.0 in labels with no predicted samples. Use `zero_division` parameter to control this behavior.\n",
      "  _warn_prf(average, modifier, msg_start, len(result))\n"
     ]
    }
   ],
   "source": [
    "#Confusion matrix and classification report\n",
    "knn_y_pred_all_scaled3 = knn_cv_all_scaled3.predict(X_test3)\n",
    "print('Confusion matrix:', confusion_matrix(y_test3, knn_y_pred_all_scaled3))\n",
    "print('Classification report:', classification_report(y_test3, knn_y_pred_all_scaled3))"
   ]
  },
  {
   "cell_type": "markdown",
   "metadata": {},
   "source": [
    "## XGBoost"
   ]
  },
  {
   "cell_type": "code",
   "execution_count": 58,
   "metadata": {},
   "outputs": [],
   "source": [
    "#Gridsearch cv hyperparameters for XGBoost\n",
    "xgb = XGBClassifier(random_state = 42)\n",
    "xgb_params = {'n_estimators' : [20, 100], \n",
    "              'learning_rates' : [0.05, 0.1], \n",
    "              'max_features' : [3, 4, 5]}"
   ]
  },
  {
   "cell_type": "markdown",
   "metadata": {},
   "source": [
    "### All Species Classifier"
   ]
  },
  {
   "cell_type": "code",
   "execution_count": 59,
   "metadata": {},
   "outputs": [
    {
     "name": "stderr",
     "output_type": "stream",
     "text": [
      "C:\\Users\\matta\\anaconda3\\lib\\site-packages\\sklearn\\model_selection\\_split.py:670: UserWarning: The least populated class in y has only 1 members, which is less than n_splits=5.\n",
      "  warnings.warn((\"The least populated class in y has only %d\"\n",
      "C:\\Users\\matta\\anaconda3\\lib\\site-packages\\xgboost\\sklearn.py:888: UserWarning: The use of label encoder in XGBClassifier is deprecated and will be removed in a future release. To remove this warning, do the following: 1) Pass option use_label_encoder=False when constructing XGBClassifier object; and 2) Encode your labels (y) as integers starting with 0, i.e. 0, 1, 2, ..., [num_class - 1].\n",
      "  warnings.warn(label_encoder_deprecation_msg, UserWarning)\n"
     ]
    },
    {
     "name": "stdout",
     "output_type": "stream",
     "text": [
      "[17:51:39] WARNING: C:/Users/Administrator/workspace/xgboost-win64_release_1.3.0/src/learner.cc:541: \n",
      "Parameters: { learning_rates, max_features } might not be used.\n",
      "\n",
      "  This may not be accurate due to some parameters are only used in language bindings but\n",
      "  passed down to XGBoost core.  Or some parameters are not used but slip through this\n",
      "  verification. Please open an issue if you find above cases.\n",
      "\n",
      "\n",
      "[17:51:39] WARNING: C:/Users/Administrator/workspace/xgboost-win64_release_1.3.0/src/learner.cc:1061: Starting in XGBoost 1.3.0, the default evaluation metric used with the objective 'multi:softprob' was changed from 'merror' to 'mlogloss'. Explicitly set eval_metric if you'd like to restore the old behavior.\n",
      "[17:51:40] WARNING: C:/Users/Administrator/workspace/xgboost-win64_release_1.3.0/src/learner.cc:541: \n",
      "Parameters: { learning_rates, max_features } might not be used.\n",
      "\n",
      "  This may not be accurate due to some parameters are only used in language bindings but\n",
      "  passed down to XGBoost core.  Or some parameters are not used but slip through this\n",
      "  verification. Please open an issue if you find above cases.\n",
      "\n",
      "\n",
      "[17:51:40] WARNING: C:/Users/Administrator/workspace/xgboost-win64_release_1.3.0/src/learner.cc:1061: Starting in XGBoost 1.3.0, the default evaluation metric used with the objective 'multi:softprob' was changed from 'merror' to 'mlogloss'. Explicitly set eval_metric if you'd like to restore the old behavior.\n",
      "[17:51:42] WARNING: C:/Users/Administrator/workspace/xgboost-win64_release_1.3.0/src/learner.cc:541: \n",
      "Parameters: { learning_rates, max_features } might not be used.\n",
      "\n",
      "  This may not be accurate due to some parameters are only used in language bindings but\n",
      "  passed down to XGBoost core.  Or some parameters are not used but slip through this\n",
      "  verification. Please open an issue if you find above cases.\n",
      "\n",
      "\n",
      "[17:51:42] WARNING: C:/Users/Administrator/workspace/xgboost-win64_release_1.3.0/src/learner.cc:1061: Starting in XGBoost 1.3.0, the default evaluation metric used with the objective 'multi:softprob' was changed from 'merror' to 'mlogloss'. Explicitly set eval_metric if you'd like to restore the old behavior.\n",
      "[17:51:43] WARNING: C:/Users/Administrator/workspace/xgboost-win64_release_1.3.0/src/learner.cc:541: \n",
      "Parameters: { learning_rates, max_features } might not be used.\n",
      "\n",
      "  This may not be accurate due to some parameters are only used in language bindings but\n",
      "  passed down to XGBoost core.  Or some parameters are not used but slip through this\n",
      "  verification. Please open an issue if you find above cases.\n",
      "\n",
      "\n",
      "[17:51:43] WARNING: C:/Users/Administrator/workspace/xgboost-win64_release_1.3.0/src/learner.cc:1061: Starting in XGBoost 1.3.0, the default evaluation metric used with the objective 'multi:softprob' was changed from 'merror' to 'mlogloss'. Explicitly set eval_metric if you'd like to restore the old behavior.\n",
      "[17:51:44] WARNING: C:/Users/Administrator/workspace/xgboost-win64_release_1.3.0/src/learner.cc:541: \n",
      "Parameters: { learning_rates, max_features } might not be used.\n",
      "\n",
      "  This may not be accurate due to some parameters are only used in language bindings but\n",
      "  passed down to XGBoost core.  Or some parameters are not used but slip through this\n",
      "  verification. Please open an issue if you find above cases.\n",
      "\n",
      "\n",
      "[17:51:44] WARNING: C:/Users/Administrator/workspace/xgboost-win64_release_1.3.0/src/learner.cc:1061: Starting in XGBoost 1.3.0, the default evaluation metric used with the objective 'multi:softprob' was changed from 'merror' to 'mlogloss'. Explicitly set eval_metric if you'd like to restore the old behavior.\n",
      "[17:51:45] WARNING: C:/Users/Administrator/workspace/xgboost-win64_release_1.3.0/src/learner.cc:541: \n",
      "Parameters: { learning_rates, max_features } might not be used.\n",
      "\n",
      "  This may not be accurate due to some parameters are only used in language bindings but\n",
      "  passed down to XGBoost core.  Or some parameters are not used but slip through this\n",
      "  verification. Please open an issue if you find above cases.\n",
      "\n",
      "\n",
      "[17:51:45] WARNING: C:/Users/Administrator/workspace/xgboost-win64_release_1.3.0/src/learner.cc:1061: Starting in XGBoost 1.3.0, the default evaluation metric used with the objective 'multi:softprob' was changed from 'merror' to 'mlogloss'. Explicitly set eval_metric if you'd like to restore the old behavior.\n",
      "[17:51:49] WARNING: C:/Users/Administrator/workspace/xgboost-win64_release_1.3.0/src/learner.cc:541: \n",
      "Parameters: { learning_rates, max_features } might not be used.\n",
      "\n",
      "  This may not be accurate due to some parameters are only used in language bindings but\n",
      "  passed down to XGBoost core.  Or some parameters are not used but slip through this\n",
      "  verification. Please open an issue if you find above cases.\n",
      "\n",
      "\n",
      "[17:51:49] WARNING: C:/Users/Administrator/workspace/xgboost-win64_release_1.3.0/src/learner.cc:1061: Starting in XGBoost 1.3.0, the default evaluation metric used with the objective 'multi:softprob' was changed from 'merror' to 'mlogloss'. Explicitly set eval_metric if you'd like to restore the old behavior.\n",
      "[17:51:54] WARNING: C:/Users/Administrator/workspace/xgboost-win64_release_1.3.0/src/learner.cc:541: \n",
      "Parameters: { learning_rates, max_features } might not be used.\n",
      "\n",
      "  This may not be accurate due to some parameters are only used in language bindings but\n",
      "  passed down to XGBoost core.  Or some parameters are not used but slip through this\n",
      "  verification. Please open an issue if you find above cases.\n",
      "\n",
      "\n",
      "[17:51:54] WARNING: C:/Users/Administrator/workspace/xgboost-win64_release_1.3.0/src/learner.cc:1061: Starting in XGBoost 1.3.0, the default evaluation metric used with the objective 'multi:softprob' was changed from 'merror' to 'mlogloss'. Explicitly set eval_metric if you'd like to restore the old behavior.\n",
      "[17:52:00] WARNING: C:/Users/Administrator/workspace/xgboost-win64_release_1.3.0/src/learner.cc:541: \n",
      "Parameters: { learning_rates, max_features } might not be used.\n",
      "\n",
      "  This may not be accurate due to some parameters are only used in language bindings but\n",
      "  passed down to XGBoost core.  Or some parameters are not used but slip through this\n",
      "  verification. Please open an issue if you find above cases.\n",
      "\n",
      "\n",
      "[17:52:00] WARNING: C:/Users/Administrator/workspace/xgboost-win64_release_1.3.0/src/learner.cc:1061: Starting in XGBoost 1.3.0, the default evaluation metric used with the objective 'multi:softprob' was changed from 'merror' to 'mlogloss'. Explicitly set eval_metric if you'd like to restore the old behavior.\n",
      "[17:52:05] WARNING: C:/Users/Administrator/workspace/xgboost-win64_release_1.3.0/src/learner.cc:541: \n",
      "Parameters: { learning_rates, max_features } might not be used.\n",
      "\n",
      "  This may not be accurate due to some parameters are only used in language bindings but\n",
      "  passed down to XGBoost core.  Or some parameters are not used but slip through this\n",
      "  verification. Please open an issue if you find above cases.\n",
      "\n",
      "\n",
      "[17:52:05] WARNING: C:/Users/Administrator/workspace/xgboost-win64_release_1.3.0/src/learner.cc:1061: Starting in XGBoost 1.3.0, the default evaluation metric used with the objective 'multi:softprob' was changed from 'merror' to 'mlogloss'. Explicitly set eval_metric if you'd like to restore the old behavior.\n",
      "[17:52:09] WARNING: C:/Users/Administrator/workspace/xgboost-win64_release_1.3.0/src/learner.cc:541: \n",
      "Parameters: { learning_rates, max_features } might not be used.\n",
      "\n",
      "  This may not be accurate due to some parameters are only used in language bindings but\n",
      "  passed down to XGBoost core.  Or some parameters are not used but slip through this\n",
      "  verification. Please open an issue if you find above cases.\n",
      "\n",
      "\n",
      "[17:52:09] WARNING: C:/Users/Administrator/workspace/xgboost-win64_release_1.3.0/src/learner.cc:1061: Starting in XGBoost 1.3.0, the default evaluation metric used with the objective 'multi:softprob' was changed from 'merror' to 'mlogloss'. Explicitly set eval_metric if you'd like to restore the old behavior.\n",
      "[17:52:11] WARNING: C:/Users/Administrator/workspace/xgboost-win64_release_1.3.0/src/learner.cc:541: \n",
      "Parameters: { learning_rates, max_features } might not be used.\n",
      "\n",
      "  This may not be accurate due to some parameters are only used in language bindings but\n",
      "  passed down to XGBoost core.  Or some parameters are not used but slip through this\n",
      "  verification. Please open an issue if you find above cases.\n",
      "\n",
      "\n",
      "[17:52:11] WARNING: C:/Users/Administrator/workspace/xgboost-win64_release_1.3.0/src/learner.cc:1061: Starting in XGBoost 1.3.0, the default evaluation metric used with the objective 'multi:softprob' was changed from 'merror' to 'mlogloss'. Explicitly set eval_metric if you'd like to restore the old behavior.\n"
     ]
    },
    {
     "name": "stdout",
     "output_type": "stream",
     "text": [
      "[17:52:12] WARNING: C:/Users/Administrator/workspace/xgboost-win64_release_1.3.0/src/learner.cc:541: \n",
      "Parameters: { learning_rates, max_features } might not be used.\n",
      "\n",
      "  This may not be accurate due to some parameters are only used in language bindings but\n",
      "  passed down to XGBoost core.  Or some parameters are not used but slip through this\n",
      "  verification. Please open an issue if you find above cases.\n",
      "\n",
      "\n",
      "[17:52:12] WARNING: C:/Users/Administrator/workspace/xgboost-win64_release_1.3.0/src/learner.cc:1061: Starting in XGBoost 1.3.0, the default evaluation metric used with the objective 'multi:softprob' was changed from 'merror' to 'mlogloss'. Explicitly set eval_metric if you'd like to restore the old behavior.\n",
      "[17:52:13] WARNING: C:/Users/Administrator/workspace/xgboost-win64_release_1.3.0/src/learner.cc:541: \n",
      "Parameters: { learning_rates, max_features } might not be used.\n",
      "\n",
      "  This may not be accurate due to some parameters are only used in language bindings but\n",
      "  passed down to XGBoost core.  Or some parameters are not used but slip through this\n",
      "  verification. Please open an issue if you find above cases.\n",
      "\n",
      "\n",
      "[17:52:13] WARNING: C:/Users/Administrator/workspace/xgboost-win64_release_1.3.0/src/learner.cc:1061: Starting in XGBoost 1.3.0, the default evaluation metric used with the objective 'multi:softprob' was changed from 'merror' to 'mlogloss'. Explicitly set eval_metric if you'd like to restore the old behavior.\n",
      "[17:52:15] WARNING: C:/Users/Administrator/workspace/xgboost-win64_release_1.3.0/src/learner.cc:541: \n",
      "Parameters: { learning_rates, max_features } might not be used.\n",
      "\n",
      "  This may not be accurate due to some parameters are only used in language bindings but\n",
      "  passed down to XGBoost core.  Or some parameters are not used but slip through this\n",
      "  verification. Please open an issue if you find above cases.\n",
      "\n",
      "\n",
      "[17:52:15] WARNING: C:/Users/Administrator/workspace/xgboost-win64_release_1.3.0/src/learner.cc:1061: Starting in XGBoost 1.3.0, the default evaluation metric used with the objective 'multi:softprob' was changed from 'merror' to 'mlogloss'. Explicitly set eval_metric if you'd like to restore the old behavior.\n",
      "[17:52:16] WARNING: C:/Users/Administrator/workspace/xgboost-win64_release_1.3.0/src/learner.cc:541: \n",
      "Parameters: { learning_rates, max_features } might not be used.\n",
      "\n",
      "  This may not be accurate due to some parameters are only used in language bindings but\n",
      "  passed down to XGBoost core.  Or some parameters are not used but slip through this\n",
      "  verification. Please open an issue if you find above cases.\n",
      "\n",
      "\n",
      "[17:52:16] WARNING: C:/Users/Administrator/workspace/xgboost-win64_release_1.3.0/src/learner.cc:1061: Starting in XGBoost 1.3.0, the default evaluation metric used with the objective 'multi:softprob' was changed from 'merror' to 'mlogloss'. Explicitly set eval_metric if you'd like to restore the old behavior.\n",
      "[17:52:21] WARNING: C:/Users/Administrator/workspace/xgboost-win64_release_1.3.0/src/learner.cc:541: \n",
      "Parameters: { learning_rates, max_features } might not be used.\n",
      "\n",
      "  This may not be accurate due to some parameters are only used in language bindings but\n",
      "  passed down to XGBoost core.  Or some parameters are not used but slip through this\n",
      "  verification. Please open an issue if you find above cases.\n",
      "\n",
      "\n",
      "[17:52:21] WARNING: C:/Users/Administrator/workspace/xgboost-win64_release_1.3.0/src/learner.cc:1061: Starting in XGBoost 1.3.0, the default evaluation metric used with the objective 'multi:softprob' was changed from 'merror' to 'mlogloss'. Explicitly set eval_metric if you'd like to restore the old behavior.\n",
      "[17:52:26] WARNING: C:/Users/Administrator/workspace/xgboost-win64_release_1.3.0/src/learner.cc:541: \n",
      "Parameters: { learning_rates, max_features } might not be used.\n",
      "\n",
      "  This may not be accurate due to some parameters are only used in language bindings but\n",
      "  passed down to XGBoost core.  Or some parameters are not used but slip through this\n",
      "  verification. Please open an issue if you find above cases.\n",
      "\n",
      "\n",
      "[17:52:26] WARNING: C:/Users/Administrator/workspace/xgboost-win64_release_1.3.0/src/learner.cc:1061: Starting in XGBoost 1.3.0, the default evaluation metric used with the objective 'multi:softprob' was changed from 'merror' to 'mlogloss'. Explicitly set eval_metric if you'd like to restore the old behavior.\n",
      "[17:52:31] WARNING: C:/Users/Administrator/workspace/xgboost-win64_release_1.3.0/src/learner.cc:541: \n",
      "Parameters: { learning_rates, max_features } might not be used.\n",
      "\n",
      "  This may not be accurate due to some parameters are only used in language bindings but\n",
      "  passed down to XGBoost core.  Or some parameters are not used but slip through this\n",
      "  verification. Please open an issue if you find above cases.\n",
      "\n",
      "\n",
      "[17:52:32] WARNING: C:/Users/Administrator/workspace/xgboost-win64_release_1.3.0/src/learner.cc:1061: Starting in XGBoost 1.3.0, the default evaluation metric used with the objective 'multi:softprob' was changed from 'merror' to 'mlogloss'. Explicitly set eval_metric if you'd like to restore the old behavior.\n",
      "[17:52:37] WARNING: C:/Users/Administrator/workspace/xgboost-win64_release_1.3.0/src/learner.cc:541: \n",
      "Parameters: { learning_rates, max_features } might not be used.\n",
      "\n",
      "  This may not be accurate due to some parameters are only used in language bindings but\n",
      "  passed down to XGBoost core.  Or some parameters are not used but slip through this\n",
      "  verification. Please open an issue if you find above cases.\n",
      "\n",
      "\n",
      "[17:52:37] WARNING: C:/Users/Administrator/workspace/xgboost-win64_release_1.3.0/src/learner.cc:1061: Starting in XGBoost 1.3.0, the default evaluation metric used with the objective 'multi:softprob' was changed from 'merror' to 'mlogloss'. Explicitly set eval_metric if you'd like to restore the old behavior.\n",
      "[17:52:41] WARNING: C:/Users/Administrator/workspace/xgboost-win64_release_1.3.0/src/learner.cc:541: \n",
      "Parameters: { learning_rates, max_features } might not be used.\n",
      "\n",
      "  This may not be accurate due to some parameters are only used in language bindings but\n",
      "  passed down to XGBoost core.  Or some parameters are not used but slip through this\n",
      "  verification. Please open an issue if you find above cases.\n",
      "\n",
      "\n",
      "[17:52:41] WARNING: C:/Users/Administrator/workspace/xgboost-win64_release_1.3.0/src/learner.cc:1061: Starting in XGBoost 1.3.0, the default evaluation metric used with the objective 'multi:softprob' was changed from 'merror' to 'mlogloss'. Explicitly set eval_metric if you'd like to restore the old behavior.\n",
      "[17:52:42] WARNING: C:/Users/Administrator/workspace/xgboost-win64_release_1.3.0/src/learner.cc:541: \n",
      "Parameters: { learning_rates, max_features } might not be used.\n",
      "\n",
      "  This may not be accurate due to some parameters are only used in language bindings but\n",
      "  passed down to XGBoost core.  Or some parameters are not used but slip through this\n",
      "  verification. Please open an issue if you find above cases.\n",
      "\n",
      "\n",
      "[17:52:42] WARNING: C:/Users/Administrator/workspace/xgboost-win64_release_1.3.0/src/learner.cc:1061: Starting in XGBoost 1.3.0, the default evaluation metric used with the objective 'multi:softprob' was changed from 'merror' to 'mlogloss'. Explicitly set eval_metric if you'd like to restore the old behavior.\n",
      "[17:52:43] WARNING: C:/Users/Administrator/workspace/xgboost-win64_release_1.3.0/src/learner.cc:541: \n",
      "Parameters: { learning_rates, max_features } might not be used.\n",
      "\n",
      "  This may not be accurate due to some parameters are only used in language bindings but\n",
      "  passed down to XGBoost core.  Or some parameters are not used but slip through this\n",
      "  verification. Please open an issue if you find above cases.\n",
      "\n",
      "\n",
      "[17:52:43] WARNING: C:/Users/Administrator/workspace/xgboost-win64_release_1.3.0/src/learner.cc:1061: Starting in XGBoost 1.3.0, the default evaluation metric used with the objective 'multi:softprob' was changed from 'merror' to 'mlogloss'. Explicitly set eval_metric if you'd like to restore the old behavior.\n",
      "[17:52:45] WARNING: C:/Users/Administrator/workspace/xgboost-win64_release_1.3.0/src/learner.cc:541: \n",
      "Parameters: { learning_rates, max_features } might not be used.\n",
      "\n",
      "  This may not be accurate due to some parameters are only used in language bindings but\n",
      "  passed down to XGBoost core.  Or some parameters are not used but slip through this\n",
      "  verification. Please open an issue if you find above cases.\n",
      "\n",
      "\n",
      "[17:52:45] WARNING: C:/Users/Administrator/workspace/xgboost-win64_release_1.3.0/src/learner.cc:1061: Starting in XGBoost 1.3.0, the default evaluation metric used with the objective 'multi:softprob' was changed from 'merror' to 'mlogloss'. Explicitly set eval_metric if you'd like to restore the old behavior.\n"
     ]
    },
    {
     "name": "stdout",
     "output_type": "stream",
     "text": [
      "[17:52:46] WARNING: C:/Users/Administrator/workspace/xgboost-win64_release_1.3.0/src/learner.cc:541: \n",
      "Parameters: { learning_rates, max_features } might not be used.\n",
      "\n",
      "  This may not be accurate due to some parameters are only used in language bindings but\n",
      "  passed down to XGBoost core.  Or some parameters are not used but slip through this\n",
      "  verification. Please open an issue if you find above cases.\n",
      "\n",
      "\n",
      "[17:52:46] WARNING: C:/Users/Administrator/workspace/xgboost-win64_release_1.3.0/src/learner.cc:1061: Starting in XGBoost 1.3.0, the default evaluation metric used with the objective 'multi:softprob' was changed from 'merror' to 'mlogloss'. Explicitly set eval_metric if you'd like to restore the old behavior.\n",
      "[17:52:47] WARNING: C:/Users/Administrator/workspace/xgboost-win64_release_1.3.0/src/learner.cc:541: \n",
      "Parameters: { learning_rates, max_features } might not be used.\n",
      "\n",
      "  This may not be accurate due to some parameters are only used in language bindings but\n",
      "  passed down to XGBoost core.  Or some parameters are not used but slip through this\n",
      "  verification. Please open an issue if you find above cases.\n",
      "\n",
      "\n",
      "[17:52:48] WARNING: C:/Users/Administrator/workspace/xgboost-win64_release_1.3.0/src/learner.cc:1061: Starting in XGBoost 1.3.0, the default evaluation metric used with the objective 'multi:softprob' was changed from 'merror' to 'mlogloss'. Explicitly set eval_metric if you'd like to restore the old behavior.\n",
      "[17:52:52] WARNING: C:/Users/Administrator/workspace/xgboost-win64_release_1.3.0/src/learner.cc:541: \n",
      "Parameters: { learning_rates, max_features } might not be used.\n",
      "\n",
      "  This may not be accurate due to some parameters are only used in language bindings but\n",
      "  passed down to XGBoost core.  Or some parameters are not used but slip through this\n",
      "  verification. Please open an issue if you find above cases.\n",
      "\n",
      "\n",
      "[17:52:53] WARNING: C:/Users/Administrator/workspace/xgboost-win64_release_1.3.0/src/learner.cc:1061: Starting in XGBoost 1.3.0, the default evaluation metric used with the objective 'multi:softprob' was changed from 'merror' to 'mlogloss'. Explicitly set eval_metric if you'd like to restore the old behavior.\n",
      "[17:52:57] WARNING: C:/Users/Administrator/workspace/xgboost-win64_release_1.3.0/src/learner.cc:541: \n",
      "Parameters: { learning_rates, max_features } might not be used.\n",
      "\n",
      "  This may not be accurate due to some parameters are only used in language bindings but\n",
      "  passed down to XGBoost core.  Or some parameters are not used but slip through this\n",
      "  verification. Please open an issue if you find above cases.\n",
      "\n",
      "\n",
      "[17:52:58] WARNING: C:/Users/Administrator/workspace/xgboost-win64_release_1.3.0/src/learner.cc:1061: Starting in XGBoost 1.3.0, the default evaluation metric used with the objective 'multi:softprob' was changed from 'merror' to 'mlogloss'. Explicitly set eval_metric if you'd like to restore the old behavior.\n",
      "[17:53:02] WARNING: C:/Users/Administrator/workspace/xgboost-win64_release_1.3.0/src/learner.cc:541: \n",
      "Parameters: { learning_rates, max_features } might not be used.\n",
      "\n",
      "  This may not be accurate due to some parameters are only used in language bindings but\n",
      "  passed down to XGBoost core.  Or some parameters are not used but slip through this\n",
      "  verification. Please open an issue if you find above cases.\n",
      "\n",
      "\n",
      "[17:53:02] WARNING: C:/Users/Administrator/workspace/xgboost-win64_release_1.3.0/src/learner.cc:1061: Starting in XGBoost 1.3.0, the default evaluation metric used with the objective 'multi:softprob' was changed from 'merror' to 'mlogloss'. Explicitly set eval_metric if you'd like to restore the old behavior.\n",
      "[17:53:07] WARNING: C:/Users/Administrator/workspace/xgboost-win64_release_1.3.0/src/learner.cc:541: \n",
      "Parameters: { learning_rates, max_features } might not be used.\n",
      "\n",
      "  This may not be accurate due to some parameters are only used in language bindings but\n",
      "  passed down to XGBoost core.  Or some parameters are not used but slip through this\n",
      "  verification. Please open an issue if you find above cases.\n",
      "\n",
      "\n",
      "[17:53:07] WARNING: C:/Users/Administrator/workspace/xgboost-win64_release_1.3.0/src/learner.cc:1061: Starting in XGBoost 1.3.0, the default evaluation metric used with the objective 'multi:softprob' was changed from 'merror' to 'mlogloss'. Explicitly set eval_metric if you'd like to restore the old behavior.\n",
      "[17:53:13] WARNING: C:/Users/Administrator/workspace/xgboost-win64_release_1.3.0/src/learner.cc:541: \n",
      "Parameters: { learning_rates, max_features } might not be used.\n",
      "\n",
      "  This may not be accurate due to some parameters are only used in language bindings but\n",
      "  passed down to XGBoost core.  Or some parameters are not used but slip through this\n",
      "  verification. Please open an issue if you find above cases.\n",
      "\n",
      "\n",
      "[17:53:13] WARNING: C:/Users/Administrator/workspace/xgboost-win64_release_1.3.0/src/learner.cc:1061: Starting in XGBoost 1.3.0, the default evaluation metric used with the objective 'multi:softprob' was changed from 'merror' to 'mlogloss'. Explicitly set eval_metric if you'd like to restore the old behavior.\n",
      "[17:53:14] WARNING: C:/Users/Administrator/workspace/xgboost-win64_release_1.3.0/src/learner.cc:541: \n",
      "Parameters: { learning_rates, max_features } might not be used.\n",
      "\n",
      "  This may not be accurate due to some parameters are only used in language bindings but\n",
      "  passed down to XGBoost core.  Or some parameters are not used but slip through this\n",
      "  verification. Please open an issue if you find above cases.\n",
      "\n",
      "\n",
      "[17:53:14] WARNING: C:/Users/Administrator/workspace/xgboost-win64_release_1.3.0/src/learner.cc:1061: Starting in XGBoost 1.3.0, the default evaluation metric used with the objective 'multi:softprob' was changed from 'merror' to 'mlogloss'. Explicitly set eval_metric if you'd like to restore the old behavior.\n",
      "[17:53:16] WARNING: C:/Users/Administrator/workspace/xgboost-win64_release_1.3.0/src/learner.cc:541: \n",
      "Parameters: { learning_rates, max_features } might not be used.\n",
      "\n",
      "  This may not be accurate due to some parameters are only used in language bindings but\n",
      "  passed down to XGBoost core.  Or some parameters are not used but slip through this\n",
      "  verification. Please open an issue if you find above cases.\n",
      "\n",
      "\n",
      "[17:53:16] WARNING: C:/Users/Administrator/workspace/xgboost-win64_release_1.3.0/src/learner.cc:1061: Starting in XGBoost 1.3.0, the default evaluation metric used with the objective 'multi:softprob' was changed from 'merror' to 'mlogloss'. Explicitly set eval_metric if you'd like to restore the old behavior.\n",
      "[17:53:17] WARNING: C:/Users/Administrator/workspace/xgboost-win64_release_1.3.0/src/learner.cc:541: \n",
      "Parameters: { learning_rates, max_features } might not be used.\n",
      "\n",
      "  This may not be accurate due to some parameters are only used in language bindings but\n",
      "  passed down to XGBoost core.  Or some parameters are not used but slip through this\n",
      "  verification. Please open an issue if you find above cases.\n",
      "\n",
      "\n",
      "[17:53:17] WARNING: C:/Users/Administrator/workspace/xgboost-win64_release_1.3.0/src/learner.cc:1061: Starting in XGBoost 1.3.0, the default evaluation metric used with the objective 'multi:softprob' was changed from 'merror' to 'mlogloss'. Explicitly set eval_metric if you'd like to restore the old behavior.\n",
      "[17:53:19] WARNING: C:/Users/Administrator/workspace/xgboost-win64_release_1.3.0/src/learner.cc:541: \n",
      "Parameters: { learning_rates, max_features } might not be used.\n",
      "\n",
      "  This may not be accurate due to some parameters are only used in language bindings but\n",
      "  passed down to XGBoost core.  Or some parameters are not used but slip through this\n",
      "  verification. Please open an issue if you find above cases.\n",
      "\n",
      "\n",
      "[17:53:19] WARNING: C:/Users/Administrator/workspace/xgboost-win64_release_1.3.0/src/learner.cc:1061: Starting in XGBoost 1.3.0, the default evaluation metric used with the objective 'multi:softprob' was changed from 'merror' to 'mlogloss'. Explicitly set eval_metric if you'd like to restore the old behavior.\n",
      "[17:53:20] WARNING: C:/Users/Administrator/workspace/xgboost-win64_release_1.3.0/src/learner.cc:541: \n",
      "Parameters: { learning_rates, max_features } might not be used.\n",
      "\n",
      "  This may not be accurate due to some parameters are only used in language bindings but\n",
      "  passed down to XGBoost core.  Or some parameters are not used but slip through this\n",
      "  verification. Please open an issue if you find above cases.\n",
      "\n",
      "\n",
      "[17:53:20] WARNING: C:/Users/Administrator/workspace/xgboost-win64_release_1.3.0/src/learner.cc:1061: Starting in XGBoost 1.3.0, the default evaluation metric used with the objective 'multi:softprob' was changed from 'merror' to 'mlogloss'. Explicitly set eval_metric if you'd like to restore the old behavior.\n"
     ]
    },
    {
     "name": "stdout",
     "output_type": "stream",
     "text": [
      "[17:53:25] WARNING: C:/Users/Administrator/workspace/xgboost-win64_release_1.3.0/src/learner.cc:541: \n",
      "Parameters: { learning_rates, max_features } might not be used.\n",
      "\n",
      "  This may not be accurate due to some parameters are only used in language bindings but\n",
      "  passed down to XGBoost core.  Or some parameters are not used but slip through this\n",
      "  verification. Please open an issue if you find above cases.\n",
      "\n",
      "\n",
      "[17:53:25] WARNING: C:/Users/Administrator/workspace/xgboost-win64_release_1.3.0/src/learner.cc:1061: Starting in XGBoost 1.3.0, the default evaluation metric used with the objective 'multi:softprob' was changed from 'merror' to 'mlogloss'. Explicitly set eval_metric if you'd like to restore the old behavior.\n",
      "[17:53:29] WARNING: C:/Users/Administrator/workspace/xgboost-win64_release_1.3.0/src/learner.cc:541: \n",
      "Parameters: { learning_rates, max_features } might not be used.\n",
      "\n",
      "  This may not be accurate due to some parameters are only used in language bindings but\n",
      "  passed down to XGBoost core.  Or some parameters are not used but slip through this\n",
      "  verification. Please open an issue if you find above cases.\n",
      "\n",
      "\n",
      "[17:53:30] WARNING: C:/Users/Administrator/workspace/xgboost-win64_release_1.3.0/src/learner.cc:1061: Starting in XGBoost 1.3.0, the default evaluation metric used with the objective 'multi:softprob' was changed from 'merror' to 'mlogloss'. Explicitly set eval_metric if you'd like to restore the old behavior.\n",
      "[17:53:34] WARNING: C:/Users/Administrator/workspace/xgboost-win64_release_1.3.0/src/learner.cc:541: \n",
      "Parameters: { learning_rates, max_features } might not be used.\n",
      "\n",
      "  This may not be accurate due to some parameters are only used in language bindings but\n",
      "  passed down to XGBoost core.  Or some parameters are not used but slip through this\n",
      "  verification. Please open an issue if you find above cases.\n",
      "\n",
      "\n",
      "[17:53:34] WARNING: C:/Users/Administrator/workspace/xgboost-win64_release_1.3.0/src/learner.cc:1061: Starting in XGBoost 1.3.0, the default evaluation metric used with the objective 'multi:softprob' was changed from 'merror' to 'mlogloss'. Explicitly set eval_metric if you'd like to restore the old behavior.\n",
      "[17:53:38] WARNING: C:/Users/Administrator/workspace/xgboost-win64_release_1.3.0/src/learner.cc:541: \n",
      "Parameters: { learning_rates, max_features } might not be used.\n",
      "\n",
      "  This may not be accurate due to some parameters are only used in language bindings but\n",
      "  passed down to XGBoost core.  Or some parameters are not used but slip through this\n",
      "  verification. Please open an issue if you find above cases.\n",
      "\n",
      "\n",
      "[17:53:38] WARNING: C:/Users/Administrator/workspace/xgboost-win64_release_1.3.0/src/learner.cc:1061: Starting in XGBoost 1.3.0, the default evaluation metric used with the objective 'multi:softprob' was changed from 'merror' to 'mlogloss'. Explicitly set eval_metric if you'd like to restore the old behavior.\n",
      "[17:53:43] WARNING: C:/Users/Administrator/workspace/xgboost-win64_release_1.3.0/src/learner.cc:541: \n",
      "Parameters: { learning_rates, max_features } might not be used.\n",
      "\n",
      "  This may not be accurate due to some parameters are only used in language bindings but\n",
      "  passed down to XGBoost core.  Or some parameters are not used but slip through this\n",
      "  verification. Please open an issue if you find above cases.\n",
      "\n",
      "\n",
      "[17:53:43] WARNING: C:/Users/Administrator/workspace/xgboost-win64_release_1.3.0/src/learner.cc:1061: Starting in XGBoost 1.3.0, the default evaluation metric used with the objective 'multi:softprob' was changed from 'merror' to 'mlogloss'. Explicitly set eval_metric if you'd like to restore the old behavior.\n",
      "[17:53:44] WARNING: C:/Users/Administrator/workspace/xgboost-win64_release_1.3.0/src/learner.cc:541: \n",
      "Parameters: { learning_rates, max_features } might not be used.\n",
      "\n",
      "  This may not be accurate due to some parameters are only used in language bindings but\n",
      "  passed down to XGBoost core.  Or some parameters are not used but slip through this\n",
      "  verification. Please open an issue if you find above cases.\n",
      "\n",
      "\n",
      "[17:53:44] WARNING: C:/Users/Administrator/workspace/xgboost-win64_release_1.3.0/src/learner.cc:1061: Starting in XGBoost 1.3.0, the default evaluation metric used with the objective 'multi:softprob' was changed from 'merror' to 'mlogloss'. Explicitly set eval_metric if you'd like to restore the old behavior.\n",
      "[17:53:46] WARNING: C:/Users/Administrator/workspace/xgboost-win64_release_1.3.0/src/learner.cc:541: \n",
      "Parameters: { learning_rates, max_features } might not be used.\n",
      "\n",
      "  This may not be accurate due to some parameters are only used in language bindings but\n",
      "  passed down to XGBoost core.  Or some parameters are not used but slip through this\n",
      "  verification. Please open an issue if you find above cases.\n",
      "\n",
      "\n",
      "[17:53:46] WARNING: C:/Users/Administrator/workspace/xgboost-win64_release_1.3.0/src/learner.cc:1061: Starting in XGBoost 1.3.0, the default evaluation metric used with the objective 'multi:softprob' was changed from 'merror' to 'mlogloss'. Explicitly set eval_metric if you'd like to restore the old behavior.\n",
      "[17:53:47] WARNING: C:/Users/Administrator/workspace/xgboost-win64_release_1.3.0/src/learner.cc:541: \n",
      "Parameters: { learning_rates, max_features } might not be used.\n",
      "\n",
      "  This may not be accurate due to some parameters are only used in language bindings but\n",
      "  passed down to XGBoost core.  Or some parameters are not used but slip through this\n",
      "  verification. Please open an issue if you find above cases.\n",
      "\n",
      "\n",
      "[17:53:47] WARNING: C:/Users/Administrator/workspace/xgboost-win64_release_1.3.0/src/learner.cc:1061: Starting in XGBoost 1.3.0, the default evaluation metric used with the objective 'multi:softprob' was changed from 'merror' to 'mlogloss'. Explicitly set eval_metric if you'd like to restore the old behavior.\n",
      "[17:53:49] WARNING: C:/Users/Administrator/workspace/xgboost-win64_release_1.3.0/src/learner.cc:541: \n",
      "Parameters: { learning_rates, max_features } might not be used.\n",
      "\n",
      "  This may not be accurate due to some parameters are only used in language bindings but\n",
      "  passed down to XGBoost core.  Or some parameters are not used but slip through this\n",
      "  verification. Please open an issue if you find above cases.\n",
      "\n",
      "\n",
      "[17:53:49] WARNING: C:/Users/Administrator/workspace/xgboost-win64_release_1.3.0/src/learner.cc:1061: Starting in XGBoost 1.3.0, the default evaluation metric used with the objective 'multi:softprob' was changed from 'merror' to 'mlogloss'. Explicitly set eval_metric if you'd like to restore the old behavior.\n",
      "[17:53:50] WARNING: C:/Users/Administrator/workspace/xgboost-win64_release_1.3.0/src/learner.cc:541: \n",
      "Parameters: { learning_rates, max_features } might not be used.\n",
      "\n",
      "  This may not be accurate due to some parameters are only used in language bindings but\n",
      "  passed down to XGBoost core.  Or some parameters are not used but slip through this\n",
      "  verification. Please open an issue if you find above cases.\n",
      "\n",
      "\n",
      "[17:53:51] WARNING: C:/Users/Administrator/workspace/xgboost-win64_release_1.3.0/src/learner.cc:1061: Starting in XGBoost 1.3.0, the default evaluation metric used with the objective 'multi:softprob' was changed from 'merror' to 'mlogloss'. Explicitly set eval_metric if you'd like to restore the old behavior.\n",
      "[17:53:56] WARNING: C:/Users/Administrator/workspace/xgboost-win64_release_1.3.0/src/learner.cc:541: \n",
      "Parameters: { learning_rates, max_features } might not be used.\n",
      "\n",
      "  This may not be accurate due to some parameters are only used in language bindings but\n",
      "  passed down to XGBoost core.  Or some parameters are not used but slip through this\n",
      "  verification. Please open an issue if you find above cases.\n",
      "\n",
      "\n",
      "[17:53:56] WARNING: C:/Users/Administrator/workspace/xgboost-win64_release_1.3.0/src/learner.cc:1061: Starting in XGBoost 1.3.0, the default evaluation metric used with the objective 'multi:softprob' was changed from 'merror' to 'mlogloss'. Explicitly set eval_metric if you'd like to restore the old behavior.\n",
      "[17:54:01] WARNING: C:/Users/Administrator/workspace/xgboost-win64_release_1.3.0/src/learner.cc:541: \n",
      "Parameters: { learning_rates, max_features } might not be used.\n",
      "\n",
      "  This may not be accurate due to some parameters are only used in language bindings but\n",
      "  passed down to XGBoost core.  Or some parameters are not used but slip through this\n",
      "  verification. Please open an issue if you find above cases.\n",
      "\n",
      "\n",
      "[17:54:01] WARNING: C:/Users/Administrator/workspace/xgboost-win64_release_1.3.0/src/learner.cc:1061: Starting in XGBoost 1.3.0, the default evaluation metric used with the objective 'multi:softprob' was changed from 'merror' to 'mlogloss'. Explicitly set eval_metric if you'd like to restore the old behavior.\n"
     ]
    },
    {
     "name": "stdout",
     "output_type": "stream",
     "text": [
      "[17:54:05] WARNING: C:/Users/Administrator/workspace/xgboost-win64_release_1.3.0/src/learner.cc:541: \n",
      "Parameters: { learning_rates, max_features } might not be used.\n",
      "\n",
      "  This may not be accurate due to some parameters are only used in language bindings but\n",
      "  passed down to XGBoost core.  Or some parameters are not used but slip through this\n",
      "  verification. Please open an issue if you find above cases.\n",
      "\n",
      "\n",
      "[17:54:05] WARNING: C:/Users/Administrator/workspace/xgboost-win64_release_1.3.0/src/learner.cc:1061: Starting in XGBoost 1.3.0, the default evaluation metric used with the objective 'multi:softprob' was changed from 'merror' to 'mlogloss'. Explicitly set eval_metric if you'd like to restore the old behavior.\n",
      "[17:54:10] WARNING: C:/Users/Administrator/workspace/xgboost-win64_release_1.3.0/src/learner.cc:541: \n",
      "Parameters: { learning_rates, max_features } might not be used.\n",
      "\n",
      "  This may not be accurate due to some parameters are only used in language bindings but\n",
      "  passed down to XGBoost core.  Or some parameters are not used but slip through this\n",
      "  verification. Please open an issue if you find above cases.\n",
      "\n",
      "\n",
      "[17:54:10] WARNING: C:/Users/Administrator/workspace/xgboost-win64_release_1.3.0/src/learner.cc:1061: Starting in XGBoost 1.3.0, the default evaluation metric used with the objective 'multi:softprob' was changed from 'merror' to 'mlogloss'. Explicitly set eval_metric if you'd like to restore the old behavior.\n",
      "[17:54:14] WARNING: C:/Users/Administrator/workspace/xgboost-win64_release_1.3.0/src/learner.cc:541: \n",
      "Parameters: { learning_rates, max_features } might not be used.\n",
      "\n",
      "  This may not be accurate due to some parameters are only used in language bindings but\n",
      "  passed down to XGBoost core.  Or some parameters are not used but slip through this\n",
      "  verification. Please open an issue if you find above cases.\n",
      "\n",
      "\n",
      "[17:54:14] WARNING: C:/Users/Administrator/workspace/xgboost-win64_release_1.3.0/src/learner.cc:1061: Starting in XGBoost 1.3.0, the default evaluation metric used with the objective 'multi:softprob' was changed from 'merror' to 'mlogloss'. Explicitly set eval_metric if you'd like to restore the old behavior.\n",
      "[17:54:16] WARNING: C:/Users/Administrator/workspace/xgboost-win64_release_1.3.0/src/learner.cc:541: \n",
      "Parameters: { learning_rates, max_features } might not be used.\n",
      "\n",
      "  This may not be accurate due to some parameters are only used in language bindings but\n",
      "  passed down to XGBoost core.  Or some parameters are not used but slip through this\n",
      "  verification. Please open an issue if you find above cases.\n",
      "\n",
      "\n",
      "[17:54:16] WARNING: C:/Users/Administrator/workspace/xgboost-win64_release_1.3.0/src/learner.cc:1061: Starting in XGBoost 1.3.0, the default evaluation metric used with the objective 'multi:softprob' was changed from 'merror' to 'mlogloss'. Explicitly set eval_metric if you'd like to restore the old behavior.\n",
      "[17:54:17] WARNING: C:/Users/Administrator/workspace/xgboost-win64_release_1.3.0/src/learner.cc:541: \n",
      "Parameters: { learning_rates, max_features } might not be used.\n",
      "\n",
      "  This may not be accurate due to some parameters are only used in language bindings but\n",
      "  passed down to XGBoost core.  Or some parameters are not used but slip through this\n",
      "  verification. Please open an issue if you find above cases.\n",
      "\n",
      "\n",
      "[17:54:17] WARNING: C:/Users/Administrator/workspace/xgboost-win64_release_1.3.0/src/learner.cc:1061: Starting in XGBoost 1.3.0, the default evaluation metric used with the objective 'multi:softprob' was changed from 'merror' to 'mlogloss'. Explicitly set eval_metric if you'd like to restore the old behavior.\n",
      "[17:54:19] WARNING: C:/Users/Administrator/workspace/xgboost-win64_release_1.3.0/src/learner.cc:541: \n",
      "Parameters: { learning_rates, max_features } might not be used.\n",
      "\n",
      "  This may not be accurate due to some parameters are only used in language bindings but\n",
      "  passed down to XGBoost core.  Or some parameters are not used but slip through this\n",
      "  verification. Please open an issue if you find above cases.\n",
      "\n",
      "\n",
      "[17:54:19] WARNING: C:/Users/Administrator/workspace/xgboost-win64_release_1.3.0/src/learner.cc:1061: Starting in XGBoost 1.3.0, the default evaluation metric used with the objective 'multi:softprob' was changed from 'merror' to 'mlogloss'. Explicitly set eval_metric if you'd like to restore the old behavior.\n",
      "[17:54:20] WARNING: C:/Users/Administrator/workspace/xgboost-win64_release_1.3.0/src/learner.cc:541: \n",
      "Parameters: { learning_rates, max_features } might not be used.\n",
      "\n",
      "  This may not be accurate due to some parameters are only used in language bindings but\n",
      "  passed down to XGBoost core.  Or some parameters are not used but slip through this\n",
      "  verification. Please open an issue if you find above cases.\n",
      "\n",
      "\n",
      "[17:54:20] WARNING: C:/Users/Administrator/workspace/xgboost-win64_release_1.3.0/src/learner.cc:1061: Starting in XGBoost 1.3.0, the default evaluation metric used with the objective 'multi:softprob' was changed from 'merror' to 'mlogloss'. Explicitly set eval_metric if you'd like to restore the old behavior.\n",
      "[17:54:21] WARNING: C:/Users/Administrator/workspace/xgboost-win64_release_1.3.0/src/learner.cc:541: \n",
      "Parameters: { learning_rates, max_features } might not be used.\n",
      "\n",
      "  This may not be accurate due to some parameters are only used in language bindings but\n",
      "  passed down to XGBoost core.  Or some parameters are not used but slip through this\n",
      "  verification. Please open an issue if you find above cases.\n",
      "\n",
      "\n",
      "[17:54:22] WARNING: C:/Users/Administrator/workspace/xgboost-win64_release_1.3.0/src/learner.cc:1061: Starting in XGBoost 1.3.0, the default evaluation metric used with the objective 'multi:softprob' was changed from 'merror' to 'mlogloss'. Explicitly set eval_metric if you'd like to restore the old behavior.\n",
      "[17:54:26] WARNING: C:/Users/Administrator/workspace/xgboost-win64_release_1.3.0/src/learner.cc:541: \n",
      "Parameters: { learning_rates, max_features } might not be used.\n",
      "\n",
      "  This may not be accurate due to some parameters are only used in language bindings but\n",
      "  passed down to XGBoost core.  Or some parameters are not used but slip through this\n",
      "  verification. Please open an issue if you find above cases.\n",
      "\n",
      "\n",
      "[17:54:26] WARNING: C:/Users/Administrator/workspace/xgboost-win64_release_1.3.0/src/learner.cc:1061: Starting in XGBoost 1.3.0, the default evaluation metric used with the objective 'multi:softprob' was changed from 'merror' to 'mlogloss'. Explicitly set eval_metric if you'd like to restore the old behavior.\n",
      "[17:54:32] WARNING: C:/Users/Administrator/workspace/xgboost-win64_release_1.3.0/src/learner.cc:541: \n",
      "Parameters: { learning_rates, max_features } might not be used.\n",
      "\n",
      "  This may not be accurate due to some parameters are only used in language bindings but\n",
      "  passed down to XGBoost core.  Or some parameters are not used but slip through this\n",
      "  verification. Please open an issue if you find above cases.\n",
      "\n",
      "\n",
      "[17:54:32] WARNING: C:/Users/Administrator/workspace/xgboost-win64_release_1.3.0/src/learner.cc:1061: Starting in XGBoost 1.3.0, the default evaluation metric used with the objective 'multi:softprob' was changed from 'merror' to 'mlogloss'. Explicitly set eval_metric if you'd like to restore the old behavior.\n",
      "[17:54:36] WARNING: C:/Users/Administrator/workspace/xgboost-win64_release_1.3.0/src/learner.cc:541: \n",
      "Parameters: { learning_rates, max_features } might not be used.\n",
      "\n",
      "  This may not be accurate due to some parameters are only used in language bindings but\n",
      "  passed down to XGBoost core.  Or some parameters are not used but slip through this\n",
      "  verification. Please open an issue if you find above cases.\n",
      "\n",
      "\n",
      "[17:54:36] WARNING: C:/Users/Administrator/workspace/xgboost-win64_release_1.3.0/src/learner.cc:1061: Starting in XGBoost 1.3.0, the default evaluation metric used with the objective 'multi:softprob' was changed from 'merror' to 'mlogloss'. Explicitly set eval_metric if you'd like to restore the old behavior.\n",
      "[17:54:41] WARNING: C:/Users/Administrator/workspace/xgboost-win64_release_1.3.0/src/learner.cc:541: \n",
      "Parameters: { learning_rates, max_features } might not be used.\n",
      "\n",
      "  This may not be accurate due to some parameters are only used in language bindings but\n",
      "  passed down to XGBoost core.  Or some parameters are not used but slip through this\n",
      "  verification. Please open an issue if you find above cases.\n",
      "\n",
      "\n",
      "[17:54:42] WARNING: C:/Users/Administrator/workspace/xgboost-win64_release_1.3.0/src/learner.cc:1061: Starting in XGBoost 1.3.0, the default evaluation metric used with the objective 'multi:softprob' was changed from 'merror' to 'mlogloss'. Explicitly set eval_metric if you'd like to restore the old behavior.\n"
     ]
    },
    {
     "name": "stdout",
     "output_type": "stream",
     "text": [
      "[17:54:47] WARNING: C:/Users/Administrator/workspace/xgboost-win64_release_1.3.0/src/learner.cc:541: \n",
      "Parameters: { learning_rates, max_features } might not be used.\n",
      "\n",
      "  This may not be accurate due to some parameters are only used in language bindings but\n",
      "  passed down to XGBoost core.  Or some parameters are not used but slip through this\n",
      "  verification. Please open an issue if you find above cases.\n",
      "\n",
      "\n",
      "[17:54:47] WARNING: C:/Users/Administrator/workspace/xgboost-win64_release_1.3.0/src/learner.cc:1061: Starting in XGBoost 1.3.0, the default evaluation metric used with the objective 'multi:softprob' was changed from 'merror' to 'mlogloss'. Explicitly set eval_metric if you'd like to restore the old behavior.\n"
     ]
    },
    {
     "data": {
      "text/plain": [
       "GridSearchCV(cv=5,\n",
       "             estimator=XGBClassifier(base_score=None, booster=None,\n",
       "                                     colsample_bylevel=None,\n",
       "                                     colsample_bynode=None,\n",
       "                                     colsample_bytree=None, gamma=None,\n",
       "                                     gpu_id=None, importance_type='gain',\n",
       "                                     interaction_constraints=None,\n",
       "                                     learning_rate=None, max_delta_step=None,\n",
       "                                     max_depth=None, min_child_weight=None,\n",
       "                                     missing=nan, monotone_constraints=None,\n",
       "                                     n_estimators=100, n_jobs=None,\n",
       "                                     num_parallel_tree=None, random_state=42,\n",
       "                                     reg_alpha=None, reg_lambda=None,\n",
       "                                     scale_pos_weight=None, subsample=None,\n",
       "                                     tree_method=None, validate_parameters=None,\n",
       "                                     verbosity=None),\n",
       "             param_grid={'learning_rates': [0.05, 0.1],\n",
       "                         'max_features': [3, 4, 5], 'n_estimators': [20, 100]})"
      ]
     },
     "execution_count": 59,
     "metadata": {},
     "output_type": "execute_result"
    }
   ],
   "source": [
    "#Gridsearch for XGBoost and fitting model\n",
    "xgb_cv_all = GridSearchCV(xgb, xgb_params, cv=5)\n",
    "xgb_cv_all.fit(X_train, y_train)"
   ]
  },
  {
   "cell_type": "code",
   "execution_count": 60,
   "metadata": {},
   "outputs": [
    {
     "name": "stdout",
     "output_type": "stream",
     "text": [
      "Best Score:0.6507061805350314\n",
      "Best Parameters: {'learning_rates': 0.05, 'max_features': 3, 'n_estimators': 20}\n"
     ]
    }
   ],
   "source": [
    "#Best accuracy and hyperparameters\n",
    "print(\"Best Score:\" + str(xgb_cv_all.best_score_))\n",
    "print(\"Best Parameters: \" + str(xgb_cv_all.best_params_))"
   ]
  },
  {
   "cell_type": "code",
   "execution_count": 61,
   "metadata": {},
   "outputs": [
    {
     "name": "stdout",
     "output_type": "stream",
     "text": [
      "0.8600390815828041\n",
      "0.6472934472934473\n"
     ]
    }
   ],
   "source": [
    "#Training and test data accuracy scores\n",
    "print(xgb_cv_all.score(X_train, y_train))\n",
    "print(xgb_cv_all.score(X_test, y_test))"
   ]
  },
  {
   "cell_type": "code",
   "execution_count": 31,
   "metadata": {},
   "outputs": [
    {
     "name": "stdout",
     "output_type": "stream",
     "text": [
      "[[  7   0   0   0   1   1   2   0   0   0   0   0   0   0   0   0  26   0\n",
      "   12]\n",
      " [  0   5   0   0   0   0   0   0   0   0   0   0   0   0   0   0   2   0\n",
      "    0]\n",
      " [  0   0   3   0   3   0   0   0   0   0   0   0   0   0   0   0   6   0\n",
      "    0]\n",
      " [  0   0   0   5   0   0   1   0   0   0   0   0   0   0   2   0  11   3\n",
      "    0]\n",
      " [  0   0   0   0  39   0   0   0   0   0   0   0   0   0   0   0  32   0\n",
      "   23]\n",
      " [  1   0   0   0   1  20   0   0   0   0   0   0   0   0   0   0  13   0\n",
      "   50]\n",
      " [  0   0   0   0   0   0  21   0   0   0   0   0   0   0   0   0  14   0\n",
      "    5]\n",
      " [  0   0   0   0   0   0   0   4   0   0   0   0   0   0   5   0   8   0\n",
      "    0]\n",
      " [  0   0   0   0   0   0   0   0   0   0   0   0   0   0   1   0   0   0\n",
      "    0]\n",
      " [  0   0   0   0   0   0   0   0   0   0   0   0   0   0   0   0   0   0\n",
      "    0]\n",
      " [  0   0   0   0   0   0   0   0   0   0   0   0   0   0   0   0   2   0\n",
      "    0]\n",
      " [  0   0   0   0   0   0   0   0   0   0   0   2   0   0   0   0   0   0\n",
      "    0]\n",
      " [  0   0   0   0   0   0   0   0   0   0   0   0   0   0   0   0   2   0\n",
      "    0]\n",
      " [  0   0   0   0   0   0   0   0   0   1   0   0   0   0   0   0   4   0\n",
      "    0]\n",
      " [  0   0   0   0   0   0   0   7   0   0   0   0   0   0 199   0  24   1\n",
      "    0]\n",
      " [  0   0   0   0   0   0   0   0   0   0   0   0   0   0   0   0   5   0\n",
      "    0]\n",
      " [  3   3   3   0  14  13   4  16   0   0   0   1   0   0  29   0 213   7\n",
      "  170]\n",
      " [  0   0   0   0   0   0   0   0   0   0   0   0   0   0   2   0  10 158\n",
      "    1]\n",
      " [  4   0   0   0   8   2   3   0   0   0   0   0   0   0   0   0  57   0\n",
      "  460]]\n",
      "              precision    recall  f1-score   support\n",
      "\n",
      "      EPTFUS       0.47      0.14      0.22        49\n",
      "      EUMPER       0.62      0.71      0.67         7\n",
      "      EUMUND       0.50      0.25      0.33        12\n",
      "      LASBLO       1.00      0.23      0.37        22\n",
      "      LASCIN       0.59      0.41      0.49        94\n",
      "      LASNOC       0.56      0.24      0.33        85\n",
      "      LASXAN       0.68      0.53      0.59        40\n",
      "      MYOCAL       0.15      0.24      0.18        17\n",
      "      MYOCIL       0.00      0.00      0.00         1\n",
      "      MYOEVO       0.00      0.00      0.00         0\n",
      "      MYOOCC       0.00      0.00      0.00         2\n",
      "      MYOTHY       0.67      1.00      0.80         2\n",
      "      MYOVEL       0.00      0.00      0.00         2\n",
      "      MYOVOL       0.00      0.00      0.00         5\n",
      "      MYOYUM       0.84      0.86      0.85       231\n",
      "      NYCFEM       0.00      0.00      0.00         5\n",
      "        NoID       0.50      0.45      0.47       476\n",
      "      PARHES       0.93      0.92      0.93       171\n",
      "      TADBRA       0.64      0.86      0.73       534\n",
      "\n",
      "    accuracy                           0.65      1755\n",
      "   macro avg       0.43      0.36      0.37      1755\n",
      "weighted avg       0.64      0.65      0.63      1755\n",
      "\n"
     ]
    },
    {
     "name": "stderr",
     "output_type": "stream",
     "text": [
      "C:\\Users\\matta\\anaconda3\\lib\\site-packages\\sklearn\\metrics\\_classification.py:1221: UndefinedMetricWarning: Precision and F-score are ill-defined and being set to 0.0 in labels with no predicted samples. Use `zero_division` parameter to control this behavior.\n",
      "  _warn_prf(average, modifier, msg_start, len(result))\n",
      "C:\\Users\\matta\\anaconda3\\lib\\site-packages\\sklearn\\metrics\\_classification.py:1221: UndefinedMetricWarning: Recall and F-score are ill-defined and being set to 0.0 in labels with no true samples. Use `zero_division` parameter to control this behavior.\n",
      "  _warn_prf(average, modifier, msg_start, len(result))\n"
     ]
    }
   ],
   "source": [
    "#Confusion matrix and classification report\n",
    "xgb_y_pred_all = xgb_cv_all.predict(X_test)\n",
    "print(confusion_matrix(y_test, xgb_y_pred_all))\n",
    "print(classification_report(y_test, xgb_y_pred_all))"
   ]
  },
  {
   "cell_type": "markdown",
   "metadata": {},
   "source": [
    "### Three Species Classifier"
   ]
  },
  {
   "cell_type": "code",
   "execution_count": 125,
   "metadata": {},
   "outputs": [
    {
     "name": "stderr",
     "output_type": "stream",
     "text": [
      "C:\\Users\\matta\\anaconda3\\lib\\site-packages\\xgboost\\sklearn.py:888: UserWarning: The use of label encoder in XGBClassifier is deprecated and will be removed in a future release. To remove this warning, do the following: 1) Pass option use_label_encoder=False when constructing XGBClassifier object; and 2) Encode your labels (y) as integers starting with 0, i.e. 0, 1, 2, ..., [num_class - 1].\n",
      "  warnings.warn(label_encoder_deprecation_msg, UserWarning)\n"
     ]
    },
    {
     "name": "stdout",
     "output_type": "stream",
     "text": [
      "[19:12:25] WARNING: C:/Users/Administrator/workspace/xgboost-win64_release_1.3.0/src/learner.cc:541: \n",
      "Parameters: { learning_rates, max_features } might not be used.\n",
      "\n",
      "  This may not be accurate due to some parameters are only used in language bindings but\n",
      "  passed down to XGBoost core.  Or some parameters are not used but slip through this\n",
      "  verification. Please open an issue if you find above cases.\n",
      "\n",
      "\n",
      "[19:12:25] WARNING: C:/Users/Administrator/workspace/xgboost-win64_release_1.3.0/src/learner.cc:1061: Starting in XGBoost 1.3.0, the default evaluation metric used with the objective 'multi:softprob' was changed from 'merror' to 'mlogloss'. Explicitly set eval_metric if you'd like to restore the old behavior.\n",
      "[19:12:26] WARNING: C:/Users/Administrator/workspace/xgboost-win64_release_1.3.0/src/learner.cc:541: \n",
      "Parameters: { learning_rates, max_features } might not be used.\n",
      "\n",
      "  This may not be accurate due to some parameters are only used in language bindings but\n",
      "  passed down to XGBoost core.  Or some parameters are not used but slip through this\n",
      "  verification. Please open an issue if you find above cases.\n",
      "\n",
      "\n",
      "[19:12:26] WARNING: C:/Users/Administrator/workspace/xgboost-win64_release_1.3.0/src/learner.cc:1061: Starting in XGBoost 1.3.0, the default evaluation metric used with the objective 'multi:softprob' was changed from 'merror' to 'mlogloss'. Explicitly set eval_metric if you'd like to restore the old behavior.\n",
      "[19:12:26] WARNING: C:/Users/Administrator/workspace/xgboost-win64_release_1.3.0/src/learner.cc:541: \n",
      "Parameters: { learning_rates, max_features } might not be used.\n",
      "\n",
      "  This may not be accurate due to some parameters are only used in language bindings but\n",
      "  passed down to XGBoost core.  Or some parameters are not used but slip through this\n",
      "  verification. Please open an issue if you find above cases.\n",
      "\n",
      "\n",
      "[19:12:26] WARNING: C:/Users/Administrator/workspace/xgboost-win64_release_1.3.0/src/learner.cc:1061: Starting in XGBoost 1.3.0, the default evaluation metric used with the objective 'multi:softprob' was changed from 'merror' to 'mlogloss'. Explicitly set eval_metric if you'd like to restore the old behavior.\n",
      "[19:12:26] WARNING: C:/Users/Administrator/workspace/xgboost-win64_release_1.3.0/src/learner.cc:541: \n",
      "Parameters: { learning_rates, max_features } might not be used.\n",
      "\n",
      "  This may not be accurate due to some parameters are only used in language bindings but\n",
      "  passed down to XGBoost core.  Or some parameters are not used but slip through this\n",
      "  verification. Please open an issue if you find above cases.\n",
      "\n",
      "\n",
      "[19:12:26] WARNING: C:/Users/Administrator/workspace/xgboost-win64_release_1.3.0/src/learner.cc:1061: Starting in XGBoost 1.3.0, the default evaluation metric used with the objective 'multi:softprob' was changed from 'merror' to 'mlogloss'. Explicitly set eval_metric if you'd like to restore the old behavior.\n",
      "[19:12:27] WARNING: C:/Users/Administrator/workspace/xgboost-win64_release_1.3.0/src/learner.cc:541: \n",
      "Parameters: { learning_rates, max_features } might not be used.\n",
      "\n",
      "  This may not be accurate due to some parameters are only used in language bindings but\n",
      "  passed down to XGBoost core.  Or some parameters are not used but slip through this\n",
      "  verification. Please open an issue if you find above cases.\n",
      "\n",
      "\n",
      "[19:12:27] WARNING: C:/Users/Administrator/workspace/xgboost-win64_release_1.3.0/src/learner.cc:1061: Starting in XGBoost 1.3.0, the default evaluation metric used with the objective 'multi:softprob' was changed from 'merror' to 'mlogloss'. Explicitly set eval_metric if you'd like to restore the old behavior.\n",
      "[19:12:27] WARNING: C:/Users/Administrator/workspace/xgboost-win64_release_1.3.0/src/learner.cc:541: \n",
      "Parameters: { learning_rates, max_features } might not be used.\n",
      "\n",
      "  This may not be accurate due to some parameters are only used in language bindings but\n",
      "  passed down to XGBoost core.  Or some parameters are not used but slip through this\n",
      "  verification. Please open an issue if you find above cases.\n",
      "\n",
      "\n",
      "[19:12:27] WARNING: C:/Users/Administrator/workspace/xgboost-win64_release_1.3.0/src/learner.cc:1061: Starting in XGBoost 1.3.0, the default evaluation metric used with the objective 'multi:softprob' was changed from 'merror' to 'mlogloss'. Explicitly set eval_metric if you'd like to restore the old behavior.\n",
      "[19:12:28] WARNING: C:/Users/Administrator/workspace/xgboost-win64_release_1.3.0/src/learner.cc:541: \n",
      "Parameters: { learning_rates, max_features } might not be used.\n",
      "\n",
      "  This may not be accurate due to some parameters are only used in language bindings but\n",
      "  passed down to XGBoost core.  Or some parameters are not used but slip through this\n",
      "  verification. Please open an issue if you find above cases.\n",
      "\n",
      "\n",
      "[19:12:28] WARNING: C:/Users/Administrator/workspace/xgboost-win64_release_1.3.0/src/learner.cc:1061: Starting in XGBoost 1.3.0, the default evaluation metric used with the objective 'multi:softprob' was changed from 'merror' to 'mlogloss'. Explicitly set eval_metric if you'd like to restore the old behavior.\n",
      "[19:12:28] WARNING: C:/Users/Administrator/workspace/xgboost-win64_release_1.3.0/src/learner.cc:541: \n",
      "Parameters: { learning_rates, max_features } might not be used.\n",
      "\n",
      "  This may not be accurate due to some parameters are only used in language bindings but\n",
      "  passed down to XGBoost core.  Or some parameters are not used but slip through this\n",
      "  verification. Please open an issue if you find above cases.\n",
      "\n",
      "\n",
      "[19:12:28] WARNING: C:/Users/Administrator/workspace/xgboost-win64_release_1.3.0/src/learner.cc:1061: Starting in XGBoost 1.3.0, the default evaluation metric used with the objective 'multi:softprob' was changed from 'merror' to 'mlogloss'. Explicitly set eval_metric if you'd like to restore the old behavior.\n",
      "[19:12:28] WARNING: C:/Users/Administrator/workspace/xgboost-win64_release_1.3.0/src/learner.cc:541: \n",
      "Parameters: { learning_rates, max_features } might not be used.\n",
      "\n",
      "  This may not be accurate due to some parameters are only used in language bindings but\n",
      "  passed down to XGBoost core.  Or some parameters are not used but slip through this\n",
      "  verification. Please open an issue if you find above cases.\n",
      "\n",
      "\n",
      "[19:12:28] WARNING: C:/Users/Administrator/workspace/xgboost-win64_release_1.3.0/src/learner.cc:1061: Starting in XGBoost 1.3.0, the default evaluation metric used with the objective 'multi:softprob' was changed from 'merror' to 'mlogloss'. Explicitly set eval_metric if you'd like to restore the old behavior.\n",
      "[19:12:29] WARNING: C:/Users/Administrator/workspace/xgboost-win64_release_1.3.0/src/learner.cc:541: \n",
      "Parameters: { learning_rates, max_features } might not be used.\n",
      "\n",
      "  This may not be accurate due to some parameters are only used in language bindings but\n",
      "  passed down to XGBoost core.  Or some parameters are not used but slip through this\n",
      "  verification. Please open an issue if you find above cases.\n",
      "\n",
      "\n",
      "[19:12:29] WARNING: C:/Users/Administrator/workspace/xgboost-win64_release_1.3.0/src/learner.cc:1061: Starting in XGBoost 1.3.0, the default evaluation metric used with the objective 'multi:softprob' was changed from 'merror' to 'mlogloss'. Explicitly set eval_metric if you'd like to restore the old behavior.\n",
      "[19:12:29] WARNING: C:/Users/Administrator/workspace/xgboost-win64_release_1.3.0/src/learner.cc:541: \n",
      "Parameters: { learning_rates, max_features } might not be used.\n",
      "\n",
      "  This may not be accurate due to some parameters are only used in language bindings but\n",
      "  passed down to XGBoost core.  Or some parameters are not used but slip through this\n",
      "  verification. Please open an issue if you find above cases.\n",
      "\n",
      "\n",
      "[19:12:29] WARNING: C:/Users/Administrator/workspace/xgboost-win64_release_1.3.0/src/learner.cc:1061: Starting in XGBoost 1.3.0, the default evaluation metric used with the objective 'multi:softprob' was changed from 'merror' to 'mlogloss'. Explicitly set eval_metric if you'd like to restore the old behavior.\n",
      "[19:12:30] WARNING: C:/Users/Administrator/workspace/xgboost-win64_release_1.3.0/src/learner.cc:541: \n",
      "Parameters: { learning_rates, max_features } might not be used.\n",
      "\n",
      "  This may not be accurate due to some parameters are only used in language bindings but\n",
      "  passed down to XGBoost core.  Or some parameters are not used but slip through this\n",
      "  verification. Please open an issue if you find above cases.\n",
      "\n",
      "\n",
      "[19:12:30] WARNING: C:/Users/Administrator/workspace/xgboost-win64_release_1.3.0/src/learner.cc:1061: Starting in XGBoost 1.3.0, the default evaluation metric used with the objective 'multi:softprob' was changed from 'merror' to 'mlogloss'. Explicitly set eval_metric if you'd like to restore the old behavior.\n"
     ]
    },
    {
     "name": "stdout",
     "output_type": "stream",
     "text": [
      "[19:12:30] WARNING: C:/Users/Administrator/workspace/xgboost-win64_release_1.3.0/src/learner.cc:541: \n",
      "Parameters: { learning_rates, max_features } might not be used.\n",
      "\n",
      "  This may not be accurate due to some parameters are only used in language bindings but\n",
      "  passed down to XGBoost core.  Or some parameters are not used but slip through this\n",
      "  verification. Please open an issue if you find above cases.\n",
      "\n",
      "\n",
      "[19:12:30] WARNING: C:/Users/Administrator/workspace/xgboost-win64_release_1.3.0/src/learner.cc:1061: Starting in XGBoost 1.3.0, the default evaluation metric used with the objective 'multi:softprob' was changed from 'merror' to 'mlogloss'. Explicitly set eval_metric if you'd like to restore the old behavior.\n",
      "[19:12:31] WARNING: C:/Users/Administrator/workspace/xgboost-win64_release_1.3.0/src/learner.cc:541: \n",
      "Parameters: { learning_rates, max_features } might not be used.\n",
      "\n",
      "  This may not be accurate due to some parameters are only used in language bindings but\n",
      "  passed down to XGBoost core.  Or some parameters are not used but slip through this\n",
      "  verification. Please open an issue if you find above cases.\n",
      "\n",
      "\n",
      "[19:12:31] WARNING: C:/Users/Administrator/workspace/xgboost-win64_release_1.3.0/src/learner.cc:1061: Starting in XGBoost 1.3.0, the default evaluation metric used with the objective 'multi:softprob' was changed from 'merror' to 'mlogloss'. Explicitly set eval_metric if you'd like to restore the old behavior.\n",
      "[19:12:31] WARNING: C:/Users/Administrator/workspace/xgboost-win64_release_1.3.0/src/learner.cc:541: \n",
      "Parameters: { learning_rates, max_features } might not be used.\n",
      "\n",
      "  This may not be accurate due to some parameters are only used in language bindings but\n",
      "  passed down to XGBoost core.  Or some parameters are not used but slip through this\n",
      "  verification. Please open an issue if you find above cases.\n",
      "\n",
      "\n",
      "[19:12:31] WARNING: C:/Users/Administrator/workspace/xgboost-win64_release_1.3.0/src/learner.cc:1061: Starting in XGBoost 1.3.0, the default evaluation metric used with the objective 'multi:softprob' was changed from 'merror' to 'mlogloss'. Explicitly set eval_metric if you'd like to restore the old behavior.\n",
      "[19:12:32] WARNING: C:/Users/Administrator/workspace/xgboost-win64_release_1.3.0/src/learner.cc:541: \n",
      "Parameters: { learning_rates, max_features } might not be used.\n",
      "\n",
      "  This may not be accurate due to some parameters are only used in language bindings but\n",
      "  passed down to XGBoost core.  Or some parameters are not used but slip through this\n",
      "  verification. Please open an issue if you find above cases.\n",
      "\n",
      "\n",
      "[19:12:32] WARNING: C:/Users/Administrator/workspace/xgboost-win64_release_1.3.0/src/learner.cc:1061: Starting in XGBoost 1.3.0, the default evaluation metric used with the objective 'multi:softprob' was changed from 'merror' to 'mlogloss'. Explicitly set eval_metric if you'd like to restore the old behavior.\n",
      "[19:12:32] WARNING: C:/Users/Administrator/workspace/xgboost-win64_release_1.3.0/src/learner.cc:541: \n",
      "Parameters: { learning_rates, max_features } might not be used.\n",
      "\n",
      "  This may not be accurate due to some parameters are only used in language bindings but\n",
      "  passed down to XGBoost core.  Or some parameters are not used but slip through this\n",
      "  verification. Please open an issue if you find above cases.\n",
      "\n",
      "\n",
      "[19:12:32] WARNING: C:/Users/Administrator/workspace/xgboost-win64_release_1.3.0/src/learner.cc:1061: Starting in XGBoost 1.3.0, the default evaluation metric used with the objective 'multi:softprob' was changed from 'merror' to 'mlogloss'. Explicitly set eval_metric if you'd like to restore the old behavior.\n",
      "[19:12:33] WARNING: C:/Users/Administrator/workspace/xgboost-win64_release_1.3.0/src/learner.cc:541: \n",
      "Parameters: { learning_rates, max_features } might not be used.\n",
      "\n",
      "  This may not be accurate due to some parameters are only used in language bindings but\n",
      "  passed down to XGBoost core.  Or some parameters are not used but slip through this\n",
      "  verification. Please open an issue if you find above cases.\n",
      "\n",
      "\n",
      "[19:12:33] WARNING: C:/Users/Administrator/workspace/xgboost-win64_release_1.3.0/src/learner.cc:1061: Starting in XGBoost 1.3.0, the default evaluation metric used with the objective 'multi:softprob' was changed from 'merror' to 'mlogloss'. Explicitly set eval_metric if you'd like to restore the old behavior.\n",
      "[19:12:33] WARNING: C:/Users/Administrator/workspace/xgboost-win64_release_1.3.0/src/learner.cc:541: \n",
      "Parameters: { learning_rates, max_features } might not be used.\n",
      "\n",
      "  This may not be accurate due to some parameters are only used in language bindings but\n",
      "  passed down to XGBoost core.  Or some parameters are not used but slip through this\n",
      "  verification. Please open an issue if you find above cases.\n",
      "\n",
      "\n",
      "[19:12:33] WARNING: C:/Users/Administrator/workspace/xgboost-win64_release_1.3.0/src/learner.cc:1061: Starting in XGBoost 1.3.0, the default evaluation metric used with the objective 'multi:softprob' was changed from 'merror' to 'mlogloss'. Explicitly set eval_metric if you'd like to restore the old behavior.\n",
      "[19:12:34] WARNING: C:/Users/Administrator/workspace/xgboost-win64_release_1.3.0/src/learner.cc:541: \n",
      "Parameters: { learning_rates, max_features } might not be used.\n",
      "\n",
      "  This may not be accurate due to some parameters are only used in language bindings but\n",
      "  passed down to XGBoost core.  Or some parameters are not used but slip through this\n",
      "  verification. Please open an issue if you find above cases.\n",
      "\n",
      "\n",
      "[19:12:34] WARNING: C:/Users/Administrator/workspace/xgboost-win64_release_1.3.0/src/learner.cc:1061: Starting in XGBoost 1.3.0, the default evaluation metric used with the objective 'multi:softprob' was changed from 'merror' to 'mlogloss'. Explicitly set eval_metric if you'd like to restore the old behavior.\n",
      "[19:12:34] WARNING: C:/Users/Administrator/workspace/xgboost-win64_release_1.3.0/src/learner.cc:541: \n",
      "Parameters: { learning_rates, max_features } might not be used.\n",
      "\n",
      "  This may not be accurate due to some parameters are only used in language bindings but\n",
      "  passed down to XGBoost core.  Or some parameters are not used but slip through this\n",
      "  verification. Please open an issue if you find above cases.\n",
      "\n",
      "\n",
      "[19:12:34] WARNING: C:/Users/Administrator/workspace/xgboost-win64_release_1.3.0/src/learner.cc:1061: Starting in XGBoost 1.3.0, the default evaluation metric used with the objective 'multi:softprob' was changed from 'merror' to 'mlogloss'. Explicitly set eval_metric if you'd like to restore the old behavior.\n",
      "[19:12:34] WARNING: C:/Users/Administrator/workspace/xgboost-win64_release_1.3.0/src/learner.cc:541: \n",
      "Parameters: { learning_rates, max_features } might not be used.\n",
      "\n",
      "  This may not be accurate due to some parameters are only used in language bindings but\n",
      "  passed down to XGBoost core.  Or some parameters are not used but slip through this\n",
      "  verification. Please open an issue if you find above cases.\n",
      "\n",
      "\n",
      "[19:12:34] WARNING: C:/Users/Administrator/workspace/xgboost-win64_release_1.3.0/src/learner.cc:1061: Starting in XGBoost 1.3.0, the default evaluation metric used with the objective 'multi:softprob' was changed from 'merror' to 'mlogloss'. Explicitly set eval_metric if you'd like to restore the old behavior.\n",
      "[19:12:35] WARNING: C:/Users/Administrator/workspace/xgboost-win64_release_1.3.0/src/learner.cc:541: \n",
      "Parameters: { learning_rates, max_features } might not be used.\n",
      "\n",
      "  This may not be accurate due to some parameters are only used in language bindings but\n",
      "  passed down to XGBoost core.  Or some parameters are not used but slip through this\n",
      "  verification. Please open an issue if you find above cases.\n",
      "\n",
      "\n",
      "[19:12:35] WARNING: C:/Users/Administrator/workspace/xgboost-win64_release_1.3.0/src/learner.cc:1061: Starting in XGBoost 1.3.0, the default evaluation metric used with the objective 'multi:softprob' was changed from 'merror' to 'mlogloss'. Explicitly set eval_metric if you'd like to restore the old behavior.\n",
      "[19:12:35] WARNING: C:/Users/Administrator/workspace/xgboost-win64_release_1.3.0/src/learner.cc:541: \n",
      "Parameters: { learning_rates, max_features } might not be used.\n",
      "\n",
      "  This may not be accurate due to some parameters are only used in language bindings but\n",
      "  passed down to XGBoost core.  Or some parameters are not used but slip through this\n",
      "  verification. Please open an issue if you find above cases.\n",
      "\n",
      "\n",
      "[19:12:35] WARNING: C:/Users/Administrator/workspace/xgboost-win64_release_1.3.0/src/learner.cc:1061: Starting in XGBoost 1.3.0, the default evaluation metric used with the objective 'multi:softprob' was changed from 'merror' to 'mlogloss'. Explicitly set eval_metric if you'd like to restore the old behavior.\n"
     ]
    },
    {
     "name": "stdout",
     "output_type": "stream",
     "text": [
      "[19:12:35] WARNING: C:/Users/Administrator/workspace/xgboost-win64_release_1.3.0/src/learner.cc:541: \n",
      "Parameters: { learning_rates, max_features } might not be used.\n",
      "\n",
      "  This may not be accurate due to some parameters are only used in language bindings but\n",
      "  passed down to XGBoost core.  Or some parameters are not used but slip through this\n",
      "  verification. Please open an issue if you find above cases.\n",
      "\n",
      "\n",
      "[19:12:35] WARNING: C:/Users/Administrator/workspace/xgboost-win64_release_1.3.0/src/learner.cc:1061: Starting in XGBoost 1.3.0, the default evaluation metric used with the objective 'multi:softprob' was changed from 'merror' to 'mlogloss'. Explicitly set eval_metric if you'd like to restore the old behavior.\n",
      "[19:12:36] WARNING: C:/Users/Administrator/workspace/xgboost-win64_release_1.3.0/src/learner.cc:541: \n",
      "Parameters: { learning_rates, max_features } might not be used.\n",
      "\n",
      "  This may not be accurate due to some parameters are only used in language bindings but\n",
      "  passed down to XGBoost core.  Or some parameters are not used but slip through this\n",
      "  verification. Please open an issue if you find above cases.\n",
      "\n",
      "\n",
      "[19:12:36] WARNING: C:/Users/Administrator/workspace/xgboost-win64_release_1.3.0/src/learner.cc:1061: Starting in XGBoost 1.3.0, the default evaluation metric used with the objective 'multi:softprob' was changed from 'merror' to 'mlogloss'. Explicitly set eval_metric if you'd like to restore the old behavior.\n",
      "[19:12:36] WARNING: C:/Users/Administrator/workspace/xgboost-win64_release_1.3.0/src/learner.cc:541: \n",
      "Parameters: { learning_rates, max_features } might not be used.\n",
      "\n",
      "  This may not be accurate due to some parameters are only used in language bindings but\n",
      "  passed down to XGBoost core.  Or some parameters are not used but slip through this\n",
      "  verification. Please open an issue if you find above cases.\n",
      "\n",
      "\n",
      "[19:12:36] WARNING: C:/Users/Administrator/workspace/xgboost-win64_release_1.3.0/src/learner.cc:1061: Starting in XGBoost 1.3.0, the default evaluation metric used with the objective 'multi:softprob' was changed from 'merror' to 'mlogloss'. Explicitly set eval_metric if you'd like to restore the old behavior.\n",
      "[19:12:36] WARNING: C:/Users/Administrator/workspace/xgboost-win64_release_1.3.0/src/learner.cc:541: \n",
      "Parameters: { learning_rates, max_features } might not be used.\n",
      "\n",
      "  This may not be accurate due to some parameters are only used in language bindings but\n",
      "  passed down to XGBoost core.  Or some parameters are not used but slip through this\n",
      "  verification. Please open an issue if you find above cases.\n",
      "\n",
      "\n",
      "[19:12:36] WARNING: C:/Users/Administrator/workspace/xgboost-win64_release_1.3.0/src/learner.cc:1061: Starting in XGBoost 1.3.0, the default evaluation metric used with the objective 'multi:softprob' was changed from 'merror' to 'mlogloss'. Explicitly set eval_metric if you'd like to restore the old behavior.\n",
      "[19:12:37] WARNING: C:/Users/Administrator/workspace/xgboost-win64_release_1.3.0/src/learner.cc:541: \n",
      "Parameters: { learning_rates, max_features } might not be used.\n",
      "\n",
      "  This may not be accurate due to some parameters are only used in language bindings but\n",
      "  passed down to XGBoost core.  Or some parameters are not used but slip through this\n",
      "  verification. Please open an issue if you find above cases.\n",
      "\n",
      "\n",
      "[19:12:37] WARNING: C:/Users/Administrator/workspace/xgboost-win64_release_1.3.0/src/learner.cc:1061: Starting in XGBoost 1.3.0, the default evaluation metric used with the objective 'multi:softprob' was changed from 'merror' to 'mlogloss'. Explicitly set eval_metric if you'd like to restore the old behavior.\n",
      "[19:12:37] WARNING: C:/Users/Administrator/workspace/xgboost-win64_release_1.3.0/src/learner.cc:541: \n",
      "Parameters: { learning_rates, max_features } might not be used.\n",
      "\n",
      "  This may not be accurate due to some parameters are only used in language bindings but\n",
      "  passed down to XGBoost core.  Or some parameters are not used but slip through this\n",
      "  verification. Please open an issue if you find above cases.\n",
      "\n",
      "\n",
      "[19:12:37] WARNING: C:/Users/Administrator/workspace/xgboost-win64_release_1.3.0/src/learner.cc:1061: Starting in XGBoost 1.3.0, the default evaluation metric used with the objective 'multi:softprob' was changed from 'merror' to 'mlogloss'. Explicitly set eval_metric if you'd like to restore the old behavior.\n",
      "[19:12:37] WARNING: C:/Users/Administrator/workspace/xgboost-win64_release_1.3.0/src/learner.cc:541: \n",
      "Parameters: { learning_rates, max_features } might not be used.\n",
      "\n",
      "  This may not be accurate due to some parameters are only used in language bindings but\n",
      "  passed down to XGBoost core.  Or some parameters are not used but slip through this\n",
      "  verification. Please open an issue if you find above cases.\n",
      "\n",
      "\n",
      "[19:12:38] WARNING: C:/Users/Administrator/workspace/xgboost-win64_release_1.3.0/src/learner.cc:1061: Starting in XGBoost 1.3.0, the default evaluation metric used with the objective 'multi:softprob' was changed from 'merror' to 'mlogloss'. Explicitly set eval_metric if you'd like to restore the old behavior.\n"
     ]
    },
    {
     "data": {
      "text/plain": [
       "GridSearchCV(cv=5,\n",
       "             estimator=XGBClassifier(base_score=None, booster=None,\n",
       "                                     colsample_bylevel=None,\n",
       "                                     colsample_bynode=None,\n",
       "                                     colsample_bytree=None, gamma=None,\n",
       "                                     gpu_id=None, importance_type='gain',\n",
       "                                     interaction_constraints=None,\n",
       "                                     learning_rate=None, max_delta_step=None,\n",
       "                                     max_depth=None, min_child_weight=None,\n",
       "                                     missing=nan, monotone_constraints=None,\n",
       "                                     n_estimators=100, n_jobs=None,\n",
       "                                     num_parallel_tree=None, random_state=42,\n",
       "                                     reg_alpha=None, reg_lambda=None,\n",
       "                                     scale_pos_weight=None, subsample=None,\n",
       "                                     tree_method=None, validate_parameters=None,\n",
       "                                     verbosity=None),\n",
       "             param_grid={'learning_rates': [0.05, 0.1, 0.25, 0.5, 0.75, 1],\n",
       "                         'max_features': [2], 'n_estimators': [20]})"
      ]
     },
     "execution_count": 125,
     "metadata": {},
     "output_type": "execute_result"
    }
   ],
   "source": [
    "#XGBoost gridsearch for three species classifier\n",
    "xgb_cv3 = GridSearchCV(xgb, xgb_params, cv=5)\n",
    "xgb_cv3.fit(X_train3, y_train3)"
   ]
  },
  {
   "cell_type": "code",
   "execution_count": 126,
   "metadata": {},
   "outputs": [
    {
     "name": "stdout",
     "output_type": "stream",
     "text": [
      "Best Score:0.7579315821369611\n",
      "Best Parameters: {'learning_rates': 0.05, 'max_features': 2, 'n_estimators': 20}\n"
     ]
    }
   ],
   "source": [
    "#Best accuracy score and hyperparameters for three species classifier\n",
    "print(\"Best Score:\" + str(xgb_cv3.best_score_))\n",
    "print(\"Best Parameters: \" + str(xgb_cv3.best_params_))"
   ]
  },
  {
   "cell_type": "code",
   "execution_count": 127,
   "metadata": {},
   "outputs": [
    {
     "name": "stdout",
     "output_type": "stream",
     "text": [
      "0.8915486077186126\n",
      "0.7566951566951567\n"
     ]
    }
   ],
   "source": [
    "#Training and test data accuracy scores of model\n",
    "print(xgb_cv3.score(X_train3, y_train3))\n",
    "print(xgb_cv3.score(X_test3, y_test3))"
   ]
  },
  {
   "cell_type": "code",
   "execution_count": 128,
   "metadata": {},
   "outputs": [
    {
     "name": "stdout",
     "output_type": "stream",
     "text": [
      "[[197   1   0  33]\n",
      " [  1 152   0  18]\n",
      " [  0   0 423 111]\n",
      " [ 35   8 220 556]]\n",
      "              precision    recall  f1-score   support\n",
      "\n",
      "      MYOYUM       0.85      0.85      0.85       231\n",
      "      PARHES       0.94      0.89      0.92       171\n",
      "      TADBRA       0.66      0.79      0.72       534\n",
      "       other       0.77      0.68      0.72       819\n",
      "\n",
      "    accuracy                           0.76      1755\n",
      "   macro avg       0.81      0.80      0.80      1755\n",
      "weighted avg       0.76      0.76      0.76      1755\n",
      "\n"
     ]
    }
   ],
   "source": [
    "#Confusion matrix and classification report\n",
    "xgb_y_pred3 = xgb_cv3.predict(X_test3)\n",
    "print(confusion_matrix(y_test3, xgb_y_pred3))\n",
    "print(classification_report(y_test3, xgb_y_pred3))"
   ]
  },
  {
   "cell_type": "markdown",
   "metadata": {},
   "source": [
    "## Logistic Regression"
   ]
  },
  {
   "cell_type": "code",
   "execution_count": 44,
   "metadata": {},
   "outputs": [],
   "source": [
    "from sklearn.linear_model import LogisticRegression"
   ]
  },
  {
   "cell_type": "code",
   "execution_count": 71,
   "metadata": {},
   "outputs": [],
   "source": [
    "#Multinomial logistic regression model, setting hyperparameters for gridsearch cv\n",
    "logReg = LogisticRegression(multi_class='multinomial', solver='lbfgs', max_iter=200, random_state=42)\n",
    "log_params = {'penalty': ['l1', 'l2', 'none'], \n",
    "              'C' : [0.001, 0.1, 1, 10, 100]}"
   ]
  },
  {
   "cell_type": "markdown",
   "metadata": {},
   "source": [
    "### All Species"
   ]
  },
  {
   "cell_type": "code",
   "execution_count": 72,
   "metadata": {},
   "outputs": [
    {
     "name": "stderr",
     "output_type": "stream",
     "text": [
      "C:\\Users\\matta\\anaconda3\\lib\\site-packages\\sklearn\\model_selection\\_split.py:670: UserWarning: The least populated class in y has only 1 members, which is less than n_splits=5.\n",
      "  warnings.warn((\"The least populated class in y has only %d\"\n"
     ]
    },
    {
     "name": "stdout",
     "output_type": "stream",
     "text": [
      "0.5333333333333333\n"
     ]
    },
    {
     "name": "stderr",
     "output_type": "stream",
     "text": [
      "C:\\Users\\matta\\anaconda3\\lib\\site-packages\\sklearn\\linear_model\\_logistic.py:762: ConvergenceWarning: lbfgs failed to converge (status=1):\n",
      "STOP: TOTAL NO. of ITERATIONS REACHED LIMIT.\n",
      "\n",
      "Increase the number of iterations (max_iter) or scale the data as shown in:\n",
      "    https://scikit-learn.org/stable/modules/preprocessing.html\n",
      "Please also refer to the documentation for alternative solver options:\n",
      "    https://scikit-learn.org/stable/modules/linear_model.html#logistic-regression\n",
      "  n_iter_i = _check_optimize_result(\n"
     ]
    }
   ],
   "source": [
    "#Carrying out gridsearch cv and fitting model\n",
    "logReg_cv_all = GridSearchCV(logReg, log_params, n_jobs=5, cv=5)\n",
    "logReg_cv_all.fit(X_train, y_train)\n",
    "\n",
    "print(accuracy_score(logReg_cv_all.predict(X_test), y_test))"
   ]
  },
  {
   "cell_type": "code",
   "execution_count": 73,
   "metadata": {},
   "outputs": [
    {
     "name": "stdout",
     "output_type": "stream",
     "text": [
      "Best Score:0.564975176955617\n",
      "Best Parameters: {'C': 0.1, 'penalty': 'l2'}\n"
     ]
    }
   ],
   "source": [
    "#Best accuracy score and hyperparameters for model\n",
    "print(\"Best Score:\" + str(logReg_cv_all.best_score_))\n",
    "print(\"Best Parameters: \" + str(logReg_cv_all.best_params_))"
   ]
  },
  {
   "cell_type": "code",
   "execution_count": 74,
   "metadata": {},
   "outputs": [
    {
     "name": "stdout",
     "output_type": "stream",
     "text": [
      "0.563019052271617\n",
      "0.5333333333333333\n"
     ]
    }
   ],
   "source": [
    "#Accuracy scores for training and test data\n",
    "print(logReg_cv_all.score(X_train, y_train))\n",
    "print(logReg_cv_all.score(X_test, y_test))"
   ]
  },
  {
   "cell_type": "code",
   "execution_count": 75,
   "metadata": {},
   "outputs": [
    {
     "name": "stdout",
     "output_type": "stream",
     "text": [
      "[[  7   0   0   0   0   0   0   0   0   0   0   0   0   0   0  26   0  16]\n",
      " [  0   2   0   0   5   0   0   0   0   0   0   0   0   0   0   0   0   0]\n",
      " [  0   0   0   0   5   0   0   0   0   0   0   0   0   0   0   3   0   4]\n",
      " [  0   0   0   0   0   0   0   0   0   0   0   0   0   6   0  10   6   0]\n",
      " [  0   0   0   0   5   0   1   0   0   0   0   0   0   0   0  10   0  78]\n",
      " [  0   0   0   0   0   0   0   0   0   0   0   0   0   0   0  10   1  74]\n",
      " [  2   0   0   0   0   0   3   0   0   0   0   0   0   0   0  19   3  13]\n",
      " [  0   0   0   0   0   0   0   0   0   0   0   0   0  14   0   3   0   0]\n",
      " [  0   0   0   0   0   0   0   0   0   0   0   0   0   1   0   0   0   0]\n",
      " [  0   0   0   0   0   0   0   1   0   0   0   0   0   0   0   1   0   0]\n",
      " [  0   0   0   0   0   0   0   0   0   0   2   0   0   0   0   0   0   0]\n",
      " [  0   0   0   0   0   0   0   0   0   0   0   0   0   1   0   1   0   0]\n",
      " [  1   0   0   0   0   0   0   0   0   0   0   0   0   3   0   1   0   0]\n",
      " [  0   0   0   0   0   0   0   1   0   0   0   0   0 213   0  11   6   0]\n",
      " [  0   0   0   0   1   0   0   0   0   0   0   0   0   0   0   2   0   2]\n",
      " [  4   4   1   0   7   1   0   0   0   0   1   0   1  56   0 120  33 248]\n",
      " [  0   0   0   0   0   0   0   0   0   0   0   0   0   1   0  30 140   0]\n",
      " [  0   0   0   0   2   0   0   0   0   0   0   0   0   0   0  80   8 444]]\n",
      "              precision    recall  f1-score   support\n",
      "\n",
      "      EPTFUS       0.50      0.14      0.22        49\n",
      "      EUMPER       0.33      0.29      0.31         7\n",
      "      EUMUND       0.00      0.00      0.00        12\n",
      "      LASBLO       0.00      0.00      0.00        22\n",
      "      LASCIN       0.20      0.05      0.08        94\n",
      "      LASNOC       0.00      0.00      0.00        85\n",
      "      LASXAN       0.75      0.07      0.14        40\n",
      "      MYOCAL       0.00      0.00      0.00        17\n",
      "      MYOCIL       0.00      0.00      0.00         1\n",
      "      MYOOCC       0.00      0.00      0.00         2\n",
      "      MYOTHY       0.67      1.00      0.80         2\n",
      "      MYOVEL       0.00      0.00      0.00         2\n",
      "      MYOVOL       0.00      0.00      0.00         5\n",
      "      MYOYUM       0.72      0.92      0.81       231\n",
      "      NYCFEM       0.00      0.00      0.00         5\n",
      "        NoID       0.37      0.25      0.30       476\n",
      "      PARHES       0.71      0.82      0.76       171\n",
      "      TADBRA       0.51      0.83      0.63       534\n",
      "\n",
      "    accuracy                           0.53      1755\n",
      "   macro avg       0.26      0.24      0.22      1755\n",
      "weighted avg       0.46      0.53      0.47      1755\n",
      "\n"
     ]
    },
    {
     "name": "stderr",
     "output_type": "stream",
     "text": [
      "C:\\Users\\matta\\anaconda3\\lib\\site-packages\\sklearn\\metrics\\_classification.py:1221: UndefinedMetricWarning: Precision and F-score are ill-defined and being set to 0.0 in labels with no predicted samples. Use `zero_division` parameter to control this behavior.\n",
      "  _warn_prf(average, modifier, msg_start, len(result))\n"
     ]
    }
   ],
   "source": [
    "#Confusion matrix and classification report\n",
    "logReg_y_pred_all = logReg_cv_all.predict(X_test)\n",
    "print(confusion_matrix(y_test, logReg_y_pred_all))\n",
    "print(classification_report(y_test, logReg_y_pred_all))"
   ]
  },
  {
   "cell_type": "markdown",
   "metadata": {},
   "source": [
    "### Three Species"
   ]
  },
  {
   "cell_type": "code",
   "execution_count": 76,
   "metadata": {},
   "outputs": [
    {
     "name": "stdout",
     "output_type": "stream",
     "text": [
      "0.6245014245014245\n"
     ]
    },
    {
     "name": "stderr",
     "output_type": "stream",
     "text": [
      "C:\\Users\\matta\\anaconda3\\lib\\site-packages\\sklearn\\linear_model\\_logistic.py:762: ConvergenceWarning: lbfgs failed to converge (status=1):\n",
      "STOP: TOTAL NO. of ITERATIONS REACHED LIMIT.\n",
      "\n",
      "Increase the number of iterations (max_iter) or scale the data as shown in:\n",
      "    https://scikit-learn.org/stable/modules/preprocessing.html\n",
      "Please also refer to the documentation for alternative solver options:\n",
      "    https://scikit-learn.org/stable/modules/linear_model.html#logistic-regression\n",
      "  n_iter_i = _check_optimize_result(\n"
     ]
    }
   ],
   "source": [
    "#Multinomial logistic regression gridsearch and model fit\n",
    "logReg_cv3 = GridSearchCV(logReg, log_params, n_jobs=5, cv=5)\n",
    "logReg_cv3.fit(X_train3, y_train3)\n",
    "\n",
    "print(accuracy_score(logReg_cv3.predict(X_test3), y_test3))"
   ]
  },
  {
   "cell_type": "code",
   "execution_count": 77,
   "metadata": {},
   "outputs": [
    {
     "name": "stdout",
     "output_type": "stream",
     "text": [
      "Best score: 0.6155356732373848\n",
      "Best Parameters: {'C': 100, 'penalty': 'l2'}\n"
     ]
    }
   ],
   "source": [
    "#Best score and hyperparameters\n",
    "print(\"Best score: \" + str(logReg_cv3.best_score_))\n",
    "print(\"Best Parameters: \" + str(logReg_cv3.best_params_))"
   ]
  },
  {
   "cell_type": "code",
   "execution_count": 78,
   "metadata": {},
   "outputs": [
    {
     "name": "stdout",
     "output_type": "stream",
     "text": [
      "0.621152906692721\n",
      "0.6245014245014245\n"
     ]
    }
   ],
   "source": [
    "#Training and test data accuracy scores\n",
    "print(logReg_cv3.score(X_train3, y_train3))\n",
    "print(logReg_cv3.score(X_test3, y_test3))"
   ]
  },
  {
   "cell_type": "code",
   "execution_count": 79,
   "metadata": {},
   "outputs": [
    {
     "name": "stdout",
     "output_type": "stream",
     "text": [
      "[[201   5   0  25]\n",
      " [  0 134   0  37]\n",
      " [  0   6 302 226]\n",
      " [ 65  32 263 459]]\n",
      "              precision    recall  f1-score   support\n",
      "\n",
      "      MYOYUM       0.76      0.87      0.81       231\n",
      "      PARHES       0.76      0.78      0.77       171\n",
      "      TADBRA       0.53      0.57      0.55       534\n",
      "       other       0.61      0.56      0.59       819\n",
      "\n",
      "    accuracy                           0.62      1755\n",
      "   macro avg       0.67      0.69      0.68      1755\n",
      "weighted avg       0.62      0.62      0.62      1755\n",
      "\n"
     ]
    }
   ],
   "source": [
    "#Confusion matrix and classification report\n",
    "logReg_y_pred3 = logReg_cv3.predict(X_test3)\n",
    "print(confusion_matrix(y_test3, logReg_y_pred3))\n",
    "print(classification_report(y_test3, logReg_y_pred3))"
   ]
  },
  {
   "cell_type": "markdown",
   "metadata": {},
   "source": [
    "### Scaled All Species"
   ]
  },
  {
   "cell_type": "code",
   "execution_count": 138,
   "metadata": {},
   "outputs": [
    {
     "name": "stderr",
     "output_type": "stream",
     "text": [
      "C:\\Users\\matta\\anaconda3\\lib\\site-packages\\sklearn\\model_selection\\_split.py:670: UserWarning: The least populated class in y has only 1 members, which is less than n_splits=5.\n",
      "  warnings.warn((\"The least populated class in y has only %d\"\n",
      "C:\\Users\\matta\\anaconda3\\lib\\site-packages\\sklearn\\linear_model\\_logistic.py:1320: UserWarning: Setting penalty='none' will ignore the C and l1_ratio parameters\n",
      "  warnings.warn(\n"
     ]
    },
    {
     "name": "stdout",
     "output_type": "stream",
     "text": [
      "0.5726495726495726\n"
     ]
    },
    {
     "name": "stderr",
     "output_type": "stream",
     "text": [
      "C:\\Users\\matta\\anaconda3\\lib\\site-packages\\sklearn\\linear_model\\_logistic.py:762: ConvergenceWarning: lbfgs failed to converge (status=1):\n",
      "STOP: TOTAL NO. of ITERATIONS REACHED LIMIT.\n",
      "\n",
      "Increase the number of iterations (max_iter) or scale the data as shown in:\n",
      "    https://scikit-learn.org/stable/modules/preprocessing.html\n",
      "Please also refer to the documentation for alternative solver options:\n",
      "    https://scikit-learn.org/stable/modules/linear_model.html#logistic-regression\n",
      "  n_iter_i = _check_optimize_result(\n"
     ]
    }
   ],
   "source": [
    "#Multinomial log reg gridsearch cv for all species with scaled data, and model fit\n",
    "logReg_cv_all_scaled = GridSearchCV(logReg, log_params, n_jobs=5, cv=5)\n",
    "logReg_cv_all_scaled.fit(X_train_scaled, y_train)\n",
    "\n",
    "print(accuracy_score(logReg_cv_all_scaled.predict(X_test_scaled), y_test))"
   ]
  },
  {
   "cell_type": "code",
   "execution_count": 139,
   "metadata": {},
   "outputs": [
    {
     "name": "stdout",
     "output_type": "stream",
     "text": [
      "Best Score:0.5962372862128363\n",
      "Best Parameters: {'C': 0.001, 'penalty': 'none'}\n"
     ]
    }
   ],
   "source": [
    "#Best score and hyperparameters for model\n",
    "print(\"Best Score:\" + str(logReg_cv_all_scaled.best_score_))\n",
    "print(\"Best Parameters: \" + str(logReg_cv_all_scaled.best_params_))"
   ]
  },
  {
   "cell_type": "code",
   "execution_count": 140,
   "metadata": {},
   "outputs": [
    {
     "name": "stdout",
     "output_type": "stream",
     "text": [
      "0.6013678553981436\n",
      "0.5726495726495726\n"
     ]
    }
   ],
   "source": [
    "#Training and test data accuracy\n",
    "print(logReg_cv_all_scaled.score(X_train_scaled, y_train))\n",
    "print(logReg_cv_all_scaled.score(X_test_scaled, y_test))"
   ]
  },
  {
   "cell_type": "code",
   "execution_count": 141,
   "metadata": {},
   "outputs": [
    {
     "name": "stdout",
     "output_type": "stream",
     "text": [
      "[[  0   0   0   0   0   0   0   0   0   0   0   0   0   0   0   0   0   0\n",
      "    0   0]\n",
      " [  1   9   0   0   0   0   0   0   0   0   0   0   0   0   0   0   0  28\n",
      "    0  11]\n",
      " [  0   0   4   2   0   0   0   0   0   0   0   0   0   0   0   1   0   0\n",
      "    0   0]\n",
      " [  0   0   0   3   0   2   0   0   0   0   0   0   0   0   0   0   0   3\n",
      "    0   4]\n",
      " [  0   0   0   0   0   0   0   0   0   0   0   0   0   0   7   0   0   5\n",
      "   10   0]\n",
      " [  0   0   0   1   0   4   0   0   0   0   0   0   0   0   0   0   0  20\n",
      "    0  69]\n",
      " [  0   0   0   0   0   0   1   0   0   0   0   0   0   0   0   0   0  13\n",
      "    0  71]\n",
      " [  0   1   0   0   0   0   0   4   0   0   0   0   0   0   0   0   0  25\n",
      "    0  10]\n",
      " [  0   0   0   0   0   0   0   0   0   0   0   0   0   0  14   0   0   3\n",
      "    0   0]\n",
      " [  0   0   0   0   0   0   0   0   0   0   1   0   0   0   0   0   0   0\n",
      "    0   0]\n",
      " [  0   0   0   0   0   0   0   0   0   0   0   0   0   0   0   0   0   2\n",
      "    0   0]\n",
      " [  0   0   0   0   0   0   0   0   0   0   0   2   0   0   0   0   0   0\n",
      "    0   0]\n",
      " [  0   0   0   0   0   0   0   0   0   0   0   0   0   0   0   0   0   2\n",
      "    0   0]\n",
      " [  0   1   0   0   0   0   0   0   0   0   0   0   0   0   0   0   0   4\n",
      "    0   0]\n",
      " [  0   0   0   0   0   0   0   0   0   0   0   0   0   0 211   0   0  20\n",
      "    0   0]\n",
      " [  0   0   0   0   0   1   0   0   0   0   0   0   0   0   0   1   0   2\n",
      "    0   1]\n",
      " [  0   0   0   0   0   0   0   0   0   0   0   0   0   0   0   0   0   0\n",
      "    0   0]\n",
      " [  0   8   3   1   2  20   0   4   0   0   1   0   0   1  53   2   1 163\n",
      "    9 208]\n",
      " [  0   0   0   0   0   0   0   1   0   0   0   0   0   0   0   0   0   8\n",
      "  162   0]\n",
      " [  0   1   0   0   0   0   0   0   0   0   0   0   0   0   0   0   0  92\n",
      "    0 441]]\n",
      "              precision    recall  f1-score   support\n",
      "\n",
      "      ANTPAL       0.00      0.00      0.00         0\n",
      "      EPTFUS       0.45      0.18      0.26        49\n",
      "      EUMPER       0.57      0.57      0.57         7\n",
      "      EUMUND       0.43      0.25      0.32        12\n",
      "      LASBLO       0.00      0.00      0.00        22\n",
      "      LASCIN       0.15      0.04      0.07        94\n",
      "      LASNOC       1.00      0.01      0.02        85\n",
      "      LASXAN       0.44      0.10      0.16        40\n",
      "      MYOCAL       0.00      0.00      0.00        17\n",
      "      MYOCIL       0.00      0.00      0.00         1\n",
      "      MYOOCC       0.00      0.00      0.00         2\n",
      "      MYOTHY       1.00      1.00      1.00         2\n",
      "      MYOVEL       0.00      0.00      0.00         2\n",
      "      MYOVOL       0.00      0.00      0.00         5\n",
      "      MYOYUM       0.74      0.91      0.82       231\n",
      "      NYCFEM       0.25      0.20      0.22         5\n",
      "      NYCMAC       0.00      0.00      0.00         0\n",
      "        NoID       0.42      0.34      0.38       476\n",
      "      PARHES       0.90      0.95      0.92       171\n",
      "      TADBRA       0.54      0.83      0.65       534\n",
      "\n",
      "    accuracy                           0.57      1755\n",
      "   macro avg       0.34      0.27      0.27      1755\n",
      "weighted avg       0.55      0.57      0.52      1755\n",
      "\n"
     ]
    },
    {
     "name": "stderr",
     "output_type": "stream",
     "text": [
      "C:\\Users\\matta\\anaconda3\\lib\\site-packages\\sklearn\\metrics\\_classification.py:1221: UndefinedMetricWarning: Precision and F-score are ill-defined and being set to 0.0 in labels with no predicted samples. Use `zero_division` parameter to control this behavior.\n",
      "  _warn_prf(average, modifier, msg_start, len(result))\n",
      "C:\\Users\\matta\\anaconda3\\lib\\site-packages\\sklearn\\metrics\\_classification.py:1221: UndefinedMetricWarning: Recall and F-score are ill-defined and being set to 0.0 in labels with no true samples. Use `zero_division` parameter to control this behavior.\n",
      "  _warn_prf(average, modifier, msg_start, len(result))\n"
     ]
    }
   ],
   "source": [
    "#Confusion matrix and classification report\n",
    "logReg_y_pred_all_scaled = logReg_cv_all_scaled.predict(X_test_scaled)\n",
    "print(confusion_matrix(y_test, logReg_y_pred_all_scaled))\n",
    "print(classification_report(y_test, logReg_y_pred_all_scaled))"
   ]
  },
  {
   "cell_type": "markdown",
   "metadata": {},
   "source": [
    "### Scaled Three Species"
   ]
  },
  {
   "cell_type": "code",
   "execution_count": 152,
   "metadata": {},
   "outputs": [
    {
     "name": "stderr",
     "output_type": "stream",
     "text": [
      "C:\\Users\\matta\\anaconda3\\lib\\site-packages\\sklearn\\linear_model\\_logistic.py:1320: UserWarning: Setting penalty='none' will ignore the C and l1_ratio parameters\n",
      "  warnings.warn(\n"
     ]
    },
    {
     "name": "stdout",
     "output_type": "stream",
     "text": [
      "0.6695156695156695\n"
     ]
    },
    {
     "name": "stderr",
     "output_type": "stream",
     "text": [
      "C:\\Users\\matta\\anaconda3\\lib\\site-packages\\sklearn\\linear_model\\_logistic.py:762: ConvergenceWarning: lbfgs failed to converge (status=1):\n",
      "STOP: TOTAL NO. of ITERATIONS REACHED LIMIT.\n",
      "\n",
      "Increase the number of iterations (max_iter) or scale the data as shown in:\n",
      "    https://scikit-learn.org/stable/modules/preprocessing.html\n",
      "Please also refer to the documentation for alternative solver options:\n",
      "    https://scikit-learn.org/stable/modules/linear_model.html#logistic-regression\n",
      "  n_iter_i = _check_optimize_result(\n"
     ]
    }
   ],
   "source": [
    "#Multi log reg gridsearch cv with scaled data for three species, and model fit\n",
    "logReg_cv_scaled3 = GridSearchCV(logReg, log_params, n_jobs=5, cv=5)\n",
    "logReg_cv_scaled3.fit(X_train_scaled3, y_train3)\n",
    "\n",
    "print(accuracy_score(logReg_cv_scaled3.predict(X_test_scaled3), y_test3))"
   ]
  },
  {
   "cell_type": "code",
   "execution_count": 153,
   "metadata": {},
   "outputs": [
    {
     "name": "stdout",
     "output_type": "stream",
     "text": [
      "Best Score:0.6489994656253824\n",
      "Best Parameters: {'C': 0.001, 'penalty': 'none'}\n"
     ]
    }
   ],
   "source": [
    "#Best score and hyperparameters from gridsearch cv\n",
    "print(\"Best Score:\" + str(logReg_cv_scaled3.best_score_))\n",
    "print(\"Best Parameters: \" + str(logReg_cv_scaled3.best_params_))"
   ]
  },
  {
   "cell_type": "code",
   "execution_count": 154,
   "metadata": {},
   "outputs": [
    {
     "name": "stdout",
     "output_type": "stream",
     "text": [
      "0.6489985344406448\n",
      "0.6695156695156695\n"
     ]
    }
   ],
   "source": [
    "#Training and test data accuracy scores\n",
    "print(logReg_cv_scaled3.score(X_train_scaled3, y_train3))\n",
    "print(logReg_cv_scaled3.score(X_test_scaled3, y_test3))"
   ]
  },
  {
   "cell_type": "code",
   "execution_count": 155,
   "metadata": {},
   "outputs": [
    {
     "name": "stdout",
     "output_type": "stream",
     "text": [
      "[[205   0   0  26]\n",
      " [  0 159   1  11]\n",
      " [  0   0 299 235]\n",
      " [ 60  18 229 512]]\n",
      "              precision    recall  f1-score   support\n",
      "\n",
      "      MYOYUM       0.77      0.89      0.83       231\n",
      "      PARHES       0.90      0.93      0.91       171\n",
      "      TADBRA       0.57      0.56      0.56       534\n",
      "       other       0.65      0.63      0.64       819\n",
      "\n",
      "    accuracy                           0.67      1755\n",
      "   macro avg       0.72      0.75      0.74      1755\n",
      "weighted avg       0.67      0.67      0.67      1755\n",
      "\n"
     ]
    }
   ],
   "source": [
    "#Confusion matrix and classification report\n",
    "logReg_y_pred_scaled3 = logReg_cv_scaled3.predict(X_test_scaled3)\n",
    "print(confusion_matrix(y_test3, logReg_y_pred_scaled3))\n",
    "print(classification_report(y_test3, logReg_y_pred_scaled3))"
   ]
  },
  {
   "cell_type": "markdown",
   "metadata": {},
   "source": [
    "## Model By Match Ratio"
   ]
  },
  {
   "cell_type": "markdown",
   "metadata": {},
   "source": [
    "### Original Dataframe With Match Ratios"
   ]
  },
  {
   "cell_type": "code",
   "execution_count": 268,
   "metadata": {},
   "outputs": [],
   "source": [
    "#loading original data with kaleidoscope pro predictions and match ratios for comparison with models\n",
    "data = pd.read_csv('truthed_library.csv')"
   ]
  },
  {
   "cell_type": "code",
   "execution_count": 269,
   "metadata": {},
   "outputs": [
    {
     "data": {
      "text/html": [
       "<div>\n",
       "<style scoped>\n",
       "    .dataframe tbody tr th:only-of-type {\n",
       "        vertical-align: middle;\n",
       "    }\n",
       "\n",
       "    .dataframe tbody tr th {\n",
       "        vertical-align: top;\n",
       "    }\n",
       "\n",
       "    .dataframe thead th {\n",
       "        text-align: right;\n",
       "    }\n",
       "</style>\n",
       "<table border=\"1\" class=\"dataframe\">\n",
       "  <thead>\n",
       "    <tr style=\"text-align: right;\">\n",
       "      <th></th>\n",
       "      <th>IN FILE</th>\n",
       "      <th>AUTO ID*</th>\n",
       "      <th>PULSES</th>\n",
       "      <th>MATCH RATIO</th>\n",
       "      <th>MARGIN</th>\n",
       "      <th>Fc</th>\n",
       "      <th>Sc</th>\n",
       "      <th>Dur</th>\n",
       "      <th>Fmax</th>\n",
       "      <th>Fmin</th>\n",
       "      <th>Fk</th>\n",
       "      <th>Tk</th>\n",
       "      <th>Tc</th>\n",
       "      <th>S1</th>\n",
       "      <th>BWDth</th>\n",
       "      <th>PkDur</th>\n",
       "      <th>COMP ID</th>\n",
       "      <th>Result</th>\n",
       "    </tr>\n",
       "  </thead>\n",
       "  <tbody>\n",
       "    <tr>\n",
       "      <th>0</th>\n",
       "      <td>NoID_20200716_212136.wav</td>\n",
       "      <td>ANTPAL</td>\n",
       "      <td>97.0</td>\n",
       "      <td>0.258</td>\n",
       "      <td>0.088132</td>\n",
       "      <td>32.032</td>\n",
       "      <td>84.83</td>\n",
       "      <td>3.601</td>\n",
       "      <td>43.750</td>\n",
       "      <td>31.157</td>\n",
       "      <td>35.004</td>\n",
       "      <td>2.090</td>\n",
       "      <td>3.370</td>\n",
       "      <td>326.50</td>\n",
       "      <td>12.593</td>\n",
       "      <td>35.545682</td>\n",
       "      <td>NoID</td>\n",
       "      <td>False</td>\n",
       "    </tr>\n",
       "    <tr>\n",
       "      <th>1</th>\n",
       "      <td>ANTPAL_20190607_204646.wav</td>\n",
       "      <td>ANTPAL</td>\n",
       "      <td>16.0</td>\n",
       "      <td>0.875</td>\n",
       "      <td>0.498225</td>\n",
       "      <td>28.955</td>\n",
       "      <td>61.99</td>\n",
       "      <td>6.088</td>\n",
       "      <td>48.466</td>\n",
       "      <td>27.932</td>\n",
       "      <td>30.731</td>\n",
       "      <td>4.213</td>\n",
       "      <td>5.505</td>\n",
       "      <td>208.94</td>\n",
       "      <td>20.534</td>\n",
       "      <td>21.222076</td>\n",
       "      <td>ANTPAL</td>\n",
       "      <td>True</td>\n",
       "    </tr>\n",
       "    <tr>\n",
       "      <th>2</th>\n",
       "      <td>ANTPAL_20200716_211653.wav</td>\n",
       "      <td>ANTPAL</td>\n",
       "      <td>14.0</td>\n",
       "      <td>0.714</td>\n",
       "      <td>0.512325</td>\n",
       "      <td>29.955</td>\n",
       "      <td>68.58</td>\n",
       "      <td>2.948</td>\n",
       "      <td>39.362</td>\n",
       "      <td>29.800</td>\n",
       "      <td>31.430</td>\n",
       "      <td>1.990</td>\n",
       "      <td>2.898</td>\n",
       "      <td>297.09</td>\n",
       "      <td>9.562</td>\n",
       "      <td>30.800543</td>\n",
       "      <td>ANTPAL</td>\n",
       "      <td>True</td>\n",
       "    </tr>\n",
       "    <tr>\n",
       "      <th>3</th>\n",
       "      <td>ANTPAL_20190626_205037.wav</td>\n",
       "      <td>ANTPAL</td>\n",
       "      <td>9.0</td>\n",
       "      <td>0.444</td>\n",
       "      <td>0.224854</td>\n",
       "      <td>32.315</td>\n",
       "      <td>92.00</td>\n",
       "      <td>4.292</td>\n",
       "      <td>54.628</td>\n",
       "      <td>31.916</td>\n",
       "      <td>35.201</td>\n",
       "      <td>2.918</td>\n",
       "      <td>4.116</td>\n",
       "      <td>547.76</td>\n",
       "      <td>22.712</td>\n",
       "      <td>27.912395</td>\n",
       "      <td>ANTPAL</td>\n",
       "      <td>True</td>\n",
       "    </tr>\n",
       "    <tr>\n",
       "      <th>4</th>\n",
       "      <td>EPTFUS_20200301_191434.wav</td>\n",
       "      <td>EPTFUS</td>\n",
       "      <td>161.0</td>\n",
       "      <td>0.398</td>\n",
       "      <td>0.114901</td>\n",
       "      <td>35.502</td>\n",
       "      <td>31.02</td>\n",
       "      <td>6.288</td>\n",
       "      <td>46.429</td>\n",
       "      <td>34.205</td>\n",
       "      <td>37.141</td>\n",
       "      <td>3.196</td>\n",
       "      <td>5.315</td>\n",
       "      <td>332.20</td>\n",
       "      <td>12.224</td>\n",
       "      <td>33.699109</td>\n",
       "      <td>EPTFUS</td>\n",
       "      <td>True</td>\n",
       "    </tr>\n",
       "  </tbody>\n",
       "</table>\n",
       "</div>"
      ],
      "text/plain": [
       "                      IN FILE AUTO ID*  PULSES  MATCH RATIO    MARGIN      Fc  \\\n",
       "0    NoID_20200716_212136.wav   ANTPAL    97.0        0.258  0.088132  32.032   \n",
       "1  ANTPAL_20190607_204646.wav   ANTPAL    16.0        0.875  0.498225  28.955   \n",
       "2  ANTPAL_20200716_211653.wav   ANTPAL    14.0        0.714  0.512325  29.955   \n",
       "3  ANTPAL_20190626_205037.wav   ANTPAL     9.0        0.444  0.224854  32.315   \n",
       "4  EPTFUS_20200301_191434.wav   EPTFUS   161.0        0.398  0.114901  35.502   \n",
       "\n",
       "      Sc    Dur    Fmax    Fmin      Fk     Tk     Tc      S1   BWDth  \\\n",
       "0  84.83  3.601  43.750  31.157  35.004  2.090  3.370  326.50  12.593   \n",
       "1  61.99  6.088  48.466  27.932  30.731  4.213  5.505  208.94  20.534   \n",
       "2  68.58  2.948  39.362  29.800  31.430  1.990  2.898  297.09   9.562   \n",
       "3  92.00  4.292  54.628  31.916  35.201  2.918  4.116  547.76  22.712   \n",
       "4  31.02  6.288  46.429  34.205  37.141  3.196  5.315  332.20  12.224   \n",
       "\n",
       "       PkDur COMP ID  Result  \n",
       "0  35.545682    NoID   False  \n",
       "1  21.222076  ANTPAL    True  \n",
       "2  30.800543  ANTPAL    True  \n",
       "3  27.912395  ANTPAL    True  \n",
       "4  33.699109  EPTFUS    True  "
      ]
     },
     "execution_count": 269,
     "metadata": {},
     "output_type": "execute_result"
    }
   ],
   "source": [
    "data.head()"
   ]
  },
  {
   "cell_type": "markdown",
   "metadata": {},
   "source": [
    "#### Kaleidoscope Pro Accuracy With All Species"
   ]
  },
  {
   "cell_type": "code",
   "execution_count": 270,
   "metadata": {},
   "outputs": [
    {
     "name": "stdout",
     "output_type": "stream",
     "text": [
      "[0.0, 0.1, 0.2, 0.3, 0.4, 0.5, 0.6, 0.7, 0.8, 0.9]\n",
      "[68.21678919473413, 73.99241346609767, 74.82312759209563, 77.11470024637285, 80.05363727790814, 82.65746333045729, 86.89024390243902, 89.16211293260473, 90.01490312965723, 90.93851132686083]\n"
     ]
    }
   ],
   "source": [
    "#Determining match ratio accuracy for original Kaleidoscope Pro software for all species\n",
    "aa = []\n",
    "bb = []\n",
    "for i in [float(x/10) for x in range(10)]:\n",
    "    aa.append(i)\n",
    "    tempdf = data[data['MATCH RATIO'] >= i]\n",
    "    #print(len(tempdf))\n",
    "    bb.append(sum(tempdf['Result'] == True) / len(tempdf) * 100)\n",
    "print(aa)\n",
    "print(bb)"
   ]
  },
  {
   "cell_type": "markdown",
   "metadata": {},
   "source": [
    "#### Kaleidoscope Pro Accuracy All Species With NoID Removed"
   ]
  },
  {
   "cell_type": "code",
   "execution_count": 271,
   "metadata": {},
   "outputs": [],
   "source": [
    "#Dropping columns that are not needed\n",
    "data = data.drop(columns = ['IN FILE', 'PULSES', 'MARGIN', 'Tc'])"
   ]
  },
  {
   "cell_type": "code",
   "execution_count": 272,
   "metadata": {},
   "outputs": [],
   "source": [
    "#Renaming column\n",
    "data = data.rename(columns = {'AUTO ID*' : 'Spp'})"
   ]
  },
  {
   "cell_type": "code",
   "execution_count": 273,
   "metadata": {},
   "outputs": [
    {
     "data": {
      "text/html": [
       "<div>\n",
       "<style scoped>\n",
       "    .dataframe tbody tr th:only-of-type {\n",
       "        vertical-align: middle;\n",
       "    }\n",
       "\n",
       "    .dataframe tbody tr th {\n",
       "        vertical-align: top;\n",
       "    }\n",
       "\n",
       "    .dataframe thead th {\n",
       "        text-align: right;\n",
       "    }\n",
       "</style>\n",
       "<table border=\"1\" class=\"dataframe\">\n",
       "  <thead>\n",
       "    <tr style=\"text-align: right;\">\n",
       "      <th></th>\n",
       "      <th>Spp</th>\n",
       "      <th>MATCH RATIO</th>\n",
       "      <th>Fc</th>\n",
       "      <th>Sc</th>\n",
       "      <th>Dur</th>\n",
       "      <th>Fmax</th>\n",
       "      <th>Fmin</th>\n",
       "      <th>Fk</th>\n",
       "      <th>Tk</th>\n",
       "      <th>S1</th>\n",
       "      <th>BWDth</th>\n",
       "      <th>PkDur</th>\n",
       "      <th>COMP ID</th>\n",
       "      <th>Result</th>\n",
       "    </tr>\n",
       "  </thead>\n",
       "  <tbody>\n",
       "    <tr>\n",
       "      <th>0</th>\n",
       "      <td>ANTPAL</td>\n",
       "      <td>0.258</td>\n",
       "      <td>32.032</td>\n",
       "      <td>84.83</td>\n",
       "      <td>3.601</td>\n",
       "      <td>43.750</td>\n",
       "      <td>31.157</td>\n",
       "      <td>35.004</td>\n",
       "      <td>2.090</td>\n",
       "      <td>326.50</td>\n",
       "      <td>12.593</td>\n",
       "      <td>35.545682</td>\n",
       "      <td>NoID</td>\n",
       "      <td>False</td>\n",
       "    </tr>\n",
       "    <tr>\n",
       "      <th>1</th>\n",
       "      <td>ANTPAL</td>\n",
       "      <td>0.875</td>\n",
       "      <td>28.955</td>\n",
       "      <td>61.99</td>\n",
       "      <td>6.088</td>\n",
       "      <td>48.466</td>\n",
       "      <td>27.932</td>\n",
       "      <td>30.731</td>\n",
       "      <td>4.213</td>\n",
       "      <td>208.94</td>\n",
       "      <td>20.534</td>\n",
       "      <td>21.222076</td>\n",
       "      <td>ANTPAL</td>\n",
       "      <td>True</td>\n",
       "    </tr>\n",
       "    <tr>\n",
       "      <th>2</th>\n",
       "      <td>ANTPAL</td>\n",
       "      <td>0.714</td>\n",
       "      <td>29.955</td>\n",
       "      <td>68.58</td>\n",
       "      <td>2.948</td>\n",
       "      <td>39.362</td>\n",
       "      <td>29.800</td>\n",
       "      <td>31.430</td>\n",
       "      <td>1.990</td>\n",
       "      <td>297.09</td>\n",
       "      <td>9.562</td>\n",
       "      <td>30.800543</td>\n",
       "      <td>ANTPAL</td>\n",
       "      <td>True</td>\n",
       "    </tr>\n",
       "    <tr>\n",
       "      <th>3</th>\n",
       "      <td>ANTPAL</td>\n",
       "      <td>0.444</td>\n",
       "      <td>32.315</td>\n",
       "      <td>92.00</td>\n",
       "      <td>4.292</td>\n",
       "      <td>54.628</td>\n",
       "      <td>31.916</td>\n",
       "      <td>35.201</td>\n",
       "      <td>2.918</td>\n",
       "      <td>547.76</td>\n",
       "      <td>22.712</td>\n",
       "      <td>27.912395</td>\n",
       "      <td>ANTPAL</td>\n",
       "      <td>True</td>\n",
       "    </tr>\n",
       "    <tr>\n",
       "      <th>4</th>\n",
       "      <td>EPTFUS</td>\n",
       "      <td>0.398</td>\n",
       "      <td>35.502</td>\n",
       "      <td>31.02</td>\n",
       "      <td>6.288</td>\n",
       "      <td>46.429</td>\n",
       "      <td>34.205</td>\n",
       "      <td>37.141</td>\n",
       "      <td>3.196</td>\n",
       "      <td>332.20</td>\n",
       "      <td>12.224</td>\n",
       "      <td>33.699109</td>\n",
       "      <td>EPTFUS</td>\n",
       "      <td>True</td>\n",
       "    </tr>\n",
       "  </tbody>\n",
       "</table>\n",
       "</div>"
      ],
      "text/plain": [
       "      Spp  MATCH RATIO      Fc     Sc    Dur    Fmax    Fmin      Fk     Tk  \\\n",
       "0  ANTPAL        0.258  32.032  84.83  3.601  43.750  31.157  35.004  2.090   \n",
       "1  ANTPAL        0.875  28.955  61.99  6.088  48.466  27.932  30.731  4.213   \n",
       "2  ANTPAL        0.714  29.955  68.58  2.948  39.362  29.800  31.430  1.990   \n",
       "3  ANTPAL        0.444  32.315  92.00  4.292  54.628  31.916  35.201  2.918   \n",
       "4  EPTFUS        0.398  35.502  31.02  6.288  46.429  34.205  37.141  3.196   \n",
       "\n",
       "       S1   BWDth      PkDur COMP ID  Result  \n",
       "0  326.50  12.593  35.545682    NoID   False  \n",
       "1  208.94  20.534  21.222076  ANTPAL    True  \n",
       "2  297.09   9.562  30.800543  ANTPAL    True  \n",
       "3  547.76  22.712  27.912395  ANTPAL    True  \n",
       "4  332.20  12.224  33.699109  EPTFUS    True  "
      ]
     },
     "execution_count": 273,
     "metadata": {},
     "output_type": "execute_result"
    }
   ],
   "source": [
    "data.head()"
   ]
  },
  {
   "cell_type": "code",
   "execution_count": 274,
   "metadata": {},
   "outputs": [
    {
     "data": {
      "text/plain": [
       "(5849, 14)"
      ]
     },
     "execution_count": 274,
     "metadata": {},
     "output_type": "execute_result"
    }
   ],
   "source": [
    "data.shape"
   ]
  },
  {
   "cell_type": "code",
   "execution_count": 275,
   "metadata": {},
   "outputs": [
    {
     "name": "stdout",
     "output_type": "stream",
     "text": [
      "[0.0, 0.1, 0.2, 0.3, 0.4, 0.5, 0.6, 0.7, 0.8, 0.9]\n",
      "[73.88941398865785, 89.86467031384969, 90.07342143906021, 91.25364431486881, 92.95445698715453, 94.71082550667326, 97.00476514635807, 98.39195979899498, 98.8543371522095, 99.64539007092199]\n"
     ]
    },
    {
     "name": "stderr",
     "output_type": "stream",
     "text": [
      "<ipython-input-275-a2e4e0586777>:8: UserWarning: Boolean Series key will be reindexed to match DataFrame index.\n",
      "  tempdf = data[data['COMP ID'] != 'NoID'][data['MATCH RATIO'] >= i]\n",
      "<ipython-input-275-a2e4e0586777>:8: UserWarning: Boolean Series key will be reindexed to match DataFrame index.\n",
      "  tempdf = data[data['COMP ID'] != 'NoID'][data['MATCH RATIO'] >= i]\n",
      "<ipython-input-275-a2e4e0586777>:8: UserWarning: Boolean Series key will be reindexed to match DataFrame index.\n",
      "  tempdf = data[data['COMP ID'] != 'NoID'][data['MATCH RATIO'] >= i]\n",
      "<ipython-input-275-a2e4e0586777>:8: UserWarning: Boolean Series key will be reindexed to match DataFrame index.\n",
      "  tempdf = data[data['COMP ID'] != 'NoID'][data['MATCH RATIO'] >= i]\n",
      "<ipython-input-275-a2e4e0586777>:8: UserWarning: Boolean Series key will be reindexed to match DataFrame index.\n",
      "  tempdf = data[data['COMP ID'] != 'NoID'][data['MATCH RATIO'] >= i]\n",
      "<ipython-input-275-a2e4e0586777>:8: UserWarning: Boolean Series key will be reindexed to match DataFrame index.\n",
      "  tempdf = data[data['COMP ID'] != 'NoID'][data['MATCH RATIO'] >= i]\n",
      "<ipython-input-275-a2e4e0586777>:8: UserWarning: Boolean Series key will be reindexed to match DataFrame index.\n",
      "  tempdf = data[data['COMP ID'] != 'NoID'][data['MATCH RATIO'] >= i]\n",
      "<ipython-input-275-a2e4e0586777>:8: UserWarning: Boolean Series key will be reindexed to match DataFrame index.\n",
      "  tempdf = data[data['COMP ID'] != 'NoID'][data['MATCH RATIO'] >= i]\n",
      "<ipython-input-275-a2e4e0586777>:8: UserWarning: Boolean Series key will be reindexed to match DataFrame index.\n",
      "  tempdf = data[data['COMP ID'] != 'NoID'][data['MATCH RATIO'] >= i]\n",
      "<ipython-input-275-a2e4e0586777>:8: UserWarning: Boolean Series key will be reindexed to match DataFrame index.\n",
      "  tempdf = data[data['COMP ID'] != 'NoID'][data['MATCH RATIO'] >= i]\n"
     ]
    }
   ],
   "source": [
    "#Determining match ratio accuracy for original Kaleidoscope Pro software for all species but dropping NoID\n",
    "#from COMP ID.  This is done because NoID matters very little in results, it counts as a bat detection but\n",
    "#it is better to error on the side of NoID rather than have a false positive for a specific species.\n",
    "aa_r = []\n",
    "bb_r = []\n",
    "for i in [float(x/10) for x in range(10)]:\n",
    "    aa_r.append(i)\n",
    "    tempdf = data[data['COMP ID'] != 'NoID'][data['MATCH RATIO'] >= i]\n",
    "    #print(len(tempdf))\n",
    "    bb_r.append(sum(tempdf['Result'] == True) / len(tempdf) * 100)\n",
    "print(aa_r)\n",
    "print(bb_r)"
   ]
  },
  {
   "cell_type": "markdown",
   "metadata": {},
   "source": [
    "#### Kaleidoscope Pro Accuracy Three Species"
   ]
  },
  {
   "cell_type": "code",
   "execution_count": 276,
   "metadata": {},
   "outputs": [],
   "source": [
    "#Changing less common species to NoID\n",
    "three_spp = data['COMP ID'].replace(to_replace = ['ANTPAL', 'EPTFUS', 'LASCIN', 'LASNOC', 'EUMPER', 'EUMUND', \n",
    "                                      'NYCFEM', 'LASBLO', 'MYOCIL', 'MYOCAL', 'LASXAN', 'MYOEVO', \n",
    "                                      'MYOOCC', 'MYOTHY', 'MYOVOL', 'NYCMAC', 'MYOVEL'], value = 'NoID')"
   ]
  },
  {
   "cell_type": "code",
   "execution_count": 277,
   "metadata": {},
   "outputs": [
    {
     "data": {
      "text/plain": [
       "NoID      2907\n",
       "TADBRA    1563\n",
       "MYOYUM     855\n",
       "PARHES     524\n",
       "Name: COMP ID, dtype: int64"
      ]
     },
     "execution_count": 277,
     "metadata": {},
     "output_type": "execute_result"
    }
   ],
   "source": [
    "three_spp.value_counts()"
   ]
  },
  {
   "cell_type": "code",
   "execution_count": 278,
   "metadata": {},
   "outputs": [],
   "source": [
    "#Making new dataframe of three species from copy of original dataframe\n",
    "three_spp_data = data.copy()"
   ]
  },
  {
   "cell_type": "code",
   "execution_count": 279,
   "metadata": {},
   "outputs": [],
   "source": [
    "#making new column with only the three most common species and NoID\n",
    "three_spp_data['COMP ID'] = three_spp"
   ]
  },
  {
   "cell_type": "code",
   "execution_count": 280,
   "metadata": {},
   "outputs": [
    {
     "data": {
      "text/html": [
       "<div>\n",
       "<style scoped>\n",
       "    .dataframe tbody tr th:only-of-type {\n",
       "        vertical-align: middle;\n",
       "    }\n",
       "\n",
       "    .dataframe tbody tr th {\n",
       "        vertical-align: top;\n",
       "    }\n",
       "\n",
       "    .dataframe thead th {\n",
       "        text-align: right;\n",
       "    }\n",
       "</style>\n",
       "<table border=\"1\" class=\"dataframe\">\n",
       "  <thead>\n",
       "    <tr style=\"text-align: right;\">\n",
       "      <th></th>\n",
       "      <th>Spp</th>\n",
       "      <th>MATCH RATIO</th>\n",
       "      <th>Fc</th>\n",
       "      <th>Sc</th>\n",
       "      <th>Dur</th>\n",
       "      <th>Fmax</th>\n",
       "      <th>Fmin</th>\n",
       "      <th>Fk</th>\n",
       "      <th>Tk</th>\n",
       "      <th>S1</th>\n",
       "      <th>BWDth</th>\n",
       "      <th>PkDur</th>\n",
       "      <th>COMP ID</th>\n",
       "      <th>Result</th>\n",
       "    </tr>\n",
       "  </thead>\n",
       "  <tbody>\n",
       "    <tr>\n",
       "      <th>0</th>\n",
       "      <td>ANTPAL</td>\n",
       "      <td>0.258</td>\n",
       "      <td>32.032</td>\n",
       "      <td>84.83</td>\n",
       "      <td>3.601</td>\n",
       "      <td>43.750</td>\n",
       "      <td>31.157</td>\n",
       "      <td>35.004</td>\n",
       "      <td>2.090</td>\n",
       "      <td>326.50</td>\n",
       "      <td>12.593</td>\n",
       "      <td>35.545682</td>\n",
       "      <td>NoID</td>\n",
       "      <td>False</td>\n",
       "    </tr>\n",
       "    <tr>\n",
       "      <th>1</th>\n",
       "      <td>ANTPAL</td>\n",
       "      <td>0.875</td>\n",
       "      <td>28.955</td>\n",
       "      <td>61.99</td>\n",
       "      <td>6.088</td>\n",
       "      <td>48.466</td>\n",
       "      <td>27.932</td>\n",
       "      <td>30.731</td>\n",
       "      <td>4.213</td>\n",
       "      <td>208.94</td>\n",
       "      <td>20.534</td>\n",
       "      <td>21.222076</td>\n",
       "      <td>NoID</td>\n",
       "      <td>True</td>\n",
       "    </tr>\n",
       "    <tr>\n",
       "      <th>2</th>\n",
       "      <td>ANTPAL</td>\n",
       "      <td>0.714</td>\n",
       "      <td>29.955</td>\n",
       "      <td>68.58</td>\n",
       "      <td>2.948</td>\n",
       "      <td>39.362</td>\n",
       "      <td>29.800</td>\n",
       "      <td>31.430</td>\n",
       "      <td>1.990</td>\n",
       "      <td>297.09</td>\n",
       "      <td>9.562</td>\n",
       "      <td>30.800543</td>\n",
       "      <td>NoID</td>\n",
       "      <td>True</td>\n",
       "    </tr>\n",
       "    <tr>\n",
       "      <th>3</th>\n",
       "      <td>ANTPAL</td>\n",
       "      <td>0.444</td>\n",
       "      <td>32.315</td>\n",
       "      <td>92.00</td>\n",
       "      <td>4.292</td>\n",
       "      <td>54.628</td>\n",
       "      <td>31.916</td>\n",
       "      <td>35.201</td>\n",
       "      <td>2.918</td>\n",
       "      <td>547.76</td>\n",
       "      <td>22.712</td>\n",
       "      <td>27.912395</td>\n",
       "      <td>NoID</td>\n",
       "      <td>True</td>\n",
       "    </tr>\n",
       "    <tr>\n",
       "      <th>4</th>\n",
       "      <td>EPTFUS</td>\n",
       "      <td>0.398</td>\n",
       "      <td>35.502</td>\n",
       "      <td>31.02</td>\n",
       "      <td>6.288</td>\n",
       "      <td>46.429</td>\n",
       "      <td>34.205</td>\n",
       "      <td>37.141</td>\n",
       "      <td>3.196</td>\n",
       "      <td>332.20</td>\n",
       "      <td>12.224</td>\n",
       "      <td>33.699109</td>\n",
       "      <td>NoID</td>\n",
       "      <td>True</td>\n",
       "    </tr>\n",
       "  </tbody>\n",
       "</table>\n",
       "</div>"
      ],
      "text/plain": [
       "      Spp  MATCH RATIO      Fc     Sc    Dur    Fmax    Fmin      Fk     Tk  \\\n",
       "0  ANTPAL        0.258  32.032  84.83  3.601  43.750  31.157  35.004  2.090   \n",
       "1  ANTPAL        0.875  28.955  61.99  6.088  48.466  27.932  30.731  4.213   \n",
       "2  ANTPAL        0.714  29.955  68.58  2.948  39.362  29.800  31.430  1.990   \n",
       "3  ANTPAL        0.444  32.315  92.00  4.292  54.628  31.916  35.201  2.918   \n",
       "4  EPTFUS        0.398  35.502  31.02  6.288  46.429  34.205  37.141  3.196   \n",
       "\n",
       "       S1   BWDth      PkDur COMP ID  Result  \n",
       "0  326.50  12.593  35.545682    NoID   False  \n",
       "1  208.94  20.534  21.222076    NoID    True  \n",
       "2  297.09   9.562  30.800543    NoID    True  \n",
       "3  547.76  22.712  27.912395    NoID    True  \n",
       "4  332.20  12.224  33.699109    NoID    True  "
      ]
     },
     "execution_count": 280,
     "metadata": {},
     "output_type": "execute_result"
    }
   ],
   "source": [
    "three_spp_data.head()"
   ]
  },
  {
   "cell_type": "code",
   "execution_count": 281,
   "metadata": {},
   "outputs": [
    {
     "data": {
      "text/plain": [
       "NoID      2907\n",
       "TADBRA    1563\n",
       "MYOYUM     855\n",
       "PARHES     524\n",
       "Name: COMP ID, dtype: int64"
      ]
     },
     "execution_count": 281,
     "metadata": {},
     "output_type": "execute_result"
    }
   ],
   "source": [
    "three_spp_data['COMP ID'].value_counts()"
   ]
  },
  {
   "cell_type": "code",
   "execution_count": 282,
   "metadata": {},
   "outputs": [
    {
     "name": "stdout",
     "output_type": "stream",
     "text": [
      "[0.0, 0.1, 0.2, 0.3, 0.4, 0.5, 0.6, 0.7, 0.8, 0.9]\n",
      "[85.112168592794, 98.50393700787401, 98.68368568009573, 98.78207916485428, 98.96533885152613, 99.09443725743856, 99.21875, 99.48519948519949, 99.78947368421053, 100.0]\n"
     ]
    },
    {
     "name": "stderr",
     "output_type": "stream",
     "text": [
      "<ipython-input-282-2f7e98a5ce58>:6: UserWarning: Boolean Series key will be reindexed to match DataFrame index.\n",
      "  tempdf = three_spp_data[three_spp_data['COMP ID'] != 'NoID'][three_spp_data['MATCH RATIO'] >= i]\n",
      "<ipython-input-282-2f7e98a5ce58>:6: UserWarning: Boolean Series key will be reindexed to match DataFrame index.\n",
      "  tempdf = three_spp_data[three_spp_data['COMP ID'] != 'NoID'][three_spp_data['MATCH RATIO'] >= i]\n",
      "<ipython-input-282-2f7e98a5ce58>:6: UserWarning: Boolean Series key will be reindexed to match DataFrame index.\n",
      "  tempdf = three_spp_data[three_spp_data['COMP ID'] != 'NoID'][three_spp_data['MATCH RATIO'] >= i]\n",
      "<ipython-input-282-2f7e98a5ce58>:6: UserWarning: Boolean Series key will be reindexed to match DataFrame index.\n",
      "  tempdf = three_spp_data[three_spp_data['COMP ID'] != 'NoID'][three_spp_data['MATCH RATIO'] >= i]\n",
      "<ipython-input-282-2f7e98a5ce58>:6: UserWarning: Boolean Series key will be reindexed to match DataFrame index.\n",
      "  tempdf = three_spp_data[three_spp_data['COMP ID'] != 'NoID'][three_spp_data['MATCH RATIO'] >= i]\n",
      "<ipython-input-282-2f7e98a5ce58>:6: UserWarning: Boolean Series key will be reindexed to match DataFrame index.\n",
      "  tempdf = three_spp_data[three_spp_data['COMP ID'] != 'NoID'][three_spp_data['MATCH RATIO'] >= i]\n",
      "<ipython-input-282-2f7e98a5ce58>:6: UserWarning: Boolean Series key will be reindexed to match DataFrame index.\n",
      "  tempdf = three_spp_data[three_spp_data['COMP ID'] != 'NoID'][three_spp_data['MATCH RATIO'] >= i]\n",
      "<ipython-input-282-2f7e98a5ce58>:6: UserWarning: Boolean Series key will be reindexed to match DataFrame index.\n",
      "  tempdf = three_spp_data[three_spp_data['COMP ID'] != 'NoID'][three_spp_data['MATCH RATIO'] >= i]\n",
      "<ipython-input-282-2f7e98a5ce58>:6: UserWarning: Boolean Series key will be reindexed to match DataFrame index.\n",
      "  tempdf = three_spp_data[three_spp_data['COMP ID'] != 'NoID'][three_spp_data['MATCH RATIO'] >= i]\n",
      "<ipython-input-282-2f7e98a5ce58>:6: UserWarning: Boolean Series key will be reindexed to match DataFrame index.\n",
      "  tempdf = three_spp_data[three_spp_data['COMP ID'] != 'NoID'][three_spp_data['MATCH RATIO'] >= i]\n"
     ]
    }
   ],
   "source": [
    "#Determining accuracy of computer id for different match ratios when NoID is removed\n",
    "aa_r3_n = []\n",
    "bb_r3_n = []\n",
    "for i in [float(x/10) for x in range(10)]:\n",
    "    aa_r3_n.append(i)\n",
    "    tempdf = three_spp_data[three_spp_data['COMP ID'] != 'NoID'][three_spp_data['MATCH RATIO'] >= i]\n",
    "    #print(len(tempdf))\n",
    "    bb_r3_n.append(sum(tempdf['Result'] == True) / len(tempdf) * 100)\n",
    "print(aa_r3_n)\n",
    "print(bb_r3_n)"
   ]
  },
  {
   "cell_type": "code",
   "execution_count": 283,
   "metadata": {},
   "outputs": [
    {
     "name": "stdout",
     "output_type": "stream",
     "text": [
      "[0.0, 0.1, 0.2, 0.3, 0.4, 0.5, 0.6, 0.7, 0.8, 0.9]\n",
      "[68.21678919473413, 73.99241346609767, 74.82312759209563, 77.11470024637285, 80.05363727790814, 82.65746333045729, 86.89024390243902, 89.16211293260473, 90.01490312965723, 90.93851132686083]\n"
     ]
    }
   ],
   "source": [
    "#Accuracy of three most common species with NoID's included\n",
    "aa_r3 = []\n",
    "bb_r3 = []\n",
    "for i in [float(x/10) for x in range(10)]:\n",
    "    aa_r3.append(i)\n",
    "    tempdf = three_spp_data[three_spp_data['MATCH RATIO'] >= i]\n",
    "    #print(len(tempdf))\n",
    "    bb_r3.append(sum(tempdf['Result'] == True) / len(tempdf) * 100)\n",
    "print(aa_r3)\n",
    "print(bb_r3)"
   ]
  },
  {
   "cell_type": "code",
   "execution_count": null,
   "metadata": {},
   "outputs": [],
   "source": []
  },
  {
   "cell_type": "markdown",
   "metadata": {},
   "source": [
    "#### Kaleidoscope Pro Accuracy By Individual Speceis"
   ]
  },
  {
   "cell_type": "code",
   "execution_count": 25,
   "metadata": {},
   "outputs": [
    {
     "name": "stdout",
     "output_type": "stream",
     "text": [
      "[0.0, 0.1, 0.2, 0.3, 0.4, 0.5, 0.6, 0.7, 0.8, 0.9]\n",
      "[96.75236806495265, 96.75236806495265, 96.75236806495265, 96.86648501362399, 96.97841726618705, 97.34219269102991, 97.92147806004618, 97.02127659574468, 93.02325581395348, 91.66666666666666]\n"
     ]
    },
    {
     "name": "stderr",
     "output_type": "stream",
     "text": [
      "<ipython-input-25-1462cb3e323a>:5: UserWarning: Boolean Series key will be reindexed to match DataFrame index.\n",
      "  tempdf = three_spp_data[three_spp_data['MATCH RATIO'] >= i][three_spp_data['Spp'] == 'MYOYUM']\n",
      "<ipython-input-25-1462cb3e323a>:5: UserWarning: Boolean Series key will be reindexed to match DataFrame index.\n",
      "  tempdf = three_spp_data[three_spp_data['MATCH RATIO'] >= i][three_spp_data['Spp'] == 'MYOYUM']\n",
      "<ipython-input-25-1462cb3e323a>:5: UserWarning: Boolean Series key will be reindexed to match DataFrame index.\n",
      "  tempdf = three_spp_data[three_spp_data['MATCH RATIO'] >= i][three_spp_data['Spp'] == 'MYOYUM']\n",
      "<ipython-input-25-1462cb3e323a>:5: UserWarning: Boolean Series key will be reindexed to match DataFrame index.\n",
      "  tempdf = three_spp_data[three_spp_data['MATCH RATIO'] >= i][three_spp_data['Spp'] == 'MYOYUM']\n",
      "<ipython-input-25-1462cb3e323a>:5: UserWarning: Boolean Series key will be reindexed to match DataFrame index.\n",
      "  tempdf = three_spp_data[three_spp_data['MATCH RATIO'] >= i][three_spp_data['Spp'] == 'MYOYUM']\n",
      "<ipython-input-25-1462cb3e323a>:5: UserWarning: Boolean Series key will be reindexed to match DataFrame index.\n",
      "  tempdf = three_spp_data[three_spp_data['MATCH RATIO'] >= i][three_spp_data['Spp'] == 'MYOYUM']\n",
      "<ipython-input-25-1462cb3e323a>:5: UserWarning: Boolean Series key will be reindexed to match DataFrame index.\n",
      "  tempdf = three_spp_data[three_spp_data['MATCH RATIO'] >= i][three_spp_data['Spp'] == 'MYOYUM']\n",
      "<ipython-input-25-1462cb3e323a>:5: UserWarning: Boolean Series key will be reindexed to match DataFrame index.\n",
      "  tempdf = three_spp_data[three_spp_data['MATCH RATIO'] >= i][three_spp_data['Spp'] == 'MYOYUM']\n",
      "<ipython-input-25-1462cb3e323a>:5: UserWarning: Boolean Series key will be reindexed to match DataFrame index.\n",
      "  tempdf = three_spp_data[three_spp_data['MATCH RATIO'] >= i][three_spp_data['Spp'] == 'MYOYUM']\n"
     ]
    }
   ],
   "source": [
    "#Computer id accuracy for different match ratios for MYOYUM\n",
    "aa_myoyum = []\n",
    "bb_myoyum = []\n",
    "for i in [float(x/10) for x in range(10)]:\n",
    "    aa_myoyum.append(i)\n",
    "    tempdf = three_spp_data[three_spp_data['MATCH RATIO'] >= i][three_spp_data['Spp'] == 'MYOYUM']\n",
    "    #print(len(tempdf))\n",
    "    bb_myoyum.append(sum(tempdf['Result'] == True) / len(tempdf) * 100)\n",
    "print(aa_myoyum)\n",
    "print(bb_myoyum)"
   ]
  },
  {
   "cell_type": "code",
   "execution_count": 26,
   "metadata": {},
   "outputs": [
    {
     "name": "stdout",
     "output_type": "stream",
     "text": [
      "[0.0, 0.1, 0.2, 0.3, 0.4, 0.5, 0.6, 0.7, 0.8, 0.9]\n",
      "[92.26519337016575, 92.26519337016575, 92.26519337016575, 92.26519337016575, 93.05816135084429, 94.04990403071018, 96.65970772442589, 98.78934624697337, 99.07407407407408, 100.0]\n"
     ]
    },
    {
     "name": "stderr",
     "output_type": "stream",
     "text": [
      "<ipython-input-26-65bbdfdbb3ae>:5: UserWarning: Boolean Series key will be reindexed to match DataFrame index.\n",
      "  tempdf = three_spp_data[three_spp_data['MATCH RATIO'] >= i][three_spp_data['Spp'] == 'PARHES']\n",
      "<ipython-input-26-65bbdfdbb3ae>:5: UserWarning: Boolean Series key will be reindexed to match DataFrame index.\n",
      "  tempdf = three_spp_data[three_spp_data['MATCH RATIO'] >= i][three_spp_data['Spp'] == 'PARHES']\n",
      "<ipython-input-26-65bbdfdbb3ae>:5: UserWarning: Boolean Series key will be reindexed to match DataFrame index.\n",
      "  tempdf = three_spp_data[three_spp_data['MATCH RATIO'] >= i][three_spp_data['Spp'] == 'PARHES']\n",
      "<ipython-input-26-65bbdfdbb3ae>:5: UserWarning: Boolean Series key will be reindexed to match DataFrame index.\n",
      "  tempdf = three_spp_data[three_spp_data['MATCH RATIO'] >= i][three_spp_data['Spp'] == 'PARHES']\n",
      "<ipython-input-26-65bbdfdbb3ae>:5: UserWarning: Boolean Series key will be reindexed to match DataFrame index.\n",
      "  tempdf = three_spp_data[three_spp_data['MATCH RATIO'] >= i][three_spp_data['Spp'] == 'PARHES']\n",
      "<ipython-input-26-65bbdfdbb3ae>:5: UserWarning: Boolean Series key will be reindexed to match DataFrame index.\n",
      "  tempdf = three_spp_data[three_spp_data['MATCH RATIO'] >= i][three_spp_data['Spp'] == 'PARHES']\n",
      "<ipython-input-26-65bbdfdbb3ae>:5: UserWarning: Boolean Series key will be reindexed to match DataFrame index.\n",
      "  tempdf = three_spp_data[three_spp_data['MATCH RATIO'] >= i][three_spp_data['Spp'] == 'PARHES']\n",
      "<ipython-input-26-65bbdfdbb3ae>:5: UserWarning: Boolean Series key will be reindexed to match DataFrame index.\n",
      "  tempdf = three_spp_data[three_spp_data['MATCH RATIO'] >= i][three_spp_data['Spp'] == 'PARHES']\n",
      "<ipython-input-26-65bbdfdbb3ae>:5: UserWarning: Boolean Series key will be reindexed to match DataFrame index.\n",
      "  tempdf = three_spp_data[three_spp_data['MATCH RATIO'] >= i][three_spp_data['Spp'] == 'PARHES']\n"
     ]
    }
   ],
   "source": [
    "#Computer id accuracy for different match ratios for PARHES\n",
    "aa_parhes = []\n",
    "bb_parhes = []\n",
    "for i in [float(x/10) for x in range(10)]:\n",
    "    aa_parhes.append(i)\n",
    "    tempdf = three_spp_data[three_spp_data['MATCH RATIO'] >= i][three_spp_data['Spp'] == 'PARHES']\n",
    "    #print(len(tempdf))\n",
    "    bb_parhes.append(sum(tempdf['Result'] == True) / len(tempdf) * 100)\n",
    "print(aa_parhes)\n",
    "print(bb_parhes)"
   ]
  },
  {
   "cell_type": "code",
   "execution_count": 27,
   "metadata": {},
   "outputs": [
    {
     "name": "stdout",
     "output_type": "stream",
     "text": [
      "[0.0, 0.1, 0.2, 0.3, 0.4, 0.5, 0.6, 0.7, 0.8, 0.9]\n",
      "[68.04014791336503, 68.07834833245103, 68.70562534134352, 70.27206370272063, 71.23681687440076, 71.81102362204724, 74.63556851311954, 75.69060773480662, 76.04166666666666, 75.75757575757575]\n"
     ]
    },
    {
     "name": "stderr",
     "output_type": "stream",
     "text": [
      "<ipython-input-27-231e092b2cf0>:5: UserWarning: Boolean Series key will be reindexed to match DataFrame index.\n",
      "  tempdf = three_spp_data[three_spp_data['MATCH RATIO'] >= i][three_spp_data['Spp'] == 'TADBRA']\n",
      "<ipython-input-27-231e092b2cf0>:5: UserWarning: Boolean Series key will be reindexed to match DataFrame index.\n",
      "  tempdf = three_spp_data[three_spp_data['MATCH RATIO'] >= i][three_spp_data['Spp'] == 'TADBRA']\n",
      "<ipython-input-27-231e092b2cf0>:5: UserWarning: Boolean Series key will be reindexed to match DataFrame index.\n",
      "  tempdf = three_spp_data[three_spp_data['MATCH RATIO'] >= i][three_spp_data['Spp'] == 'TADBRA']\n",
      "<ipython-input-27-231e092b2cf0>:5: UserWarning: Boolean Series key will be reindexed to match DataFrame index.\n",
      "  tempdf = three_spp_data[three_spp_data['MATCH RATIO'] >= i][three_spp_data['Spp'] == 'TADBRA']\n",
      "<ipython-input-27-231e092b2cf0>:5: UserWarning: Boolean Series key will be reindexed to match DataFrame index.\n",
      "  tempdf = three_spp_data[three_spp_data['MATCH RATIO'] >= i][three_spp_data['Spp'] == 'TADBRA']\n",
      "<ipython-input-27-231e092b2cf0>:5: UserWarning: Boolean Series key will be reindexed to match DataFrame index.\n",
      "  tempdf = three_spp_data[three_spp_data['MATCH RATIO'] >= i][three_spp_data['Spp'] == 'TADBRA']\n",
      "<ipython-input-27-231e092b2cf0>:5: UserWarning: Boolean Series key will be reindexed to match DataFrame index.\n",
      "  tempdf = three_spp_data[three_spp_data['MATCH RATIO'] >= i][three_spp_data['Spp'] == 'TADBRA']\n",
      "<ipython-input-27-231e092b2cf0>:5: UserWarning: Boolean Series key will be reindexed to match DataFrame index.\n",
      "  tempdf = three_spp_data[three_spp_data['MATCH RATIO'] >= i][three_spp_data['Spp'] == 'TADBRA']\n",
      "<ipython-input-27-231e092b2cf0>:5: UserWarning: Boolean Series key will be reindexed to match DataFrame index.\n",
      "  tempdf = three_spp_data[three_spp_data['MATCH RATIO'] >= i][three_spp_data['Spp'] == 'TADBRA']\n"
     ]
    }
   ],
   "source": [
    "#Computer id accuracy for different match ratios for TADBRA\n",
    "aa_tadbra = []\n",
    "bb_tadbra = []\n",
    "for i in [float(x/10) for x in range(10)]:\n",
    "    aa_tadbra.append(i)\n",
    "    tempdf = three_spp_data[three_spp_data['MATCH RATIO'] >= i][three_spp_data['Spp'] == 'TADBRA']\n",
    "    #print(len(tempdf))\n",
    "    bb_tadbra.append(sum(tempdf['Result'] == True) / len(tempdf) * 100)\n",
    "print(aa_tadbra)\n",
    "print(bb_tadbra)"
   ]
  },
  {
   "cell_type": "code",
   "execution_count": 28,
   "metadata": {},
   "outputs": [],
   "source": [
    "#Train test split for making final random forest model\n",
    "X_trainRF, X_testRF, y_trainRF, y_testRF = train_test_split(data.drop(columns='Spp'), \n",
    "                                                    data[['Spp']], \n",
    "                                                            test_size=0.3, random_state=42)"
   ]
  },
  {
   "cell_type": "markdown",
   "metadata": {},
   "source": [
    "## Final Random Forest Model"
   ]
  },
  {
   "cell_type": "code",
   "execution_count": 29,
   "metadata": {},
   "outputs": [],
   "source": [
    "#Setting hyperparameters for random forest based on gridsearch cv as determined above\n",
    "rfc_model = RandomForestClassifier(n_estimators = 220, \n",
    "                                   max_depth = 11, \n",
    "                                   max_features = 'auto', \n",
    "                                   criterion = 'gini', \n",
    "                                   random_state = 42)"
   ]
  },
  {
   "cell_type": "code",
   "execution_count": 30,
   "metadata": {},
   "outputs": [],
   "source": [
    "#fitting model to training data\n",
    "rfc_model = rfc_model.fit(X_trainRF.drop(columns = ['MATCH RATIO', 'COMP ID', 'Result']), y_trainRF.Spp)"
   ]
  },
  {
   "cell_type": "markdown",
   "metadata": {},
   "source": [
    "### RF Test Data"
   ]
  },
  {
   "cell_type": "code",
   "execution_count": 31,
   "metadata": {},
   "outputs": [],
   "source": [
    "#Making predictions from model for test data\n",
    "RF_model_pred = rfc_model.predict(X_testRF.drop(columns = ['MATCH RATIO', 'COMP ID', 'Result']))"
   ]
  },
  {
   "cell_type": "code",
   "execution_count": 32,
   "metadata": {},
   "outputs": [
    {
     "data": {
      "text/plain": [
       "0.6609686609686609"
      ]
     },
     "execution_count": 32,
     "metadata": {},
     "output_type": "execute_result"
    }
   ],
   "source": [
    "#Accuracy of all species model\n",
    "rfc_model.score(X_testRF.drop(columns = ['MATCH RATIO', 'COMP ID', 'Result']), y_testRF.Spp)"
   ]
  },
  {
   "cell_type": "code",
   "execution_count": 33,
   "metadata": {},
   "outputs": [
    {
     "data": {
      "text/plain": [
       "array(['MYOYUM', 'LASXAN', 'EPTFUS', 'TADBRA', 'NoID', 'LASNOC', 'MYOVOL',\n",
       "       'PARHES', 'LASCIN', 'MYOCAL', 'EUMUND', 'MYOTHY', 'LASBLO',\n",
       "       'EUMPER', 'NYCFEM', 'MYOOCC', 'MYOCIL', 'MYOVEL'], dtype=object)"
      ]
     },
     "execution_count": 33,
     "metadata": {},
     "output_type": "execute_result"
    }
   ],
   "source": [
    "#Viewing species present in Spp column\n",
    "y_testRF['Spp'].unique()"
   ]
  },
  {
   "cell_type": "markdown",
   "metadata": {},
   "source": [
    "#### All Species "
   ]
  },
  {
   "cell_type": "code",
   "execution_count": 34,
   "metadata": {},
   "outputs": [],
   "source": [
    "#making copy of X_testRF to determin accuracy of model by match ratio\n",
    "test_df = X_testRF.copy()"
   ]
  },
  {
   "cell_type": "code",
   "execution_count": 35,
   "metadata": {},
   "outputs": [],
   "source": [
    "#Adding back species names to a Spp column\n",
    "test_df['Spp'] = y_testRF.Spp"
   ]
  },
  {
   "cell_type": "code",
   "execution_count": 36,
   "metadata": {},
   "outputs": [],
   "source": [
    "#Adding a prediction column based off of model predictions\n",
    "test_df['Prediction'] = RF_model_pred"
   ]
  },
  {
   "cell_type": "code",
   "execution_count": 37,
   "metadata": {},
   "outputs": [],
   "source": [
    "#Adding prediction column to determine accuracy of model\n",
    "test_df['Pred_Result'] = test_df.Spp == test_df.Prediction"
   ]
  },
  {
   "cell_type": "code",
   "execution_count": 38,
   "metadata": {},
   "outputs": [
    {
     "data": {
      "text/html": [
       "<div>\n",
       "<style scoped>\n",
       "    .dataframe tbody tr th:only-of-type {\n",
       "        vertical-align: middle;\n",
       "    }\n",
       "\n",
       "    .dataframe tbody tr th {\n",
       "        vertical-align: top;\n",
       "    }\n",
       "\n",
       "    .dataframe thead th {\n",
       "        text-align: right;\n",
       "    }\n",
       "</style>\n",
       "<table border=\"1\" class=\"dataframe\">\n",
       "  <thead>\n",
       "    <tr style=\"text-align: right;\">\n",
       "      <th></th>\n",
       "      <th>MATCH RATIO</th>\n",
       "      <th>Fc</th>\n",
       "      <th>Sc</th>\n",
       "      <th>Dur</th>\n",
       "      <th>Fmax</th>\n",
       "      <th>Fmin</th>\n",
       "      <th>Fk</th>\n",
       "      <th>Tk</th>\n",
       "      <th>S1</th>\n",
       "      <th>BWDth</th>\n",
       "      <th>PkDur</th>\n",
       "      <th>COMP ID</th>\n",
       "      <th>Result</th>\n",
       "      <th>Spp</th>\n",
       "      <th>Prediction</th>\n",
       "      <th>Pred_Result</th>\n",
       "    </tr>\n",
       "  </thead>\n",
       "  <tbody>\n",
       "    <tr>\n",
       "      <th>1335</th>\n",
       "      <td>0.635</td>\n",
       "      <td>49.302</td>\n",
       "      <td>76.25</td>\n",
       "      <td>2.749</td>\n",
       "      <td>58.018</td>\n",
       "      <td>47.115</td>\n",
       "      <td>54.052</td>\n",
       "      <td>0.658</td>\n",
       "      <td>266.42</td>\n",
       "      <td>10.903</td>\n",
       "      <td>60.240087</td>\n",
       "      <td>MYOYUM</td>\n",
       "      <td>True</td>\n",
       "      <td>MYOYUM</td>\n",
       "      <td>MYOYUM</td>\n",
       "      <td>True</td>\n",
       "    </tr>\n",
       "    <tr>\n",
       "      <th>807</th>\n",
       "      <td>0.549</td>\n",
       "      <td>31.403</td>\n",
       "      <td>22.62</td>\n",
       "      <td>8.043</td>\n",
       "      <td>38.994</td>\n",
       "      <td>30.118</td>\n",
       "      <td>32.990</td>\n",
       "      <td>3.461</td>\n",
       "      <td>171.84</td>\n",
       "      <td>8.876</td>\n",
       "      <td>38.356335</td>\n",
       "      <td>NoID</td>\n",
       "      <td>False</td>\n",
       "      <td>LASXAN</td>\n",
       "      <td>NoID</td>\n",
       "      <td>False</td>\n",
       "    </tr>\n",
       "    <tr>\n",
       "      <th>1197</th>\n",
       "      <td>0.624</td>\n",
       "      <td>52.841</td>\n",
       "      <td>60.20</td>\n",
       "      <td>3.157</td>\n",
       "      <td>69.571</td>\n",
       "      <td>49.308</td>\n",
       "      <td>56.320</td>\n",
       "      <td>1.408</td>\n",
       "      <td>234.22</td>\n",
       "      <td>20.263</td>\n",
       "      <td>34.969908</td>\n",
       "      <td>MYOYUM</td>\n",
       "      <td>True</td>\n",
       "      <td>MYOYUM</td>\n",
       "      <td>MYOYUM</td>\n",
       "      <td>True</td>\n",
       "    </tr>\n",
       "    <tr>\n",
       "      <th>23</th>\n",
       "      <td>0.216</td>\n",
       "      <td>28.506</td>\n",
       "      <td>51.50</td>\n",
       "      <td>8.462</td>\n",
       "      <td>41.341</td>\n",
       "      <td>26.056</td>\n",
       "      <td>30.510</td>\n",
       "      <td>4.574</td>\n",
       "      <td>201.43</td>\n",
       "      <td>15.285</td>\n",
       "      <td>28.716615</td>\n",
       "      <td>TADBRA</td>\n",
       "      <td>False</td>\n",
       "      <td>EPTFUS</td>\n",
       "      <td>NoID</td>\n",
       "      <td>False</td>\n",
       "    </tr>\n",
       "    <tr>\n",
       "      <th>4195</th>\n",
       "      <td>0.455</td>\n",
       "      <td>28.871</td>\n",
       "      <td>18.25</td>\n",
       "      <td>8.871</td>\n",
       "      <td>34.559</td>\n",
       "      <td>27.935</td>\n",
       "      <td>29.777</td>\n",
       "      <td>4.868</td>\n",
       "      <td>73.47</td>\n",
       "      <td>6.624</td>\n",
       "      <td>26.738812</td>\n",
       "      <td>TADBRA</td>\n",
       "      <td>True</td>\n",
       "      <td>TADBRA</td>\n",
       "      <td>TADBRA</td>\n",
       "      <td>True</td>\n",
       "    </tr>\n",
       "  </tbody>\n",
       "</table>\n",
       "</div>"
      ],
      "text/plain": [
       "      MATCH RATIO      Fc     Sc    Dur    Fmax    Fmin      Fk     Tk  \\\n",
       "1335        0.635  49.302  76.25  2.749  58.018  47.115  54.052  0.658   \n",
       "807         0.549  31.403  22.62  8.043  38.994  30.118  32.990  3.461   \n",
       "1197        0.624  52.841  60.20  3.157  69.571  49.308  56.320  1.408   \n",
       "23          0.216  28.506  51.50  8.462  41.341  26.056  30.510  4.574   \n",
       "4195        0.455  28.871  18.25  8.871  34.559  27.935  29.777  4.868   \n",
       "\n",
       "          S1   BWDth      PkDur COMP ID  Result     Spp Prediction  \\\n",
       "1335  266.42  10.903  60.240087  MYOYUM    True  MYOYUM     MYOYUM   \n",
       "807   171.84   8.876  38.356335    NoID   False  LASXAN       NoID   \n",
       "1197  234.22  20.263  34.969908  MYOYUM    True  MYOYUM     MYOYUM   \n",
       "23    201.43  15.285  28.716615  TADBRA   False  EPTFUS       NoID   \n",
       "4195   73.47   6.624  26.738812  TADBRA    True  TADBRA     TADBRA   \n",
       "\n",
       "      Pred_Result  \n",
       "1335         True  \n",
       "807         False  \n",
       "1197         True  \n",
       "23          False  \n",
       "4195         True  "
      ]
     },
     "execution_count": 38,
     "metadata": {},
     "output_type": "execute_result"
    }
   ],
   "source": [
    "test_df.head()"
   ]
  },
  {
   "cell_type": "code",
   "execution_count": 369,
   "metadata": {},
   "outputs": [
    {
     "data": {
      "text/plain": [
       "0.5732971641594523"
      ]
     },
     "execution_count": 369,
     "metadata": {},
     "output_type": "execute_result"
    }
   ],
   "source": [
    "f1_score(test_df['Spp'], test_df['Prediction'], average = 'weighted')"
   ]
  },
  {
   "cell_type": "code",
   "execution_count": 39,
   "metadata": {},
   "outputs": [
    {
     "data": {
      "text/plain": [
       "TADBRA    768\n",
       "NoID      413\n",
       "MYOYUM    248\n",
       "PARHES    169\n",
       "LASCIN     53\n",
       "LASXAN     32\n",
       "LASNOC     23\n",
       "MYOCAL     16\n",
       "EPTFUS     13\n",
       "EUMPER      8\n",
       "EUMUND      5\n",
       "MYOTHY      3\n",
       "LASBLO      2\n",
       "MYOCIL      1\n",
       "NYCFEM      1\n",
       "Name: Prediction, dtype: int64"
      ]
     },
     "execution_count": 39,
     "metadata": {},
     "output_type": "execute_result"
    }
   ],
   "source": [
    "test_df['Prediction'].value_counts()"
   ]
  },
  {
   "cell_type": "code",
   "execution_count": 40,
   "metadata": {},
   "outputs": [
    {
     "data": {
      "text/plain": [
       "(1755, 16)"
      ]
     },
     "execution_count": 40,
     "metadata": {},
     "output_type": "execute_result"
    }
   ],
   "source": [
    "test_df.shape"
   ]
  },
  {
   "cell_type": "code",
   "execution_count": 41,
   "metadata": {},
   "outputs": [
    {
     "name": "stdout",
     "output_type": "stream",
     "text": [
      "[0.0, 0.1, 0.2, 0.3, 0.4, 0.5, 0.6, 0.7, 0.8, 0.9]\n",
      "[66.0968660968661, 73.80015735641227, 74.95948136142626, 75.81521739130434, 75.72706935123043, 77.17546362339515, 80.47808764940238, 80.23255813953489, 80.6930693069307, 83.33333333333334]\n"
     ]
    }
   ],
   "source": [
    "#Determining accuracy of all species by match ratio\n",
    "test_x = []\n",
    "test_y = []\n",
    "for i in [float(x/10) for x in range(10)]:\n",
    "    test_x.append(i)\n",
    "    tempdf = test_df[test_df['MATCH RATIO'] >= i]\n",
    "    test_y.append(sum(tempdf['Pred_Result'] == True) / len(tempdf) * 100)\n",
    "print(test_x)\n",
    "print(test_y)"
   ]
  },
  {
   "cell_type": "markdown",
   "metadata": {},
   "source": [
    "#### All Species and NoID Removed"
   ]
  },
  {
   "cell_type": "code",
   "execution_count": 42,
   "metadata": {},
   "outputs": [
    {
     "name": "stdout",
     "output_type": "stream",
     "text": [
      "[0.0, 0.1, 0.2, 0.3, 0.4, 0.5, 0.6, 0.7, 0.8, 0.9]\n",
      "[69.89567809239941, 86.6112650046168, 87.34655335221908, 87.2784150156413, 86.7948717948718, 86.97749196141478, 88.20960698689956, 87.06624605678233, 86.70212765957447, 87.91208791208791]\n"
     ]
    },
    {
     "name": "stderr",
     "output_type": "stream",
     "text": [
      "<ipython-input-42-136eaa243c1b>:5: UserWarning: Boolean Series key will be reindexed to match DataFrame index.\n",
      "  tempdf = test_df[test_df['Prediction'] != 'NoID'][test_df['MATCH RATIO'] >= i]\n",
      "<ipython-input-42-136eaa243c1b>:5: UserWarning: Boolean Series key will be reindexed to match DataFrame index.\n",
      "  tempdf = test_df[test_df['Prediction'] != 'NoID'][test_df['MATCH RATIO'] >= i]\n",
      "<ipython-input-42-136eaa243c1b>:5: UserWarning: Boolean Series key will be reindexed to match DataFrame index.\n",
      "  tempdf = test_df[test_df['Prediction'] != 'NoID'][test_df['MATCH RATIO'] >= i]\n",
      "<ipython-input-42-136eaa243c1b>:5: UserWarning: Boolean Series key will be reindexed to match DataFrame index.\n",
      "  tempdf = test_df[test_df['Prediction'] != 'NoID'][test_df['MATCH RATIO'] >= i]\n",
      "<ipython-input-42-136eaa243c1b>:5: UserWarning: Boolean Series key will be reindexed to match DataFrame index.\n",
      "  tempdf = test_df[test_df['Prediction'] != 'NoID'][test_df['MATCH RATIO'] >= i]\n",
      "<ipython-input-42-136eaa243c1b>:5: UserWarning: Boolean Series key will be reindexed to match DataFrame index.\n",
      "  tempdf = test_df[test_df['Prediction'] != 'NoID'][test_df['MATCH RATIO'] >= i]\n",
      "<ipython-input-42-136eaa243c1b>:5: UserWarning: Boolean Series key will be reindexed to match DataFrame index.\n",
      "  tempdf = test_df[test_df['Prediction'] != 'NoID'][test_df['MATCH RATIO'] >= i]\n",
      "<ipython-input-42-136eaa243c1b>:5: UserWarning: Boolean Series key will be reindexed to match DataFrame index.\n",
      "  tempdf = test_df[test_df['Prediction'] != 'NoID'][test_df['MATCH RATIO'] >= i]\n",
      "<ipython-input-42-136eaa243c1b>:5: UserWarning: Boolean Series key will be reindexed to match DataFrame index.\n",
      "  tempdf = test_df[test_df['Prediction'] != 'NoID'][test_df['MATCH RATIO'] >= i]\n",
      "<ipython-input-42-136eaa243c1b>:5: UserWarning: Boolean Series key will be reindexed to match DataFrame index.\n",
      "  tempdf = test_df[test_df['Prediction'] != 'NoID'][test_df['MATCH RATIO'] >= i]\n"
     ]
    }
   ],
   "source": [
    "#Removal of NoID, determination of all species accuracy of model\n",
    "test_x_r = []\n",
    "test_y_r = []\n",
    "for i in [float(x/10) for x in range(10)]:\n",
    "    test_x_r.append(i)\n",
    "    tempdf = test_df[test_df['Prediction'] != 'NoID'][test_df['MATCH RATIO'] >= i]\n",
    "    test_y_r.append(sum(tempdf['Pred_Result'] == True) / len(tempdf) * 100)\n",
    "print(test_x_r)\n",
    "print(test_y_r)"
   ]
  },
  {
   "cell_type": "markdown",
   "metadata": {},
   "source": [
    "#### Three Species and NoID Removed"
   ]
  },
  {
   "cell_type": "code",
   "execution_count": 43,
   "metadata": {},
   "outputs": [],
   "source": [
    "#Changing less common species to NoID\n",
    "three_spp_test = test_df['COMP ID'].replace(to_replace = ['ANTPAL', 'EPTFUS', 'LASCIN', 'LASNOC', 'EUMPER', 'EUMUND', \n",
    "                                      'NYCFEM', 'LASBLO', 'MYOCIL', 'MYOCAL', 'LASXAN', 'MYOEVO', \n",
    "                                      'MYOOCC', 'MYOTHY', 'MYOVOL', 'NYCMAC', 'MYOVEL'], value = 'NoID')"
   ]
  },
  {
   "cell_type": "code",
   "execution_count": 44,
   "metadata": {},
   "outputs": [
    {
     "data": {
      "text/plain": [
       "NoID      889\n",
       "TADBRA    430\n",
       "MYOYUM    269\n",
       "PARHES    167\n",
       "Name: COMP ID, dtype: int64"
      ]
     },
     "execution_count": 44,
     "metadata": {},
     "output_type": "execute_result"
    }
   ],
   "source": [
    "three_spp_test.value_counts()"
   ]
  },
  {
   "cell_type": "code",
   "execution_count": 45,
   "metadata": {},
   "outputs": [],
   "source": [
    "#changing test_df species to three most common species\n",
    "test_df['Prediction'] = three_spp_test"
   ]
  },
  {
   "cell_type": "code",
   "execution_count": 46,
   "metadata": {},
   "outputs": [
    {
     "data": {
      "text/plain": [
       "NoID      889\n",
       "TADBRA    430\n",
       "MYOYUM    269\n",
       "PARHES    167\n",
       "Name: Prediction, dtype: int64"
      ]
     },
     "execution_count": 46,
     "metadata": {},
     "output_type": "execute_result"
    }
   ],
   "source": [
    "test_df['Prediction'].value_counts()"
   ]
  },
  {
   "cell_type": "code",
   "execution_count": 47,
   "metadata": {},
   "outputs": [
    {
     "name": "stdout",
     "output_type": "stream",
     "text": [
      "[0.0, 0.1, 0.2, 0.3, 0.4, 0.5, 0.6, 0.7, 0.8, 0.9]\n",
      "[81.17782909930716, 88.29787234042553, 88.7248322147651, 89.40493468795356, 90.26086956521739, 92.11087420042644, 94.30199430199431, 95.37815126050421, 94.20289855072464, 97.01492537313433]\n"
     ]
    },
    {
     "name": "stderr",
     "output_type": "stream",
     "text": [
      "<ipython-input-47-7f91cb8c75a9>:5: UserWarning: Boolean Series key will be reindexed to match DataFrame index.\n",
      "  tempdf = test_df[test_df['Prediction'] != 'NoID'][test_df['MATCH RATIO'] >= i]\n",
      "<ipython-input-47-7f91cb8c75a9>:5: UserWarning: Boolean Series key will be reindexed to match DataFrame index.\n",
      "  tempdf = test_df[test_df['Prediction'] != 'NoID'][test_df['MATCH RATIO'] >= i]\n",
      "<ipython-input-47-7f91cb8c75a9>:5: UserWarning: Boolean Series key will be reindexed to match DataFrame index.\n",
      "  tempdf = test_df[test_df['Prediction'] != 'NoID'][test_df['MATCH RATIO'] >= i]\n",
      "<ipython-input-47-7f91cb8c75a9>:5: UserWarning: Boolean Series key will be reindexed to match DataFrame index.\n",
      "  tempdf = test_df[test_df['Prediction'] != 'NoID'][test_df['MATCH RATIO'] >= i]\n",
      "<ipython-input-47-7f91cb8c75a9>:5: UserWarning: Boolean Series key will be reindexed to match DataFrame index.\n",
      "  tempdf = test_df[test_df['Prediction'] != 'NoID'][test_df['MATCH RATIO'] >= i]\n",
      "<ipython-input-47-7f91cb8c75a9>:5: UserWarning: Boolean Series key will be reindexed to match DataFrame index.\n",
      "  tempdf = test_df[test_df['Prediction'] != 'NoID'][test_df['MATCH RATIO'] >= i]\n",
      "<ipython-input-47-7f91cb8c75a9>:5: UserWarning: Boolean Series key will be reindexed to match DataFrame index.\n",
      "  tempdf = test_df[test_df['Prediction'] != 'NoID'][test_df['MATCH RATIO'] >= i]\n",
      "<ipython-input-47-7f91cb8c75a9>:5: UserWarning: Boolean Series key will be reindexed to match DataFrame index.\n",
      "  tempdf = test_df[test_df['Prediction'] != 'NoID'][test_df['MATCH RATIO'] >= i]\n",
      "<ipython-input-47-7f91cb8c75a9>:5: UserWarning: Boolean Series key will be reindexed to match DataFrame index.\n",
      "  tempdf = test_df[test_df['Prediction'] != 'NoID'][test_df['MATCH RATIO'] >= i]\n",
      "<ipython-input-47-7f91cb8c75a9>:5: UserWarning: Boolean Series key will be reindexed to match DataFrame index.\n",
      "  tempdf = test_df[test_df['Prediction'] != 'NoID'][test_df['MATCH RATIO'] >= i]\n"
     ]
    }
   ],
   "source": [
    "#Overall species accuracy for three most common species by match ratio with NoID removed\n",
    "test_x_r3 = []\n",
    "test_y_r3 = []\n",
    "for i in [float(x/10) for x in range(10)]:\n",
    "    test_x_r3.append(i)\n",
    "    tempdf = test_df[test_df['Prediction'] != 'NoID'][test_df['MATCH RATIO'] >= i]\n",
    "    test_y_r3.append(sum(tempdf['Pred_Result'] == True) / len(tempdf) * 100)\n",
    "print(test_x_r3)\n",
    "print(test_y_r3)"
   ]
  },
  {
   "cell_type": "markdown",
   "metadata": {},
   "source": [
    "#### Three Species with NoID"
   ]
  },
  {
   "cell_type": "code",
   "execution_count": 48,
   "metadata": {},
   "outputs": [
    {
     "name": "stdout",
     "output_type": "stream",
     "text": [
      "[0.0, 0.1, 0.2, 0.3, 0.4, 0.5, 0.6, 0.7, 0.8, 0.9]\n",
      "[66.0968660968661, 73.80015735641227, 74.95948136142626, 75.81521739130434, 75.72706935123043, 77.17546362339515, 80.47808764940238, 80.23255813953489, 80.6930693069307, 83.33333333333334]\n"
     ]
    }
   ],
   "source": [
    "#Overall species accuracy for three most common species by match ratio with NoID\n",
    "test_x_r3_n = []\n",
    "test_y_r3_n = []\n",
    "for i in [float(x/10) for x in range(10)]:\n",
    "    test_x_r3_n.append(i)\n",
    "    tempdf = test_df[test_df['MATCH RATIO'] >= i]\n",
    "    test_y_r3_n.append(sum(tempdf['Pred_Result'] == True) / len(tempdf) * 100)\n",
    "print(test_x_r3_n)\n",
    "print(test_y_r3_n)"
   ]
  },
  {
   "cell_type": "markdown",
   "metadata": {},
   "source": [
    "#### Model Test Data Individual Species"
   ]
  },
  {
   "cell_type": "code",
   "execution_count": 49,
   "metadata": {},
   "outputs": [
    {
     "name": "stdout",
     "output_type": "stream",
     "text": [
      "[0.0, 0.1, 0.2, 0.3, 0.4, 0.5, 0.6, 0.7, 0.8, 0.9]\n",
      "[89.6103896103896, 89.6103896103896, 89.6103896103896, 90.39301310043668, 92.5925925925926, 95.55555555555556, 96.06299212598425, 97.14285714285714, 96.15384615384616, 100.0]\n"
     ]
    },
    {
     "name": "stderr",
     "output_type": "stream",
     "text": [
      "<ipython-input-49-19910d407a17>:5: UserWarning: Boolean Series key will be reindexed to match DataFrame index.\n",
      "  tempdf = test_df[test_df['MATCH RATIO'] >= i][test_df['Spp'] == 'MYOYUM']\n",
      "<ipython-input-49-19910d407a17>:5: UserWarning: Boolean Series key will be reindexed to match DataFrame index.\n",
      "  tempdf = test_df[test_df['MATCH RATIO'] >= i][test_df['Spp'] == 'MYOYUM']\n",
      "<ipython-input-49-19910d407a17>:5: UserWarning: Boolean Series key will be reindexed to match DataFrame index.\n",
      "  tempdf = test_df[test_df['MATCH RATIO'] >= i][test_df['Spp'] == 'MYOYUM']\n",
      "<ipython-input-49-19910d407a17>:5: UserWarning: Boolean Series key will be reindexed to match DataFrame index.\n",
      "  tempdf = test_df[test_df['MATCH RATIO'] >= i][test_df['Spp'] == 'MYOYUM']\n",
      "<ipython-input-49-19910d407a17>:5: UserWarning: Boolean Series key will be reindexed to match DataFrame index.\n",
      "  tempdf = test_df[test_df['MATCH RATIO'] >= i][test_df['Spp'] == 'MYOYUM']\n",
      "<ipython-input-49-19910d407a17>:5: UserWarning: Boolean Series key will be reindexed to match DataFrame index.\n",
      "  tempdf = test_df[test_df['MATCH RATIO'] >= i][test_df['Spp'] == 'MYOYUM']\n",
      "<ipython-input-49-19910d407a17>:5: UserWarning: Boolean Series key will be reindexed to match DataFrame index.\n",
      "  tempdf = test_df[test_df['MATCH RATIO'] >= i][test_df['Spp'] == 'MYOYUM']\n",
      "<ipython-input-49-19910d407a17>:5: UserWarning: Boolean Series key will be reindexed to match DataFrame index.\n",
      "  tempdf = test_df[test_df['MATCH RATIO'] >= i][test_df['Spp'] == 'MYOYUM']\n",
      "<ipython-input-49-19910d407a17>:5: UserWarning: Boolean Series key will be reindexed to match DataFrame index.\n",
      "  tempdf = test_df[test_df['MATCH RATIO'] >= i][test_df['Spp'] == 'MYOYUM']\n"
     ]
    }
   ],
   "source": [
    "#Determining overall accuracy of model by match ratio for MYOYUM \n",
    "test_x_myoyum = []\n",
    "test_y_myoyum = []\n",
    "for i in [float(x/10) for x in range(10)]:\n",
    "    test_x_myoyum.append(i)\n",
    "    tempdf = test_df[test_df['MATCH RATIO'] >= i][test_df['Spp'] == 'MYOYUM']\n",
    "    test_y_myoyum.append(sum(tempdf['Pred_Result'] == True) / len(tempdf) * 100)\n",
    "print(test_x_myoyum)\n",
    "print(test_y_myoyum)"
   ]
  },
  {
   "cell_type": "code",
   "execution_count": 50,
   "metadata": {},
   "outputs": [
    {
     "name": "stdout",
     "output_type": "stream",
     "text": [
      "[0.0, 0.1, 0.2, 0.3, 0.4, 0.5, 0.6, 0.7, 0.8, 0.9]\n",
      "[90.64327485380117, 90.64327485380117, 90.64327485380117, 90.64327485380117, 92.21556886227546, 93.86503067484662, 96.02649006622516, 97.6, 96.80851063829788, 96.29629629629629]\n"
     ]
    },
    {
     "name": "stderr",
     "output_type": "stream",
     "text": [
      "<ipython-input-50-f2b8ff1c7620>:5: UserWarning: Boolean Series key will be reindexed to match DataFrame index.\n",
      "  tempdf = test_df[test_df['MATCH RATIO'] >= i][test_df['Spp'] == 'PARHES']\n",
      "<ipython-input-50-f2b8ff1c7620>:5: UserWarning: Boolean Series key will be reindexed to match DataFrame index.\n",
      "  tempdf = test_df[test_df['MATCH RATIO'] >= i][test_df['Spp'] == 'PARHES']\n",
      "<ipython-input-50-f2b8ff1c7620>:5: UserWarning: Boolean Series key will be reindexed to match DataFrame index.\n",
      "  tempdf = test_df[test_df['MATCH RATIO'] >= i][test_df['Spp'] == 'PARHES']\n",
      "<ipython-input-50-f2b8ff1c7620>:5: UserWarning: Boolean Series key will be reindexed to match DataFrame index.\n",
      "  tempdf = test_df[test_df['MATCH RATIO'] >= i][test_df['Spp'] == 'PARHES']\n",
      "<ipython-input-50-f2b8ff1c7620>:5: UserWarning: Boolean Series key will be reindexed to match DataFrame index.\n",
      "  tempdf = test_df[test_df['MATCH RATIO'] >= i][test_df['Spp'] == 'PARHES']\n",
      "<ipython-input-50-f2b8ff1c7620>:5: UserWarning: Boolean Series key will be reindexed to match DataFrame index.\n",
      "  tempdf = test_df[test_df['MATCH RATIO'] >= i][test_df['Spp'] == 'PARHES']\n",
      "<ipython-input-50-f2b8ff1c7620>:5: UserWarning: Boolean Series key will be reindexed to match DataFrame index.\n",
      "  tempdf = test_df[test_df['MATCH RATIO'] >= i][test_df['Spp'] == 'PARHES']\n",
      "<ipython-input-50-f2b8ff1c7620>:5: UserWarning: Boolean Series key will be reindexed to match DataFrame index.\n",
      "  tempdf = test_df[test_df['MATCH RATIO'] >= i][test_df['Spp'] == 'PARHES']\n",
      "<ipython-input-50-f2b8ff1c7620>:5: UserWarning: Boolean Series key will be reindexed to match DataFrame index.\n",
      "  tempdf = test_df[test_df['MATCH RATIO'] >= i][test_df['Spp'] == 'PARHES']\n"
     ]
    }
   ],
   "source": [
    "#Determining overall accuracy of model by match ratio for PARHES\n",
    "test_x_parhes = []\n",
    "test_y_parhes = []\n",
    "for i in [float(x/10) for x in range(10)]:\n",
    "    test_x_parhes.append(i)\n",
    "    tempdf = test_df[test_df['MATCH RATIO'] >= i][test_df['Spp'] == 'PARHES']\n",
    "    test_y_parhes.append(sum(tempdf['Pred_Result'] == True) / len(tempdf) * 100)\n",
    "print(test_x_parhes)\n",
    "print(test_y_parhes)"
   ]
  },
  {
   "cell_type": "code",
   "execution_count": 51,
   "metadata": {},
   "outputs": [
    {
     "name": "stdout",
     "output_type": "stream",
     "text": [
      "[0.0, 0.1, 0.2, 0.3, 0.4, 0.5, 0.6, 0.7, 0.8, 0.9]\n",
      "[88.57677902621724, 88.57677902621724, 89.08045977011494, 89.01601830663616, 87.58620689655172, 87.02702702702703, 89.52380952380953, 88.13559322033898, 82.75862068965517, 100.0]\n"
     ]
    },
    {
     "name": "stderr",
     "output_type": "stream",
     "text": [
      "<ipython-input-51-0adcbc87eb51>:5: UserWarning: Boolean Series key will be reindexed to match DataFrame index.\n",
      "  tempdf = test_df[test_df['MATCH RATIO'] >= i][test_df['Spp'] == 'TADBRA']\n",
      "<ipython-input-51-0adcbc87eb51>:5: UserWarning: Boolean Series key will be reindexed to match DataFrame index.\n",
      "  tempdf = test_df[test_df['MATCH RATIO'] >= i][test_df['Spp'] == 'TADBRA']\n",
      "<ipython-input-51-0adcbc87eb51>:5: UserWarning: Boolean Series key will be reindexed to match DataFrame index.\n",
      "  tempdf = test_df[test_df['MATCH RATIO'] >= i][test_df['Spp'] == 'TADBRA']\n",
      "<ipython-input-51-0adcbc87eb51>:5: UserWarning: Boolean Series key will be reindexed to match DataFrame index.\n",
      "  tempdf = test_df[test_df['MATCH RATIO'] >= i][test_df['Spp'] == 'TADBRA']\n",
      "<ipython-input-51-0adcbc87eb51>:5: UserWarning: Boolean Series key will be reindexed to match DataFrame index.\n",
      "  tempdf = test_df[test_df['MATCH RATIO'] >= i][test_df['Spp'] == 'TADBRA']\n",
      "<ipython-input-51-0adcbc87eb51>:5: UserWarning: Boolean Series key will be reindexed to match DataFrame index.\n",
      "  tempdf = test_df[test_df['MATCH RATIO'] >= i][test_df['Spp'] == 'TADBRA']\n",
      "<ipython-input-51-0adcbc87eb51>:5: UserWarning: Boolean Series key will be reindexed to match DataFrame index.\n",
      "  tempdf = test_df[test_df['MATCH RATIO'] >= i][test_df['Spp'] == 'TADBRA']\n",
      "<ipython-input-51-0adcbc87eb51>:5: UserWarning: Boolean Series key will be reindexed to match DataFrame index.\n",
      "  tempdf = test_df[test_df['MATCH RATIO'] >= i][test_df['Spp'] == 'TADBRA']\n",
      "<ipython-input-51-0adcbc87eb51>:5: UserWarning: Boolean Series key will be reindexed to match DataFrame index.\n",
      "  tempdf = test_df[test_df['MATCH RATIO'] >= i][test_df['Spp'] == 'TADBRA']\n"
     ]
    }
   ],
   "source": [
    "#Determining overall accuracy of model by match ratio for TADBRA\n",
    "test_x_tadbra = []\n",
    "test_y_tadbra = []\n",
    "for i in [float(x/10) for x in range(10)]:\n",
    "    test_x_tadbra.append(i)\n",
    "    tempdf = test_df[test_df['MATCH RATIO'] >= i][test_df['Spp'] == 'TADBRA']\n",
    "    test_y_tadbra.append(sum(tempdf['Pred_Result'] == True) / len(tempdf) * 100)\n",
    "print(test_x_tadbra)\n",
    "print(test_y_tadbra)"
   ]
  },
  {
   "cell_type": "markdown",
   "metadata": {},
   "source": [
    "### RF All Data"
   ]
  },
  {
   "cell_type": "code",
   "execution_count": 52,
   "metadata": {},
   "outputs": [],
   "source": [
    "#Model used to predict all data, not just training data\n",
    "model_pred = rfc_model.predict(data.drop(columns = ['Spp', 'MATCH RATIO', 'COMP ID', 'Result']))"
   ]
  },
  {
   "cell_type": "code",
   "execution_count": 53,
   "metadata": {},
   "outputs": [],
   "source": [
    "#Adding prediction for all data\n",
    "data['Prediction'] = model_pred"
   ]
  },
  {
   "cell_type": "code",
   "execution_count": 54,
   "metadata": {},
   "outputs": [],
   "source": [
    "data['Pred_Result'] = data.Spp == data.Prediction"
   ]
  },
  {
   "cell_type": "code",
   "execution_count": 55,
   "metadata": {},
   "outputs": [
    {
     "data": {
      "text/plain": [
       "(5849, 16)"
      ]
     },
     "execution_count": 55,
     "metadata": {},
     "output_type": "execute_result"
    }
   ],
   "source": [
    "data.shape"
   ]
  },
  {
   "cell_type": "code",
   "execution_count": 56,
   "metadata": {
    "scrolled": true
   },
   "outputs": [
    {
     "data": {
      "text/html": [
       "<div>\n",
       "<style scoped>\n",
       "    .dataframe tbody tr th:only-of-type {\n",
       "        vertical-align: middle;\n",
       "    }\n",
       "\n",
       "    .dataframe tbody tr th {\n",
       "        vertical-align: top;\n",
       "    }\n",
       "\n",
       "    .dataframe thead th {\n",
       "        text-align: right;\n",
       "    }\n",
       "</style>\n",
       "<table border=\"1\" class=\"dataframe\">\n",
       "  <thead>\n",
       "    <tr style=\"text-align: right;\">\n",
       "      <th></th>\n",
       "      <th>Spp</th>\n",
       "      <th>MATCH RATIO</th>\n",
       "      <th>Fc</th>\n",
       "      <th>Sc</th>\n",
       "      <th>Dur</th>\n",
       "      <th>Fmax</th>\n",
       "      <th>Fmin</th>\n",
       "      <th>Fk</th>\n",
       "      <th>Tk</th>\n",
       "      <th>S1</th>\n",
       "      <th>BWDth</th>\n",
       "      <th>PkDur</th>\n",
       "      <th>COMP ID</th>\n",
       "      <th>Result</th>\n",
       "      <th>Prediction</th>\n",
       "      <th>Pred_Result</th>\n",
       "    </tr>\n",
       "  </thead>\n",
       "  <tbody>\n",
       "    <tr>\n",
       "      <th>0</th>\n",
       "      <td>ANTPAL</td>\n",
       "      <td>0.258</td>\n",
       "      <td>32.032</td>\n",
       "      <td>84.83</td>\n",
       "      <td>3.601</td>\n",
       "      <td>43.750</td>\n",
       "      <td>31.157</td>\n",
       "      <td>35.004</td>\n",
       "      <td>2.090</td>\n",
       "      <td>326.50</td>\n",
       "      <td>12.593</td>\n",
       "      <td>35.545682</td>\n",
       "      <td>NoID</td>\n",
       "      <td>False</td>\n",
       "      <td>ANTPAL</td>\n",
       "      <td>True</td>\n",
       "    </tr>\n",
       "    <tr>\n",
       "      <th>1</th>\n",
       "      <td>ANTPAL</td>\n",
       "      <td>0.875</td>\n",
       "      <td>28.955</td>\n",
       "      <td>61.99</td>\n",
       "      <td>6.088</td>\n",
       "      <td>48.466</td>\n",
       "      <td>27.932</td>\n",
       "      <td>30.731</td>\n",
       "      <td>4.213</td>\n",
       "      <td>208.94</td>\n",
       "      <td>20.534</td>\n",
       "      <td>21.222076</td>\n",
       "      <td>ANTPAL</td>\n",
       "      <td>True</td>\n",
       "      <td>ANTPAL</td>\n",
       "      <td>True</td>\n",
       "    </tr>\n",
       "    <tr>\n",
       "      <th>2</th>\n",
       "      <td>ANTPAL</td>\n",
       "      <td>0.714</td>\n",
       "      <td>29.955</td>\n",
       "      <td>68.58</td>\n",
       "      <td>2.948</td>\n",
       "      <td>39.362</td>\n",
       "      <td>29.800</td>\n",
       "      <td>31.430</td>\n",
       "      <td>1.990</td>\n",
       "      <td>297.09</td>\n",
       "      <td>9.562</td>\n",
       "      <td>30.800543</td>\n",
       "      <td>ANTPAL</td>\n",
       "      <td>True</td>\n",
       "      <td>ANTPAL</td>\n",
       "      <td>True</td>\n",
       "    </tr>\n",
       "    <tr>\n",
       "      <th>3</th>\n",
       "      <td>ANTPAL</td>\n",
       "      <td>0.444</td>\n",
       "      <td>32.315</td>\n",
       "      <td>92.00</td>\n",
       "      <td>4.292</td>\n",
       "      <td>54.628</td>\n",
       "      <td>31.916</td>\n",
       "      <td>35.201</td>\n",
       "      <td>2.918</td>\n",
       "      <td>547.76</td>\n",
       "      <td>22.712</td>\n",
       "      <td>27.912395</td>\n",
       "      <td>ANTPAL</td>\n",
       "      <td>True</td>\n",
       "      <td>ANTPAL</td>\n",
       "      <td>True</td>\n",
       "    </tr>\n",
       "    <tr>\n",
       "      <th>4</th>\n",
       "      <td>EPTFUS</td>\n",
       "      <td>0.398</td>\n",
       "      <td>35.502</td>\n",
       "      <td>31.02</td>\n",
       "      <td>6.288</td>\n",
       "      <td>46.429</td>\n",
       "      <td>34.205</td>\n",
       "      <td>37.141</td>\n",
       "      <td>3.196</td>\n",
       "      <td>332.20</td>\n",
       "      <td>12.224</td>\n",
       "      <td>33.699109</td>\n",
       "      <td>EPTFUS</td>\n",
       "      <td>True</td>\n",
       "      <td>EPTFUS</td>\n",
       "      <td>True</td>\n",
       "    </tr>\n",
       "  </tbody>\n",
       "</table>\n",
       "</div>"
      ],
      "text/plain": [
       "      Spp  MATCH RATIO      Fc     Sc    Dur    Fmax    Fmin      Fk     Tk  \\\n",
       "0  ANTPAL        0.258  32.032  84.83  3.601  43.750  31.157  35.004  2.090   \n",
       "1  ANTPAL        0.875  28.955  61.99  6.088  48.466  27.932  30.731  4.213   \n",
       "2  ANTPAL        0.714  29.955  68.58  2.948  39.362  29.800  31.430  1.990   \n",
       "3  ANTPAL        0.444  32.315  92.00  4.292  54.628  31.916  35.201  2.918   \n",
       "4  EPTFUS        0.398  35.502  31.02  6.288  46.429  34.205  37.141  3.196   \n",
       "\n",
       "       S1   BWDth      PkDur COMP ID  Result Prediction  Pred_Result  \n",
       "0  326.50  12.593  35.545682    NoID   False     ANTPAL         True  \n",
       "1  208.94  20.534  21.222076  ANTPAL    True     ANTPAL         True  \n",
       "2  297.09   9.562  30.800543  ANTPAL    True     ANTPAL         True  \n",
       "3  547.76  22.712  27.912395  ANTPAL    True     ANTPAL         True  \n",
       "4  332.20  12.224  33.699109  EPTFUS    True     EPTFUS         True  "
      ]
     },
     "execution_count": 56,
     "metadata": {},
     "output_type": "execute_result"
    }
   ],
   "source": [
    "data.head()"
   ]
  },
  {
   "cell_type": "markdown",
   "metadata": {},
   "source": [
    "#### All Species"
   ]
  },
  {
   "cell_type": "code",
   "execution_count": 57,
   "metadata": {},
   "outputs": [
    {
     "name": "stdout",
     "output_type": "stream",
     "text": [
      "[0.0, 0.1, 0.2, 0.3, 0.4, 0.5, 0.6, 0.7, 0.8, 0.9]\n",
      "[81.60369293896392, 87.43480322427692, 87.87509148572823, 88.31097727894881, 88.434461951056, 88.61087144089733, 89.39024390243902, 89.25318761384335, 90.46199701937407, 92.55663430420712]\n"
     ]
    }
   ],
   "source": [
    "#All data accuracy by match ratio\n",
    "all_x = []\n",
    "all_y = []\n",
    "for i in [float(x/10) for x in range(10)]:\n",
    "    all_x.append(i)\n",
    "    tempdf = data[data['MATCH RATIO'] >= i]\n",
    "    #print(len(tempdf))\n",
    "    all_y.append(sum(tempdf['Pred_Result'] == True) / len(tempdf) * 100)\n",
    "print(all_x)\n",
    "print(all_y)"
   ]
  },
  {
   "cell_type": "markdown",
   "metadata": {},
   "source": [
    "####  All Species and NoID Removed"
   ]
  },
  {
   "cell_type": "code",
   "execution_count": 58,
   "metadata": {},
   "outputs": [
    {
     "name": "stdout",
     "output_type": "stream",
     "text": [
      "[0.0, 0.1, 0.2, 0.3, 0.4, 0.5, 0.6, 0.7, 0.8, 0.9]\n",
      "[81.20466036491537, 92.17695576105973, 92.45379876796714, 92.48853211009175, 92.3669467787115, 92.02508960573476, 92.08542713567839, 91.76029962546816, 92.53048780487805, 94.07894736842105]\n"
     ]
    },
    {
     "name": "stderr",
     "output_type": "stream",
     "text": [
      "<ipython-input-58-a8c4387655c2>:5: UserWarning: Boolean Series key will be reindexed to match DataFrame index.\n",
      "  tempdf = data[data['Prediction'] != 'NoID'][data['MATCH RATIO'] >= i]\n",
      "<ipython-input-58-a8c4387655c2>:5: UserWarning: Boolean Series key will be reindexed to match DataFrame index.\n",
      "  tempdf = data[data['Prediction'] != 'NoID'][data['MATCH RATIO'] >= i]\n",
      "<ipython-input-58-a8c4387655c2>:5: UserWarning: Boolean Series key will be reindexed to match DataFrame index.\n",
      "  tempdf = data[data['Prediction'] != 'NoID'][data['MATCH RATIO'] >= i]\n",
      "<ipython-input-58-a8c4387655c2>:5: UserWarning: Boolean Series key will be reindexed to match DataFrame index.\n",
      "  tempdf = data[data['Prediction'] != 'NoID'][data['MATCH RATIO'] >= i]\n",
      "<ipython-input-58-a8c4387655c2>:5: UserWarning: Boolean Series key will be reindexed to match DataFrame index.\n",
      "  tempdf = data[data['Prediction'] != 'NoID'][data['MATCH RATIO'] >= i]\n",
      "<ipython-input-58-a8c4387655c2>:5: UserWarning: Boolean Series key will be reindexed to match DataFrame index.\n",
      "  tempdf = data[data['Prediction'] != 'NoID'][data['MATCH RATIO'] >= i]\n",
      "<ipython-input-58-a8c4387655c2>:5: UserWarning: Boolean Series key will be reindexed to match DataFrame index.\n",
      "  tempdf = data[data['Prediction'] != 'NoID'][data['MATCH RATIO'] >= i]\n",
      "<ipython-input-58-a8c4387655c2>:5: UserWarning: Boolean Series key will be reindexed to match DataFrame index.\n",
      "  tempdf = data[data['Prediction'] != 'NoID'][data['MATCH RATIO'] >= i]\n",
      "<ipython-input-58-a8c4387655c2>:5: UserWarning: Boolean Series key will be reindexed to match DataFrame index.\n",
      "  tempdf = data[data['Prediction'] != 'NoID'][data['MATCH RATIO'] >= i]\n",
      "<ipython-input-58-a8c4387655c2>:5: UserWarning: Boolean Series key will be reindexed to match DataFrame index.\n",
      "  tempdf = data[data['Prediction'] != 'NoID'][data['MATCH RATIO'] >= i]\n"
     ]
    }
   ],
   "source": [
    "#All data with NoID removed accuracy by match ratio\n",
    "all_x_r = []\n",
    "all_y_r = []\n",
    "for i in [float(x/10) for x in range(10)]:\n",
    "    all_x_r.append(i)\n",
    "    tempdf = data[data['Prediction'] != 'NoID'][data['MATCH RATIO'] >= i]\n",
    "    #print(len(tempdf))\n",
    "    all_y_r.append(sum(tempdf['Pred_Result'] == True) / len(tempdf) * 100)\n",
    "print(all_x_r)\n",
    "print(all_y_r)"
   ]
  },
  {
   "cell_type": "markdown",
   "metadata": {},
   "source": [
    "#### Three Species and NoID Removed"
   ]
  },
  {
   "cell_type": "code",
   "execution_count": 59,
   "metadata": {},
   "outputs": [],
   "source": [
    "#Replace less common species with NoID\n",
    "three_spp_data = data['Prediction'].replace(to_replace = ['ANTPAL', 'EPTFUS', 'LASCIN', 'LASNOC', 'EUMPER', 'EUMUND', \n",
    "                                      'NYCFEM', 'LASBLO', 'MYOCIL', 'MYOCAL', 'LASXAN', 'MYOEVO', \n",
    "                                      'MYOOCC', 'MYOTHY', 'MYOVOL', 'NYCMAC', 'MYOVEL'], value = 'NoID')"
   ]
  },
  {
   "cell_type": "code",
   "execution_count": 60,
   "metadata": {},
   "outputs": [],
   "source": [
    "#Add prediction column for three most common species\n",
    "data['Prediction'] = three_spp_data"
   ]
  },
  {
   "cell_type": "code",
   "execution_count": 61,
   "metadata": {},
   "outputs": [
    {
     "data": {
      "text/plain": [
       "TADBRA    2528\n",
       "NoID      2005\n",
       "MYOYUM     771\n",
       "PARHES     545\n",
       "Name: Prediction, dtype: int64"
      ]
     },
     "execution_count": 61,
     "metadata": {},
     "output_type": "execute_result"
    }
   ],
   "source": [
    "data['Prediction'].value_counts()"
   ]
  },
  {
   "cell_type": "code",
   "execution_count": 62,
   "metadata": {},
   "outputs": [
    {
     "name": "stdout",
     "output_type": "stream",
     "text": [
      "[0.0, 0.1, 0.2, 0.3, 0.4, 0.5, 0.6, 0.7, 0.8, 0.9]\n",
      "[79.60457856399584, 91.52440850554058, 91.8348623853211, 91.93438140806562, 91.74311926605505, 91.31130063965884, 90.99630996309963, 90.47619047619048, 91.19266055045871, 92.74193548387096]\n"
     ]
    },
    {
     "name": "stderr",
     "output_type": "stream",
     "text": [
      "<ipython-input-62-0dcad5ffbbd7>:5: UserWarning: Boolean Series key will be reindexed to match DataFrame index.\n",
      "  tempdf = data[data['Prediction'] != 'NoID'][data['MATCH RATIO'] >= i]\n",
      "<ipython-input-62-0dcad5ffbbd7>:5: UserWarning: Boolean Series key will be reindexed to match DataFrame index.\n",
      "  tempdf = data[data['Prediction'] != 'NoID'][data['MATCH RATIO'] >= i]\n",
      "<ipython-input-62-0dcad5ffbbd7>:5: UserWarning: Boolean Series key will be reindexed to match DataFrame index.\n",
      "  tempdf = data[data['Prediction'] != 'NoID'][data['MATCH RATIO'] >= i]\n",
      "<ipython-input-62-0dcad5ffbbd7>:5: UserWarning: Boolean Series key will be reindexed to match DataFrame index.\n",
      "  tempdf = data[data['Prediction'] != 'NoID'][data['MATCH RATIO'] >= i]\n",
      "<ipython-input-62-0dcad5ffbbd7>:5: UserWarning: Boolean Series key will be reindexed to match DataFrame index.\n",
      "  tempdf = data[data['Prediction'] != 'NoID'][data['MATCH RATIO'] >= i]\n",
      "<ipython-input-62-0dcad5ffbbd7>:5: UserWarning: Boolean Series key will be reindexed to match DataFrame index.\n",
      "  tempdf = data[data['Prediction'] != 'NoID'][data['MATCH RATIO'] >= i]\n",
      "<ipython-input-62-0dcad5ffbbd7>:5: UserWarning: Boolean Series key will be reindexed to match DataFrame index.\n",
      "  tempdf = data[data['Prediction'] != 'NoID'][data['MATCH RATIO'] >= i]\n",
      "<ipython-input-62-0dcad5ffbbd7>:5: UserWarning: Boolean Series key will be reindexed to match DataFrame index.\n",
      "  tempdf = data[data['Prediction'] != 'NoID'][data['MATCH RATIO'] >= i]\n",
      "<ipython-input-62-0dcad5ffbbd7>:5: UserWarning: Boolean Series key will be reindexed to match DataFrame index.\n",
      "  tempdf = data[data['Prediction'] != 'NoID'][data['MATCH RATIO'] >= i]\n",
      "<ipython-input-62-0dcad5ffbbd7>:5: UserWarning: Boolean Series key will be reindexed to match DataFrame index.\n",
      "  tempdf = data[data['Prediction'] != 'NoID'][data['MATCH RATIO'] >= i]\n"
     ]
    }
   ],
   "source": [
    "#Accuracy with no ID removed for three most common species\n",
    "all_x_r3 = []\n",
    "all_y_r3 = []\n",
    "for i in [float(x/10) for x in range(10)]:\n",
    "    all_x_r3.append(i)\n",
    "    tempdf = data[data['Prediction'] != 'NoID'][data['MATCH RATIO'] >= i]\n",
    "    #print(len(tempdf))\n",
    "    all_y_r3.append(sum(tempdf['Pred_Result'] == True) / len(tempdf) * 100)\n",
    "print(all_x_r3)\n",
    "print(all_y_r3)"
   ]
  },
  {
   "cell_type": "markdown",
   "metadata": {},
   "source": [
    "#### Three Species with NoID"
   ]
  },
  {
   "cell_type": "code",
   "execution_count": 63,
   "metadata": {},
   "outputs": [
    {
     "name": "stdout",
     "output_type": "stream",
     "text": [
      "[0.0, 0.1, 0.2, 0.3, 0.4, 0.5, 0.6, 0.7, 0.8, 0.9]\n",
      "[81.60369293896392, 87.43480322427692, 87.87509148572823, 88.31097727894881, 88.434461951056, 88.61087144089733, 89.39024390243902, 89.25318761384335, 90.46199701937407, 92.55663430420712]\n"
     ]
    }
   ],
   "source": [
    "#Accuracy for three species with NoID\n",
    "all_x_r3_n = []\n",
    "all_y_r3_n = []\n",
    "for i in [float(x/10) for x in range(10)]:\n",
    "    all_x_r3_n.append(i)\n",
    "    tempdf = data[data['MATCH RATIO'] >= i]\n",
    "    #print(len(tempdf))\n",
    "    all_y_r3_n.append(sum(tempdf['Pred_Result'] == True) / len(tempdf) * 100)\n",
    "print(all_x_r3_n)\n",
    "print(all_y_r3_n)"
   ]
  },
  {
   "cell_type": "markdown",
   "metadata": {},
   "source": [
    "#### Individual Species"
   ]
  },
  {
   "cell_type": "code",
   "execution_count": 64,
   "metadata": {},
   "outputs": [
    {
     "data": {
      "text/html": [
       "<div>\n",
       "<style scoped>\n",
       "    .dataframe tbody tr th:only-of-type {\n",
       "        vertical-align: middle;\n",
       "    }\n",
       "\n",
       "    .dataframe tbody tr th {\n",
       "        vertical-align: top;\n",
       "    }\n",
       "\n",
       "    .dataframe thead th {\n",
       "        text-align: right;\n",
       "    }\n",
       "</style>\n",
       "<table border=\"1\" class=\"dataframe\">\n",
       "  <thead>\n",
       "    <tr style=\"text-align: right;\">\n",
       "      <th></th>\n",
       "      <th>Spp</th>\n",
       "      <th>MATCH RATIO</th>\n",
       "      <th>Fc</th>\n",
       "      <th>Sc</th>\n",
       "      <th>Dur</th>\n",
       "      <th>Fmax</th>\n",
       "      <th>Fmin</th>\n",
       "      <th>Fk</th>\n",
       "      <th>Tk</th>\n",
       "      <th>S1</th>\n",
       "      <th>BWDth</th>\n",
       "      <th>PkDur</th>\n",
       "      <th>COMP ID</th>\n",
       "      <th>Result</th>\n",
       "      <th>Prediction</th>\n",
       "      <th>Pred_Result</th>\n",
       "    </tr>\n",
       "  </thead>\n",
       "  <tbody>\n",
       "    <tr>\n",
       "      <th>0</th>\n",
       "      <td>ANTPAL</td>\n",
       "      <td>0.258</td>\n",
       "      <td>32.032</td>\n",
       "      <td>84.83</td>\n",
       "      <td>3.601</td>\n",
       "      <td>43.750</td>\n",
       "      <td>31.157</td>\n",
       "      <td>35.004</td>\n",
       "      <td>2.090</td>\n",
       "      <td>326.50</td>\n",
       "      <td>12.593</td>\n",
       "      <td>35.545682</td>\n",
       "      <td>NoID</td>\n",
       "      <td>False</td>\n",
       "      <td>NoID</td>\n",
       "      <td>True</td>\n",
       "    </tr>\n",
       "    <tr>\n",
       "      <th>1</th>\n",
       "      <td>ANTPAL</td>\n",
       "      <td>0.875</td>\n",
       "      <td>28.955</td>\n",
       "      <td>61.99</td>\n",
       "      <td>6.088</td>\n",
       "      <td>48.466</td>\n",
       "      <td>27.932</td>\n",
       "      <td>30.731</td>\n",
       "      <td>4.213</td>\n",
       "      <td>208.94</td>\n",
       "      <td>20.534</td>\n",
       "      <td>21.222076</td>\n",
       "      <td>ANTPAL</td>\n",
       "      <td>True</td>\n",
       "      <td>NoID</td>\n",
       "      <td>True</td>\n",
       "    </tr>\n",
       "    <tr>\n",
       "      <th>2</th>\n",
       "      <td>ANTPAL</td>\n",
       "      <td>0.714</td>\n",
       "      <td>29.955</td>\n",
       "      <td>68.58</td>\n",
       "      <td>2.948</td>\n",
       "      <td>39.362</td>\n",
       "      <td>29.800</td>\n",
       "      <td>31.430</td>\n",
       "      <td>1.990</td>\n",
       "      <td>297.09</td>\n",
       "      <td>9.562</td>\n",
       "      <td>30.800543</td>\n",
       "      <td>ANTPAL</td>\n",
       "      <td>True</td>\n",
       "      <td>NoID</td>\n",
       "      <td>True</td>\n",
       "    </tr>\n",
       "    <tr>\n",
       "      <th>3</th>\n",
       "      <td>ANTPAL</td>\n",
       "      <td>0.444</td>\n",
       "      <td>32.315</td>\n",
       "      <td>92.00</td>\n",
       "      <td>4.292</td>\n",
       "      <td>54.628</td>\n",
       "      <td>31.916</td>\n",
       "      <td>35.201</td>\n",
       "      <td>2.918</td>\n",
       "      <td>547.76</td>\n",
       "      <td>22.712</td>\n",
       "      <td>27.912395</td>\n",
       "      <td>ANTPAL</td>\n",
       "      <td>True</td>\n",
       "      <td>NoID</td>\n",
       "      <td>True</td>\n",
       "    </tr>\n",
       "    <tr>\n",
       "      <th>4</th>\n",
       "      <td>EPTFUS</td>\n",
       "      <td>0.398</td>\n",
       "      <td>35.502</td>\n",
       "      <td>31.02</td>\n",
       "      <td>6.288</td>\n",
       "      <td>46.429</td>\n",
       "      <td>34.205</td>\n",
       "      <td>37.141</td>\n",
       "      <td>3.196</td>\n",
       "      <td>332.20</td>\n",
       "      <td>12.224</td>\n",
       "      <td>33.699109</td>\n",
       "      <td>EPTFUS</td>\n",
       "      <td>True</td>\n",
       "      <td>NoID</td>\n",
       "      <td>True</td>\n",
       "    </tr>\n",
       "  </tbody>\n",
       "</table>\n",
       "</div>"
      ],
      "text/plain": [
       "      Spp  MATCH RATIO      Fc     Sc    Dur    Fmax    Fmin      Fk     Tk  \\\n",
       "0  ANTPAL        0.258  32.032  84.83  3.601  43.750  31.157  35.004  2.090   \n",
       "1  ANTPAL        0.875  28.955  61.99  6.088  48.466  27.932  30.731  4.213   \n",
       "2  ANTPAL        0.714  29.955  68.58  2.948  39.362  29.800  31.430  1.990   \n",
       "3  ANTPAL        0.444  32.315  92.00  4.292  54.628  31.916  35.201  2.918   \n",
       "4  EPTFUS        0.398  35.502  31.02  6.288  46.429  34.205  37.141  3.196   \n",
       "\n",
       "       S1   BWDth      PkDur COMP ID  Result Prediction  Pred_Result  \n",
       "0  326.50  12.593  35.545682    NoID   False       NoID         True  \n",
       "1  208.94  20.534  21.222076  ANTPAL    True       NoID         True  \n",
       "2  297.09   9.562  30.800543  ANTPAL    True       NoID         True  \n",
       "3  547.76  22.712  27.912395  ANTPAL    True       NoID         True  \n",
       "4  332.20  12.224  33.699109  EPTFUS    True       NoID         True  "
      ]
     },
     "execution_count": 64,
     "metadata": {},
     "output_type": "execute_result"
    }
   ],
   "source": [
    "data.head()"
   ]
  },
  {
   "cell_type": "code",
   "execution_count": 65,
   "metadata": {},
   "outputs": [
    {
     "name": "stdout",
     "output_type": "stream",
     "text": [
      "[0.0, 0.1, 0.2, 0.3, 0.4, 0.5, 0.6, 0.7, 0.8, 0.9]\n",
      "[96.75236806495265, 96.75236806495265, 96.75236806495265, 97.00272479564033, 97.6978417266187, 98.67109634551495, 98.84526558891456, 99.14893617021276, 98.83720930232558, 100.0]\n"
     ]
    },
    {
     "name": "stderr",
     "output_type": "stream",
     "text": [
      "<ipython-input-65-0cca0e2a249e>:5: UserWarning: Boolean Series key will be reindexed to match DataFrame index.\n",
      "  tempdf = data[data['MATCH RATIO'] >= i][data['Spp'] == 'MYOYUM']\n",
      "<ipython-input-65-0cca0e2a249e>:5: UserWarning: Boolean Series key will be reindexed to match DataFrame index.\n",
      "  tempdf = data[data['MATCH RATIO'] >= i][data['Spp'] == 'MYOYUM']\n",
      "<ipython-input-65-0cca0e2a249e>:5: UserWarning: Boolean Series key will be reindexed to match DataFrame index.\n",
      "  tempdf = data[data['MATCH RATIO'] >= i][data['Spp'] == 'MYOYUM']\n",
      "<ipython-input-65-0cca0e2a249e>:5: UserWarning: Boolean Series key will be reindexed to match DataFrame index.\n",
      "  tempdf = data[data['MATCH RATIO'] >= i][data['Spp'] == 'MYOYUM']\n",
      "<ipython-input-65-0cca0e2a249e>:5: UserWarning: Boolean Series key will be reindexed to match DataFrame index.\n",
      "  tempdf = data[data['MATCH RATIO'] >= i][data['Spp'] == 'MYOYUM']\n",
      "<ipython-input-65-0cca0e2a249e>:5: UserWarning: Boolean Series key will be reindexed to match DataFrame index.\n",
      "  tempdf = data[data['MATCH RATIO'] >= i][data['Spp'] == 'MYOYUM']\n",
      "<ipython-input-65-0cca0e2a249e>:5: UserWarning: Boolean Series key will be reindexed to match DataFrame index.\n",
      "  tempdf = data[data['MATCH RATIO'] >= i][data['Spp'] == 'MYOYUM']\n",
      "<ipython-input-65-0cca0e2a249e>:5: UserWarning: Boolean Series key will be reindexed to match DataFrame index.\n",
      "  tempdf = data[data['MATCH RATIO'] >= i][data['Spp'] == 'MYOYUM']\n",
      "<ipython-input-65-0cca0e2a249e>:5: UserWarning: Boolean Series key will be reindexed to match DataFrame index.\n",
      "  tempdf = data[data['MATCH RATIO'] >= i][data['Spp'] == 'MYOYUM']\n"
     ]
    }
   ],
   "source": [
    "#Accuracy for MYOYUM\n",
    "all_x_myoyum = []\n",
    "all_y_myoyum = []\n",
    "for i in [float(x/10) for x in range(10)]:\n",
    "    all_x_myoyum.append(i)\n",
    "    tempdf = data[data['MATCH RATIO'] >= i][data['Spp'] == 'MYOYUM']\n",
    "    #print(len(tempdf))\n",
    "    all_y_myoyum.append(sum(tempdf['Pred_Result'] == True) / len(tempdf) * 100)\n",
    "print(all_x_myoyum)\n",
    "print(all_y_myoyum)"
   ]
  },
  {
   "cell_type": "code",
   "execution_count": 66,
   "metadata": {},
   "outputs": [
    {
     "name": "stdout",
     "output_type": "stream",
     "text": [
      "[0.0, 0.1, 0.2, 0.3, 0.4, 0.5, 0.6, 0.7, 0.8, 0.9]\n",
      "[96.86924493554328, 96.86924493554328, 96.86924493554328, 96.86924493554328, 97.5609756097561, 98.0806142034549, 98.74739039665971, 99.27360774818402, 99.07407407407408, 98.85714285714286]\n"
     ]
    },
    {
     "name": "stderr",
     "output_type": "stream",
     "text": [
      "<ipython-input-66-71d4c1b9664f>:5: UserWarning: Boolean Series key will be reindexed to match DataFrame index.\n",
      "  tempdf = data[data['MATCH RATIO'] >= i][data['Spp'] == 'PARHES']\n",
      "<ipython-input-66-71d4c1b9664f>:5: UserWarning: Boolean Series key will be reindexed to match DataFrame index.\n",
      "  tempdf = data[data['MATCH RATIO'] >= i][data['Spp'] == 'PARHES']\n",
      "<ipython-input-66-71d4c1b9664f>:5: UserWarning: Boolean Series key will be reindexed to match DataFrame index.\n",
      "  tempdf = data[data['MATCH RATIO'] >= i][data['Spp'] == 'PARHES']\n",
      "<ipython-input-66-71d4c1b9664f>:5: UserWarning: Boolean Series key will be reindexed to match DataFrame index.\n",
      "  tempdf = data[data['MATCH RATIO'] >= i][data['Spp'] == 'PARHES']\n",
      "<ipython-input-66-71d4c1b9664f>:5: UserWarning: Boolean Series key will be reindexed to match DataFrame index.\n",
      "  tempdf = data[data['MATCH RATIO'] >= i][data['Spp'] == 'PARHES']\n",
      "<ipython-input-66-71d4c1b9664f>:5: UserWarning: Boolean Series key will be reindexed to match DataFrame index.\n",
      "  tempdf = data[data['MATCH RATIO'] >= i][data['Spp'] == 'PARHES']\n",
      "<ipython-input-66-71d4c1b9664f>:5: UserWarning: Boolean Series key will be reindexed to match DataFrame index.\n",
      "  tempdf = data[data['MATCH RATIO'] >= i][data['Spp'] == 'PARHES']\n",
      "<ipython-input-66-71d4c1b9664f>:5: UserWarning: Boolean Series key will be reindexed to match DataFrame index.\n",
      "  tempdf = data[data['MATCH RATIO'] >= i][data['Spp'] == 'PARHES']\n",
      "<ipython-input-66-71d4c1b9664f>:5: UserWarning: Boolean Series key will be reindexed to match DataFrame index.\n",
      "  tempdf = data[data['MATCH RATIO'] >= i][data['Spp'] == 'PARHES']\n"
     ]
    }
   ],
   "source": [
    "#Accuracy for PARHES\n",
    "all_x_parhes = []\n",
    "all_y_parhes = []\n",
    "for i in [float(x/10) for x in range(10)]:\n",
    "    all_x_parhes.append(i)\n",
    "    tempdf = data[data['MATCH RATIO'] >= i][data['Spp'] == 'PARHES']\n",
    "    #print(len(tempdf))\n",
    "    all_y_parhes.append(sum(tempdf['Pred_Result'] == True) / len(tempdf) * 100)\n",
    "print(all_x_parhes)\n",
    "print(all_y_parhes)"
   ]
  },
  {
   "cell_type": "code",
   "execution_count": 67,
   "metadata": {},
   "outputs": [
    {
     "name": "stdout",
     "output_type": "stream",
     "text": [
      "[0.0, 0.1, 0.2, 0.3, 0.4, 0.5, 0.6, 0.7, 0.8, 0.9]\n",
      "[96.09086106708928, 96.08258337744839, 96.23156744948116, 96.35036496350365, 95.9731543624161, 95.74803149606299, 96.7930029154519, 96.13259668508287, 94.79166666666666, 100.0]\n"
     ]
    },
    {
     "name": "stderr",
     "output_type": "stream",
     "text": [
      "<ipython-input-67-ccba4256fff1>:5: UserWarning: Boolean Series key will be reindexed to match DataFrame index.\n",
      "  tempdf = data[data['MATCH RATIO'] >= i][data['Spp'] == 'TADBRA']\n",
      "<ipython-input-67-ccba4256fff1>:5: UserWarning: Boolean Series key will be reindexed to match DataFrame index.\n",
      "  tempdf = data[data['MATCH RATIO'] >= i][data['Spp'] == 'TADBRA']\n",
      "<ipython-input-67-ccba4256fff1>:5: UserWarning: Boolean Series key will be reindexed to match DataFrame index.\n",
      "  tempdf = data[data['MATCH RATIO'] >= i][data['Spp'] == 'TADBRA']\n",
      "<ipython-input-67-ccba4256fff1>:5: UserWarning: Boolean Series key will be reindexed to match DataFrame index.\n",
      "  tempdf = data[data['MATCH RATIO'] >= i][data['Spp'] == 'TADBRA']\n",
      "<ipython-input-67-ccba4256fff1>:5: UserWarning: Boolean Series key will be reindexed to match DataFrame index.\n",
      "  tempdf = data[data['MATCH RATIO'] >= i][data['Spp'] == 'TADBRA']\n",
      "<ipython-input-67-ccba4256fff1>:5: UserWarning: Boolean Series key will be reindexed to match DataFrame index.\n",
      "  tempdf = data[data['MATCH RATIO'] >= i][data['Spp'] == 'TADBRA']\n",
      "<ipython-input-67-ccba4256fff1>:5: UserWarning: Boolean Series key will be reindexed to match DataFrame index.\n",
      "  tempdf = data[data['MATCH RATIO'] >= i][data['Spp'] == 'TADBRA']\n",
      "<ipython-input-67-ccba4256fff1>:5: UserWarning: Boolean Series key will be reindexed to match DataFrame index.\n",
      "  tempdf = data[data['MATCH RATIO'] >= i][data['Spp'] == 'TADBRA']\n",
      "<ipython-input-67-ccba4256fff1>:5: UserWarning: Boolean Series key will be reindexed to match DataFrame index.\n",
      "  tempdf = data[data['MATCH RATIO'] >= i][data['Spp'] == 'TADBRA']\n"
     ]
    }
   ],
   "source": [
    "#Accuracy for TADBRA\n",
    "all_x_tadbra = []\n",
    "all_y_tadbra = []\n",
    "for i in [float(x/10) for x in range(10)]:\n",
    "    all_x_tadbra.append(i)\n",
    "    tempdf = data[data['MATCH RATIO'] >= i][data['Spp'] == 'TADBRA']\n",
    "    #print(len(tempdf))\n",
    "    all_y_tadbra.append(sum(tempdf['Pred_Result'] == True) / len(tempdf) * 100)\n",
    "print(all_x_tadbra)\n",
    "print(all_y_tadbra)"
   ]
  },
  {
   "cell_type": "markdown",
   "metadata": {},
   "source": [
    "### Graphing Accuracy"
   ]
  },
  {
   "cell_type": "markdown",
   "metadata": {},
   "source": [
    "#### All Species"
   ]
  },
  {
   "cell_type": "code",
   "execution_count": 182,
   "metadata": {},
   "outputs": [
    {
     "data": {
      "image/png": "[encoded data removed]",
      "text/plain": [
       "<Figure size 432x288 with 1 Axes>"
      ]
     },
     "metadata": {
      "needs_background": "light"
     },
     "output_type": "display_data"
    }
   ],
   "source": [
    "#Accuracy for all species by match ratio graph\n",
    "plt.plot(aa, bb, label = 'Kaleidoscope')\n",
    "plt.plot(test_x, test_y, label = 'Test data')\n",
    "#plt.plot(all_x, all_y, label = 'All data')\n",
    "plt.legend(loc=\"lower right\")\n",
    "plt.xlabel('Match Ratio')\n",
    "plt.ylabel('Accuracy %')\n",
    "plt.title('Accuracy For All Species Model')\n",
    "plt.show()"
   ]
  },
  {
   "cell_type": "code",
   "execution_count": 69,
   "metadata": {},
   "outputs": [
    {
     "data": {
      "image/png": "[encoded data removed]",
      "text/plain": [
       "<Figure size 432x288 with 1 Axes>"
      ]
     },
     "metadata": {
      "needs_background": "light"
     },
     "output_type": "display_data"
    }
   ],
   "source": [
    "#Graphing accuracy for all species with NoID removed\n",
    "plt.plot(aa_r, bb_r, label = 'Kaleidoscope')\n",
    "plt.plot(test_x_r, test_y_r, label = 'Test data')\n",
    "#plt.plot(all_x_r, all_y_r, label = 'All data')\n",
    "plt.legend(loc=\"lower right\")\n",
    "plt.xlabel('Match Ratio')\n",
    "plt.ylabel('Accuracy %')\n",
    "plt.title('Accuracy For All Species Without NoID')\n",
    "plt.show()"
   ]
  },
  {
   "cell_type": "markdown",
   "metadata": {},
   "source": [
    "#### Three Species"
   ]
  },
  {
   "cell_type": "code",
   "execution_count": 183,
   "metadata": {},
   "outputs": [
    {
     "data": {
      "image/png": "[encoded data removed]",
      "text/plain": [
       "<Figure size 432x288 with 1 Axes>"
      ]
     },
     "metadata": {
      "needs_background": "light"
     },
     "output_type": "display_data"
    }
   ],
   "source": [
    "#Graphing accuracy for three species\n",
    "plt.plot(aa_r3, bb_r3, label = 'Kaleidoscope')\n",
    "plt.plot(test_x_r3_n, test_y_r3_n, label = 'Test data')\n",
    "#plt.plot(all_x_r3_n, all_y_r3_n, label = 'All data')\n",
    "plt.legend(loc=\"lower right\")\n",
    "plt.xlabel('Match Ratio')\n",
    "plt.ylabel('Accuracy %')\n",
    "plt.title('Accuracy For Three Species Model')\n",
    "plt.show()"
   ]
  },
  {
   "cell_type": "code",
   "execution_count": 71,
   "metadata": {},
   "outputs": [
    {
     "data": {
      "image/png": "[encoded data removed]",
      "text/plain": [
       "<Figure size 432x288 with 1 Axes>"
      ]
     },
     "metadata": {
      "needs_background": "light"
     },
     "output_type": "display_data"
    }
   ],
   "source": [
    "#Accuracy of three species with noid removed\n",
    "plt.plot(aa_r3_n, bb_r3_n, label = 'Kaleidoscope')\n",
    "plt.plot(test_x_r3, test_y_r3, label = 'Test data')\n",
    "#plt.plot(all_x_r3, all_y_r3, label = 'All data')\n",
    "plt.legend(loc=\"lower right\")\n",
    "plt.xlabel('Match Ratio')\n",
    "plt.ylabel('Accuracy %')\n",
    "plt.title('Accuracy For Three Species Without NoID')\n",
    "plt.show()"
   ]
  },
  {
   "cell_type": "markdown",
   "metadata": {},
   "source": [
    "#### Individual Species"
   ]
  },
  {
   "cell_type": "code",
   "execution_count": 184,
   "metadata": {},
   "outputs": [
    {
     "data": {
      "image/png": "[encoded data removed]",
      "text/plain": [
       "<Figure size 432x288 with 1 Axes>"
      ]
     },
     "metadata": {
      "needs_background": "light"
     },
     "output_type": "display_data"
    }
   ],
   "source": [
    "#Accuracy of MYOYUM graph\n",
    "plt.plot(aa_myoyum, bb_myoyum, label = 'Kaleidoscope')\n",
    "plt.plot(test_x_myoyum, test_y_myoyum, label = 'Test data')\n",
    "#plt.plot(all_x_myoyum, all_y_myoyum, label = 'All data')\n",
    "plt.legend(loc=\"lower right\")\n",
    "plt.xlabel('Match Ratio')\n",
    "plt.ylabel('Accuracy %')\n",
    "plt.title('Accuracy Of MYOYUM For Three Species Model')\n",
    "plt.show()"
   ]
  },
  {
   "cell_type": "code",
   "execution_count": 185,
   "metadata": {},
   "outputs": [
    {
     "data": {
      "image/png": "[encoded data removed]",
      "text/plain": [
       "<Figure size 432x288 with 1 Axes>"
      ]
     },
     "metadata": {
      "needs_background": "light"
     },
     "output_type": "display_data"
    }
   ],
   "source": [
    "#Accuracy of PARHES graph\n",
    "plt.plot(aa_parhes, bb_parhes, label = 'Kaleidoscope')\n",
    "plt.plot(test_x_parhes, test_y_parhes, label = 'Test data')\n",
    "#plt.plot(all_x_parhes, all_y_parhes, label = 'All data')\n",
    "plt.legend(loc=\"lower right\")\n",
    "plt.xlabel('Match Ratio')\n",
    "plt.ylabel('Accuracy %')\n",
    "plt.title('Accuracy Of PARHES For Three Species Model')\n",
    "plt.show()"
   ]
  },
  {
   "cell_type": "code",
   "execution_count": 186,
   "metadata": {},
   "outputs": [
    {
     "data": {
      "image/png": "[encoded data removed]",
      "text/plain": [
       "<Figure size 432x288 with 1 Axes>"
      ]
     },
     "metadata": {
      "needs_background": "light"
     },
     "output_type": "display_data"
    }
   ],
   "source": [
    "#Accuracy of TADBRA by match ratio graph, model significantly more accurate than comp id\n",
    "plt.plot(aa_tadbra, bb_tadbra, label = 'Kaleidoscope')\n",
    "plt.plot(test_x_tadbra, test_y_tadbra, label = 'Test data')\n",
    "#plt.plot(all_x_tadbra, all_y_tadbra, label = 'All data')\n",
    "plt.legend(loc=\"lower right\")\n",
    "plt.xlabel('Match Ratio')\n",
    "plt.ylabel('Accuracy %')\n",
    "plt.title('Accuracy Of TADBRA For Three Species Model')\n",
    "plt.show()"
   ]
  },
  {
   "cell_type": "markdown",
   "metadata": {},
   "source": [
    "## One Species Models"
   ]
  },
  {
   "cell_type": "markdown",
   "metadata": {},
   "source": [
    "In an effort to improve overall accuracy or F1, random forest models were created for each of the three most commons species."
   ]
  },
  {
   "cell_type": "code",
   "execution_count": 75,
   "metadata": {},
   "outputs": [],
   "source": [
    "#Load original dataframe\n",
    "data = pd.read_csv('truthed_library.csv')"
   ]
  },
  {
   "cell_type": "code",
   "execution_count": 76,
   "metadata": {},
   "outputs": [
    {
     "data": {
      "text/html": [
       "<div>\n",
       "<style scoped>\n",
       "    .dataframe tbody tr th:only-of-type {\n",
       "        vertical-align: middle;\n",
       "    }\n",
       "\n",
       "    .dataframe tbody tr th {\n",
       "        vertical-align: top;\n",
       "    }\n",
       "\n",
       "    .dataframe thead th {\n",
       "        text-align: right;\n",
       "    }\n",
       "</style>\n",
       "<table border=\"1\" class=\"dataframe\">\n",
       "  <thead>\n",
       "    <tr style=\"text-align: right;\">\n",
       "      <th></th>\n",
       "      <th>IN FILE</th>\n",
       "      <th>AUTO ID*</th>\n",
       "      <th>PULSES</th>\n",
       "      <th>MATCH RATIO</th>\n",
       "      <th>MARGIN</th>\n",
       "      <th>Fc</th>\n",
       "      <th>Sc</th>\n",
       "      <th>Dur</th>\n",
       "      <th>Fmax</th>\n",
       "      <th>Fmin</th>\n",
       "      <th>Fk</th>\n",
       "      <th>Tk</th>\n",
       "      <th>Tc</th>\n",
       "      <th>S1</th>\n",
       "      <th>BWDth</th>\n",
       "      <th>PkDur</th>\n",
       "      <th>COMP ID</th>\n",
       "      <th>Result</th>\n",
       "    </tr>\n",
       "  </thead>\n",
       "  <tbody>\n",
       "    <tr>\n",
       "      <th>0</th>\n",
       "      <td>NoID_20200716_212136.wav</td>\n",
       "      <td>ANTPAL</td>\n",
       "      <td>97.0</td>\n",
       "      <td>0.258</td>\n",
       "      <td>0.088132</td>\n",
       "      <td>32.032</td>\n",
       "      <td>84.83</td>\n",
       "      <td>3.601</td>\n",
       "      <td>43.750</td>\n",
       "      <td>31.157</td>\n",
       "      <td>35.004</td>\n",
       "      <td>2.090</td>\n",
       "      <td>3.370</td>\n",
       "      <td>326.50</td>\n",
       "      <td>12.593</td>\n",
       "      <td>35.545682</td>\n",
       "      <td>NoID</td>\n",
       "      <td>False</td>\n",
       "    </tr>\n",
       "    <tr>\n",
       "      <th>1</th>\n",
       "      <td>ANTPAL_20190607_204646.wav</td>\n",
       "      <td>ANTPAL</td>\n",
       "      <td>16.0</td>\n",
       "      <td>0.875</td>\n",
       "      <td>0.498225</td>\n",
       "      <td>28.955</td>\n",
       "      <td>61.99</td>\n",
       "      <td>6.088</td>\n",
       "      <td>48.466</td>\n",
       "      <td>27.932</td>\n",
       "      <td>30.731</td>\n",
       "      <td>4.213</td>\n",
       "      <td>5.505</td>\n",
       "      <td>208.94</td>\n",
       "      <td>20.534</td>\n",
       "      <td>21.222076</td>\n",
       "      <td>ANTPAL</td>\n",
       "      <td>True</td>\n",
       "    </tr>\n",
       "    <tr>\n",
       "      <th>2</th>\n",
       "      <td>ANTPAL_20200716_211653.wav</td>\n",
       "      <td>ANTPAL</td>\n",
       "      <td>14.0</td>\n",
       "      <td>0.714</td>\n",
       "      <td>0.512325</td>\n",
       "      <td>29.955</td>\n",
       "      <td>68.58</td>\n",
       "      <td>2.948</td>\n",
       "      <td>39.362</td>\n",
       "      <td>29.800</td>\n",
       "      <td>31.430</td>\n",
       "      <td>1.990</td>\n",
       "      <td>2.898</td>\n",
       "      <td>297.09</td>\n",
       "      <td>9.562</td>\n",
       "      <td>30.800543</td>\n",
       "      <td>ANTPAL</td>\n",
       "      <td>True</td>\n",
       "    </tr>\n",
       "    <tr>\n",
       "      <th>3</th>\n",
       "      <td>ANTPAL_20190626_205037.wav</td>\n",
       "      <td>ANTPAL</td>\n",
       "      <td>9.0</td>\n",
       "      <td>0.444</td>\n",
       "      <td>0.224854</td>\n",
       "      <td>32.315</td>\n",
       "      <td>92.00</td>\n",
       "      <td>4.292</td>\n",
       "      <td>54.628</td>\n",
       "      <td>31.916</td>\n",
       "      <td>35.201</td>\n",
       "      <td>2.918</td>\n",
       "      <td>4.116</td>\n",
       "      <td>547.76</td>\n",
       "      <td>22.712</td>\n",
       "      <td>27.912395</td>\n",
       "      <td>ANTPAL</td>\n",
       "      <td>True</td>\n",
       "    </tr>\n",
       "    <tr>\n",
       "      <th>4</th>\n",
       "      <td>EPTFUS_20200301_191434.wav</td>\n",
       "      <td>EPTFUS</td>\n",
       "      <td>161.0</td>\n",
       "      <td>0.398</td>\n",
       "      <td>0.114901</td>\n",
       "      <td>35.502</td>\n",
       "      <td>31.02</td>\n",
       "      <td>6.288</td>\n",
       "      <td>46.429</td>\n",
       "      <td>34.205</td>\n",
       "      <td>37.141</td>\n",
       "      <td>3.196</td>\n",
       "      <td>5.315</td>\n",
       "      <td>332.20</td>\n",
       "      <td>12.224</td>\n",
       "      <td>33.699109</td>\n",
       "      <td>EPTFUS</td>\n",
       "      <td>True</td>\n",
       "    </tr>\n",
       "  </tbody>\n",
       "</table>\n",
       "</div>"
      ],
      "text/plain": [
       "                      IN FILE AUTO ID*  PULSES  MATCH RATIO    MARGIN      Fc  \\\n",
       "0    NoID_20200716_212136.wav   ANTPAL    97.0        0.258  0.088132  32.032   \n",
       "1  ANTPAL_20190607_204646.wav   ANTPAL    16.0        0.875  0.498225  28.955   \n",
       "2  ANTPAL_20200716_211653.wav   ANTPAL    14.0        0.714  0.512325  29.955   \n",
       "3  ANTPAL_20190626_205037.wav   ANTPAL     9.0        0.444  0.224854  32.315   \n",
       "4  EPTFUS_20200301_191434.wav   EPTFUS   161.0        0.398  0.114901  35.502   \n",
       "\n",
       "      Sc    Dur    Fmax    Fmin      Fk     Tk     Tc      S1   BWDth  \\\n",
       "0  84.83  3.601  43.750  31.157  35.004  2.090  3.370  326.50  12.593   \n",
       "1  61.99  6.088  48.466  27.932  30.731  4.213  5.505  208.94  20.534   \n",
       "2  68.58  2.948  39.362  29.800  31.430  1.990  2.898  297.09   9.562   \n",
       "3  92.00  4.292  54.628  31.916  35.201  2.918  4.116  547.76  22.712   \n",
       "4  31.02  6.288  46.429  34.205  37.141  3.196  5.315  332.20  12.224   \n",
       "\n",
       "       PkDur COMP ID  Result  \n",
       "0  35.545682    NoID   False  \n",
       "1  21.222076  ANTPAL    True  \n",
       "2  30.800543  ANTPAL    True  \n",
       "3  27.912395  ANTPAL    True  \n",
       "4  33.699109  EPTFUS    True  "
      ]
     },
     "execution_count": 76,
     "metadata": {},
     "output_type": "execute_result"
    }
   ],
   "source": [
    "data.head()"
   ]
  },
  {
   "cell_type": "code",
   "execution_count": 77,
   "metadata": {
    "scrolled": true
   },
   "outputs": [],
   "source": [
    "#Make column of thruthed data for three most common species and NoID\n",
    "data['Spp'] = three_spp"
   ]
  },
  {
   "cell_type": "code",
   "execution_count": 78,
   "metadata": {},
   "outputs": [
    {
     "data": {
      "text/plain": [
       "NoID      2907\n",
       "TADBRA    1563\n",
       "MYOYUM     855\n",
       "PARHES     524\n",
       "Name: Spp, dtype: int64"
      ]
     },
     "execution_count": 78,
     "metadata": {},
     "output_type": "execute_result"
    }
   ],
   "source": [
    "data['Spp'].value_counts()"
   ]
  },
  {
   "cell_type": "code",
   "execution_count": 79,
   "metadata": {},
   "outputs": [
    {
     "data": {
      "text/plain": [
       "Index(['IN FILE', 'AUTO ID*', 'PULSES', 'MATCH RATIO', 'MARGIN', 'Fc', 'Sc',\n",
       "       'Dur', 'Fmax', 'Fmin', 'Fk', 'Tk', 'Tc', 'S1', 'BWDth', 'PkDur',\n",
       "       'COMP ID', 'Result', 'Spp'],\n",
       "      dtype='object')"
      ]
     },
     "execution_count": 79,
     "metadata": {},
     "output_type": "execute_result"
    }
   ],
   "source": [
    "data.columns"
   ]
  },
  {
   "cell_type": "code",
   "execution_count": 80,
   "metadata": {},
   "outputs": [],
   "source": [
    "#Dropping columns that are not needed\n",
    "data = data.drop(columns = ['COMP ID', 'Result', 'IN FILE', 'PULSES', 'Tc', 'AUTO ID*', 'MARGIN'])"
   ]
  },
  {
   "cell_type": "code",
   "execution_count": 81,
   "metadata": {},
   "outputs": [
    {
     "data": {
      "text/html": [
       "<div>\n",
       "<style scoped>\n",
       "    .dataframe tbody tr th:only-of-type {\n",
       "        vertical-align: middle;\n",
       "    }\n",
       "\n",
       "    .dataframe tbody tr th {\n",
       "        vertical-align: top;\n",
       "    }\n",
       "\n",
       "    .dataframe thead th {\n",
       "        text-align: right;\n",
       "    }\n",
       "</style>\n",
       "<table border=\"1\" class=\"dataframe\">\n",
       "  <thead>\n",
       "    <tr style=\"text-align: right;\">\n",
       "      <th></th>\n",
       "      <th>MATCH RATIO</th>\n",
       "      <th>Fc</th>\n",
       "      <th>Sc</th>\n",
       "      <th>Dur</th>\n",
       "      <th>Fmax</th>\n",
       "      <th>Fmin</th>\n",
       "      <th>Fk</th>\n",
       "      <th>Tk</th>\n",
       "      <th>S1</th>\n",
       "      <th>BWDth</th>\n",
       "      <th>PkDur</th>\n",
       "      <th>Spp</th>\n",
       "    </tr>\n",
       "  </thead>\n",
       "  <tbody>\n",
       "    <tr>\n",
       "      <th>0</th>\n",
       "      <td>0.258</td>\n",
       "      <td>32.032</td>\n",
       "      <td>84.83</td>\n",
       "      <td>3.601</td>\n",
       "      <td>43.750</td>\n",
       "      <td>31.157</td>\n",
       "      <td>35.004</td>\n",
       "      <td>2.090</td>\n",
       "      <td>326.50</td>\n",
       "      <td>12.593</td>\n",
       "      <td>35.545682</td>\n",
       "      <td>NoID</td>\n",
       "    </tr>\n",
       "    <tr>\n",
       "      <th>1</th>\n",
       "      <td>0.875</td>\n",
       "      <td>28.955</td>\n",
       "      <td>61.99</td>\n",
       "      <td>6.088</td>\n",
       "      <td>48.466</td>\n",
       "      <td>27.932</td>\n",
       "      <td>30.731</td>\n",
       "      <td>4.213</td>\n",
       "      <td>208.94</td>\n",
       "      <td>20.534</td>\n",
       "      <td>21.222076</td>\n",
       "      <td>NoID</td>\n",
       "    </tr>\n",
       "    <tr>\n",
       "      <th>2</th>\n",
       "      <td>0.714</td>\n",
       "      <td>29.955</td>\n",
       "      <td>68.58</td>\n",
       "      <td>2.948</td>\n",
       "      <td>39.362</td>\n",
       "      <td>29.800</td>\n",
       "      <td>31.430</td>\n",
       "      <td>1.990</td>\n",
       "      <td>297.09</td>\n",
       "      <td>9.562</td>\n",
       "      <td>30.800543</td>\n",
       "      <td>NoID</td>\n",
       "    </tr>\n",
       "    <tr>\n",
       "      <th>3</th>\n",
       "      <td>0.444</td>\n",
       "      <td>32.315</td>\n",
       "      <td>92.00</td>\n",
       "      <td>4.292</td>\n",
       "      <td>54.628</td>\n",
       "      <td>31.916</td>\n",
       "      <td>35.201</td>\n",
       "      <td>2.918</td>\n",
       "      <td>547.76</td>\n",
       "      <td>22.712</td>\n",
       "      <td>27.912395</td>\n",
       "      <td>NoID</td>\n",
       "    </tr>\n",
       "    <tr>\n",
       "      <th>4</th>\n",
       "      <td>0.398</td>\n",
       "      <td>35.502</td>\n",
       "      <td>31.02</td>\n",
       "      <td>6.288</td>\n",
       "      <td>46.429</td>\n",
       "      <td>34.205</td>\n",
       "      <td>37.141</td>\n",
       "      <td>3.196</td>\n",
       "      <td>332.20</td>\n",
       "      <td>12.224</td>\n",
       "      <td>33.699109</td>\n",
       "      <td>NoID</td>\n",
       "    </tr>\n",
       "  </tbody>\n",
       "</table>\n",
       "</div>"
      ],
      "text/plain": [
       "   MATCH RATIO      Fc     Sc    Dur    Fmax    Fmin      Fk     Tk      S1  \\\n",
       "0        0.258  32.032  84.83  3.601  43.750  31.157  35.004  2.090  326.50   \n",
       "1        0.875  28.955  61.99  6.088  48.466  27.932  30.731  4.213  208.94   \n",
       "2        0.714  29.955  68.58  2.948  39.362  29.800  31.430  1.990  297.09   \n",
       "3        0.444  32.315  92.00  4.292  54.628  31.916  35.201  2.918  547.76   \n",
       "4        0.398  35.502  31.02  6.288  46.429  34.205  37.141  3.196  332.20   \n",
       "\n",
       "    BWDth      PkDur   Spp  \n",
       "0  12.593  35.545682  NoID  \n",
       "1  20.534  21.222076  NoID  \n",
       "2   9.562  30.800543  NoID  \n",
       "3  22.712  27.912395  NoID  \n",
       "4  12.224  33.699109  NoID  "
      ]
     },
     "execution_count": 81,
     "metadata": {},
     "output_type": "execute_result"
    }
   ],
   "source": [
    "data.head()"
   ]
  },
  {
   "cell_type": "code",
   "execution_count": 82,
   "metadata": {},
   "outputs": [],
   "source": [
    "#Making dummy variables for three most common species and NoID\n",
    "dummies = pd.get_dummies(data['Spp'])"
   ]
  },
  {
   "cell_type": "code",
   "execution_count": 83,
   "metadata": {},
   "outputs": [
    {
     "data": {
      "text/html": [
       "<div>\n",
       "<style scoped>\n",
       "    .dataframe tbody tr th:only-of-type {\n",
       "        vertical-align: middle;\n",
       "    }\n",
       "\n",
       "    .dataframe tbody tr th {\n",
       "        vertical-align: top;\n",
       "    }\n",
       "\n",
       "    .dataframe thead th {\n",
       "        text-align: right;\n",
       "    }\n",
       "</style>\n",
       "<table border=\"1\" class=\"dataframe\">\n",
       "  <thead>\n",
       "    <tr style=\"text-align: right;\">\n",
       "      <th></th>\n",
       "      <th>MYOYUM</th>\n",
       "      <th>NoID</th>\n",
       "      <th>PARHES</th>\n",
       "      <th>TADBRA</th>\n",
       "    </tr>\n",
       "  </thead>\n",
       "  <tbody>\n",
       "    <tr>\n",
       "      <th>0</th>\n",
       "      <td>0</td>\n",
       "      <td>1</td>\n",
       "      <td>0</td>\n",
       "      <td>0</td>\n",
       "    </tr>\n",
       "    <tr>\n",
       "      <th>1</th>\n",
       "      <td>0</td>\n",
       "      <td>1</td>\n",
       "      <td>0</td>\n",
       "      <td>0</td>\n",
       "    </tr>\n",
       "    <tr>\n",
       "      <th>2</th>\n",
       "      <td>0</td>\n",
       "      <td>1</td>\n",
       "      <td>0</td>\n",
       "      <td>0</td>\n",
       "    </tr>\n",
       "    <tr>\n",
       "      <th>3</th>\n",
       "      <td>0</td>\n",
       "      <td>1</td>\n",
       "      <td>0</td>\n",
       "      <td>0</td>\n",
       "    </tr>\n",
       "    <tr>\n",
       "      <th>4</th>\n",
       "      <td>0</td>\n",
       "      <td>1</td>\n",
       "      <td>0</td>\n",
       "      <td>0</td>\n",
       "    </tr>\n",
       "  </tbody>\n",
       "</table>\n",
       "</div>"
      ],
      "text/plain": [
       "   MYOYUM  NoID  PARHES  TADBRA\n",
       "0       0     1       0       0\n",
       "1       0     1       0       0\n",
       "2       0     1       0       0\n",
       "3       0     1       0       0\n",
       "4       0     1       0       0"
      ]
     },
     "execution_count": 83,
     "metadata": {},
     "output_type": "execute_result"
    }
   ],
   "source": [
    "dummies.head()"
   ]
  },
  {
   "cell_type": "code",
   "execution_count": 84,
   "metadata": {},
   "outputs": [
    {
     "data": {
      "text/html": [
       "<div>\n",
       "<style scoped>\n",
       "    .dataframe tbody tr th:only-of-type {\n",
       "        vertical-align: middle;\n",
       "    }\n",
       "\n",
       "    .dataframe tbody tr th {\n",
       "        vertical-align: top;\n",
       "    }\n",
       "\n",
       "    .dataframe thead th {\n",
       "        text-align: right;\n",
       "    }\n",
       "</style>\n",
       "<table border=\"1\" class=\"dataframe\">\n",
       "  <thead>\n",
       "    <tr style=\"text-align: right;\">\n",
       "      <th></th>\n",
       "      <th>MYOYUM</th>\n",
       "      <th>NoID</th>\n",
       "      <th>PARHES</th>\n",
       "      <th>TADBRA</th>\n",
       "      <th>MATCH RATIO</th>\n",
       "      <th>Fc</th>\n",
       "      <th>Sc</th>\n",
       "      <th>Dur</th>\n",
       "      <th>Fmax</th>\n",
       "      <th>Fmin</th>\n",
       "      <th>Fk</th>\n",
       "      <th>Tk</th>\n",
       "      <th>S1</th>\n",
       "      <th>BWDth</th>\n",
       "      <th>PkDur</th>\n",
       "      <th>Spp</th>\n",
       "    </tr>\n",
       "  </thead>\n",
       "  <tbody>\n",
       "    <tr>\n",
       "      <th>0</th>\n",
       "      <td>0</td>\n",
       "      <td>1</td>\n",
       "      <td>0</td>\n",
       "      <td>0</td>\n",
       "      <td>0.258</td>\n",
       "      <td>32.032</td>\n",
       "      <td>84.83</td>\n",
       "      <td>3.601</td>\n",
       "      <td>43.750</td>\n",
       "      <td>31.157</td>\n",
       "      <td>35.004</td>\n",
       "      <td>2.090</td>\n",
       "      <td>326.50</td>\n",
       "      <td>12.593</td>\n",
       "      <td>35.545682</td>\n",
       "      <td>NoID</td>\n",
       "    </tr>\n",
       "    <tr>\n",
       "      <th>1</th>\n",
       "      <td>0</td>\n",
       "      <td>1</td>\n",
       "      <td>0</td>\n",
       "      <td>0</td>\n",
       "      <td>0.875</td>\n",
       "      <td>28.955</td>\n",
       "      <td>61.99</td>\n",
       "      <td>6.088</td>\n",
       "      <td>48.466</td>\n",
       "      <td>27.932</td>\n",
       "      <td>30.731</td>\n",
       "      <td>4.213</td>\n",
       "      <td>208.94</td>\n",
       "      <td>20.534</td>\n",
       "      <td>21.222076</td>\n",
       "      <td>NoID</td>\n",
       "    </tr>\n",
       "    <tr>\n",
       "      <th>2</th>\n",
       "      <td>0</td>\n",
       "      <td>1</td>\n",
       "      <td>0</td>\n",
       "      <td>0</td>\n",
       "      <td>0.714</td>\n",
       "      <td>29.955</td>\n",
       "      <td>68.58</td>\n",
       "      <td>2.948</td>\n",
       "      <td>39.362</td>\n",
       "      <td>29.800</td>\n",
       "      <td>31.430</td>\n",
       "      <td>1.990</td>\n",
       "      <td>297.09</td>\n",
       "      <td>9.562</td>\n",
       "      <td>30.800543</td>\n",
       "      <td>NoID</td>\n",
       "    </tr>\n",
       "    <tr>\n",
       "      <th>3</th>\n",
       "      <td>0</td>\n",
       "      <td>1</td>\n",
       "      <td>0</td>\n",
       "      <td>0</td>\n",
       "      <td>0.444</td>\n",
       "      <td>32.315</td>\n",
       "      <td>92.00</td>\n",
       "      <td>4.292</td>\n",
       "      <td>54.628</td>\n",
       "      <td>31.916</td>\n",
       "      <td>35.201</td>\n",
       "      <td>2.918</td>\n",
       "      <td>547.76</td>\n",
       "      <td>22.712</td>\n",
       "      <td>27.912395</td>\n",
       "      <td>NoID</td>\n",
       "    </tr>\n",
       "    <tr>\n",
       "      <th>4</th>\n",
       "      <td>0</td>\n",
       "      <td>1</td>\n",
       "      <td>0</td>\n",
       "      <td>0</td>\n",
       "      <td>0.398</td>\n",
       "      <td>35.502</td>\n",
       "      <td>31.02</td>\n",
       "      <td>6.288</td>\n",
       "      <td>46.429</td>\n",
       "      <td>34.205</td>\n",
       "      <td>37.141</td>\n",
       "      <td>3.196</td>\n",
       "      <td>332.20</td>\n",
       "      <td>12.224</td>\n",
       "      <td>33.699109</td>\n",
       "      <td>NoID</td>\n",
       "    </tr>\n",
       "  </tbody>\n",
       "</table>\n",
       "</div>"
      ],
      "text/plain": [
       "   MYOYUM  NoID  PARHES  TADBRA  MATCH RATIO      Fc     Sc    Dur    Fmax  \\\n",
       "0       0     1       0       0        0.258  32.032  84.83  3.601  43.750   \n",
       "1       0     1       0       0        0.875  28.955  61.99  6.088  48.466   \n",
       "2       0     1       0       0        0.714  29.955  68.58  2.948  39.362   \n",
       "3       0     1       0       0        0.444  32.315  92.00  4.292  54.628   \n",
       "4       0     1       0       0        0.398  35.502  31.02  6.288  46.429   \n",
       "\n",
       "     Fmin      Fk     Tk      S1   BWDth      PkDur   Spp  \n",
       "0  31.157  35.004  2.090  326.50  12.593  35.545682  NoID  \n",
       "1  27.932  30.731  4.213  208.94  20.534  21.222076  NoID  \n",
       "2  29.800  31.430  1.990  297.09   9.562  30.800543  NoID  \n",
       "3  31.916  35.201  2.918  547.76  22.712  27.912395  NoID  \n",
       "4  34.205  37.141  3.196  332.20  12.224  33.699109  NoID  "
      ]
     },
     "execution_count": 84,
     "metadata": {},
     "output_type": "execute_result"
    }
   ],
   "source": [
    "#Concating dummy variable columns to dataframe\n",
    "df = pd.concat([dummies, data], axis = 1)\n",
    "df.head()"
   ]
  },
  {
   "cell_type": "code",
   "execution_count": 85,
   "metadata": {},
   "outputs": [
    {
     "data": {
      "text/plain": [
       "(5849, 16)"
      ]
     },
     "execution_count": 85,
     "metadata": {},
     "output_type": "execute_result"
    }
   ],
   "source": [
    "df.shape"
   ]
  },
  {
   "cell_type": "code",
   "execution_count": 86,
   "metadata": {},
   "outputs": [],
   "source": [
    "#Train test split of dataframe\n",
    "X_train, X_test, y_train, y_test = train_test_split(df.drop(columns= ['Spp', 'MYOYUM', 'NoID', 'PARHES', 'TADBRA']), \n",
    "                                                    df[['Spp', 'MYOYUM', 'NoID', 'PARHES', 'TADBRA']], test_size=0.3, \n",
    "                                                    random_state=42)"
   ]
  },
  {
   "cell_type": "code",
   "execution_count": 87,
   "metadata": {},
   "outputs": [
    {
     "data": {
      "text/plain": [
       "Index(['MATCH RATIO', 'Fc', 'Sc', 'Dur', 'Fmax', 'Fmin', 'Fk', 'Tk', 'S1',\n",
       "       'BWDth', 'PkDur'],\n",
       "      dtype='object')"
      ]
     },
     "execution_count": 87,
     "metadata": {},
     "output_type": "execute_result"
    }
   ],
   "source": [
    "X_train.columns"
   ]
  },
  {
   "cell_type": "code",
   "execution_count": 88,
   "metadata": {},
   "outputs": [
    {
     "data": {
      "text/plain": [
       "Index(['Spp', 'MYOYUM', 'NoID', 'PARHES', 'TADBRA'], dtype='object')"
      ]
     },
     "execution_count": 88,
     "metadata": {},
     "output_type": "execute_result"
    }
   ],
   "source": [
    "y_train.columns"
   ]
  },
  {
   "cell_type": "markdown",
   "metadata": {},
   "source": [
    "### RF 1 species models"
   ]
  },
  {
   "cell_type": "markdown",
   "metadata": {},
   "source": [
    "#### TADBRA"
   ]
  },
  {
   "cell_type": "code",
   "execution_count": 245,
   "metadata": {},
   "outputs": [],
   "source": [
    "#Setting parameters for random forest gridsearch cv\n",
    "RF_param_grid = {'n_estimators': [360, 380, 400, 420, 440, 460],\n",
    "             'max_features': ['auto'],\n",
    "             'max_depth' : [10, 11, 12],\n",
    "             'criterion' :['gini']}\n",
    "rfc = RandomForestClassifier(random_state = 42)"
   ]
  },
  {
   "cell_type": "code",
   "execution_count": 246,
   "metadata": {},
   "outputs": [
    {
     "data": {
      "text/plain": [
       "GridSearchCV(cv=5, estimator=RandomForestClassifier(random_state=42),\n",
       "             param_grid={'criterion': ['gini'], 'max_depth': [10, 11, 12],\n",
       "                         'max_features': ['auto'],\n",
       "                         'n_estimators': [360, 380, 400, 420, 440, 460]},\n",
       "             scoring='roc_auc')"
      ]
     },
     "execution_count": 246,
     "metadata": {},
     "output_type": "execute_result"
    }
   ],
   "source": [
    "#Gridsearch cv and fitting model to training data\n",
    "forest_cv = GridSearchCV(rfc, RF_param_grid, cv=5, scoring = 'roc_auc')\n",
    "forest_cv.fit(X_train.drop(columns = 'MATCH RATIO'), y_train['TADBRA'])"
   ]
  },
  {
   "cell_type": "code",
   "execution_count": 247,
   "metadata": {},
   "outputs": [
    {
     "name": "stdout",
     "output_type": "stream",
     "text": [
      "Best score: 0.854244295164375\n",
      "Best parameters: {'criterion': 'gini', 'max_depth': 11, 'max_features': 'auto', 'n_estimators': 400}\n"
     ]
    }
   ],
   "source": [
    "#Best accuracy score and hyperparameters\n",
    "print('Best score:', forest_cv.best_score_)\n",
    "print('Best parameters:', forest_cv.best_params_)"
   ]
  },
  {
   "cell_type": "code",
   "execution_count": 248,
   "metadata": {},
   "outputs": [
    {
     "name": "stdout",
     "output_type": "stream",
     "text": [
      "Training accuracy:  0.9776822135838867\n",
      "Test set accuracy:  0.8632452830188679\n"
     ]
    }
   ],
   "source": [
    "#ROC AUC score for both training and testing data\n",
    "print('Training accuracy: ', forest_cv.score(X_train.drop(columns = 'MATCH RATIO'), y_train['TADBRA']))\n",
    "print('Test set accuracy: ', forest_cv.score(X_test.drop(columns = 'MATCH RATIO'), y_test['TADBRA']))"
   ]
  },
  {
   "cell_type": "markdown",
   "metadata": {},
   "source": [
    "Final classifier for TADBRA"
   ]
  },
  {
   "cell_type": "code",
   "execution_count": 89,
   "metadata": {},
   "outputs": [],
   "source": [
    "#Setting hyperparameters for random forest classifier for TADBRA\n",
    "rfc_tadbra = RandomForestClassifier(criterion = 'gini', max_depth = 11, max_features = 'auto', \n",
    "                                    n_estimators = 400, random_state = 42)"
   ]
  },
  {
   "cell_type": "code",
   "execution_count": 90,
   "metadata": {},
   "outputs": [
    {
     "data": {
      "text/plain": [
       "RandomForestClassifier(max_depth=11, n_estimators=400, random_state=42)"
      ]
     },
     "execution_count": 90,
     "metadata": {},
     "output_type": "execute_result"
    }
   ],
   "source": [
    "#Fitting data to classifier\n",
    "rfc_tadbra.fit(X_train.drop(columns = 'MATCH RATIO'), y_train['TADBRA'])"
   ]
  },
  {
   "cell_type": "code",
   "execution_count": 91,
   "metadata": {},
   "outputs": [
    {
     "name": "stdout",
     "output_type": "stream",
     "text": [
      "0.9259892525647289\n",
      "0.7971509971509971\n"
     ]
    }
   ],
   "source": [
    "#Accuracy score for training and test data\n",
    "print(rfc_tadbra.score(X_train.drop(columns = 'MATCH RATIO'), y_train['TADBRA']))\n",
    "print(rfc_tadbra.score(X_test.drop(columns = 'MATCH RATIO'), y_test['TADBRA']))"
   ]
  },
  {
   "cell_type": "code",
   "execution_count": 92,
   "metadata": {},
   "outputs": [],
   "source": [
    "#making predictions for model\n",
    "tadbra_pred = rfc_tadbra.predict(X_test.drop(columns = 'MATCH RATIO'))"
   ]
  },
  {
   "cell_type": "markdown",
   "metadata": {},
   "source": [
    "Thresholding"
   ]
  },
  {
   "cell_type": "code",
   "execution_count": 93,
   "metadata": {},
   "outputs": [],
   "source": [
    "#Extracting predicted probabilities for model\n",
    "pred_prob = rfc_tadbra.predict_proba(X_test.drop(columns = 'MATCH RATIO'))"
   ]
  },
  {
   "cell_type": "code",
   "execution_count": 94,
   "metadata": {},
   "outputs": [],
   "source": [
    "#making thresholds to loop through\n",
    "threshold = np.arange(0.1,1,.01)"
   ]
  },
  {
   "cell_type": "code",
   "execution_count": 95,
   "metadata": {},
   "outputs": [
    {
     "name": "stderr",
     "output_type": "stream",
     "text": [
      "C:\\Users\\matta\\anaconda3\\lib\\site-packages\\sklearn\\metrics\\_classification.py:1221: UndefinedMetricWarning: Precision is ill-defined and being set to 0.0 due to no predicted samples. Use `zero_division` parameter to control this behavior.\n",
      "  _warn_prf(average, modifier, msg_start, len(result))\n"
     ]
    }
   ],
   "source": [
    "#Determining model accuracy, precision, recall, f1 for different thresholds\n",
    "accuracy = []\n",
    "balanced_accuracy = []\n",
    "precision = []\n",
    "recall = []\n",
    "f1 = []\n",
    "\n",
    "for i in threshold:\n",
    "    temp_pred = (pred_prob[:,1] >= i).astype('int')\n",
    "    accuracy.append(accuracy_score(y_test['TADBRA'], temp_pred))\n",
    "    balanced_accuracy.append(balanced_accuracy_score(y_test['TADBRA'], temp_pred))\n",
    "    precision.append(precision_score(y_test['TADBRA'], temp_pred))\n",
    "    recall.append(recall_score(y_test['TADBRA'], temp_pred))\n",
    "    f1.append(f1_score(y_test['TADBRA'], temp_pred))"
   ]
  },
  {
   "cell_type": "code",
   "execution_count": 189,
   "metadata": {},
   "outputs": [
    {
     "name": "stdout",
     "output_type": "stream",
     "text": [
      "F1 score default:  0.5908045977011493\n",
      "F1 score optimized:  0.6290598290598292\n",
      "Balanced accuracy score:  0.7923562966213251\n"
     ]
    }
   ],
   "source": [
    "#Model F1 scores for default and optimized thresholds\n",
    "print('F1 score default: ', f1_score(y_test['TADBRA'], (pred_prob[:,1] >= 0.5)))\n",
    "print('F1 score optimized: ', f1_score(y_test['TADBRA'], (pred_prob[:,1] >= 0.37)))\n",
    "print(\"Balanced accuracy score: \", balanced_accuracy_score(y_test['TADBRA'], (pred_prob[:,1] >= 0.33)))"
   ]
  },
  {
   "cell_type": "code",
   "execution_count": 111,
   "metadata": {},
   "outputs": [
    {
     "name": "stdout",
     "output_type": "stream",
     "text": [
      "Balanced accuracy maximum score:  0.7923562966213251\n",
      "F1 maximum score:  0.6290598290598292\n"
     ]
    }
   ],
   "source": [
    "#maximum scores after thresholding\n",
    "print('Balanced accuracy maximum score: ', max(balanced_accuracy))\n",
    "print('F1 maximum score: ', max(f1))"
   ]
  },
  {
   "cell_type": "code",
   "execution_count": 175,
   "metadata": {},
   "outputs": [
    {
     "data": {
      "image/png": "[encoded data removed]",
      "text/plain": [
       "<Figure size 432x288 with 1 Axes>"
      ]
     },
     "metadata": {
      "needs_background": "light"
     },
     "output_type": "display_data"
    }
   ],
   "source": [
    "#Graphing F1 score thresholding\n",
    "plt.plot(threshold, f1, label='F1')\n",
    "#plt.plot(threshold, balanced_accuracy, label='Balanced Accuracy')\n",
    "plt.xlabel('Threshold')\n",
    "plt.ylabel('Proportion')\n",
    "plt.title('Random Forest TADBRA F1 Thresholding')\n",
    "plt.legend(loc='lower left')\n",
    "#plt.axvline(x=0.52, color='black')\n",
    "#plt.text(0.49, 0.60,'0.52',rotation=90)\n",
    "plt.axvline(x=0.37, color='black')\n",
    "plt.text(0.34, 0.30, '0.37', rotation=90)\n",
    "#plt.axvline(x=0.33, color='black')\n",
    "#plt.text(0.3, 0.6, '0.33', rotation=90)\n",
    "plt.show()"
   ]
  },
  {
   "cell_type": "code",
   "execution_count": 203,
   "metadata": {},
   "outputs": [
    {
     "data": {
      "image/png": "[encoded data removed]",
      "text/plain": [
       "<Figure size 432x288 with 1 Axes>"
      ]
     },
     "metadata": {
      "needs_background": "light"
     },
     "output_type": "display_data"
    }
   ],
   "source": [
    "#Graphing precision, recall and f1\n",
    "plt.plot(threshold, precision, label='Precision')\n",
    "plt.plot(threshold, recall, label='Recall')\n",
    "plt.plot(threshold, f1, label='F1')\n",
    "plt.legend(loc=\"lower left\")\n",
    "plt.title('Random Forest TADBRA\\nPrecision Recall Curve')\n",
    "plt.xlabel('Threshold')\n",
    "plt.ylabel('Proportion')\n",
    "plt.axvline(x=0.5, color='black')\n",
    "plt.text(.465,.33,'0.5',rotation=90)\n",
    "plt.show()"
   ]
  },
  {
   "cell_type": "markdown",
   "metadata": {},
   "source": [
    "#### MYOYUM"
   ]
  },
  {
   "cell_type": "code",
   "execution_count": 250,
   "metadata": {},
   "outputs": [],
   "source": [
    "#Setting hyperparameters for random forest gridsearch cv\n",
    "RF_param_grid = {'n_estimators': [100, 200, 400, 600],\n",
    "             'max_features': ['auto'],\n",
    "             'max_depth' : [4, 6, 8, 10],\n",
    "             'criterion' :['gini', 'entropy']}\n",
    "rfc = RandomForestClassifier(random_state = 42)"
   ]
  },
  {
   "cell_type": "code",
   "execution_count": 251,
   "metadata": {},
   "outputs": [
    {
     "data": {
      "text/plain": [
       "GridSearchCV(cv=5, estimator=RandomForestClassifier(random_state=42),\n",
       "             param_grid={'criterion': ['gini', 'entropy'],\n",
       "                         'max_depth': [4, 6, 8, 10], 'max_features': ['auto'],\n",
       "                         'n_estimators': [100, 200, 400, 600]},\n",
       "             scoring='roc_auc')"
      ]
     },
     "execution_count": 251,
     "metadata": {},
     "output_type": "execute_result"
    }
   ],
   "source": [
    "#Gridsearch cv for myoyum and fitting model\n",
    "forest_cv_myoyum = GridSearchCV(rfc, RF_param_grid, cv=5, scoring = 'roc_auc')\n",
    "forest_cv_myoyum.fit(X_train.drop(columns = 'MATCH RATIO'), y_train['MYOYUM'])"
   ]
  },
  {
   "cell_type": "code",
   "execution_count": 252,
   "metadata": {},
   "outputs": [
    {
     "name": "stdout",
     "output_type": "stream",
     "text": [
      "Best score: 0.9922475046428781\n",
      "Best parameters: {'criterion': 'gini', 'max_depth': 10, 'max_features': 'auto', 'n_estimators': 100}\n"
     ]
    }
   ],
   "source": [
    "#Best roc-auc score and hyperparameters\n",
    "print('Best score:', forest_cv_myoyum.best_score_)\n",
    "print('Best parameters:', forest_cv_myoyum.best_params_)"
   ]
  },
  {
   "cell_type": "code",
   "execution_count": 253,
   "metadata": {},
   "outputs": [
    {
     "name": "stdout",
     "output_type": "stream",
     "text": [
      "Training accuracy:  0.9999255723631213\n",
      "Test set accuracy:  0.9933605847888846\n"
     ]
    }
   ],
   "source": [
    "#Training and test data roc auc scores\n",
    "print('Training accuracy: ', forest_cv_myoyum.score(X_train.drop(columns = 'MATCH RATIO'), y_train['MYOYUM']))\n",
    "print('Test set accuracy: ', forest_cv_myoyum.score(X_test.drop(columns = 'MATCH RATIO'), y_test['MYOYUM']))"
   ]
  },
  {
   "cell_type": "markdown",
   "metadata": {},
   "source": [
    "Final classifier for MYOYUM"
   ]
  },
  {
   "cell_type": "code",
   "execution_count": 113,
   "metadata": {},
   "outputs": [],
   "source": [
    "#making random forest classifier with best hyperparameters for myoyum\n",
    "rfc_myoyum = RandomForestClassifier(criterion = 'gini', max_depth = 10, max_features = 'auto', \n",
    "                                    n_estimators = 100, random_state = 42)"
   ]
  },
  {
   "cell_type": "code",
   "execution_count": 114,
   "metadata": {},
   "outputs": [
    {
     "data": {
      "text/plain": [
       "RandomForestClassifier(max_depth=10, random_state=42)"
      ]
     },
     "execution_count": 114,
     "metadata": {},
     "output_type": "execute_result"
    }
   ],
   "source": [
    "#fitting model to training data\n",
    "rfc_myoyum.fit(X_train.drop(columns = 'MATCH RATIO'), y_train['MYOYUM'])"
   ]
  },
  {
   "cell_type": "code",
   "execution_count": 115,
   "metadata": {},
   "outputs": [
    {
     "name": "stdout",
     "output_type": "stream",
     "text": [
      "0.9985344406448461\n",
      "0.9652421652421652\n"
     ]
    }
   ],
   "source": [
    "#Accuracy scores for training and test data\n",
    "print(rfc_myoyum.score(X_train.drop(columns = 'MATCH RATIO'), y_train['MYOYUM']))\n",
    "print(rfc_myoyum.score(X_test.drop(columns = 'MATCH RATIO'), y_test['MYOYUM']))"
   ]
  },
  {
   "cell_type": "markdown",
   "metadata": {},
   "source": [
    "Thresholding"
   ]
  },
  {
   "cell_type": "code",
   "execution_count": 116,
   "metadata": {},
   "outputs": [],
   "source": [
    "#extracting predicted probabilities from random forest classifier model\n",
    "pred_prob_myoyum = rfc_myoyum.predict_proba(X_test.drop(columns = 'MATCH RATIO'))"
   ]
  },
  {
   "cell_type": "code",
   "execution_count": 117,
   "metadata": {},
   "outputs": [],
   "source": [
    "#Determining different metrics of accuracy for different thresholds for myoyum\n",
    "accuracy_myoyum = []\n",
    "balanced_accuracy_myoyum = []\n",
    "precision_myoyum = []\n",
    "recall_myoyum = []\n",
    "f1_myoyum = []\n",
    "\n",
    "for i in threshold:\n",
    "    temp_pred = (pred_prob_myoyum[:,1] >= i).astype('int')\n",
    "    accuracy_myoyum.append(accuracy_score(y_test['MYOYUM'], temp_pred))\n",
    "    balanced_accuracy_myoyum.append(balanced_accuracy_score(y_test['MYOYUM'], temp_pred))\n",
    "    precision_myoyum.append(precision_score(y_test['MYOYUM'], temp_pred))\n",
    "    recall_myoyum.append(recall_score(y_test['MYOYUM'], temp_pred))\n",
    "    f1_myoyum.append(f1_score(y_test['MYOYUM'], temp_pred))"
   ]
  },
  {
   "cell_type": "code",
   "execution_count": 119,
   "metadata": {},
   "outputs": [
    {
     "name": "stdout",
     "output_type": "stream",
     "text": [
      "Balanced accuracy max:  0.9656308945448724\n",
      "F1 max:  0.8913043478260869\n"
     ]
    }
   ],
   "source": [
    "#Maximum values from thresholding\n",
    "print('Balanced accuracy max: ', max(balanced_accuracy_myoyum))\n",
    "print('F1 max: ', max(f1_myoyum))"
   ]
  },
  {
   "cell_type": "code",
   "execution_count": 190,
   "metadata": {},
   "outputs": [
    {
     "name": "stdout",
     "output_type": "stream",
     "text": [
      "Balanced accuracy score:  0.9656308945448724\n",
      "F1 score optimized:  0.8913043478260869\n",
      "F1 score default:  0.8859813084112149\n"
     ]
    }
   ],
   "source": [
    "#F1 scores for default and optimized thresholds\n",
    "print(\"Balanced accuracy score: \", balanced_accuracy_score(y_test['MYOYUM'], (pred_prob_myoyum[:,1] >= 0.2)))\n",
    "print('F1 score optimized: ', f1_score(y_test['MYOYUM'], (pred_prob_myoyum[:,1] >= 0.37)))\n",
    "print('F1 score default: ', f1_score(y_test['MYOYUM'], (pred_prob_myoyum[:,1] >= 0.5)))"
   ]
  },
  {
   "cell_type": "code",
   "execution_count": 173,
   "metadata": {},
   "outputs": [
    {
     "data": {
      "image/png": "[encoded data removed]",
      "text/plain": [
       "<Figure size 432x288 with 1 Axes>"
      ]
     },
     "metadata": {
      "needs_background": "light"
     },
     "output_type": "display_data"
    }
   ],
   "source": [
    "#Graphing thresholding for myoyum\n",
    "plt.plot(threshold, f1_myoyum, label='F1')\n",
    "#plt.plot(threshold, balanced_accuracy_myoyum, label='Balanced Accuracy')\n",
    "plt.xlabel('Threshold')\n",
    "plt.ylabel('Proportion')\n",
    "plt.title('Random Forest MYOYUM F1 Thresholding')\n",
    "plt.legend(loc='lower left')\n",
    "#plt.axvline(x=0.52, color='black')\n",
    "#plt.text(0.49, 0.60,'0.52',rotation=90)\n",
    "plt.axvline(x=0.37, color='black')\n",
    "plt.text(0.34, 0.60, '0.37', rotation=90)\n",
    "#plt.axvline(x=0.2, color='black')\n",
    "#plt.text(0.17, 0.6, '0.2', rotation=90)\n",
    "plt.show()"
   ]
  },
  {
   "cell_type": "markdown",
   "metadata": {},
   "source": [
    "#### PARHES"
   ]
  },
  {
   "cell_type": "code",
   "execution_count": 254,
   "metadata": {},
   "outputs": [],
   "source": [
    "#Setting hyperparameters for random forest gridsearch \n",
    "RF_param_grid = {'n_estimators': [100, 200, 400, 600],\n",
    "             'max_features': ['auto'],\n",
    "             'max_depth' : [2, 4, 6, 8, 10],\n",
    "             'criterion' :['gini', 'entropy']}\n",
    "rfc = RandomForestClassifier(random_state = 42)"
   ]
  },
  {
   "cell_type": "code",
   "execution_count": 255,
   "metadata": {},
   "outputs": [
    {
     "data": {
      "text/plain": [
       "GridSearchCV(cv=5, estimator=RandomForestClassifier(random_state=42),\n",
       "             param_grid={'criterion': ['gini', 'entropy'],\n",
       "                         'max_depth': [2, 4, 6, 8, 10],\n",
       "                         'max_features': ['auto'],\n",
       "                         'n_estimators': [100, 200, 400, 600]},\n",
       "             scoring='roc_auc')"
      ]
     },
     "execution_count": 255,
     "metadata": {},
     "output_type": "execute_result"
    }
   ],
   "source": [
    "#Gridsearch cv and fitting model\n",
    "forest_cv_parhes = GridSearchCV(rfc, RF_param_grid, cv=5, scoring = 'roc_auc')\n",
    "forest_cv_parhes.fit(X_train.drop(columns = 'MATCH RATIO'), y_train['PARHES'])"
   ]
  },
  {
   "cell_type": "code",
   "execution_count": 256,
   "metadata": {},
   "outputs": [
    {
     "name": "stdout",
     "output_type": "stream",
     "text": [
      "Best score: 0.9954219983042814\n",
      "Best parameters: {'criterion': 'gini', 'max_depth': 6, 'max_features': 'auto', 'n_estimators': 600}\n"
     ]
    }
   ],
   "source": [
    "#ROC AUC score and best hyperparameters\n",
    "print('Best score:', forest_cv_parhes.best_score_)\n",
    "print('Best parameters:', forest_cv_parhes.best_params_)"
   ]
  },
  {
   "cell_type": "code",
   "execution_count": 257,
   "metadata": {},
   "outputs": [
    {
     "name": "stdout",
     "output_type": "stream",
     "text": [
      "Training accuracy:  0.9993351367841758\n",
      "Test set accuracy:  0.997775230395632\n"
     ]
    }
   ],
   "source": [
    "#ROC AUC score for training and test sets\n",
    "print('Training accuracy: ', forest_cv_parhes.score(X_train.drop(columns = 'MATCH RATIO'), y_train['PARHES']))\n",
    "print('Test set accuracy: ', forest_cv_parhes.score(X_test.drop(columns = 'MATCH RATIO'), y_test['PARHES']))"
   ]
  },
  {
   "cell_type": "markdown",
   "metadata": {},
   "source": [
    "Final classifier PARHES"
   ]
  },
  {
   "cell_type": "code",
   "execution_count": 129,
   "metadata": {},
   "outputs": [],
   "source": [
    "#Making final classifier for PARHES with optimized hyperparameters\n",
    "rfc_parhes = RandomForestClassifier(criterion = 'gini', max_depth = 6, max_features = 'auto', \n",
    "                                    n_estimators = 600, random_state = 42)"
   ]
  },
  {
   "cell_type": "code",
   "execution_count": 130,
   "metadata": {},
   "outputs": [
    {
     "data": {
      "text/plain": [
       "RandomForestClassifier(max_depth=6, n_estimators=600, random_state=42)"
      ]
     },
     "execution_count": 130,
     "metadata": {},
     "output_type": "execute_result"
    }
   ],
   "source": [
    "#fitting model to training data\n",
    "rfc_parhes.fit(X_train.drop(columns = 'MATCH RATIO'), y_train['PARHES'])"
   ]
  },
  {
   "cell_type": "code",
   "execution_count": 131,
   "metadata": {},
   "outputs": [
    {
     "name": "stdout",
     "output_type": "stream",
     "text": [
      "0.9938935026868588\n",
      "0.9846153846153847\n"
     ]
    }
   ],
   "source": [
    "#ROC AUC scores for training and test data\n",
    "print(rfc_parhes.score(X_train.drop(columns = 'MATCH RATIO'), y_train['PARHES']))\n",
    "print(rfc_parhes.score(X_test.drop(columns = 'MATCH RATIO'), y_test['PARHES']))"
   ]
  },
  {
   "cell_type": "markdown",
   "metadata": {},
   "source": [
    "Thresholding"
   ]
  },
  {
   "cell_type": "code",
   "execution_count": 132,
   "metadata": {},
   "outputs": [],
   "source": [
    "#Extracting predicted probabilities for model\n",
    "pred_prob_parhes = rfc_parhes.predict_proba(X_test.drop(columns = 'MATCH RATIO'))"
   ]
  },
  {
   "cell_type": "code",
   "execution_count": 238,
   "metadata": {},
   "outputs": [
    {
     "name": "stderr",
     "output_type": "stream",
     "text": [
      "C:\\Users\\matta\\anaconda3\\lib\\site-packages\\sklearn\\metrics\\_classification.py:1221: UndefinedMetricWarning: Precision is ill-defined and being set to 0.0 due to no predicted samples. Use `zero_division` parameter to control this behavior.\n",
      "  _warn_prf(average, modifier, msg_start, len(result))\n"
     ]
    }
   ],
   "source": [
    "#Thresholding through probabilities\n",
    "accuracy_parhes = []\n",
    "balanced_accuracy_parhes = []\n",
    "precision_parhes = []\n",
    "recall_parhes = []\n",
    "f1_parhes = []\n",
    "\n",
    "for i in threshold:\n",
    "    temp_pred = (pred_prob_parhes[:,1] >= i).astype('int')\n",
    "    accuracy_parhes.append(accuracy_score(y_test['PARHES'], temp_pred))\n",
    "    balanced_accuracy_parhes.append(balanced_accuracy_score(y_test['PARHES'], temp_pred))\n",
    "    precision_parhes.append(precision_score(y_test['PARHES'], temp_pred))\n",
    "    recall_parhes.append(recall_score(y_test['PARHES'], temp_pred))\n",
    "    f1_parhes.append(f1_score(y_test['PARHES'], temp_pred))"
   ]
  },
  {
   "cell_type": "code",
   "execution_count": 136,
   "metadata": {},
   "outputs": [
    {
     "name": "stdout",
     "output_type": "stream",
     "text": [
      "Balanced accuracy max:  0.9806275358602694\n",
      "F1 max:  0.9221556886227545\n"
     ]
    }
   ],
   "source": [
    "#Maximum F1\n",
    "print('Balanced accuracy max: ', max(balanced_accuracy_parhes))\n",
    "print('F1 max: ', max(f1_parhes))"
   ]
  },
  {
   "cell_type": "code",
   "execution_count": 191,
   "metadata": {},
   "outputs": [
    {
     "name": "stdout",
     "output_type": "stream",
     "text": [
      "Balanced accuracy score:  0.9781086441726119\n",
      "F1 score optimized:  0.9221556886227545\n",
      "F1 score default:  0.918429003021148\n"
     ]
    }
   ],
   "source": [
    "#Default and optimized F1\n",
    "print(\"Balanced accuracy score: \", balanced_accuracy_score(y_test['PARHES'], (pred_prob_parhes[:,1] >= 0.1)))\n",
    "print('F1 score optimized: ', f1_score(y_test['PARHES'], (pred_prob_parhes[:,1] >= 0.46)))\n",
    "print('F1 score default: ', f1_score(y_test['PARHES'], (pred_prob_parhes[:,1] >= 0.5)))"
   ]
  },
  {
   "cell_type": "code",
   "execution_count": 176,
   "metadata": {},
   "outputs": [
    {
     "data": {
      "image/png": "[encoded data removed]",
      "text/plain": [
       "<Figure size 432x288 with 1 Axes>"
      ]
     },
     "metadata": {
      "needs_background": "light"
     },
     "output_type": "display_data"
    }
   ],
   "source": [
    "#Graphing thresholding\n",
    "plt.plot(threshold, f1_parhes, label='F1')\n",
    "#plt.plot(threshold, balanced_accuracy_parhes, label='Balanced Accuracy')\n",
    "plt.xlabel('Threshold')\n",
    "plt.ylabel('Proportion')\n",
    "plt.title('Random Forest PARHES F1 Thresholding')\n",
    "plt.legend(loc='lower left')\n",
    "#plt.axvline(x=0.52, color='black')\n",
    "#plt.text(0.49, 0.60,'0.52',rotation=90)\n",
    "plt.axvline(x=0.46, color='black')\n",
    "plt.text(0.43, 0.60, '0.46', rotation=90)\n",
    "#plt.axvline(x=0.2, color='black')\n",
    "#plt.text(0.17, 0.6, '0.2', rotation=90)\n",
    "plt.show()"
   ]
  },
  {
   "cell_type": "markdown",
   "metadata": {},
   "source": [
    "## F1 Scores For Each Model"
   ]
  },
  {
   "cell_type": "code",
   "execution_count": 203,
   "metadata": {},
   "outputs": [
    {
     "data": {
      "text/html": [
       "<div>\n",
       "<style scoped>\n",
       "    .dataframe tbody tr th:only-of-type {\n",
       "        vertical-align: middle;\n",
       "    }\n",
       "\n",
       "    .dataframe tbody tr th {\n",
       "        vertical-align: top;\n",
       "    }\n",
       "\n",
       "    .dataframe thead th {\n",
       "        text-align: right;\n",
       "    }\n",
       "</style>\n",
       "<table border=\"1\" class=\"dataframe\">\n",
       "  <thead>\n",
       "    <tr style=\"text-align: right;\">\n",
       "      <th></th>\n",
       "      <th>Spp</th>\n",
       "      <th>MYOYUM</th>\n",
       "      <th>NoID</th>\n",
       "      <th>PARHES</th>\n",
       "      <th>TADBRA</th>\n",
       "    </tr>\n",
       "  </thead>\n",
       "  <tbody>\n",
       "    <tr>\n",
       "      <th>1335</th>\n",
       "      <td>MYOYUM</td>\n",
       "      <td>1</td>\n",
       "      <td>0</td>\n",
       "      <td>0</td>\n",
       "      <td>0</td>\n",
       "    </tr>\n",
       "    <tr>\n",
       "      <th>807</th>\n",
       "      <td>NoID</td>\n",
       "      <td>0</td>\n",
       "      <td>1</td>\n",
       "      <td>0</td>\n",
       "      <td>0</td>\n",
       "    </tr>\n",
       "    <tr>\n",
       "      <th>1197</th>\n",
       "      <td>MYOYUM</td>\n",
       "      <td>1</td>\n",
       "      <td>0</td>\n",
       "      <td>0</td>\n",
       "      <td>0</td>\n",
       "    </tr>\n",
       "    <tr>\n",
       "      <th>23</th>\n",
       "      <td>TADBRA</td>\n",
       "      <td>0</td>\n",
       "      <td>0</td>\n",
       "      <td>0</td>\n",
       "      <td>1</td>\n",
       "    </tr>\n",
       "    <tr>\n",
       "      <th>4195</th>\n",
       "      <td>TADBRA</td>\n",
       "      <td>0</td>\n",
       "      <td>0</td>\n",
       "      <td>0</td>\n",
       "      <td>1</td>\n",
       "    </tr>\n",
       "  </tbody>\n",
       "</table>\n",
       "</div>"
      ],
      "text/plain": [
       "         Spp  MYOYUM  NoID  PARHES  TADBRA\n",
       "1335  MYOYUM       1     0       0       0\n",
       "807     NoID       0     1       0       0\n",
       "1197  MYOYUM       1     0       0       0\n",
       "23    TADBRA       0     0       0       1\n",
       "4195  TADBRA       0     0       0       1"
      ]
     },
     "execution_count": 203,
     "metadata": {},
     "output_type": "execute_result"
    }
   ],
   "source": [
    "y_test.head()"
   ]
  },
  {
   "cell_type": "code",
   "execution_count": 328,
   "metadata": {},
   "outputs": [],
   "source": [
    "y_test['all_Spp'] = y_testRF.Spp"
   ]
  },
  {
   "cell_type": "code",
   "execution_count": 339,
   "metadata": {},
   "outputs": [
    {
     "data": {
      "text/html": [
       "<div>\n",
       "<style scoped>\n",
       "    .dataframe tbody tr th:only-of-type {\n",
       "        vertical-align: middle;\n",
       "    }\n",
       "\n",
       "    .dataframe tbody tr th {\n",
       "        vertical-align: top;\n",
       "    }\n",
       "\n",
       "    .dataframe thead th {\n",
       "        text-align: right;\n",
       "    }\n",
       "</style>\n",
       "<table border=\"1\" class=\"dataframe\">\n",
       "  <thead>\n",
       "    <tr style=\"text-align: right;\">\n",
       "      <th></th>\n",
       "      <th>Spp</th>\n",
       "      <th>MATCH RATIO</th>\n",
       "      <th>Fc</th>\n",
       "      <th>Sc</th>\n",
       "      <th>Dur</th>\n",
       "      <th>Fmax</th>\n",
       "      <th>Fmin</th>\n",
       "      <th>Fk</th>\n",
       "      <th>Tk</th>\n",
       "      <th>S1</th>\n",
       "      <th>BWDth</th>\n",
       "      <th>PkDur</th>\n",
       "      <th>COMP ID</th>\n",
       "      <th>Result</th>\n",
       "    </tr>\n",
       "  </thead>\n",
       "  <tbody>\n",
       "    <tr>\n",
       "      <th>0</th>\n",
       "      <td>ANTPAL</td>\n",
       "      <td>0.258</td>\n",
       "      <td>32.032</td>\n",
       "      <td>84.83</td>\n",
       "      <td>3.601</td>\n",
       "      <td>43.750</td>\n",
       "      <td>31.157</td>\n",
       "      <td>35.004</td>\n",
       "      <td>2.090</td>\n",
       "      <td>326.50</td>\n",
       "      <td>12.593</td>\n",
       "      <td>35.545682</td>\n",
       "      <td>NoID</td>\n",
       "      <td>False</td>\n",
       "    </tr>\n",
       "    <tr>\n",
       "      <th>1</th>\n",
       "      <td>ANTPAL</td>\n",
       "      <td>0.875</td>\n",
       "      <td>28.955</td>\n",
       "      <td>61.99</td>\n",
       "      <td>6.088</td>\n",
       "      <td>48.466</td>\n",
       "      <td>27.932</td>\n",
       "      <td>30.731</td>\n",
       "      <td>4.213</td>\n",
       "      <td>208.94</td>\n",
       "      <td>20.534</td>\n",
       "      <td>21.222076</td>\n",
       "      <td>ANTPAL</td>\n",
       "      <td>True</td>\n",
       "    </tr>\n",
       "    <tr>\n",
       "      <th>2</th>\n",
       "      <td>ANTPAL</td>\n",
       "      <td>0.714</td>\n",
       "      <td>29.955</td>\n",
       "      <td>68.58</td>\n",
       "      <td>2.948</td>\n",
       "      <td>39.362</td>\n",
       "      <td>29.800</td>\n",
       "      <td>31.430</td>\n",
       "      <td>1.990</td>\n",
       "      <td>297.09</td>\n",
       "      <td>9.562</td>\n",
       "      <td>30.800543</td>\n",
       "      <td>ANTPAL</td>\n",
       "      <td>True</td>\n",
       "    </tr>\n",
       "    <tr>\n",
       "      <th>3</th>\n",
       "      <td>ANTPAL</td>\n",
       "      <td>0.444</td>\n",
       "      <td>32.315</td>\n",
       "      <td>92.00</td>\n",
       "      <td>4.292</td>\n",
       "      <td>54.628</td>\n",
       "      <td>31.916</td>\n",
       "      <td>35.201</td>\n",
       "      <td>2.918</td>\n",
       "      <td>547.76</td>\n",
       "      <td>22.712</td>\n",
       "      <td>27.912395</td>\n",
       "      <td>ANTPAL</td>\n",
       "      <td>True</td>\n",
       "    </tr>\n",
       "    <tr>\n",
       "      <th>4</th>\n",
       "      <td>EPTFUS</td>\n",
       "      <td>0.398</td>\n",
       "      <td>35.502</td>\n",
       "      <td>31.02</td>\n",
       "      <td>6.288</td>\n",
       "      <td>46.429</td>\n",
       "      <td>34.205</td>\n",
       "      <td>37.141</td>\n",
       "      <td>3.196</td>\n",
       "      <td>332.20</td>\n",
       "      <td>12.224</td>\n",
       "      <td>33.699109</td>\n",
       "      <td>EPTFUS</td>\n",
       "      <td>True</td>\n",
       "    </tr>\n",
       "  </tbody>\n",
       "</table>\n",
       "</div>"
      ],
      "text/plain": [
       "      Spp  MATCH RATIO      Fc     Sc    Dur    Fmax    Fmin      Fk     Tk  \\\n",
       "0  ANTPAL        0.258  32.032  84.83  3.601  43.750  31.157  35.004  2.090   \n",
       "1  ANTPAL        0.875  28.955  61.99  6.088  48.466  27.932  30.731  4.213   \n",
       "2  ANTPAL        0.714  29.955  68.58  2.948  39.362  29.800  31.430  1.990   \n",
       "3  ANTPAL        0.444  32.315  92.00  4.292  54.628  31.916  35.201  2.918   \n",
       "4  EPTFUS        0.398  35.502  31.02  6.288  46.429  34.205  37.141  3.196   \n",
       "\n",
       "       S1   BWDth      PkDur COMP ID  Result  \n",
       "0  326.50  12.593  35.545682    NoID   False  \n",
       "1  208.94  20.534  21.222076  ANTPAL    True  \n",
       "2  297.09   9.562  30.800543  ANTPAL    True  \n",
       "3  547.76  22.712  27.912395  ANTPAL    True  \n",
       "4  332.20  12.224  33.699109  EPTFUS    True  "
      ]
     },
     "execution_count": 339,
     "metadata": {},
     "output_type": "execute_result"
    }
   ],
   "source": [
    "data.head()"
   ]
  },
  {
   "cell_type": "code",
   "execution_count": 330,
   "metadata": {},
   "outputs": [],
   "source": [
    "#Make predictions for three species model\n",
    "pred_3spp = rfc_model.predict(X_test.drop(columns = 'MATCH RATIO'))"
   ]
  },
  {
   "cell_type": "code",
   "execution_count": 331,
   "metadata": {},
   "outputs": [],
   "source": [
    "#Create column with three species prediction model results\n",
    "y_test['3spp_pred'] = pred_3spp"
   ]
  },
  {
   "cell_type": "code",
   "execution_count": 340,
   "metadata": {},
   "outputs": [],
   "source": [
    "#Make predictions for each of the individual species\n",
    "tadbra_pred = rfc_tadbra.predict_proba(X_test.drop(columns = 'MATCH RATIO'))\n",
    "myoyum_pred = rfc_myoyum.predict_proba(X_test.drop(columns = 'MATCH RATIO'))\n",
    "parhes_pred = rfc_parhes.predict_proba(X_test.drop(columns = 'MATCH RATIO'))\n",
    "\n",
    "#Use threshold to optimize speceis predictions\n",
    "tadbra_pth = (tadbra_pred[:,1] >= 0.37).astype('int')\n",
    "myoyum_pth = (myoyum_pred[:,1] >= 0.37).astype('int')\n",
    "parhes_pth = (parhes_pred[:,1] >= 0.46).astype('int')\n",
    "\n",
    "#Create prediction columns\n",
    "y_test['TADBRA_pred'] = tadbra_pth\n",
    "y_test['MYOYUM_pred'] = myoyum_pth\n",
    "y_test['PARHES_pred'] = parhes_pth\n",
    "y_test['MATCH_Ratio'] = X_testRF['MATCH RATIO']\n",
    "y_test['Kaleidoscope'] = X_testRF['COMP ID']\n",
    "y_test['Kal_all'] = X_testRF['COMP ID']"
   ]
  },
  {
   "cell_type": "code",
   "execution_count": 341,
   "metadata": {},
   "outputs": [
    {
     "data": {
      "text/html": [
       "<div>\n",
       "<style scoped>\n",
       "    .dataframe tbody tr th:only-of-type {\n",
       "        vertical-align: middle;\n",
       "    }\n",
       "\n",
       "    .dataframe tbody tr th {\n",
       "        vertical-align: top;\n",
       "    }\n",
       "\n",
       "    .dataframe thead th {\n",
       "        text-align: right;\n",
       "    }\n",
       "</style>\n",
       "<table border=\"1\" class=\"dataframe\">\n",
       "  <thead>\n",
       "    <tr style=\"text-align: right;\">\n",
       "      <th></th>\n",
       "      <th>Spp</th>\n",
       "      <th>MYOYUM</th>\n",
       "      <th>NoID</th>\n",
       "      <th>PARHES</th>\n",
       "      <th>TADBRA</th>\n",
       "      <th>3spp_pred</th>\n",
       "      <th>TADBRA_pred</th>\n",
       "      <th>MYOYUM_pred</th>\n",
       "      <th>PARHES_pred</th>\n",
       "      <th>MATCH_Ratio</th>\n",
       "      <th>Kaleidoscope</th>\n",
       "      <th>all_Spp</th>\n",
       "      <th>Kal_all</th>\n",
       "    </tr>\n",
       "  </thead>\n",
       "  <tbody>\n",
       "    <tr>\n",
       "      <th>1335</th>\n",
       "      <td>MYOYUM</td>\n",
       "      <td>1</td>\n",
       "      <td>0</td>\n",
       "      <td>0</td>\n",
       "      <td>0</td>\n",
       "      <td>MYOYUM</td>\n",
       "      <td>0</td>\n",
       "      <td>1</td>\n",
       "      <td>0</td>\n",
       "      <td>0.635</td>\n",
       "      <td>MYOYUM</td>\n",
       "      <td>MYOYUM</td>\n",
       "      <td>MYOYUM</td>\n",
       "    </tr>\n",
       "    <tr>\n",
       "      <th>807</th>\n",
       "      <td>NoID</td>\n",
       "      <td>0</td>\n",
       "      <td>1</td>\n",
       "      <td>0</td>\n",
       "      <td>0</td>\n",
       "      <td>NoID</td>\n",
       "      <td>0</td>\n",
       "      <td>0</td>\n",
       "      <td>0</td>\n",
       "      <td>0.549</td>\n",
       "      <td>NoID</td>\n",
       "      <td>LASXAN</td>\n",
       "      <td>NoID</td>\n",
       "    </tr>\n",
       "    <tr>\n",
       "      <th>1197</th>\n",
       "      <td>MYOYUM</td>\n",
       "      <td>1</td>\n",
       "      <td>0</td>\n",
       "      <td>0</td>\n",
       "      <td>0</td>\n",
       "      <td>MYOYUM</td>\n",
       "      <td>0</td>\n",
       "      <td>1</td>\n",
       "      <td>0</td>\n",
       "      <td>0.624</td>\n",
       "      <td>MYOYUM</td>\n",
       "      <td>MYOYUM</td>\n",
       "      <td>MYOYUM</td>\n",
       "    </tr>\n",
       "    <tr>\n",
       "      <th>23</th>\n",
       "      <td>TADBRA</td>\n",
       "      <td>0</td>\n",
       "      <td>0</td>\n",
       "      <td>0</td>\n",
       "      <td>1</td>\n",
       "      <td>NoID</td>\n",
       "      <td>1</td>\n",
       "      <td>0</td>\n",
       "      <td>0</td>\n",
       "      <td>0.216</td>\n",
       "      <td>TADBRA</td>\n",
       "      <td>EPTFUS</td>\n",
       "      <td>TADBRA</td>\n",
       "    </tr>\n",
       "    <tr>\n",
       "      <th>4195</th>\n",
       "      <td>TADBRA</td>\n",
       "      <td>0</td>\n",
       "      <td>0</td>\n",
       "      <td>0</td>\n",
       "      <td>1</td>\n",
       "      <td>TADBRA</td>\n",
       "      <td>1</td>\n",
       "      <td>0</td>\n",
       "      <td>0</td>\n",
       "      <td>0.455</td>\n",
       "      <td>TADBRA</td>\n",
       "      <td>TADBRA</td>\n",
       "      <td>TADBRA</td>\n",
       "    </tr>\n",
       "  </tbody>\n",
       "</table>\n",
       "</div>"
      ],
      "text/plain": [
       "         Spp  MYOYUM  NoID  PARHES  TADBRA 3spp_pred  TADBRA_pred  \\\n",
       "1335  MYOYUM       1     0       0       0    MYOYUM            0   \n",
       "807     NoID       0     1       0       0      NoID            0   \n",
       "1197  MYOYUM       1     0       0       0    MYOYUM            0   \n",
       "23    TADBRA       0     0       0       1      NoID            1   \n",
       "4195  TADBRA       0     0       0       1    TADBRA            1   \n",
       "\n",
       "      MYOYUM_pred  PARHES_pred  MATCH_Ratio Kaleidoscope all_Spp Kal_all  \n",
       "1335            1            0        0.635       MYOYUM  MYOYUM  MYOYUM  \n",
       "807             0            0        0.549         NoID  LASXAN    NoID  \n",
       "1197            1            0        0.624       MYOYUM  MYOYUM  MYOYUM  \n",
       "23              0            0        0.216       TADBRA  EPTFUS  TADBRA  \n",
       "4195            0            0        0.455       TADBRA  TADBRA  TADBRA  "
      ]
     },
     "execution_count": 341,
     "metadata": {},
     "output_type": "execute_result"
    }
   ],
   "source": [
    "y_test.head()"
   ]
  },
  {
   "cell_type": "code",
   "execution_count": 342,
   "metadata": {},
   "outputs": [],
   "source": [
    "#Replace less common species with NoID\n",
    "kld_3spp = y_test['Kaleidoscope'].replace(to_replace = ['ANTPAL', 'EPTFUS', 'LASCIN', 'LASNOC', 'EUMPER', 'EUMUND', \n",
    "                                      'NYCFEM', 'LASBLO', 'MYOCIL', 'MYOCAL', 'LASXAN', 'MYOEVO', \n",
    "                                      'MYOOCC', 'MYOTHY', 'MYOVOL', 'NYCMAC', 'MYOVEL'], value = 'NoID')"
   ]
  },
  {
   "cell_type": "code",
   "execution_count": 343,
   "metadata": {},
   "outputs": [
    {
     "data": {
      "text/plain": [
       "NoID      889\n",
       "TADBRA    430\n",
       "MYOYUM    269\n",
       "PARHES    167\n",
       "Name: Kaleidoscope, dtype: int64"
      ]
     },
     "execution_count": 343,
     "metadata": {},
     "output_type": "execute_result"
    }
   ],
   "source": [
    "kld_3spp.value_counts()"
   ]
  },
  {
   "cell_type": "code",
   "execution_count": 344,
   "metadata": {},
   "outputs": [],
   "source": [
    "y_test['Kaleidoscope'] = kld_3spp"
   ]
  },
  {
   "cell_type": "code",
   "execution_count": 345,
   "metadata": {},
   "outputs": [
    {
     "data": {
      "text/plain": [
       "NoID      889\n",
       "TADBRA    430\n",
       "MYOYUM    269\n",
       "PARHES    167\n",
       "Name: Kaleidoscope, dtype: int64"
      ]
     },
     "execution_count": 345,
     "metadata": {},
     "output_type": "execute_result"
    }
   ],
   "source": [
    "y_test['Kaleidoscope'].value_counts()"
   ]
  },
  {
   "cell_type": "code",
   "execution_count": 346,
   "metadata": {},
   "outputs": [
    {
     "data": {
      "text/plain": [
       "NoID      889\n",
       "TADBRA    430\n",
       "MYOYUM    269\n",
       "PARHES    167\n",
       "Name: Spp, dtype: int64"
      ]
     },
     "execution_count": 346,
     "metadata": {},
     "output_type": "execute_result"
    }
   ],
   "source": [
    "y_test['Spp'].value_counts()"
   ]
  },
  {
   "cell_type": "code",
   "execution_count": 347,
   "metadata": {},
   "outputs": [
    {
     "data": {
      "text/plain": [
       "TADBRA    534\n",
       "NoID      476\n",
       "MYOYUM    231\n",
       "PARHES    171\n",
       "LASCIN     94\n",
       "LASNOC     85\n",
       "EPTFUS     49\n",
       "LASXAN     40\n",
       "LASBLO     22\n",
       "MYOCAL     17\n",
       "EUMUND     12\n",
       "EUMPER      7\n",
       "NYCFEM      5\n",
       "MYOVOL      5\n",
       "MYOTHY      2\n",
       "MYOVEL      2\n",
       "MYOOCC      2\n",
       "MYOCIL      1\n",
       "Name: all_Spp, dtype: int64"
      ]
     },
     "execution_count": 347,
     "metadata": {},
     "output_type": "execute_result"
    }
   ],
   "source": [
    "y_test['all_Spp'].value_counts()"
   ]
  },
  {
   "cell_type": "code",
   "execution_count": 349,
   "metadata": {},
   "outputs": [
    {
     "data": {
      "text/plain": [
       "NoID      499\n",
       "TADBRA    430\n",
       "MYOYUM    269\n",
       "PARHES    167\n",
       "LASNOC    124\n",
       "LASCIN    116\n",
       "EPTFUS     41\n",
       "LASXAN     37\n",
       "MYOCAL     24\n",
       "LASBLO     18\n",
       "EUMUND     15\n",
       "EUMPER      6\n",
       "MYOCIL      3\n",
       "MYOTHY      2\n",
       "NYCFEM      2\n",
       "MYOVEL      1\n",
       "MYOOCC      1\n",
       "Name: Kal_all, dtype: int64"
      ]
     },
     "execution_count": 349,
     "metadata": {},
     "output_type": "execute_result"
    }
   ],
   "source": [
    "y_test['Kal_all'].value_counts()"
   ]
  },
  {
   "cell_type": "markdown",
   "metadata": {},
   "source": [
    "### Calculating F1 Scores"
   ]
  },
  {
   "cell_type": "code",
   "execution_count": null,
   "metadata": {},
   "outputs": [],
   "source": [
    "f1_score(test_df['Spp'], test_df['Prediction'], average = 'weighted')"
   ]
  },
  {
   "cell_type": "code",
   "execution_count": 375,
   "metadata": {},
   "outputs": [
    {
     "data": {
      "text/plain": [
       "Index(['MATCH RATIO', 'Fc', 'Sc', 'Dur', 'Fmax', 'Fmin', 'Fk', 'Tk', 'S1',\n",
       "       'BWDth', 'PkDur', 'COMP ID', 'Result', 'Spp', 'Prediction',\n",
       "       'Pred_Result'],\n",
       "      dtype='object')"
      ]
     },
     "execution_count": 375,
     "metadata": {},
     "output_type": "execute_result"
    }
   ],
   "source": [
    "test_df.columns"
   ]
  },
  {
   "cell_type": "code",
   "execution_count": 376,
   "metadata": {},
   "outputs": [
    {
     "name": "stderr",
     "output_type": "stream",
     "text": [
      "<ipython-input-376-667a6f115da1>:25: UserWarning: Boolean Series key will be reindexed to match DataFrame index.\n",
      "  kal_tad.append(f1_score(data[data['MATCH RATIO'] >= i][data['Spp'] == 'TADBRA']['Spp'], data[data['MATCH RATIO'] >= i][data['Spp'] == 'TADBRA']['COMP ID'], average = 'weighted'))\n",
      "<ipython-input-376-667a6f115da1>:25: UserWarning: Boolean Series key will be reindexed to match DataFrame index.\n",
      "  kal_tad.append(f1_score(data[data['MATCH RATIO'] >= i][data['Spp'] == 'TADBRA']['Spp'], data[data['MATCH RATIO'] >= i][data['Spp'] == 'TADBRA']['COMP ID'], average = 'weighted'))\n",
      "<ipython-input-376-667a6f115da1>:26: UserWarning: Boolean Series key will be reindexed to match DataFrame index.\n",
      "  kal_par.append(f1_score(data[data['MATCH RATIO'] >= i][data['Spp'] == 'PARHES']['Spp'], data[data['MATCH RATIO'] >= i][data['Spp'] == 'PARHES']['COMP ID'], average = 'weighted'))\n",
      "<ipython-input-376-667a6f115da1>:26: UserWarning: Boolean Series key will be reindexed to match DataFrame index.\n",
      "  kal_par.append(f1_score(data[data['MATCH RATIO'] >= i][data['Spp'] == 'PARHES']['Spp'], data[data['MATCH RATIO'] >= i][data['Spp'] == 'PARHES']['COMP ID'], average = 'weighted'))\n",
      "<ipython-input-376-667a6f115da1>:27: UserWarning: Boolean Series key will be reindexed to match DataFrame index.\n",
      "  kal_myo.append(f1_score(data[data['MATCH RATIO'] >= i][data['Spp'] == 'MYOYUM']['Spp'], data[data['MATCH RATIO'] >= i][data['Spp'] == 'MYOYUM']['COMP ID'], average = 'weighted'))\n",
      "<ipython-input-376-667a6f115da1>:27: UserWarning: Boolean Series key will be reindexed to match DataFrame index.\n",
      "  kal_myo.append(f1_score(data[data['MATCH RATIO'] >= i][data['Spp'] == 'MYOYUM']['Spp'], data[data['MATCH RATIO'] >= i][data['Spp'] == 'MYOYUM']['COMP ID'], average = 'weighted'))\n",
      "<ipython-input-376-667a6f115da1>:28: UserWarning: Boolean Series key will be reindexed to match DataFrame index.\n",
      "  thr_tad.append(f1_score(y_test[y_test['MATCH_Ratio'] >= i][y_test['Spp'] == 'TADBRA']['Spp'], y_test[y_test['MATCH_Ratio'] >= i][y_test['Spp'] == 'TADBRA']['3spp_pred'], average = 'weighted'))\n",
      "<ipython-input-376-667a6f115da1>:28: UserWarning: Boolean Series key will be reindexed to match DataFrame index.\n",
      "  thr_tad.append(f1_score(y_test[y_test['MATCH_Ratio'] >= i][y_test['Spp'] == 'TADBRA']['Spp'], y_test[y_test['MATCH_Ratio'] >= i][y_test['Spp'] == 'TADBRA']['3spp_pred'], average = 'weighted'))\n",
      "<ipython-input-376-667a6f115da1>:29: UserWarning: Boolean Series key will be reindexed to match DataFrame index.\n",
      "  thr_par.append(f1_score(y_test[y_test['MATCH_Ratio'] >= i][y_test['Spp'] == 'PARHES']['Spp'], y_test[y_test['MATCH_Ratio'] >= i][y_test['Spp'] == 'PARHES']['3spp_pred'], average = 'weighted'))\n",
      "<ipython-input-376-667a6f115da1>:29: UserWarning: Boolean Series key will be reindexed to match DataFrame index.\n",
      "  thr_par.append(f1_score(y_test[y_test['MATCH_Ratio'] >= i][y_test['Spp'] == 'PARHES']['Spp'], y_test[y_test['MATCH_Ratio'] >= i][y_test['Spp'] == 'PARHES']['3spp_pred'], average = 'weighted'))\n",
      "<ipython-input-376-667a6f115da1>:30: UserWarning: Boolean Series key will be reindexed to match DataFrame index.\n",
      "  thr_myo.append(f1_score(y_test[y_test['MATCH_Ratio'] >= i][y_test['Spp'] == 'MYOYUM']['Spp'], y_test[y_test['MATCH_Ratio'] >= i][y_test['Spp'] == 'MYOYUM']['3spp_pred'], average = 'weighted'))\n",
      "<ipython-input-376-667a6f115da1>:30: UserWarning: Boolean Series key will be reindexed to match DataFrame index.\n",
      "  thr_myo.append(f1_score(y_test[y_test['MATCH_Ratio'] >= i][y_test['Spp'] == 'MYOYUM']['Spp'], y_test[y_test['MATCH_Ratio'] >= i][y_test['Spp'] == 'MYOYUM']['3spp_pred'], average = 'weighted'))\n",
      "<ipython-input-376-667a6f115da1>:25: UserWarning: Boolean Series key will be reindexed to match DataFrame index.\n",
      "  kal_tad.append(f1_score(data[data['MATCH RATIO'] >= i][data['Spp'] == 'TADBRA']['Spp'], data[data['MATCH RATIO'] >= i][data['Spp'] == 'TADBRA']['COMP ID'], average = 'weighted'))\n",
      "<ipython-input-376-667a6f115da1>:25: UserWarning: Boolean Series key will be reindexed to match DataFrame index.\n",
      "  kal_tad.append(f1_score(data[data['MATCH RATIO'] >= i][data['Spp'] == 'TADBRA']['Spp'], data[data['MATCH RATIO'] >= i][data['Spp'] == 'TADBRA']['COMP ID'], average = 'weighted'))\n",
      "<ipython-input-376-667a6f115da1>:26: UserWarning: Boolean Series key will be reindexed to match DataFrame index.\n",
      "  kal_par.append(f1_score(data[data['MATCH RATIO'] >= i][data['Spp'] == 'PARHES']['Spp'], data[data['MATCH RATIO'] >= i][data['Spp'] == 'PARHES']['COMP ID'], average = 'weighted'))\n",
      "<ipython-input-376-667a6f115da1>:26: UserWarning: Boolean Series key will be reindexed to match DataFrame index.\n",
      "  kal_par.append(f1_score(data[data['MATCH RATIO'] >= i][data['Spp'] == 'PARHES']['Spp'], data[data['MATCH RATIO'] >= i][data['Spp'] == 'PARHES']['COMP ID'], average = 'weighted'))\n",
      "<ipython-input-376-667a6f115da1>:27: UserWarning: Boolean Series key will be reindexed to match DataFrame index.\n",
      "  kal_myo.append(f1_score(data[data['MATCH RATIO'] >= i][data['Spp'] == 'MYOYUM']['Spp'], data[data['MATCH RATIO'] >= i][data['Spp'] == 'MYOYUM']['COMP ID'], average = 'weighted'))\n",
      "<ipython-input-376-667a6f115da1>:27: UserWarning: Boolean Series key will be reindexed to match DataFrame index.\n",
      "  kal_myo.append(f1_score(data[data['MATCH RATIO'] >= i][data['Spp'] == 'MYOYUM']['Spp'], data[data['MATCH RATIO'] >= i][data['Spp'] == 'MYOYUM']['COMP ID'], average = 'weighted'))\n",
      "<ipython-input-376-667a6f115da1>:28: UserWarning: Boolean Series key will be reindexed to match DataFrame index.\n",
      "  thr_tad.append(f1_score(y_test[y_test['MATCH_Ratio'] >= i][y_test['Spp'] == 'TADBRA']['Spp'], y_test[y_test['MATCH_Ratio'] >= i][y_test['Spp'] == 'TADBRA']['3spp_pred'], average = 'weighted'))\n",
      "<ipython-input-376-667a6f115da1>:28: UserWarning: Boolean Series key will be reindexed to match DataFrame index.\n",
      "  thr_tad.append(f1_score(y_test[y_test['MATCH_Ratio'] >= i][y_test['Spp'] == 'TADBRA']['Spp'], y_test[y_test['MATCH_Ratio'] >= i][y_test['Spp'] == 'TADBRA']['3spp_pred'], average = 'weighted'))\n",
      "<ipython-input-376-667a6f115da1>:29: UserWarning: Boolean Series key will be reindexed to match DataFrame index.\n",
      "  thr_par.append(f1_score(y_test[y_test['MATCH_Ratio'] >= i][y_test['Spp'] == 'PARHES']['Spp'], y_test[y_test['MATCH_Ratio'] >= i][y_test['Spp'] == 'PARHES']['3spp_pred'], average = 'weighted'))\n",
      "<ipython-input-376-667a6f115da1>:29: UserWarning: Boolean Series key will be reindexed to match DataFrame index.\n",
      "  thr_par.append(f1_score(y_test[y_test['MATCH_Ratio'] >= i][y_test['Spp'] == 'PARHES']['Spp'], y_test[y_test['MATCH_Ratio'] >= i][y_test['Spp'] == 'PARHES']['3spp_pred'], average = 'weighted'))\n",
      "<ipython-input-376-667a6f115da1>:30: UserWarning: Boolean Series key will be reindexed to match DataFrame index.\n",
      "  thr_myo.append(f1_score(y_test[y_test['MATCH_Ratio'] >= i][y_test['Spp'] == 'MYOYUM']['Spp'], y_test[y_test['MATCH_Ratio'] >= i][y_test['Spp'] == 'MYOYUM']['3spp_pred'], average = 'weighted'))\n",
      "<ipython-input-376-667a6f115da1>:30: UserWarning: Boolean Series key will be reindexed to match DataFrame index.\n",
      "  thr_myo.append(f1_score(y_test[y_test['MATCH_Ratio'] >= i][y_test['Spp'] == 'MYOYUM']['Spp'], y_test[y_test['MATCH_Ratio'] >= i][y_test['Spp'] == 'MYOYUM']['3spp_pred'], average = 'weighted'))\n",
      "<ipython-input-376-667a6f115da1>:25: UserWarning: Boolean Series key will be reindexed to match DataFrame index.\n",
      "  kal_tad.append(f1_score(data[data['MATCH RATIO'] >= i][data['Spp'] == 'TADBRA']['Spp'], data[data['MATCH RATIO'] >= i][data['Spp'] == 'TADBRA']['COMP ID'], average = 'weighted'))\n",
      "<ipython-input-376-667a6f115da1>:25: UserWarning: Boolean Series key will be reindexed to match DataFrame index.\n",
      "  kal_tad.append(f1_score(data[data['MATCH RATIO'] >= i][data['Spp'] == 'TADBRA']['Spp'], data[data['MATCH RATIO'] >= i][data['Spp'] == 'TADBRA']['COMP ID'], average = 'weighted'))\n",
      "<ipython-input-376-667a6f115da1>:26: UserWarning: Boolean Series key will be reindexed to match DataFrame index.\n",
      "  kal_par.append(f1_score(data[data['MATCH RATIO'] >= i][data['Spp'] == 'PARHES']['Spp'], data[data['MATCH RATIO'] >= i][data['Spp'] == 'PARHES']['COMP ID'], average = 'weighted'))\n",
      "<ipython-input-376-667a6f115da1>:26: UserWarning: Boolean Series key will be reindexed to match DataFrame index.\n",
      "  kal_par.append(f1_score(data[data['MATCH RATIO'] >= i][data['Spp'] == 'PARHES']['Spp'], data[data['MATCH RATIO'] >= i][data['Spp'] == 'PARHES']['COMP ID'], average = 'weighted'))\n",
      "<ipython-input-376-667a6f115da1>:27: UserWarning: Boolean Series key will be reindexed to match DataFrame index.\n",
      "  kal_myo.append(f1_score(data[data['MATCH RATIO'] >= i][data['Spp'] == 'MYOYUM']['Spp'], data[data['MATCH RATIO'] >= i][data['Spp'] == 'MYOYUM']['COMP ID'], average = 'weighted'))\n",
      "<ipython-input-376-667a6f115da1>:27: UserWarning: Boolean Series key will be reindexed to match DataFrame index.\n",
      "  kal_myo.append(f1_score(data[data['MATCH RATIO'] >= i][data['Spp'] == 'MYOYUM']['Spp'], data[data['MATCH RATIO'] >= i][data['Spp'] == 'MYOYUM']['COMP ID'], average = 'weighted'))\n",
      "<ipython-input-376-667a6f115da1>:28: UserWarning: Boolean Series key will be reindexed to match DataFrame index.\n",
      "  thr_tad.append(f1_score(y_test[y_test['MATCH_Ratio'] >= i][y_test['Spp'] == 'TADBRA']['Spp'], y_test[y_test['MATCH_Ratio'] >= i][y_test['Spp'] == 'TADBRA']['3spp_pred'], average = 'weighted'))\n",
      "<ipython-input-376-667a6f115da1>:28: UserWarning: Boolean Series key will be reindexed to match DataFrame index.\n",
      "  thr_tad.append(f1_score(y_test[y_test['MATCH_Ratio'] >= i][y_test['Spp'] == 'TADBRA']['Spp'], y_test[y_test['MATCH_Ratio'] >= i][y_test['Spp'] == 'TADBRA']['3spp_pred'], average = 'weighted'))\n",
      "<ipython-input-376-667a6f115da1>:29: UserWarning: Boolean Series key will be reindexed to match DataFrame index.\n",
      "  thr_par.append(f1_score(y_test[y_test['MATCH_Ratio'] >= i][y_test['Spp'] == 'PARHES']['Spp'], y_test[y_test['MATCH_Ratio'] >= i][y_test['Spp'] == 'PARHES']['3spp_pred'], average = 'weighted'))\n",
      "<ipython-input-376-667a6f115da1>:29: UserWarning: Boolean Series key will be reindexed to match DataFrame index.\n",
      "  thr_par.append(f1_score(y_test[y_test['MATCH_Ratio'] >= i][y_test['Spp'] == 'PARHES']['Spp'], y_test[y_test['MATCH_Ratio'] >= i][y_test['Spp'] == 'PARHES']['3spp_pred'], average = 'weighted'))\n",
      "<ipython-input-376-667a6f115da1>:30: UserWarning: Boolean Series key will be reindexed to match DataFrame index.\n",
      "  thr_myo.append(f1_score(y_test[y_test['MATCH_Ratio'] >= i][y_test['Spp'] == 'MYOYUM']['Spp'], y_test[y_test['MATCH_Ratio'] >= i][y_test['Spp'] == 'MYOYUM']['3spp_pred'], average = 'weighted'))\n"
     ]
    },
    {
     "name": "stderr",
     "output_type": "stream",
     "text": [
      "<ipython-input-376-667a6f115da1>:30: UserWarning: Boolean Series key will be reindexed to match DataFrame index.\n",
      "  thr_myo.append(f1_score(y_test[y_test['MATCH_Ratio'] >= i][y_test['Spp'] == 'MYOYUM']['Spp'], y_test[y_test['MATCH_Ratio'] >= i][y_test['Spp'] == 'MYOYUM']['3spp_pred'], average = 'weighted'))\n",
      "<ipython-input-376-667a6f115da1>:25: UserWarning: Boolean Series key will be reindexed to match DataFrame index.\n",
      "  kal_tad.append(f1_score(data[data['MATCH RATIO'] >= i][data['Spp'] == 'TADBRA']['Spp'], data[data['MATCH RATIO'] >= i][data['Spp'] == 'TADBRA']['COMP ID'], average = 'weighted'))\n",
      "<ipython-input-376-667a6f115da1>:25: UserWarning: Boolean Series key will be reindexed to match DataFrame index.\n",
      "  kal_tad.append(f1_score(data[data['MATCH RATIO'] >= i][data['Spp'] == 'TADBRA']['Spp'], data[data['MATCH RATIO'] >= i][data['Spp'] == 'TADBRA']['COMP ID'], average = 'weighted'))\n",
      "<ipython-input-376-667a6f115da1>:26: UserWarning: Boolean Series key will be reindexed to match DataFrame index.\n",
      "  kal_par.append(f1_score(data[data['MATCH RATIO'] >= i][data['Spp'] == 'PARHES']['Spp'], data[data['MATCH RATIO'] >= i][data['Spp'] == 'PARHES']['COMP ID'], average = 'weighted'))\n",
      "<ipython-input-376-667a6f115da1>:26: UserWarning: Boolean Series key will be reindexed to match DataFrame index.\n",
      "  kal_par.append(f1_score(data[data['MATCH RATIO'] >= i][data['Spp'] == 'PARHES']['Spp'], data[data['MATCH RATIO'] >= i][data['Spp'] == 'PARHES']['COMP ID'], average = 'weighted'))\n",
      "<ipython-input-376-667a6f115da1>:27: UserWarning: Boolean Series key will be reindexed to match DataFrame index.\n",
      "  kal_myo.append(f1_score(data[data['MATCH RATIO'] >= i][data['Spp'] == 'MYOYUM']['Spp'], data[data['MATCH RATIO'] >= i][data['Spp'] == 'MYOYUM']['COMP ID'], average = 'weighted'))\n",
      "<ipython-input-376-667a6f115da1>:27: UserWarning: Boolean Series key will be reindexed to match DataFrame index.\n",
      "  kal_myo.append(f1_score(data[data['MATCH RATIO'] >= i][data['Spp'] == 'MYOYUM']['Spp'], data[data['MATCH RATIO'] >= i][data['Spp'] == 'MYOYUM']['COMP ID'], average = 'weighted'))\n",
      "<ipython-input-376-667a6f115da1>:28: UserWarning: Boolean Series key will be reindexed to match DataFrame index.\n",
      "  thr_tad.append(f1_score(y_test[y_test['MATCH_Ratio'] >= i][y_test['Spp'] == 'TADBRA']['Spp'], y_test[y_test['MATCH_Ratio'] >= i][y_test['Spp'] == 'TADBRA']['3spp_pred'], average = 'weighted'))\n",
      "<ipython-input-376-667a6f115da1>:28: UserWarning: Boolean Series key will be reindexed to match DataFrame index.\n",
      "  thr_tad.append(f1_score(y_test[y_test['MATCH_Ratio'] >= i][y_test['Spp'] == 'TADBRA']['Spp'], y_test[y_test['MATCH_Ratio'] >= i][y_test['Spp'] == 'TADBRA']['3spp_pred'], average = 'weighted'))\n",
      "<ipython-input-376-667a6f115da1>:29: UserWarning: Boolean Series key will be reindexed to match DataFrame index.\n",
      "  thr_par.append(f1_score(y_test[y_test['MATCH_Ratio'] >= i][y_test['Spp'] == 'PARHES']['Spp'], y_test[y_test['MATCH_Ratio'] >= i][y_test['Spp'] == 'PARHES']['3spp_pred'], average = 'weighted'))\n",
      "<ipython-input-376-667a6f115da1>:29: UserWarning: Boolean Series key will be reindexed to match DataFrame index.\n",
      "  thr_par.append(f1_score(y_test[y_test['MATCH_Ratio'] >= i][y_test['Spp'] == 'PARHES']['Spp'], y_test[y_test['MATCH_Ratio'] >= i][y_test['Spp'] == 'PARHES']['3spp_pred'], average = 'weighted'))\n",
      "<ipython-input-376-667a6f115da1>:30: UserWarning: Boolean Series key will be reindexed to match DataFrame index.\n",
      "  thr_myo.append(f1_score(y_test[y_test['MATCH_Ratio'] >= i][y_test['Spp'] == 'MYOYUM']['Spp'], y_test[y_test['MATCH_Ratio'] >= i][y_test['Spp'] == 'MYOYUM']['3spp_pred'], average = 'weighted'))\n",
      "<ipython-input-376-667a6f115da1>:30: UserWarning: Boolean Series key will be reindexed to match DataFrame index.\n",
      "  thr_myo.append(f1_score(y_test[y_test['MATCH_Ratio'] >= i][y_test['Spp'] == 'MYOYUM']['Spp'], y_test[y_test['MATCH_Ratio'] >= i][y_test['Spp'] == 'MYOYUM']['3spp_pred'], average = 'weighted'))\n",
      "<ipython-input-376-667a6f115da1>:25: UserWarning: Boolean Series key will be reindexed to match DataFrame index.\n",
      "  kal_tad.append(f1_score(data[data['MATCH RATIO'] >= i][data['Spp'] == 'TADBRA']['Spp'], data[data['MATCH RATIO'] >= i][data['Spp'] == 'TADBRA']['COMP ID'], average = 'weighted'))\n",
      "<ipython-input-376-667a6f115da1>:25: UserWarning: Boolean Series key will be reindexed to match DataFrame index.\n",
      "  kal_tad.append(f1_score(data[data['MATCH RATIO'] >= i][data['Spp'] == 'TADBRA']['Spp'], data[data['MATCH RATIO'] >= i][data['Spp'] == 'TADBRA']['COMP ID'], average = 'weighted'))\n",
      "<ipython-input-376-667a6f115da1>:26: UserWarning: Boolean Series key will be reindexed to match DataFrame index.\n",
      "  kal_par.append(f1_score(data[data['MATCH RATIO'] >= i][data['Spp'] == 'PARHES']['Spp'], data[data['MATCH RATIO'] >= i][data['Spp'] == 'PARHES']['COMP ID'], average = 'weighted'))\n",
      "<ipython-input-376-667a6f115da1>:26: UserWarning: Boolean Series key will be reindexed to match DataFrame index.\n",
      "  kal_par.append(f1_score(data[data['MATCH RATIO'] >= i][data['Spp'] == 'PARHES']['Spp'], data[data['MATCH RATIO'] >= i][data['Spp'] == 'PARHES']['COMP ID'], average = 'weighted'))\n",
      "<ipython-input-376-667a6f115da1>:27: UserWarning: Boolean Series key will be reindexed to match DataFrame index.\n",
      "  kal_myo.append(f1_score(data[data['MATCH RATIO'] >= i][data['Spp'] == 'MYOYUM']['Spp'], data[data['MATCH RATIO'] >= i][data['Spp'] == 'MYOYUM']['COMP ID'], average = 'weighted'))\n",
      "<ipython-input-376-667a6f115da1>:27: UserWarning: Boolean Series key will be reindexed to match DataFrame index.\n",
      "  kal_myo.append(f1_score(data[data['MATCH RATIO'] >= i][data['Spp'] == 'MYOYUM']['Spp'], data[data['MATCH RATIO'] >= i][data['Spp'] == 'MYOYUM']['COMP ID'], average = 'weighted'))\n",
      "<ipython-input-376-667a6f115da1>:28: UserWarning: Boolean Series key will be reindexed to match DataFrame index.\n",
      "  thr_tad.append(f1_score(y_test[y_test['MATCH_Ratio'] >= i][y_test['Spp'] == 'TADBRA']['Spp'], y_test[y_test['MATCH_Ratio'] >= i][y_test['Spp'] == 'TADBRA']['3spp_pred'], average = 'weighted'))\n",
      "<ipython-input-376-667a6f115da1>:28: UserWarning: Boolean Series key will be reindexed to match DataFrame index.\n",
      "  thr_tad.append(f1_score(y_test[y_test['MATCH_Ratio'] >= i][y_test['Spp'] == 'TADBRA']['Spp'], y_test[y_test['MATCH_Ratio'] >= i][y_test['Spp'] == 'TADBRA']['3spp_pred'], average = 'weighted'))\n",
      "<ipython-input-376-667a6f115da1>:29: UserWarning: Boolean Series key will be reindexed to match DataFrame index.\n",
      "  thr_par.append(f1_score(y_test[y_test['MATCH_Ratio'] >= i][y_test['Spp'] == 'PARHES']['Spp'], y_test[y_test['MATCH_Ratio'] >= i][y_test['Spp'] == 'PARHES']['3spp_pred'], average = 'weighted'))\n",
      "<ipython-input-376-667a6f115da1>:29: UserWarning: Boolean Series key will be reindexed to match DataFrame index.\n",
      "  thr_par.append(f1_score(y_test[y_test['MATCH_Ratio'] >= i][y_test['Spp'] == 'PARHES']['Spp'], y_test[y_test['MATCH_Ratio'] >= i][y_test['Spp'] == 'PARHES']['3spp_pred'], average = 'weighted'))\n",
      "<ipython-input-376-667a6f115da1>:30: UserWarning: Boolean Series key will be reindexed to match DataFrame index.\n",
      "  thr_myo.append(f1_score(y_test[y_test['MATCH_Ratio'] >= i][y_test['Spp'] == 'MYOYUM']['Spp'], y_test[y_test['MATCH_Ratio'] >= i][y_test['Spp'] == 'MYOYUM']['3spp_pred'], average = 'weighted'))\n",
      "<ipython-input-376-667a6f115da1>:30: UserWarning: Boolean Series key will be reindexed to match DataFrame index.\n",
      "  thr_myo.append(f1_score(y_test[y_test['MATCH_Ratio'] >= i][y_test['Spp'] == 'MYOYUM']['Spp'], y_test[y_test['MATCH_Ratio'] >= i][y_test['Spp'] == 'MYOYUM']['3spp_pred'], average = 'weighted'))\n",
      "<ipython-input-376-667a6f115da1>:25: UserWarning: Boolean Series key will be reindexed to match DataFrame index.\n",
      "  kal_tad.append(f1_score(data[data['MATCH RATIO'] >= i][data['Spp'] == 'TADBRA']['Spp'], data[data['MATCH RATIO'] >= i][data['Spp'] == 'TADBRA']['COMP ID'], average = 'weighted'))\n",
      "<ipython-input-376-667a6f115da1>:25: UserWarning: Boolean Series key will be reindexed to match DataFrame index.\n",
      "  kal_tad.append(f1_score(data[data['MATCH RATIO'] >= i][data['Spp'] == 'TADBRA']['Spp'], data[data['MATCH RATIO'] >= i][data['Spp'] == 'TADBRA']['COMP ID'], average = 'weighted'))\n",
      "<ipython-input-376-667a6f115da1>:26: UserWarning: Boolean Series key will be reindexed to match DataFrame index.\n",
      "  kal_par.append(f1_score(data[data['MATCH RATIO'] >= i][data['Spp'] == 'PARHES']['Spp'], data[data['MATCH RATIO'] >= i][data['Spp'] == 'PARHES']['COMP ID'], average = 'weighted'))\n",
      "<ipython-input-376-667a6f115da1>:26: UserWarning: Boolean Series key will be reindexed to match DataFrame index.\n",
      "  kal_par.append(f1_score(data[data['MATCH RATIO'] >= i][data['Spp'] == 'PARHES']['Spp'], data[data['MATCH RATIO'] >= i][data['Spp'] == 'PARHES']['COMP ID'], average = 'weighted'))\n",
      "<ipython-input-376-667a6f115da1>:27: UserWarning: Boolean Series key will be reindexed to match DataFrame index.\n",
      "  kal_myo.append(f1_score(data[data['MATCH RATIO'] >= i][data['Spp'] == 'MYOYUM']['Spp'], data[data['MATCH RATIO'] >= i][data['Spp'] == 'MYOYUM']['COMP ID'], average = 'weighted'))\n",
      "<ipython-input-376-667a6f115da1>:27: UserWarning: Boolean Series key will be reindexed to match DataFrame index.\n",
      "  kal_myo.append(f1_score(data[data['MATCH RATIO'] >= i][data['Spp'] == 'MYOYUM']['Spp'], data[data['MATCH RATIO'] >= i][data['Spp'] == 'MYOYUM']['COMP ID'], average = 'weighted'))\n",
      "<ipython-input-376-667a6f115da1>:28: UserWarning: Boolean Series key will be reindexed to match DataFrame index.\n",
      "  thr_tad.append(f1_score(y_test[y_test['MATCH_Ratio'] >= i][y_test['Spp'] == 'TADBRA']['Spp'], y_test[y_test['MATCH_Ratio'] >= i][y_test['Spp'] == 'TADBRA']['3spp_pred'], average = 'weighted'))\n",
      "<ipython-input-376-667a6f115da1>:28: UserWarning: Boolean Series key will be reindexed to match DataFrame index.\n",
      "  thr_tad.append(f1_score(y_test[y_test['MATCH_Ratio'] >= i][y_test['Spp'] == 'TADBRA']['Spp'], y_test[y_test['MATCH_Ratio'] >= i][y_test['Spp'] == 'TADBRA']['3spp_pred'], average = 'weighted'))\n",
      "<ipython-input-376-667a6f115da1>:29: UserWarning: Boolean Series key will be reindexed to match DataFrame index.\n",
      "  thr_par.append(f1_score(y_test[y_test['MATCH_Ratio'] >= i][y_test['Spp'] == 'PARHES']['Spp'], y_test[y_test['MATCH_Ratio'] >= i][y_test['Spp'] == 'PARHES']['3spp_pred'], average = 'weighted'))\n",
      "<ipython-input-376-667a6f115da1>:29: UserWarning: Boolean Series key will be reindexed to match DataFrame index.\n",
      "  thr_par.append(f1_score(y_test[y_test['MATCH_Ratio'] >= i][y_test['Spp'] == 'PARHES']['Spp'], y_test[y_test['MATCH_Ratio'] >= i][y_test['Spp'] == 'PARHES']['3spp_pred'], average = 'weighted'))\n",
      "<ipython-input-376-667a6f115da1>:30: UserWarning: Boolean Series key will be reindexed to match DataFrame index.\n",
      "  thr_myo.append(f1_score(y_test[y_test['MATCH_Ratio'] >= i][y_test['Spp'] == 'MYOYUM']['Spp'], y_test[y_test['MATCH_Ratio'] >= i][y_test['Spp'] == 'MYOYUM']['3spp_pred'], average = 'weighted'))\n",
      "<ipython-input-376-667a6f115da1>:30: UserWarning: Boolean Series key will be reindexed to match DataFrame index.\n",
      "  thr_myo.append(f1_score(y_test[y_test['MATCH_Ratio'] >= i][y_test['Spp'] == 'MYOYUM']['Spp'], y_test[y_test['MATCH_Ratio'] >= i][y_test['Spp'] == 'MYOYUM']['3spp_pred'], average = 'weighted'))\n",
      "<ipython-input-376-667a6f115da1>:25: UserWarning: Boolean Series key will be reindexed to match DataFrame index.\n",
      "  kal_tad.append(f1_score(data[data['MATCH RATIO'] >= i][data['Spp'] == 'TADBRA']['Spp'], data[data['MATCH RATIO'] >= i][data['Spp'] == 'TADBRA']['COMP ID'], average = 'weighted'))\n",
      "<ipython-input-376-667a6f115da1>:25: UserWarning: Boolean Series key will be reindexed to match DataFrame index.\n",
      "  kal_tad.append(f1_score(data[data['MATCH RATIO'] >= i][data['Spp'] == 'TADBRA']['Spp'], data[data['MATCH RATIO'] >= i][data['Spp'] == 'TADBRA']['COMP ID'], average = 'weighted'))\n"
     ]
    },
    {
     "name": "stderr",
     "output_type": "stream",
     "text": [
      "<ipython-input-376-667a6f115da1>:26: UserWarning: Boolean Series key will be reindexed to match DataFrame index.\n",
      "  kal_par.append(f1_score(data[data['MATCH RATIO'] >= i][data['Spp'] == 'PARHES']['Spp'], data[data['MATCH RATIO'] >= i][data['Spp'] == 'PARHES']['COMP ID'], average = 'weighted'))\n",
      "<ipython-input-376-667a6f115da1>:26: UserWarning: Boolean Series key will be reindexed to match DataFrame index.\n",
      "  kal_par.append(f1_score(data[data['MATCH RATIO'] >= i][data['Spp'] == 'PARHES']['Spp'], data[data['MATCH RATIO'] >= i][data['Spp'] == 'PARHES']['COMP ID'], average = 'weighted'))\n",
      "<ipython-input-376-667a6f115da1>:27: UserWarning: Boolean Series key will be reindexed to match DataFrame index.\n",
      "  kal_myo.append(f1_score(data[data['MATCH RATIO'] >= i][data['Spp'] == 'MYOYUM']['Spp'], data[data['MATCH RATIO'] >= i][data['Spp'] == 'MYOYUM']['COMP ID'], average = 'weighted'))\n",
      "<ipython-input-376-667a6f115da1>:27: UserWarning: Boolean Series key will be reindexed to match DataFrame index.\n",
      "  kal_myo.append(f1_score(data[data['MATCH RATIO'] >= i][data['Spp'] == 'MYOYUM']['Spp'], data[data['MATCH RATIO'] >= i][data['Spp'] == 'MYOYUM']['COMP ID'], average = 'weighted'))\n",
      "<ipython-input-376-667a6f115da1>:28: UserWarning: Boolean Series key will be reindexed to match DataFrame index.\n",
      "  thr_tad.append(f1_score(y_test[y_test['MATCH_Ratio'] >= i][y_test['Spp'] == 'TADBRA']['Spp'], y_test[y_test['MATCH_Ratio'] >= i][y_test['Spp'] == 'TADBRA']['3spp_pred'], average = 'weighted'))\n",
      "<ipython-input-376-667a6f115da1>:28: UserWarning: Boolean Series key will be reindexed to match DataFrame index.\n",
      "  thr_tad.append(f1_score(y_test[y_test['MATCH_Ratio'] >= i][y_test['Spp'] == 'TADBRA']['Spp'], y_test[y_test['MATCH_Ratio'] >= i][y_test['Spp'] == 'TADBRA']['3spp_pred'], average = 'weighted'))\n",
      "<ipython-input-376-667a6f115da1>:29: UserWarning: Boolean Series key will be reindexed to match DataFrame index.\n",
      "  thr_par.append(f1_score(y_test[y_test['MATCH_Ratio'] >= i][y_test['Spp'] == 'PARHES']['Spp'], y_test[y_test['MATCH_Ratio'] >= i][y_test['Spp'] == 'PARHES']['3spp_pred'], average = 'weighted'))\n",
      "<ipython-input-376-667a6f115da1>:29: UserWarning: Boolean Series key will be reindexed to match DataFrame index.\n",
      "  thr_par.append(f1_score(y_test[y_test['MATCH_Ratio'] >= i][y_test['Spp'] == 'PARHES']['Spp'], y_test[y_test['MATCH_Ratio'] >= i][y_test['Spp'] == 'PARHES']['3spp_pred'], average = 'weighted'))\n",
      "<ipython-input-376-667a6f115da1>:30: UserWarning: Boolean Series key will be reindexed to match DataFrame index.\n",
      "  thr_myo.append(f1_score(y_test[y_test['MATCH_Ratio'] >= i][y_test['Spp'] == 'MYOYUM']['Spp'], y_test[y_test['MATCH_Ratio'] >= i][y_test['Spp'] == 'MYOYUM']['3spp_pred'], average = 'weighted'))\n",
      "<ipython-input-376-667a6f115da1>:30: UserWarning: Boolean Series key will be reindexed to match DataFrame index.\n",
      "  thr_myo.append(f1_score(y_test[y_test['MATCH_Ratio'] >= i][y_test['Spp'] == 'MYOYUM']['Spp'], y_test[y_test['MATCH_Ratio'] >= i][y_test['Spp'] == 'MYOYUM']['3spp_pred'], average = 'weighted'))\n",
      "<ipython-input-376-667a6f115da1>:25: UserWarning: Boolean Series key will be reindexed to match DataFrame index.\n",
      "  kal_tad.append(f1_score(data[data['MATCH RATIO'] >= i][data['Spp'] == 'TADBRA']['Spp'], data[data['MATCH RATIO'] >= i][data['Spp'] == 'TADBRA']['COMP ID'], average = 'weighted'))\n",
      "<ipython-input-376-667a6f115da1>:25: UserWarning: Boolean Series key will be reindexed to match DataFrame index.\n",
      "  kal_tad.append(f1_score(data[data['MATCH RATIO'] >= i][data['Spp'] == 'TADBRA']['Spp'], data[data['MATCH RATIO'] >= i][data['Spp'] == 'TADBRA']['COMP ID'], average = 'weighted'))\n",
      "<ipython-input-376-667a6f115da1>:26: UserWarning: Boolean Series key will be reindexed to match DataFrame index.\n",
      "  kal_par.append(f1_score(data[data['MATCH RATIO'] >= i][data['Spp'] == 'PARHES']['Spp'], data[data['MATCH RATIO'] >= i][data['Spp'] == 'PARHES']['COMP ID'], average = 'weighted'))\n",
      "<ipython-input-376-667a6f115da1>:26: UserWarning: Boolean Series key will be reindexed to match DataFrame index.\n",
      "  kal_par.append(f1_score(data[data['MATCH RATIO'] >= i][data['Spp'] == 'PARHES']['Spp'], data[data['MATCH RATIO'] >= i][data['Spp'] == 'PARHES']['COMP ID'], average = 'weighted'))\n",
      "<ipython-input-376-667a6f115da1>:27: UserWarning: Boolean Series key will be reindexed to match DataFrame index.\n",
      "  kal_myo.append(f1_score(data[data['MATCH RATIO'] >= i][data['Spp'] == 'MYOYUM']['Spp'], data[data['MATCH RATIO'] >= i][data['Spp'] == 'MYOYUM']['COMP ID'], average = 'weighted'))\n",
      "<ipython-input-376-667a6f115da1>:27: UserWarning: Boolean Series key will be reindexed to match DataFrame index.\n",
      "  kal_myo.append(f1_score(data[data['MATCH RATIO'] >= i][data['Spp'] == 'MYOYUM']['Spp'], data[data['MATCH RATIO'] >= i][data['Spp'] == 'MYOYUM']['COMP ID'], average = 'weighted'))\n",
      "<ipython-input-376-667a6f115da1>:28: UserWarning: Boolean Series key will be reindexed to match DataFrame index.\n",
      "  thr_tad.append(f1_score(y_test[y_test['MATCH_Ratio'] >= i][y_test['Spp'] == 'TADBRA']['Spp'], y_test[y_test['MATCH_Ratio'] >= i][y_test['Spp'] == 'TADBRA']['3spp_pred'], average = 'weighted'))\n",
      "<ipython-input-376-667a6f115da1>:28: UserWarning: Boolean Series key will be reindexed to match DataFrame index.\n",
      "  thr_tad.append(f1_score(y_test[y_test['MATCH_Ratio'] >= i][y_test['Spp'] == 'TADBRA']['Spp'], y_test[y_test['MATCH_Ratio'] >= i][y_test['Spp'] == 'TADBRA']['3spp_pred'], average = 'weighted'))\n",
      "<ipython-input-376-667a6f115da1>:29: UserWarning: Boolean Series key will be reindexed to match DataFrame index.\n",
      "  thr_par.append(f1_score(y_test[y_test['MATCH_Ratio'] >= i][y_test['Spp'] == 'PARHES']['Spp'], y_test[y_test['MATCH_Ratio'] >= i][y_test['Spp'] == 'PARHES']['3spp_pred'], average = 'weighted'))\n",
      "<ipython-input-376-667a6f115da1>:29: UserWarning: Boolean Series key will be reindexed to match DataFrame index.\n",
      "  thr_par.append(f1_score(y_test[y_test['MATCH_Ratio'] >= i][y_test['Spp'] == 'PARHES']['Spp'], y_test[y_test['MATCH_Ratio'] >= i][y_test['Spp'] == 'PARHES']['3spp_pred'], average = 'weighted'))\n",
      "<ipython-input-376-667a6f115da1>:30: UserWarning: Boolean Series key will be reindexed to match DataFrame index.\n",
      "  thr_myo.append(f1_score(y_test[y_test['MATCH_Ratio'] >= i][y_test['Spp'] == 'MYOYUM']['Spp'], y_test[y_test['MATCH_Ratio'] >= i][y_test['Spp'] == 'MYOYUM']['3spp_pred'], average = 'weighted'))\n",
      "<ipython-input-376-667a6f115da1>:30: UserWarning: Boolean Series key will be reindexed to match DataFrame index.\n",
      "  thr_myo.append(f1_score(y_test[y_test['MATCH_Ratio'] >= i][y_test['Spp'] == 'MYOYUM']['Spp'], y_test[y_test['MATCH_Ratio'] >= i][y_test['Spp'] == 'MYOYUM']['3spp_pred'], average = 'weighted'))\n",
      "<ipython-input-376-667a6f115da1>:25: UserWarning: Boolean Series key will be reindexed to match DataFrame index.\n",
      "  kal_tad.append(f1_score(data[data['MATCH RATIO'] >= i][data['Spp'] == 'TADBRA']['Spp'], data[data['MATCH RATIO'] >= i][data['Spp'] == 'TADBRA']['COMP ID'], average = 'weighted'))\n",
      "<ipython-input-376-667a6f115da1>:25: UserWarning: Boolean Series key will be reindexed to match DataFrame index.\n",
      "  kal_tad.append(f1_score(data[data['MATCH RATIO'] >= i][data['Spp'] == 'TADBRA']['Spp'], data[data['MATCH RATIO'] >= i][data['Spp'] == 'TADBRA']['COMP ID'], average = 'weighted'))\n",
      "<ipython-input-376-667a6f115da1>:26: UserWarning: Boolean Series key will be reindexed to match DataFrame index.\n",
      "  kal_par.append(f1_score(data[data['MATCH RATIO'] >= i][data['Spp'] == 'PARHES']['Spp'], data[data['MATCH RATIO'] >= i][data['Spp'] == 'PARHES']['COMP ID'], average = 'weighted'))\n",
      "<ipython-input-376-667a6f115da1>:26: UserWarning: Boolean Series key will be reindexed to match DataFrame index.\n",
      "  kal_par.append(f1_score(data[data['MATCH RATIO'] >= i][data['Spp'] == 'PARHES']['Spp'], data[data['MATCH RATIO'] >= i][data['Spp'] == 'PARHES']['COMP ID'], average = 'weighted'))\n",
      "<ipython-input-376-667a6f115da1>:27: UserWarning: Boolean Series key will be reindexed to match DataFrame index.\n",
      "  kal_myo.append(f1_score(data[data['MATCH RATIO'] >= i][data['Spp'] == 'MYOYUM']['Spp'], data[data['MATCH RATIO'] >= i][data['Spp'] == 'MYOYUM']['COMP ID'], average = 'weighted'))\n",
      "<ipython-input-376-667a6f115da1>:27: UserWarning: Boolean Series key will be reindexed to match DataFrame index.\n",
      "  kal_myo.append(f1_score(data[data['MATCH RATIO'] >= i][data['Spp'] == 'MYOYUM']['Spp'], data[data['MATCH RATIO'] >= i][data['Spp'] == 'MYOYUM']['COMP ID'], average = 'weighted'))\n",
      "<ipython-input-376-667a6f115da1>:28: UserWarning: Boolean Series key will be reindexed to match DataFrame index.\n",
      "  thr_tad.append(f1_score(y_test[y_test['MATCH_Ratio'] >= i][y_test['Spp'] == 'TADBRA']['Spp'], y_test[y_test['MATCH_Ratio'] >= i][y_test['Spp'] == 'TADBRA']['3spp_pred'], average = 'weighted'))\n",
      "<ipython-input-376-667a6f115da1>:28: UserWarning: Boolean Series key will be reindexed to match DataFrame index.\n",
      "  thr_tad.append(f1_score(y_test[y_test['MATCH_Ratio'] >= i][y_test['Spp'] == 'TADBRA']['Spp'], y_test[y_test['MATCH_Ratio'] >= i][y_test['Spp'] == 'TADBRA']['3spp_pred'], average = 'weighted'))\n",
      "<ipython-input-376-667a6f115da1>:29: UserWarning: Boolean Series key will be reindexed to match DataFrame index.\n",
      "  thr_par.append(f1_score(y_test[y_test['MATCH_Ratio'] >= i][y_test['Spp'] == 'PARHES']['Spp'], y_test[y_test['MATCH_Ratio'] >= i][y_test['Spp'] == 'PARHES']['3spp_pred'], average = 'weighted'))\n",
      "<ipython-input-376-667a6f115da1>:29: UserWarning: Boolean Series key will be reindexed to match DataFrame index.\n",
      "  thr_par.append(f1_score(y_test[y_test['MATCH_Ratio'] >= i][y_test['Spp'] == 'PARHES']['Spp'], y_test[y_test['MATCH_Ratio'] >= i][y_test['Spp'] == 'PARHES']['3spp_pred'], average = 'weighted'))\n",
      "<ipython-input-376-667a6f115da1>:30: UserWarning: Boolean Series key will be reindexed to match DataFrame index.\n",
      "  thr_myo.append(f1_score(y_test[y_test['MATCH_Ratio'] >= i][y_test['Spp'] == 'MYOYUM']['Spp'], y_test[y_test['MATCH_Ratio'] >= i][y_test['Spp'] == 'MYOYUM']['3spp_pred'], average = 'weighted'))\n",
      "<ipython-input-376-667a6f115da1>:30: UserWarning: Boolean Series key will be reindexed to match DataFrame index.\n",
      "  thr_myo.append(f1_score(y_test[y_test['MATCH_Ratio'] >= i][y_test['Spp'] == 'MYOYUM']['Spp'], y_test[y_test['MATCH_Ratio'] >= i][y_test['Spp'] == 'MYOYUM']['3spp_pred'], average = 'weighted'))\n"
     ]
    }
   ],
   "source": [
    "#Making F1 scores for different models and species by match ratios\n",
    "x = []\n",
    "myoyum = []\n",
    "parhes = []\n",
    "tadbra = []\n",
    "kalsco = []\n",
    "threes = []\n",
    "all_mod = []\n",
    "alls = []\n",
    "kal_tad = []\n",
    "kal_par = []\n",
    "kal_myo = []\n",
    "thr_tad = []\n",
    "thr_par = []\n",
    "thr_myo = []\n",
    "\n",
    "for i in [float(x/10) for x in range(10)]:\n",
    "    x.append(i)\n",
    "    myoyum.append(f1_score(y_test[y_test['MATCH_Ratio'] >= i]['MYOYUM'], y_test[y_test['MATCH_Ratio'] >= i]['MYOYUM_pred']))\n",
    "    parhes.append(f1_score(y_test[y_test['MATCH_Ratio'] >= i]['PARHES'], y_test[y_test['MATCH_Ratio'] >= i]['PARHES_pred']))\n",
    "    tadbra.append(f1_score(y_test[y_test['MATCH_Ratio'] >= i]['TADBRA'], y_test[y_test['MATCH_Ratio'] >= i]['TADBRA_pred']))\n",
    "    kalsco.append(f1_score(data[data['MATCH RATIO'] >= i]['Spp'], data[data['MATCH RATIO'] >= i]['COMP ID'], average = 'weighted'))\n",
    "    threes.append(f1_score(y_test[y_test['MATCH_Ratio'] >= i]['Spp'], y_test[y_test['MATCH_Ratio'] >= i]['3spp_pred'], average = 'weighted'))\n",
    "    alls.append(f1_score(y_test[y_test['MATCH_Ratio'] >= i]['all_Spp'], y_test[y_test['MATCH_Ratio'] >= i]['Kal_all'], average = 'weighted'))\n",
    "    all_mod.append(f1_score(test_df[test_df['MATCH RATIO'] >= i]['Spp'], test_df[test_df['MATCH RATIO'] >= i]['Prediction'], average = 'weighted'))\n",
    "    kal_tad.append(f1_score(data[data['MATCH RATIO'] >= i][data['Spp'] == 'TADBRA']['Spp'], data[data['MATCH RATIO'] >= i][data['Spp'] == 'TADBRA']['COMP ID'], average = 'weighted'))\n",
    "    kal_par.append(f1_score(data[data['MATCH RATIO'] >= i][data['Spp'] == 'PARHES']['Spp'], data[data['MATCH RATIO'] >= i][data['Spp'] == 'PARHES']['COMP ID'], average = 'weighted'))\n",
    "    kal_myo.append(f1_score(data[data['MATCH RATIO'] >= i][data['Spp'] == 'MYOYUM']['Spp'], data[data['MATCH RATIO'] >= i][data['Spp'] == 'MYOYUM']['COMP ID'], average = 'weighted'))\n",
    "    thr_tad.append(f1_score(y_test[y_test['MATCH_Ratio'] >= i][y_test['Spp'] == 'TADBRA']['Spp'], y_test[y_test['MATCH_Ratio'] >= i][y_test['Spp'] == 'TADBRA']['3spp_pred'], average = 'weighted'))\n",
    "    thr_par.append(f1_score(y_test[y_test['MATCH_Ratio'] >= i][y_test['Spp'] == 'PARHES']['Spp'], y_test[y_test['MATCH_Ratio'] >= i][y_test['Spp'] == 'PARHES']['3spp_pred'], average = 'weighted'))\n",
    "    thr_myo.append(f1_score(y_test[y_test['MATCH_Ratio'] >= i][y_test['Spp'] == 'MYOYUM']['Spp'], y_test[y_test['MATCH_Ratio'] >= i][y_test['Spp'] == 'MYOYUM']['3spp_pred'], average = 'weighted'))"
   ]
  },
  {
   "cell_type": "markdown",
   "metadata": {},
   "source": [
    "### Graphing F1 Score By Threshold"
   ]
  },
  {
   "cell_type": "code",
   "execution_count": 379,
   "metadata": {},
   "outputs": [
    {
     "data": {
      "image/png": "[encoded data removed]",
      "text/plain": [
       "<Figure size 432x288 with 1 Axes>"
      ]
     },
     "metadata": {
      "needs_background": "light"
     },
     "output_type": "display_data"
    }
   ],
   "source": [
    "#Graph comparing different models for MYOYUM by match ratio\n",
    "plt.plot(x, myoyum, label = 'One Species Model')\n",
    "plt.plot(x, kal_myo, label = 'Kaleidoscope')\n",
    "plt.plot(x, thr_myo, label = 'Three Species Model')\n",
    "plt.title('F1 By Match Ratio For MYOYUM')\n",
    "plt.xlabel('Match Ratio')\n",
    "plt.ylabel('F1 Score')\n",
    "plt.legend(loc = 'lower right')\n",
    "plt.show()"
   ]
  },
  {
   "cell_type": "code",
   "execution_count": 380,
   "metadata": {},
   "outputs": [
    {
     "data": {
      "image/png": "[encoded data removed]",
      "text/plain": [
       "<Figure size 432x288 with 1 Axes>"
      ]
     },
     "metadata": {
      "needs_background": "light"
     },
     "output_type": "display_data"
    }
   ],
   "source": [
    "#Graph comparing models for PARHES by match ratio\n",
    "plt.plot(x, parhes, label = 'One Species Model')\n",
    "plt.plot(x, kal_par, label = 'Kaleidoscope')\n",
    "plt.plot(x, thr_par, label = 'Three Species Model')\n",
    "plt.title('F1 By Match Ratio For PARHES')\n",
    "plt.xlabel('Match Ratio')\n",
    "plt.ylabel('F1 Score')\n",
    "plt.legend(loc = 'lower right')\n",
    "plt.show()"
   ]
  },
  {
   "cell_type": "code",
   "execution_count": 381,
   "metadata": {},
   "outputs": [
    {
     "data": {
      "image/png": "[encoded data removed]",
      "text/plain": [
       "<Figure size 432x288 with 1 Axes>"
      ]
     },
     "metadata": {
      "needs_background": "light"
     },
     "output_type": "display_data"
    }
   ],
   "source": [
    "#Graph comparing models for TADBRA by match ratio\n",
    "plt.plot(x, tadbra, label = 'One Species Model')\n",
    "plt.plot(x, kal_tad, label = 'Kaleidoscope')\n",
    "plt.plot(x, thr_tad, label = 'Three Species Model')\n",
    "plt.title('F1 By Match Ratio For TADBRA')\n",
    "plt.xlabel('Match Ratio')\n",
    "plt.ylabel('F1 Score')\n",
    "plt.legend(loc = 'lower right')\n",
    "plt.show()"
   ]
  },
  {
   "cell_type": "code",
   "execution_count": 383,
   "metadata": {},
   "outputs": [
    {
     "data": {
      "image/png": "[encoded data removed]",
      "text/plain": [
       "<Figure size 432x288 with 1 Axes>"
      ]
     },
     "metadata": {
      "needs_background": "light"
     },
     "output_type": "display_data"
    }
   ],
   "source": [
    "#Graph comparing models by match ratios\n",
    "plt.plot(x, kalsco, label = 'Kaleidoscope 3 Species')\n",
    "plt.plot(x, threes, label = 'Three Species RF Model')\n",
    "plt.plot(x, alls, label = 'Kaleidoscope All Species')\n",
    "plt.plot(x, all_mod, label = 'All Species RF Model')\n",
    "plt.title('Model F1 By Match Ratio')\n",
    "plt.xlabel('Match Ratio')\n",
    "plt.ylabel('F1 Score')\n",
    "plt.legend(loc = 'lower right')\n",
    "plt.show()"
   ]
  },
  {
   "cell_type": "code",
   "execution_count": null,
   "metadata": {},
   "outputs": [],
   "source": []
  }
 ],
 "metadata": {
  "kernelspec": {
   "display_name": "Python 3",
   "language": "python",
   "name": "python3"
  },
  "language_info": {
   "codemirror_mode": {
    "name": "ipython",
    "version": 3
   },
   "file_extension": ".py",
   "mimetype": "text/x-python",
   "name": "python",
   "nbconvert_exporter": "python",
   "pygments_lexer": "ipython3",
   "version": "3.8.3"
  },
  "toc": {
   "base_numbering": 1,
   "nav_menu": {},
   "number_sections": true,
   "sideBar": true,
   "skip_h1_title": false,
   "title_cell": "Table of Contents",
   "title_sidebar": "Contents",
   "toc_cell": true,
   "toc_position": {
    "height": "calc(100% - 180px)",
    "left": "10px",
    "top": "150px",
    "width": "199px"
   },
   "toc_section_display": true,
   "toc_window_display": true
  }
 },
 "nbformat": 4,
 "nbformat_minor": 4
}
