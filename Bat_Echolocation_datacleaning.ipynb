{
 "cells": [
  {
   "cell_type": "markdown",
   "metadata": {
    "toc": true
   },
   "source": [
    "<h1>Table of Contents<span class=\"tocSkip\"></span></h1>\n",
    "<div class=\"toc\"><ul class=\"toc-item\"><li><span><a href=\"#Haberkorn-bat-call-library\" data-toc-modified-id=\"Haberkorn-bat-call-library-1\"><span class=\"toc-item-num\">1&nbsp;&nbsp;</span>Haberkorn bat call library</a></span></li><li><span><a href=\"#Mexico-bat-call-library\" data-toc-modified-id=\"Mexico-bat-call-library-2\"><span class=\"toc-item-num\">2&nbsp;&nbsp;</span>Mexico bat call library</a></span></li><li><span><a href=\"#Ground-truthed-vs.-Computer-ID-library\" data-toc-modified-id=\"Ground-truthed-vs.-Computer-ID-library-3\"><span class=\"toc-item-num\">3&nbsp;&nbsp;</span>Ground truthed vs. Computer ID library</a></span></li></ul></div>"
   ]
  },
  {
   "cell_type": "code",
   "execution_count": 1,
   "metadata": {},
   "outputs": [],
   "source": [
    "import pandas as pd"
   ]
  },
  {
   "cell_type": "markdown",
   "metadata": {},
   "source": [
    "# Haberkorn bat call library"
   ]
  },
  {
   "cell_type": "markdown",
   "metadata": {},
   "source": [
    "This call library is ground truthed but does not have additional column for initial computer ID to be compaired with 'AUTO ID*' (ground truthed) column.  More data can be added to this library."
   ]
  },
  {
   "cell_type": "code",
   "execution_count": 2,
   "metadata": {},
   "outputs": [],
   "source": [
    "import pandas as pd\n",
    "#Load csv containing my library of bat calls.  \n",
    "rawdf = pd.read_csv('haberkornlibrary.csv')"
   ]
  },
  {
   "cell_type": "code",
   "execution_count": 3,
   "metadata": {},
   "outputs": [
    {
     "data": {
      "text/plain": [
       "Index(['INDIR', 'OUTDIR', 'FOLDER', 'IN FILE', 'CHANNEL', 'OFFSET', 'DURATION',\n",
       "       'OUT FILE FS', 'OUT FILE ZC', 'DATE', 'TIME', 'HOUR', 'DATE-12',\n",
       "       'TIME-12', 'HOUR-12', 'AUTO ID*', 'PULSES', 'MATCHING', 'MATCH RATIO',\n",
       "       'MARGIN', 'ALTERNATE 1', 'ALTERNATE 2', 'N', 'Fc', 'Sc', 'Dur', 'Fmax',\n",
       "       'Fmin', 'Fmean', 'TBC', 'Fk', 'Tk', 'S1', 'Tc', 'Qual', 'FILES',\n",
       "       'MANUAL ID', 'ORGID', 'USERID', 'REVIEW ORGID', 'REVIEW USERID',\n",
       "       'INPATHMD5', 'OUTPATHMD5FS', 'OUTPATHMD5ZC'],\n",
       "      dtype='object')"
      ]
     },
     "execution_count": 3,
     "metadata": {},
     "output_type": "execute_result"
    }
   ],
   "source": [
    "rawdf.columns"
   ]
  },
  {
   "cell_type": "code",
   "execution_count": 4,
   "metadata": {},
   "outputs": [
    {
     "data": {
      "text/plain": [
       "(4366, 44)"
      ]
     },
     "execution_count": 4,
     "metadata": {},
     "output_type": "execute_result"
    }
   ],
   "source": [
    "rawdf.shape"
   ]
  },
  {
   "cell_type": "code",
   "execution_count": 5,
   "metadata": {},
   "outputs": [
    {
     "name": "stdout",
     "output_type": "stream",
     "text": [
      "  AUTO ID*  PULSES  MATCH RATIO    MARGIN      Fc      Sc    Dur    Fmax  \\\n",
      "0   ANTPAL    84.0        0.405  0.115610  34.398  100.16  4.531  61.385   \n",
      "1   ANTPAL    47.0        0.404  0.134245  31.921   60.16  4.705  50.442   \n",
      "2   ANTPAL    39.0        0.436  0.125273  37.542   85.40  5.815  59.703   \n",
      "3   CORTOW     8.0        1.000  0.819184  32.611  129.86  2.517  39.068   \n",
      "4   EPTFUS    42.0        0.667  0.332389  29.837   38.90  6.799  47.328   \n",
      "\n",
      "     Fmin      Fk     Tk     Tc      S1  \n",
      "0  33.315  36.758  3.281  4.244  449.37  \n",
      "1  31.128  33.465  3.509  4.386  385.39  \n",
      "2  35.288  40.107  3.772  5.028  242.96  \n",
      "3  27.399  36.423  0.491  1.406  243.54  \n",
      "4  28.696  31.290  4.427  6.073  301.72  \n"
     ]
    }
   ],
   "source": [
    "#Make dataframe with appropriate columns\n",
    "rawdf = rawdf[['AUTO ID*', 'PULSES', 'MATCH RATIO', 'MARGIN', 'Fc', 'Sc', 'Dur', 'Fmax', 'Fmin', 'Fk', 'Tk', 'Tc', 'S1']]\n",
    "print(rawdf.head())"
   ]
  },
  {
   "cell_type": "code",
   "execution_count": 6,
   "metadata": {},
   "outputs": [],
   "source": [
    "#Add column for bandwidth of call.  Bandwidth is the difference between the maximum and minimum frequency of the call.\n",
    "rawdf['BWDth'] = rawdf['Fmax'] - rawdf['Fmin']\n",
    "\n",
    "#Add column for percent of call that contains the main body of the call.\n",
    "rawdf['PkDur'] = ((rawdf['Tc'] - rawdf['Tk']) / rawdf['Dur']) * 100"
   ]
  },
  {
   "cell_type": "code",
   "execution_count": 7,
   "metadata": {},
   "outputs": [
    {
     "name": "stdout",
     "output_type": "stream",
     "text": [
      "  AUTO ID*  PULSES  MATCH RATIO    MARGIN      Fc      Sc    Dur    Fmax  \\\n",
      "0   ANTPAL    84.0        0.405  0.115610  34.398  100.16  4.531  61.385   \n",
      "1   ANTPAL    47.0        0.404  0.134245  31.921   60.16  4.705  50.442   \n",
      "2   ANTPAL    39.0        0.436  0.125273  37.542   85.40  5.815  59.703   \n",
      "3   CORTOW     8.0        1.000  0.819184  32.611  129.86  2.517  39.068   \n",
      "4   EPTFUS    42.0        0.667  0.332389  29.837   38.90  6.799  47.328   \n",
      "\n",
      "     Fmin      Fk     Tk     Tc      S1   BWDth      PkDur  \n",
      "0  33.315  36.758  3.281  4.244  449.37  28.070  21.253586  \n",
      "1  31.128  33.465  3.509  4.386  385.39  19.314  18.639745  \n",
      "2  35.288  40.107  3.772  5.028  242.96  24.415  21.599312  \n",
      "3  27.399  36.423  0.491  1.406  243.54  11.669  36.352801  \n",
      "4  28.696  31.290  4.427  6.073  301.72  18.632  24.209443  \n"
     ]
    }
   ],
   "source": [
    "print(rawdf.head())"
   ]
  },
  {
   "cell_type": "code",
   "execution_count": 8,
   "metadata": {},
   "outputs": [
    {
     "data": {
      "text/plain": [
       "Noise     3625\n",
       "NoID       310\n",
       "TADBRA      96\n",
       "MYOCIL      74\n",
       "LASXAN      60\n",
       "LASCIN      51\n",
       "EPTFUS      47\n",
       "LASNOC      30\n",
       "PARHES      25\n",
       "NYCFEM      20\n",
       "LASBLO       6\n",
       "MYOVEL       5\n",
       "MYOCAL       4\n",
       "NYCMAC       3\n",
       "ANTPAL       3\n",
       "EUMUND       2\n",
       "MYOVOL       2\n",
       "MYOOCC       2\n",
       "CORTOW       1\n",
       "Name: AUTO ID*, dtype: int64"
      ]
     },
     "execution_count": 8,
     "metadata": {},
     "output_type": "execute_result"
    }
   ],
   "source": [
    "rawdf['AUTO ID*'].value_counts()"
   ]
  },
  {
   "cell_type": "code",
   "execution_count": 9,
   "metadata": {},
   "outputs": [],
   "source": [
    "#Drop noise data from call library\n",
    "noise_index = rawdf[rawdf['AUTO ID*'] == 'Noise'].index\n",
    "rawdf.drop(noise_index, inplace = True)"
   ]
  },
  {
   "cell_type": "code",
   "execution_count": 10,
   "metadata": {},
   "outputs": [],
   "source": [
    "#Filtering out low quality recordings \n",
    "match_index = rawdf[rawdf['MATCH RATIO'] < 0.4].index\n",
    "rawdf.drop(match_index, inplace = True)"
   ]
  },
  {
   "cell_type": "code",
   "execution_count": 11,
   "metadata": {},
   "outputs": [
    {
     "data": {
      "text/plain": [
       "TADBRA    58\n",
       "LASXAN    54\n",
       "MYOCIL    49\n",
       "LASCIN    46\n",
       "LASNOC    29\n",
       "PARHES    24\n",
       "NYCFEM    20\n",
       "EPTFUS    18\n",
       "LASBLO     5\n",
       "MYOCAL     4\n",
       "MYOVEL     3\n",
       "ANTPAL     3\n",
       "NYCMAC     3\n",
       "MYOVOL     1\n",
       "MYOOCC     1\n",
       "CORTOW     1\n",
       "Name: AUTO ID*, dtype: int64"
      ]
     },
     "execution_count": 11,
     "metadata": {},
     "output_type": "execute_result"
    }
   ],
   "source": [
    "rawdf['AUTO ID*'].value_counts()"
   ]
  },
  {
   "cell_type": "code",
   "execution_count": 12,
   "metadata": {},
   "outputs": [
    {
     "data": {
      "text/plain": [
       "(319, 15)"
      ]
     },
     "execution_count": 12,
     "metadata": {},
     "output_type": "execute_result"
    }
   ],
   "source": [
    "rawdf.shape"
   ]
  },
  {
   "cell_type": "code",
   "execution_count": 13,
   "metadata": {},
   "outputs": [
    {
     "data": {
      "text/html": [
       "<div>\n",
       "<style scoped>\n",
       "    .dataframe tbody tr th:only-of-type {\n",
       "        vertical-align: middle;\n",
       "    }\n",
       "\n",
       "    .dataframe tbody tr th {\n",
       "        vertical-align: top;\n",
       "    }\n",
       "\n",
       "    .dataframe thead th {\n",
       "        text-align: right;\n",
       "    }\n",
       "</style>\n",
       "<table border=\"1\" class=\"dataframe\">\n",
       "  <thead>\n",
       "    <tr style=\"text-align: right;\">\n",
       "      <th></th>\n",
       "      <th>AUTO ID*</th>\n",
       "      <th>PULSES</th>\n",
       "      <th>MATCH RATIO</th>\n",
       "      <th>MARGIN</th>\n",
       "      <th>Fc</th>\n",
       "      <th>Sc</th>\n",
       "      <th>Dur</th>\n",
       "      <th>Fmax</th>\n",
       "      <th>Fmin</th>\n",
       "      <th>Fk</th>\n",
       "      <th>Tk</th>\n",
       "      <th>Tc</th>\n",
       "      <th>S1</th>\n",
       "      <th>BWDth</th>\n",
       "      <th>PkDur</th>\n",
       "    </tr>\n",
       "  </thead>\n",
       "  <tbody>\n",
       "    <tr>\n",
       "      <th>0</th>\n",
       "      <td>ANTPAL</td>\n",
       "      <td>84.0</td>\n",
       "      <td>0.405</td>\n",
       "      <td>0.115610</td>\n",
       "      <td>34.398</td>\n",
       "      <td>100.16</td>\n",
       "      <td>4.531</td>\n",
       "      <td>61.385</td>\n",
       "      <td>33.315</td>\n",
       "      <td>36.758</td>\n",
       "      <td>3.281</td>\n",
       "      <td>4.244</td>\n",
       "      <td>449.37</td>\n",
       "      <td>28.070</td>\n",
       "      <td>21.253586</td>\n",
       "    </tr>\n",
       "    <tr>\n",
       "      <th>1</th>\n",
       "      <td>ANTPAL</td>\n",
       "      <td>47.0</td>\n",
       "      <td>0.404</td>\n",
       "      <td>0.134245</td>\n",
       "      <td>31.921</td>\n",
       "      <td>60.16</td>\n",
       "      <td>4.705</td>\n",
       "      <td>50.442</td>\n",
       "      <td>31.128</td>\n",
       "      <td>33.465</td>\n",
       "      <td>3.509</td>\n",
       "      <td>4.386</td>\n",
       "      <td>385.39</td>\n",
       "      <td>19.314</td>\n",
       "      <td>18.639745</td>\n",
       "    </tr>\n",
       "    <tr>\n",
       "      <th>2</th>\n",
       "      <td>ANTPAL</td>\n",
       "      <td>39.0</td>\n",
       "      <td>0.436</td>\n",
       "      <td>0.125273</td>\n",
       "      <td>37.542</td>\n",
       "      <td>85.40</td>\n",
       "      <td>5.815</td>\n",
       "      <td>59.703</td>\n",
       "      <td>35.288</td>\n",
       "      <td>40.107</td>\n",
       "      <td>3.772</td>\n",
       "      <td>5.028</td>\n",
       "      <td>242.96</td>\n",
       "      <td>24.415</td>\n",
       "      <td>21.599312</td>\n",
       "    </tr>\n",
       "    <tr>\n",
       "      <th>3</th>\n",
       "      <td>CORTOW</td>\n",
       "      <td>8.0</td>\n",
       "      <td>1.000</td>\n",
       "      <td>0.819184</td>\n",
       "      <td>32.611</td>\n",
       "      <td>129.86</td>\n",
       "      <td>2.517</td>\n",
       "      <td>39.068</td>\n",
       "      <td>27.399</td>\n",
       "      <td>36.423</td>\n",
       "      <td>0.491</td>\n",
       "      <td>1.406</td>\n",
       "      <td>243.54</td>\n",
       "      <td>11.669</td>\n",
       "      <td>36.352801</td>\n",
       "    </tr>\n",
       "    <tr>\n",
       "      <th>4</th>\n",
       "      <td>EPTFUS</td>\n",
       "      <td>42.0</td>\n",
       "      <td>0.667</td>\n",
       "      <td>0.332389</td>\n",
       "      <td>29.837</td>\n",
       "      <td>38.90</td>\n",
       "      <td>6.799</td>\n",
       "      <td>47.328</td>\n",
       "      <td>28.696</td>\n",
       "      <td>31.290</td>\n",
       "      <td>4.427</td>\n",
       "      <td>6.073</td>\n",
       "      <td>301.72</td>\n",
       "      <td>18.632</td>\n",
       "      <td>24.209443</td>\n",
       "    </tr>\n",
       "  </tbody>\n",
       "</table>\n",
       "</div>"
      ],
      "text/plain": [
       "  AUTO ID*  PULSES  MATCH RATIO    MARGIN      Fc      Sc    Dur    Fmax  \\\n",
       "0   ANTPAL    84.0        0.405  0.115610  34.398  100.16  4.531  61.385   \n",
       "1   ANTPAL    47.0        0.404  0.134245  31.921   60.16  4.705  50.442   \n",
       "2   ANTPAL    39.0        0.436  0.125273  37.542   85.40  5.815  59.703   \n",
       "3   CORTOW     8.0        1.000  0.819184  32.611  129.86  2.517  39.068   \n",
       "4   EPTFUS    42.0        0.667  0.332389  29.837   38.90  6.799  47.328   \n",
       "\n",
       "     Fmin      Fk     Tk     Tc      S1   BWDth      PkDur  \n",
       "0  33.315  36.758  3.281  4.244  449.37  28.070  21.253586  \n",
       "1  31.128  33.465  3.509  4.386  385.39  19.314  18.639745  \n",
       "2  35.288  40.107  3.772  5.028  242.96  24.415  21.599312  \n",
       "3  27.399  36.423  0.491  1.406  243.54  11.669  36.352801  \n",
       "4  28.696  31.290  4.427  6.073  301.72  18.632  24.209443  "
      ]
     },
     "execution_count": 13,
     "metadata": {},
     "output_type": "execute_result"
    }
   ],
   "source": [
    "rawdf.head()"
   ]
  },
  {
   "cell_type": "code",
   "execution_count": 14,
   "metadata": {},
   "outputs": [
    {
     "name": "stdout",
     "output_type": "stream",
     "text": [
      "A file already exists with this name.\n",
      "\n",
      "Do you want to overwrite? (Y/N)Y\n",
      "Writing file.  \"C:/Users/matta/OneDrive/Documents/Springboard/Bat_Echolocation_Capstone/Clean_data\\haberkorn_library.csv\"\n"
     ]
    }
   ],
   "source": [
    "# save the data to a new csv file\n",
    "from library.sb_utils import save_file\n",
    "#C:\\Users\\matta\\OneDrive\\Documents\\Springboard\\Bat_Echolocation_Capstone\\Clean_data\n",
    "datapath = 'C:/Users/matta/OneDrive/Documents/Springboard/Bat_Echolocation_Capstone/Clean_data'\n",
    "#haberkorn_library = rawdf.to_csv('haberkorn_library.csv')\n",
    "save_file(rawdf, 'haberkorn_library.csv', datapath)"
   ]
  },
  {
   "cell_type": "markdown",
   "metadata": {},
   "source": [
    "# Mexico bat call library"
   ]
  },
  {
   "cell_type": "markdown",
   "metadata": {},
   "source": [
    "I do not have the raw .wav files for this library, only the descriptive statistics for each of the files.  I believe I have matched the different columns of this library to the Haberkorn and the id-truthed libraries."
   ]
  },
  {
   "cell_type": "code",
   "execution_count": 15,
   "metadata": {},
   "outputs": [],
   "source": [
    "#Load excel file of Mexican bat call library\n",
    "\n",
    "raw2 = pd.ExcelFile('Mexicolibrary.xlsx')"
   ]
  },
  {
   "cell_type": "code",
   "execution_count": 16,
   "metadata": {},
   "outputs": [
    {
     "data": {
      "text/plain": [
       "['Classifier1', 'Classifier2', 'Classifier3', 'Classifier4']"
      ]
     },
     "execution_count": 16,
     "metadata": {},
     "output_type": "execute_result"
    }
   ],
   "source": [
    "raw2.sheet_names"
   ]
  },
  {
   "cell_type": "code",
   "execution_count": 17,
   "metadata": {},
   "outputs": [
    {
     "data": {
      "text/html": [
       "<div>\n",
       "<style scoped>\n",
       "    .dataframe tbody tr th:only-of-type {\n",
       "        vertical-align: middle;\n",
       "    }\n",
       "\n",
       "    .dataframe tbody tr th {\n",
       "        vertical-align: top;\n",
       "    }\n",
       "\n",
       "    .dataframe thead th {\n",
       "        text-align: right;\n",
       "    }\n",
       "</style>\n",
       "<table border=\"1\" class=\"dataframe\">\n",
       "  <thead>\n",
       "    <tr style=\"text-align: right;\">\n",
       "      <th></th>\n",
       "      <th>Folds</th>\n",
       "      <th>File</th>\n",
       "      <th>Owner</th>\n",
       "      <th>Family</th>\n",
       "      <th>Genus</th>\n",
       "      <th>Spp</th>\n",
       "      <th>Guild</th>\n",
       "      <th>Country</th>\n",
       "      <th>Quality</th>\n",
       "      <th>CallDuration</th>\n",
       "      <th>...</th>\n",
       "      <th>AmpK.end</th>\n",
       "      <th>AmpKurtosis</th>\n",
       "      <th>AmpSkew</th>\n",
       "      <th>AmpVariance</th>\n",
       "      <th>AmpMoment</th>\n",
       "      <th>AmpGausR2</th>\n",
       "      <th>HiFminusStartF</th>\n",
       "      <th>FcMinusEndF</th>\n",
       "      <th>RelPwr2ndTo1st</th>\n",
       "      <th>RelPwr3rdTo1st</th>\n",
       "    </tr>\n",
       "  </thead>\n",
       "  <tbody>\n",
       "    <tr>\n",
       "      <th>0</th>\n",
       "      <td>4</td>\n",
       "      <td>Anogeo-456-Maple_M00012</td>\n",
       "      <td>VZG</td>\n",
       "      <td>Phyllostomidae</td>\n",
       "      <td>Anoura</td>\n",
       "      <td>Anogeo</td>\n",
       "      <td>6</td>\n",
       "      <td>Mexico</td>\n",
       "      <td>0.434226</td>\n",
       "      <td>2.503670</td>\n",
       "      <td>...</td>\n",
       "      <td>6.150363</td>\n",
       "      <td>2.451373</td>\n",
       "      <td>-0.529526</td>\n",
       "      <td>0.010571</td>\n",
       "      <td>0.010490</td>\n",
       "      <td>0.831160</td>\n",
       "      <td>0.0</td>\n",
       "      <td>2.154368</td>\n",
       "      <td>0.298995</td>\n",
       "      <td>0.241145</td>\n",
       "    </tr>\n",
       "    <tr>\n",
       "      <th>1</th>\n",
       "      <td>4</td>\n",
       "      <td>Anogeo-456-Maple_M00012</td>\n",
       "      <td>VZG</td>\n",
       "      <td>Phyllostomidae</td>\n",
       "      <td>Anoura</td>\n",
       "      <td>Anogeo</td>\n",
       "      <td>6</td>\n",
       "      <td>Mexico</td>\n",
       "      <td>0.519223</td>\n",
       "      <td>2.547593</td>\n",
       "      <td>...</td>\n",
       "      <td>5.633335</td>\n",
       "      <td>2.100453</td>\n",
       "      <td>-0.385202</td>\n",
       "      <td>0.015818</td>\n",
       "      <td>0.015703</td>\n",
       "      <td>0.786119</td>\n",
       "      <td>0.0</td>\n",
       "      <td>4.185747</td>\n",
       "      <td>0.243366</td>\n",
       "      <td>0.231044</td>\n",
       "    </tr>\n",
       "    <tr>\n",
       "      <th>2</th>\n",
       "      <td>4</td>\n",
       "      <td>Anogeo-456-Maple_M00012</td>\n",
       "      <td>VZG</td>\n",
       "      <td>Phyllostomidae</td>\n",
       "      <td>Anoura</td>\n",
       "      <td>Anogeo</td>\n",
       "      <td>6</td>\n",
       "      <td>Mexico</td>\n",
       "      <td>0.631567</td>\n",
       "      <td>2.312634</td>\n",
       "      <td>...</td>\n",
       "      <td>7.589906</td>\n",
       "      <td>2.002653</td>\n",
       "      <td>-0.589580</td>\n",
       "      <td>0.021116</td>\n",
       "      <td>0.020946</td>\n",
       "      <td>0.987820</td>\n",
       "      <td>0.0</td>\n",
       "      <td>5.651484</td>\n",
       "      <td>0.166177</td>\n",
       "      <td>0.169072</td>\n",
       "    </tr>\n",
       "    <tr>\n",
       "      <th>3</th>\n",
       "      <td>4</td>\n",
       "      <td>Anogeo-456-Maple_M00012</td>\n",
       "      <td>VZG</td>\n",
       "      <td>Phyllostomidae</td>\n",
       "      <td>Anoura</td>\n",
       "      <td>Anogeo</td>\n",
       "      <td>6</td>\n",
       "      <td>Mexico</td>\n",
       "      <td>0.367486</td>\n",
       "      <td>2.233911</td>\n",
       "      <td>...</td>\n",
       "      <td>10.733286</td>\n",
       "      <td>1.874619</td>\n",
       "      <td>-0.580224</td>\n",
       "      <td>0.010325</td>\n",
       "      <td>0.010238</td>\n",
       "      <td>0.849326</td>\n",
       "      <td>0.0</td>\n",
       "      <td>2.085766</td>\n",
       "      <td>0.365763</td>\n",
       "      <td>0.128119</td>\n",
       "    </tr>\n",
       "    <tr>\n",
       "      <th>4</th>\n",
       "      <td>4</td>\n",
       "      <td>Anogeo-456-Maple_M00012</td>\n",
       "      <td>VZG</td>\n",
       "      <td>Phyllostomidae</td>\n",
       "      <td>Anoura</td>\n",
       "      <td>Anogeo</td>\n",
       "      <td>6</td>\n",
       "      <td>Mexico</td>\n",
       "      <td>0.590776</td>\n",
       "      <td>1.625190</td>\n",
       "      <td>...</td>\n",
       "      <td>8.439277</td>\n",
       "      <td>1.710580</td>\n",
       "      <td>0.189370</td>\n",
       "      <td>0.018930</td>\n",
       "      <td>0.018697</td>\n",
       "      <td>0.807531</td>\n",
       "      <td>0.0</td>\n",
       "      <td>1.871421</td>\n",
       "      <td>0.341701</td>\n",
       "      <td>0.000000</td>\n",
       "    </tr>\n",
       "  </tbody>\n",
       "</table>\n",
       "<p>5 rows × 81 columns</p>\n",
       "</div>"
      ],
      "text/plain": [
       "   Folds                     File Owner          Family   Genus     Spp  \\\n",
       "0      4  Anogeo-456-Maple_M00012   VZG  Phyllostomidae  Anoura  Anogeo   \n",
       "1      4  Anogeo-456-Maple_M00012   VZG  Phyllostomidae  Anoura  Anogeo   \n",
       "2      4  Anogeo-456-Maple_M00012   VZG  Phyllostomidae  Anoura  Anogeo   \n",
       "3      4  Anogeo-456-Maple_M00012   VZG  Phyllostomidae  Anoura  Anogeo   \n",
       "4      4  Anogeo-456-Maple_M00012   VZG  Phyllostomidae  Anoura  Anogeo   \n",
       "\n",
       "   Guild Country   Quality  CallDuration  ...   AmpK.end  AmpKurtosis  \\\n",
       "0      6  Mexico  0.434226      2.503670  ...   6.150363     2.451373   \n",
       "1      6  Mexico  0.519223      2.547593  ...   5.633335     2.100453   \n",
       "2      6  Mexico  0.631567      2.312634  ...   7.589906     2.002653   \n",
       "3      6  Mexico  0.367486      2.233911  ...  10.733286     1.874619   \n",
       "4      6  Mexico  0.590776      1.625190  ...   8.439277     1.710580   \n",
       "\n",
       "    AmpSkew  AmpVariance  AmpMoment  AmpGausR2  HiFminusStartF  FcMinusEndF  \\\n",
       "0 -0.529526     0.010571   0.010490   0.831160             0.0     2.154368   \n",
       "1 -0.385202     0.015818   0.015703   0.786119             0.0     4.185747   \n",
       "2 -0.589580     0.021116   0.020946   0.987820             0.0     5.651484   \n",
       "3 -0.580224     0.010325   0.010238   0.849326             0.0     2.085766   \n",
       "4  0.189370     0.018930   0.018697   0.807531             0.0     1.871421   \n",
       "\n",
       "   RelPwr2ndTo1st  RelPwr3rdTo1st  \n",
       "0        0.298995        0.241145  \n",
       "1        0.243366        0.231044  \n",
       "2        0.166177        0.169072  \n",
       "3        0.365763        0.128119  \n",
       "4        0.341701        0.000000  \n",
       "\n",
       "[5 rows x 81 columns]"
      ]
     },
     "execution_count": 17,
     "metadata": {},
     "output_type": "execute_result"
    }
   ],
   "source": [
    "#Parse single excel sheet for dataframe\n",
    "\n",
    "rawdf2 = raw2.parse('Classifier1')\n",
    "\n",
    "rawdf2.head()"
   ]
  },
  {
   "cell_type": "code",
   "execution_count": 18,
   "metadata": {},
   "outputs": [
    {
     "data": {
      "text/plain": [
       "(4685, 81)"
      ]
     },
     "execution_count": 18,
     "metadata": {},
     "output_type": "execute_result"
    }
   ],
   "source": [
    "rawdf2.shape"
   ]
  },
  {
   "cell_type": "code",
   "execution_count": 19,
   "metadata": {
    "scrolled": true
   },
   "outputs": [
    {
     "data": {
      "text/plain": [
       "Index(['Folds', 'File', 'Owner', 'Family', 'Genus', 'Spp', 'Guild', 'Country',\n",
       "       'Quality', 'CallDuration', 'Fc', 'HiFreq', 'LowFreq', 'Bndwdth',\n",
       "       'FreqMaxPwr', 'PrcntMaxAmpDur', 'TimeFromMaxToFc', 'FreqKnee',\n",
       "       'PrcntKneeDur', 'StartF', 'EndF', 'DominantSlope', 'SlopeAtFc',\n",
       "       'StartSlope', 'EndSlope', 'SteepestSlope', 'LowestSlope', 'TotalSlope',\n",
       "       'HiFtoKnSlope', 'KneeToFcSlope', 'CummNmlzdSlp', 'HiFtoFcExpAmp',\n",
       "       'HiFtoFcDmp', 'KnToFcExpAmp', 'KnToFcDmp', 'HiFtoKnExpAmp',\n",
       "       'HiFtoKnDmp', 'FreqLedge', 'LedgeDuration', 'FreqCtr', 'FBak32dB',\n",
       "       'FFwd32dB', 'FBak20dB', 'FFwd20dB', 'FBak15dB', 'FFwd15dB', 'FBak5dB',\n",
       "       'FFwd5dB', 'Bndw32dB', 'Bndw20dB', 'Bndw15dB', 'Bndw5dB', 'DurOf32dB',\n",
       "       'DurOf20dB', 'DurOf15dB', 'DurOf5dB', 'Amp1stQrtl', 'Amp2ndQrtl',\n",
       "       'Amp3rdQrtl', 'Amp4thQrtl', 'Amp1stMean', 'Amp2ndMean', 'Amp3rdMean',\n",
       "       'Amp4thMean', 'LnExpA_StartAmp', 'LnExpB_StartAmp', 'AmpStartLn60ExpC',\n",
       "       'LnExpA_EndAmp', 'LnExpB_EndAmp', 'AmpEndLn60ExpC', 'AmpK.start',\n",
       "       'AmpK.end', 'AmpKurtosis', 'AmpSkew', 'AmpVariance', 'AmpMoment',\n",
       "       'AmpGausR2', 'HiFminusStartF', 'FcMinusEndF', 'RelPwr2ndTo1st',\n",
       "       'RelPwr3rdTo1st'],\n",
       "      dtype='object')"
      ]
     },
     "execution_count": 19,
     "metadata": {},
     "output_type": "execute_result"
    }
   ],
   "source": [
    "rawdf2.columns"
   ]
  },
  {
   "cell_type": "code",
   "execution_count": 20,
   "metadata": {},
   "outputs": [],
   "source": [
    "#Putting together columns to match rawdf\n",
    "\n",
    "rawdf2 = rawdf2[['Spp', 'Fc', 'TotalSlope', 'CallDuration', 'StartF', 'LowFreq', 'FreqKnee', 'TimeFromMaxToFc', 'StartSlope', 'Bndwdth', 'PrcntKneeDur']]"
   ]
  },
  {
   "cell_type": "code",
   "execution_count": 21,
   "metadata": {},
   "outputs": [
    {
     "data": {
      "text/html": [
       "<div>\n",
       "<style scoped>\n",
       "    .dataframe tbody tr th:only-of-type {\n",
       "        vertical-align: middle;\n",
       "    }\n",
       "\n",
       "    .dataframe tbody tr th {\n",
       "        vertical-align: top;\n",
       "    }\n",
       "\n",
       "    .dataframe thead th {\n",
       "        text-align: right;\n",
       "    }\n",
       "</style>\n",
       "<table border=\"1\" class=\"dataframe\">\n",
       "  <thead>\n",
       "    <tr style=\"text-align: right;\">\n",
       "      <th></th>\n",
       "      <th>Spp</th>\n",
       "      <th>Fc</th>\n",
       "      <th>TotalSlope</th>\n",
       "      <th>CallDuration</th>\n",
       "      <th>StartF</th>\n",
       "      <th>LowFreq</th>\n",
       "      <th>FreqKnee</th>\n",
       "      <th>TimeFromMaxToFc</th>\n",
       "      <th>StartSlope</th>\n",
       "      <th>Bndwdth</th>\n",
       "      <th>PrcntKneeDur</th>\n",
       "    </tr>\n",
       "  </thead>\n",
       "  <tbody>\n",
       "    <tr>\n",
       "      <th>0</th>\n",
       "      <td>Anogeo</td>\n",
       "      <td>69.618386</td>\n",
       "      <td>16.501900</td>\n",
       "      <td>2.503670</td>\n",
       "      <td>109.488419</td>\n",
       "      <td>67.464018</td>\n",
       "      <td>81.747286</td>\n",
       "      <td>0.756463</td>\n",
       "      <td>-29.635308</td>\n",
       "      <td>42.024402</td>\n",
       "      <td>50.579266</td>\n",
       "    </tr>\n",
       "    <tr>\n",
       "      <th>1</th>\n",
       "      <td>Anogeo</td>\n",
       "      <td>68.805459</td>\n",
       "      <td>16.472087</td>\n",
       "      <td>2.547593</td>\n",
       "      <td>109.014483</td>\n",
       "      <td>64.619712</td>\n",
       "      <td>80.822997</td>\n",
       "      <td>0.893621</td>\n",
       "      <td>-37.794947</td>\n",
       "      <td>44.394771</td>\n",
       "      <td>47.608501</td>\n",
       "    </tr>\n",
       "    <tr>\n",
       "      <th>2</th>\n",
       "      <td>Anogeo</td>\n",
       "      <td>70.297715</td>\n",
       "      <td>18.477740</td>\n",
       "      <td>2.312634</td>\n",
       "      <td>109.447511</td>\n",
       "      <td>64.646231</td>\n",
       "      <td>83.699015</td>\n",
       "      <td>0.734879</td>\n",
       "      <td>-33.103609</td>\n",
       "      <td>44.801280</td>\n",
       "      <td>43.624168</td>\n",
       "    </tr>\n",
       "    <tr>\n",
       "      <th>3</th>\n",
       "      <td>Anogeo</td>\n",
       "      <td>71.891085</td>\n",
       "      <td>18.685895</td>\n",
       "      <td>2.233911</td>\n",
       "      <td>113.408873</td>\n",
       "      <td>69.805319</td>\n",
       "      <td>84.027946</td>\n",
       "      <td>1.069576</td>\n",
       "      <td>-41.348016</td>\n",
       "      <td>43.603553</td>\n",
       "      <td>49.564504</td>\n",
       "    </tr>\n",
       "    <tr>\n",
       "      <th>4</th>\n",
       "      <td>Anogeo</td>\n",
       "      <td>73.410948</td>\n",
       "      <td>23.020184</td>\n",
       "      <td>1.625190</td>\n",
       "      <td>107.204335</td>\n",
       "      <td>71.539526</td>\n",
       "      <td>82.883904</td>\n",
       "      <td>0.842277</td>\n",
       "      <td>-30.690332</td>\n",
       "      <td>35.664809</td>\n",
       "      <td>54.997229</td>\n",
       "    </tr>\n",
       "  </tbody>\n",
       "</table>\n",
       "</div>"
      ],
      "text/plain": [
       "      Spp         Fc  TotalSlope  CallDuration      StartF    LowFreq  \\\n",
       "0  Anogeo  69.618386   16.501900      2.503670  109.488419  67.464018   \n",
       "1  Anogeo  68.805459   16.472087      2.547593  109.014483  64.619712   \n",
       "2  Anogeo  70.297715   18.477740      2.312634  109.447511  64.646231   \n",
       "3  Anogeo  71.891085   18.685895      2.233911  113.408873  69.805319   \n",
       "4  Anogeo  73.410948   23.020184      1.625190  107.204335  71.539526   \n",
       "\n",
       "    FreqKnee  TimeFromMaxToFc  StartSlope    Bndwdth  PrcntKneeDur  \n",
       "0  81.747286         0.756463  -29.635308  42.024402     50.579266  \n",
       "1  80.822997         0.893621  -37.794947  44.394771     47.608501  \n",
       "2  83.699015         0.734879  -33.103609  44.801280     43.624168  \n",
       "3  84.027946         1.069576  -41.348016  43.603553     49.564504  \n",
       "4  82.883904         0.842277  -30.690332  35.664809     54.997229  "
      ]
     },
     "execution_count": 21,
     "metadata": {},
     "output_type": "execute_result"
    }
   ],
   "source": [
    "rawdf2.head()"
   ]
  },
  {
   "cell_type": "code",
   "execution_count": 22,
   "metadata": {},
   "outputs": [
    {
     "data": {
      "text/html": [
       "<div>\n",
       "<style scoped>\n",
       "    .dataframe tbody tr th:only-of-type {\n",
       "        vertical-align: middle;\n",
       "    }\n",
       "\n",
       "    .dataframe tbody tr th {\n",
       "        vertical-align: top;\n",
       "    }\n",
       "\n",
       "    .dataframe thead th {\n",
       "        text-align: right;\n",
       "    }\n",
       "</style>\n",
       "<table border=\"1\" class=\"dataframe\">\n",
       "  <thead>\n",
       "    <tr style=\"text-align: right;\">\n",
       "      <th></th>\n",
       "      <th>Spp</th>\n",
       "      <th>Fc</th>\n",
       "      <th>Sc</th>\n",
       "      <th>Dur</th>\n",
       "      <th>Fmax</th>\n",
       "      <th>Fmin</th>\n",
       "      <th>Fk</th>\n",
       "      <th>Tk</th>\n",
       "      <th>S1</th>\n",
       "      <th>BWDth</th>\n",
       "      <th>PkDur</th>\n",
       "    </tr>\n",
       "  </thead>\n",
       "  <tbody>\n",
       "    <tr>\n",
       "      <th>0</th>\n",
       "      <td>Anogeo</td>\n",
       "      <td>69.618386</td>\n",
       "      <td>16.501900</td>\n",
       "      <td>2.503670</td>\n",
       "      <td>109.488419</td>\n",
       "      <td>67.464018</td>\n",
       "      <td>81.747286</td>\n",
       "      <td>0.756463</td>\n",
       "      <td>-29.635308</td>\n",
       "      <td>42.024402</td>\n",
       "      <td>50.579266</td>\n",
       "    </tr>\n",
       "    <tr>\n",
       "      <th>1</th>\n",
       "      <td>Anogeo</td>\n",
       "      <td>68.805459</td>\n",
       "      <td>16.472087</td>\n",
       "      <td>2.547593</td>\n",
       "      <td>109.014483</td>\n",
       "      <td>64.619712</td>\n",
       "      <td>80.822997</td>\n",
       "      <td>0.893621</td>\n",
       "      <td>-37.794947</td>\n",
       "      <td>44.394771</td>\n",
       "      <td>47.608501</td>\n",
       "    </tr>\n",
       "    <tr>\n",
       "      <th>2</th>\n",
       "      <td>Anogeo</td>\n",
       "      <td>70.297715</td>\n",
       "      <td>18.477740</td>\n",
       "      <td>2.312634</td>\n",
       "      <td>109.447511</td>\n",
       "      <td>64.646231</td>\n",
       "      <td>83.699015</td>\n",
       "      <td>0.734879</td>\n",
       "      <td>-33.103609</td>\n",
       "      <td>44.801280</td>\n",
       "      <td>43.624168</td>\n",
       "    </tr>\n",
       "    <tr>\n",
       "      <th>3</th>\n",
       "      <td>Anogeo</td>\n",
       "      <td>71.891085</td>\n",
       "      <td>18.685895</td>\n",
       "      <td>2.233911</td>\n",
       "      <td>113.408873</td>\n",
       "      <td>69.805319</td>\n",
       "      <td>84.027946</td>\n",
       "      <td>1.069576</td>\n",
       "      <td>-41.348016</td>\n",
       "      <td>43.603553</td>\n",
       "      <td>49.564504</td>\n",
       "    </tr>\n",
       "    <tr>\n",
       "      <th>4</th>\n",
       "      <td>Anogeo</td>\n",
       "      <td>73.410948</td>\n",
       "      <td>23.020184</td>\n",
       "      <td>1.625190</td>\n",
       "      <td>107.204335</td>\n",
       "      <td>71.539526</td>\n",
       "      <td>82.883904</td>\n",
       "      <td>0.842277</td>\n",
       "      <td>-30.690332</td>\n",
       "      <td>35.664809</td>\n",
       "      <td>54.997229</td>\n",
       "    </tr>\n",
       "  </tbody>\n",
       "</table>\n",
       "</div>"
      ],
      "text/plain": [
       "      Spp         Fc         Sc       Dur        Fmax       Fmin         Fk  \\\n",
       "0  Anogeo  69.618386  16.501900  2.503670  109.488419  67.464018  81.747286   \n",
       "1  Anogeo  68.805459  16.472087  2.547593  109.014483  64.619712  80.822997   \n",
       "2  Anogeo  70.297715  18.477740  2.312634  109.447511  64.646231  83.699015   \n",
       "3  Anogeo  71.891085  18.685895  2.233911  113.408873  69.805319  84.027946   \n",
       "4  Anogeo  73.410948  23.020184  1.625190  107.204335  71.539526  82.883904   \n",
       "\n",
       "         Tk         S1      BWDth      PkDur  \n",
       "0  0.756463 -29.635308  42.024402  50.579266  \n",
       "1  0.893621 -37.794947  44.394771  47.608501  \n",
       "2  0.734879 -33.103609  44.801280  43.624168  \n",
       "3  1.069576 -41.348016  43.603553  49.564504  \n",
       "4  0.842277 -30.690332  35.664809  54.997229  "
      ]
     },
     "execution_count": 22,
     "metadata": {},
     "output_type": "execute_result"
    }
   ],
   "source": [
    "#Change column names to match rawdf \n",
    "\n",
    "rawdf2.columns = ['Spp', 'Fc', 'Sc', 'Dur', 'Fmax', 'Fmin', 'Fk', 'Tk', 'S1', 'BWDth', 'PkDur']\n",
    "\n",
    "rawdf2.head()"
   ]
  },
  {
   "cell_type": "code",
   "execution_count": 23,
   "metadata": {},
   "outputs": [
    {
     "data": {
      "text/html": [
       "<div>\n",
       "<style scoped>\n",
       "    .dataframe tbody tr th:only-of-type {\n",
       "        vertical-align: middle;\n",
       "    }\n",
       "\n",
       "    .dataframe tbody tr th {\n",
       "        vertical-align: top;\n",
       "    }\n",
       "\n",
       "    .dataframe thead th {\n",
       "        text-align: right;\n",
       "    }\n",
       "</style>\n",
       "<table border=\"1\" class=\"dataframe\">\n",
       "  <thead>\n",
       "    <tr style=\"text-align: right;\">\n",
       "      <th></th>\n",
       "      <th>AUTO ID*</th>\n",
       "      <th>PULSES</th>\n",
       "      <th>MATCH RATIO</th>\n",
       "      <th>MARGIN</th>\n",
       "      <th>Fc</th>\n",
       "      <th>Sc</th>\n",
       "      <th>Dur</th>\n",
       "      <th>Fmax</th>\n",
       "      <th>Fmin</th>\n",
       "      <th>Fk</th>\n",
       "      <th>Tk</th>\n",
       "      <th>Tc</th>\n",
       "      <th>S1</th>\n",
       "      <th>BWDth</th>\n",
       "      <th>PkDur</th>\n",
       "    </tr>\n",
       "  </thead>\n",
       "  <tbody>\n",
       "    <tr>\n",
       "      <th>0</th>\n",
       "      <td>ANTPAL</td>\n",
       "      <td>84.0</td>\n",
       "      <td>0.405</td>\n",
       "      <td>0.115610</td>\n",
       "      <td>34.398</td>\n",
       "      <td>100.16</td>\n",
       "      <td>4.531</td>\n",
       "      <td>61.385</td>\n",
       "      <td>33.315</td>\n",
       "      <td>36.758</td>\n",
       "      <td>3.281</td>\n",
       "      <td>4.244</td>\n",
       "      <td>449.37</td>\n",
       "      <td>28.070</td>\n",
       "      <td>21.253586</td>\n",
       "    </tr>\n",
       "    <tr>\n",
       "      <th>1</th>\n",
       "      <td>ANTPAL</td>\n",
       "      <td>47.0</td>\n",
       "      <td>0.404</td>\n",
       "      <td>0.134245</td>\n",
       "      <td>31.921</td>\n",
       "      <td>60.16</td>\n",
       "      <td>4.705</td>\n",
       "      <td>50.442</td>\n",
       "      <td>31.128</td>\n",
       "      <td>33.465</td>\n",
       "      <td>3.509</td>\n",
       "      <td>4.386</td>\n",
       "      <td>385.39</td>\n",
       "      <td>19.314</td>\n",
       "      <td>18.639745</td>\n",
       "    </tr>\n",
       "    <tr>\n",
       "      <th>2</th>\n",
       "      <td>ANTPAL</td>\n",
       "      <td>39.0</td>\n",
       "      <td>0.436</td>\n",
       "      <td>0.125273</td>\n",
       "      <td>37.542</td>\n",
       "      <td>85.40</td>\n",
       "      <td>5.815</td>\n",
       "      <td>59.703</td>\n",
       "      <td>35.288</td>\n",
       "      <td>40.107</td>\n",
       "      <td>3.772</td>\n",
       "      <td>5.028</td>\n",
       "      <td>242.96</td>\n",
       "      <td>24.415</td>\n",
       "      <td>21.599312</td>\n",
       "    </tr>\n",
       "    <tr>\n",
       "      <th>3</th>\n",
       "      <td>CORTOW</td>\n",
       "      <td>8.0</td>\n",
       "      <td>1.000</td>\n",
       "      <td>0.819184</td>\n",
       "      <td>32.611</td>\n",
       "      <td>129.86</td>\n",
       "      <td>2.517</td>\n",
       "      <td>39.068</td>\n",
       "      <td>27.399</td>\n",
       "      <td>36.423</td>\n",
       "      <td>0.491</td>\n",
       "      <td>1.406</td>\n",
       "      <td>243.54</td>\n",
       "      <td>11.669</td>\n",
       "      <td>36.352801</td>\n",
       "    </tr>\n",
       "    <tr>\n",
       "      <th>4</th>\n",
       "      <td>EPTFUS</td>\n",
       "      <td>42.0</td>\n",
       "      <td>0.667</td>\n",
       "      <td>0.332389</td>\n",
       "      <td>29.837</td>\n",
       "      <td>38.90</td>\n",
       "      <td>6.799</td>\n",
       "      <td>47.328</td>\n",
       "      <td>28.696</td>\n",
       "      <td>31.290</td>\n",
       "      <td>4.427</td>\n",
       "      <td>6.073</td>\n",
       "      <td>301.72</td>\n",
       "      <td>18.632</td>\n",
       "      <td>24.209443</td>\n",
       "    </tr>\n",
       "  </tbody>\n",
       "</table>\n",
       "</div>"
      ],
      "text/plain": [
       "  AUTO ID*  PULSES  MATCH RATIO    MARGIN      Fc      Sc    Dur    Fmax  \\\n",
       "0   ANTPAL    84.0        0.405  0.115610  34.398  100.16  4.531  61.385   \n",
       "1   ANTPAL    47.0        0.404  0.134245  31.921   60.16  4.705  50.442   \n",
       "2   ANTPAL    39.0        0.436  0.125273  37.542   85.40  5.815  59.703   \n",
       "3   CORTOW     8.0        1.000  0.819184  32.611  129.86  2.517  39.068   \n",
       "4   EPTFUS    42.0        0.667  0.332389  29.837   38.90  6.799  47.328   \n",
       "\n",
       "     Fmin      Fk     Tk     Tc      S1   BWDth      PkDur  \n",
       "0  33.315  36.758  3.281  4.244  449.37  28.070  21.253586  \n",
       "1  31.128  33.465  3.509  4.386  385.39  19.314  18.639745  \n",
       "2  35.288  40.107  3.772  5.028  242.96  24.415  21.599312  \n",
       "3  27.399  36.423  0.491  1.406  243.54  11.669  36.352801  \n",
       "4  28.696  31.290  4.427  6.073  301.72  18.632  24.209443  "
      ]
     },
     "execution_count": 23,
     "metadata": {},
     "output_type": "execute_result"
    }
   ],
   "source": [
    "#Comparing the columns of the two dataframes.  rawdf has AUTO ID* which will be changed to Spp.  PULSES, MATCH RATIO, MARGIN, and Tc will be removed later.\n",
    "\n",
    "rawdf.head()"
   ]
  },
  {
   "cell_type": "code",
   "execution_count": 24,
   "metadata": {
    "scrolled": true
   },
   "outputs": [
    {
     "data": {
      "text/plain": [
       "Myovel    100\n",
       "Myocal    100\n",
       "Lasxan    100\n",
       "Sacbil    100\n",
       "Lepyer    100\n",
       "Ptedav    100\n",
       "Idiphy    100\n",
       "Antpal    100\n",
       "Permac    100\n",
       "Myokea    100\n",
       "Myovol    100\n",
       "Nychum    100\n",
       "Rhynas    100\n",
       "Nycfem    100\n",
       "Piphes    100\n",
       "Artjam    100\n",
       "Lasblo    100\n",
       "Pipsub    100\n",
       "Rhoaen    100\n",
       "Cormex    100\n",
       "Eptfus    100\n",
       "Mormeg    100\n",
       "Myoyum    100\n",
       "Tadbra    100\n",
       "Myothy    100\n",
       "Eptfur    100\n",
       "Lascin    100\n",
       "Ptepar    100\n",
       "Lasnoc    100\n",
       "Myoaur    100\n",
       "Pteper    100\n",
       "Balpli    100\n",
       "Cortow    100\n",
       "Saclep    100\n",
       "Natstr     97\n",
       "Stulud     95\n",
       "Desrot     94\n",
       "Molmol     91\n",
       "Noclep     81\n",
       "Tracir     74\n",
       "Myomel     73\n",
       "Maccal     69\n",
       "Eptbra     64\n",
       "Nyclat     57\n",
       "Artlit     55\n",
       "Stulil     51\n",
       "Anogeo     48\n",
       "Lasbor     47\n",
       "Ptegym     47\n",
       "Molruf     36\n",
       "Molsin     33\n",
       "Thytri     31\n",
       "Rhopar     27\n",
       "Nycmac     22\n",
       "Balio      22\n",
       "Carper     22\n",
       "Procen     18\n",
       "Eumund     16\n",
       "Lasega     15\n",
       "Name: Spp, dtype: int64"
      ]
     },
     "execution_count": 24,
     "metadata": {},
     "output_type": "execute_result"
    }
   ],
   "source": [
    "rawdf2['Spp'].value_counts()"
   ]
  },
  {
   "cell_type": "code",
   "execution_count": 25,
   "metadata": {},
   "outputs": [],
   "source": [
    "#List of species to retain in Mexican bat call library\n",
    "\n",
    "common_species = ['Maccal', 'Lepyer', 'Antpal', 'Cortow', 'Eptfus', 'Eumund', 'Lasnoc', 'Lasblo', 'Lasxan', 'Myocal', 'Myothy', 'Myovel', 'Myovol', 'Myoyum', 'Nycfem', 'Tadbra', 'Piphes']"
   ]
  },
  {
   "cell_type": "code",
   "execution_count": 26,
   "metadata": {},
   "outputs": [],
   "source": [
    "rdf2 = rawdf2.loc[rawdf2['Spp'].isin(common_species),:]"
   ]
  },
  {
   "cell_type": "code",
   "execution_count": 27,
   "metadata": {},
   "outputs": [
    {
     "data": {
      "text/plain": [
       "(1585, 11)"
      ]
     },
     "execution_count": 27,
     "metadata": {},
     "output_type": "execute_result"
    }
   ],
   "source": [
    "rdf2.shape"
   ]
  },
  {
   "cell_type": "code",
   "execution_count": 28,
   "metadata": {},
   "outputs": [
    {
     "data": {
      "text/plain": [
       "Myovel    100\n",
       "Myovol    100\n",
       "Lasxan    100\n",
       "Eptfus    100\n",
       "Lepyer    100\n",
       "Lasblo    100\n",
       "Myocal    100\n",
       "Piphes    100\n",
       "Cortow    100\n",
       "Myoyum    100\n",
       "Lasnoc    100\n",
       "Nycfem    100\n",
       "Myothy    100\n",
       "Tadbra    100\n",
       "Antpal    100\n",
       "Maccal     69\n",
       "Eumund     16\n",
       "Name: Spp, dtype: int64"
      ]
     },
     "execution_count": 28,
     "metadata": {},
     "output_type": "execute_result"
    }
   ],
   "source": [
    "rdf2['Spp'].value_counts()"
   ]
  },
  {
   "cell_type": "code",
   "execution_count": 29,
   "metadata": {},
   "outputs": [
    {
     "data": {
      "text/html": [
       "<div>\n",
       "<style scoped>\n",
       "    .dataframe tbody tr th:only-of-type {\n",
       "        vertical-align: middle;\n",
       "    }\n",
       "\n",
       "    .dataframe tbody tr th {\n",
       "        vertical-align: top;\n",
       "    }\n",
       "\n",
       "    .dataframe thead th {\n",
       "        text-align: right;\n",
       "    }\n",
       "</style>\n",
       "<table border=\"1\" class=\"dataframe\">\n",
       "  <thead>\n",
       "    <tr style=\"text-align: right;\">\n",
       "      <th></th>\n",
       "      <th>Spp</th>\n",
       "      <th>Fc</th>\n",
       "      <th>Sc</th>\n",
       "      <th>Dur</th>\n",
       "      <th>Fmax</th>\n",
       "      <th>Fmin</th>\n",
       "      <th>Fk</th>\n",
       "      <th>Tk</th>\n",
       "      <th>S1</th>\n",
       "      <th>BWDth</th>\n",
       "      <th>PkDur</th>\n",
       "    </tr>\n",
       "  </thead>\n",
       "  <tbody>\n",
       "    <tr>\n",
       "      <th>48</th>\n",
       "      <td>Antpal</td>\n",
       "      <td>29.682143</td>\n",
       "      <td>2.901752</td>\n",
       "      <td>6.677325</td>\n",
       "      <td>51.913985</td>\n",
       "      <td>29.563483</td>\n",
       "      <td>35.484384</td>\n",
       "      <td>1.896671</td>\n",
       "      <td>-13.261031</td>\n",
       "      <td>22.350502</td>\n",
       "      <td>42.456971</td>\n",
       "    </tr>\n",
       "    <tr>\n",
       "      <th>49</th>\n",
       "      <td>Antpal</td>\n",
       "      <td>29.740707</td>\n",
       "      <td>4.233691</td>\n",
       "      <td>6.547622</td>\n",
       "      <td>62.085939</td>\n",
       "      <td>29.156824</td>\n",
       "      <td>37.478233</td>\n",
       "      <td>1.774427</td>\n",
       "      <td>-17.648151</td>\n",
       "      <td>32.929115</td>\n",
       "      <td>40.052484</td>\n",
       "    </tr>\n",
       "    <tr>\n",
       "      <th>50</th>\n",
       "      <td>Antpal</td>\n",
       "      <td>24.481353</td>\n",
       "      <td>2.501930</td>\n",
       "      <td>9.922187</td>\n",
       "      <td>49.176052</td>\n",
       "      <td>22.264376</td>\n",
       "      <td>31.074040</td>\n",
       "      <td>2.225043</td>\n",
       "      <td>-9.326721</td>\n",
       "      <td>26.911676</td>\n",
       "      <td>37.163160</td>\n",
       "    </tr>\n",
       "    <tr>\n",
       "      <th>51</th>\n",
       "      <td>Antpal</td>\n",
       "      <td>21.985593</td>\n",
       "      <td>2.041676</td>\n",
       "      <td>10.615288</td>\n",
       "      <td>47.155265</td>\n",
       "      <td>21.494085</td>\n",
       "      <td>29.988552</td>\n",
       "      <td>4.029702</td>\n",
       "      <td>-6.554913</td>\n",
       "      <td>25.661180</td>\n",
       "      <td>38.898737</td>\n",
       "    </tr>\n",
       "    <tr>\n",
       "      <th>52</th>\n",
       "      <td>Antpal</td>\n",
       "      <td>31.996077</td>\n",
       "      <td>3.709009</td>\n",
       "      <td>8.246364</td>\n",
       "      <td>61.109044</td>\n",
       "      <td>29.875009</td>\n",
       "      <td>40.815202</td>\n",
       "      <td>3.439792</td>\n",
       "      <td>-12.409399</td>\n",
       "      <td>31.234035</td>\n",
       "      <td>36.234372</td>\n",
       "    </tr>\n",
       "  </tbody>\n",
       "</table>\n",
       "</div>"
      ],
      "text/plain": [
       "       Spp         Fc        Sc        Dur       Fmax       Fmin         Fk  \\\n",
       "48  Antpal  29.682143  2.901752   6.677325  51.913985  29.563483  35.484384   \n",
       "49  Antpal  29.740707  4.233691   6.547622  62.085939  29.156824  37.478233   \n",
       "50  Antpal  24.481353  2.501930   9.922187  49.176052  22.264376  31.074040   \n",
       "51  Antpal  21.985593  2.041676  10.615288  47.155265  21.494085  29.988552   \n",
       "52  Antpal  31.996077  3.709009   8.246364  61.109044  29.875009  40.815202   \n",
       "\n",
       "          Tk         S1      BWDth      PkDur  \n",
       "48  1.896671 -13.261031  22.350502  42.456971  \n",
       "49  1.774427 -17.648151  32.929115  40.052484  \n",
       "50  2.225043  -9.326721  26.911676  37.163160  \n",
       "51  4.029702  -6.554913  25.661180  38.898737  \n",
       "52  3.439792 -12.409399  31.234035  36.234372  "
      ]
     },
     "execution_count": 29,
     "metadata": {},
     "output_type": "execute_result"
    }
   ],
   "source": [
    "rdf2.head()"
   ]
  },
  {
   "cell_type": "code",
   "execution_count": 30,
   "metadata": {},
   "outputs": [
    {
     "name": "stdout",
     "output_type": "stream",
     "text": [
      "A file already exists with this name.\n",
      "\n",
      "Do you want to overwrite? (Y/N)Y\n",
      "Writing file.  \"C:/Users/matta/OneDrive/Documents/Springboard/Bat_Echolocation_Capstone/Clean_data\\mexico_library.csv\"\n"
     ]
    }
   ],
   "source": [
    "# save the data to a new csv file\n",
    "#from library.sb_utils import save_file\n",
    "#C:\\Users\\matta\\OneDrive\\Documents\\Springboard\\Bat_Echolocation_Capstone\\Clean_data\n",
    "#datapath = 'C:/Users/matta/OneDrive/Documents/Springboard/Bat_Echolocation_Capstone/Clean_data'\n",
    "#haberkorn_library = rawdf.to_csv('haberkorn_library.csv')\n",
    "save_file(rdf2, 'mexico_library.csv', datapath)"
   ]
  },
  {
   "cell_type": "markdown",
   "metadata": {},
   "source": [
    "# Ground truthed vs. Computer ID library"
   ]
  },
  {
   "cell_type": "markdown",
   "metadata": {},
   "source": [
    "This library contains computer id and ground truthed id ('AUTO ID*) for every file processed.  Noise files have been removed.  NoID files were retained but could be removed (This would likely improve accuracy of the computer id).  Typically, NoID files contain noise + bat sound, noise that is similar to a bat, or multiple species of bats that interfeir with each other, so it may be worth removing.  Accuracy of the computer id was determined to be 68.2%."
   ]
  },
  {
   "cell_type": "code",
   "execution_count": 31,
   "metadata": {},
   "outputs": [],
   "source": [
    "#Ground truthed call library\n",
    "rawtruthed = pd.read_csv('id-truthed.csv')"
   ]
  },
  {
   "cell_type": "code",
   "execution_count": 32,
   "metadata": {},
   "outputs": [
    {
     "data": {
      "text/plain": [
       "Index(['INDIR', 'OUTDIR', 'FOLDER', 'IN FILE', 'CHANNEL', 'OFFSET', 'DURATION',\n",
       "       'OUT FILE FS', 'OUT FILE ZC', 'DATE', 'TIME', 'HOUR', 'DATE-12',\n",
       "       'TIME-12', 'HOUR-12', 'AUTO ID*', 'PULSES', 'MATCHING', 'MATCH RATIO',\n",
       "       'MARGIN', 'ALTERNATE 1', 'ALTERNATE 2', 'N', 'Fc', 'Sc', 'Dur', 'Fmax',\n",
       "       'Fmin', 'Fmean', 'TBC', 'Fk', 'Tk', 'S1', 'Tc', 'Qual', 'FILES',\n",
       "       'MANUAL ID', 'ORGID', 'USERID', 'REVIEW ORGID', 'REVIEW USERID',\n",
       "       'INPATHMD5', 'OUTPATHMD5FS', 'OUTPATHMD5ZC'],\n",
       "      dtype='object')"
      ]
     },
     "execution_count": 32,
     "metadata": {},
     "output_type": "execute_result"
    }
   ],
   "source": [
    "#view columns for dataframe\n",
    "rawtruthed.columns"
   ]
  },
  {
   "cell_type": "code",
   "execution_count": 33,
   "metadata": {},
   "outputs": [
    {
     "data": {
      "text/plain": [
       "(14730, 44)"
      ]
     },
     "execution_count": 33,
     "metadata": {},
     "output_type": "execute_result"
    }
   ],
   "source": [
    "#Shape of dataframe\n",
    "rawtruthed.shape"
   ]
  },
  {
   "cell_type": "code",
   "execution_count": 34,
   "metadata": {},
   "outputs": [
    {
     "name": "stdout",
     "output_type": "stream",
     "text": [
      "                      IN FILE AUTO ID*  PULSES  MATCH RATIO    MARGIN      Fc  \\\n",
      "0    NoID_20200716_212136.wav   ANTPAL    97.0        0.258  0.088132  32.032   \n",
      "1  ANTPAL_20190607_204646.wav   ANTPAL    16.0        0.875  0.498225  28.955   \n",
      "2  ANTPAL_20200716_211653.wav   ANTPAL    14.0        0.714  0.512325  29.955   \n",
      "3  ANTPAL_20190626_205037.wav   ANTPAL     9.0        0.444  0.224854  32.315   \n",
      "4  EPTFUS_20200301_191434.wav   EPTFUS   161.0        0.398  0.114901  35.502   \n",
      "\n",
      "      Sc    Dur    Fmax    Fmin      Fk     Tk     Tc      S1  \n",
      "0  84.83  3.601  43.750  31.157  35.004  2.090  3.370  326.50  \n",
      "1  61.99  6.088  48.466  27.932  30.731  4.213  5.505  208.94  \n",
      "2  68.58  2.948  39.362  29.800  31.430  1.990  2.898  297.09  \n",
      "3  92.00  4.292  54.628  31.916  35.201  2.918  4.116  547.76  \n",
      "4  31.02  6.288  46.429  34.205  37.141  3.196  5.315  332.20  \n"
     ]
    }
   ],
   "source": [
    "#Make dataframe with appropriate columns\n",
    "rawtruthed1 = rawtruthed[['IN FILE', 'AUTO ID*', 'PULSES', 'MATCH RATIO', 'MARGIN', 'Fc', 'Sc', 'Dur', 'Fmax', 'Fmin', 'Fk', 'Tk', 'Tc', 'S1']]\n",
    "print(rawtruthed1.head())"
   ]
  },
  {
   "cell_type": "code",
   "execution_count": 35,
   "metadata": {},
   "outputs": [
    {
     "name": "stderr",
     "output_type": "stream",
     "text": [
      "<ipython-input-35-3eacb2414fa7>:2: SettingWithCopyWarning: \n",
      "A value is trying to be set on a copy of a slice from a DataFrame.\n",
      "Try using .loc[row_indexer,col_indexer] = value instead\n",
      "\n",
      "See the caveats in the documentation: https://pandas.pydata.org/pandas-docs/stable/user_guide/indexing.html#returning-a-view-versus-a-copy\n",
      "  rawtruthed1['BWDth'] = rawtruthed1['Fmax'] - rawtruthed1['Fmin']\n",
      "<ipython-input-35-3eacb2414fa7>:5: SettingWithCopyWarning: \n",
      "A value is trying to be set on a copy of a slice from a DataFrame.\n",
      "Try using .loc[row_indexer,col_indexer] = value instead\n",
      "\n",
      "See the caveats in the documentation: https://pandas.pydata.org/pandas-docs/stable/user_guide/indexing.html#returning-a-view-versus-a-copy\n",
      "  rawtruthed1['PkDur'] = ((rawtruthed1['Tc'] - rawtruthed1['Tk']) / rawtruthed1['Dur']) * 100\n"
     ]
    }
   ],
   "source": [
    "#Add column for bandwidth of call.  Bandwidth is the difference between the maximum and minimum frequency of the call.\n",
    "rawtruthed1['BWDth'] = rawtruthed1['Fmax'] - rawtruthed1['Fmin']\n",
    "\n",
    "#Add column for percent of call that contains the main body of the call.\n",
    "rawtruthed1['PkDur'] = ((rawtruthed1['Tc'] - rawtruthed1['Tk']) / rawtruthed1['Dur']) * 100"
   ]
  },
  {
   "cell_type": "code",
   "execution_count": 36,
   "metadata": {},
   "outputs": [
    {
     "name": "stdout",
     "output_type": "stream",
     "text": [
      "                      IN FILE AUTO ID*  PULSES  MATCH RATIO    MARGIN      Fc  \\\n",
      "0    NoID_20200716_212136.wav   ANTPAL    97.0        0.258  0.088132  32.032   \n",
      "1  ANTPAL_20190607_204646.wav   ANTPAL    16.0        0.875  0.498225  28.955   \n",
      "2  ANTPAL_20200716_211653.wav   ANTPAL    14.0        0.714  0.512325  29.955   \n",
      "3  ANTPAL_20190626_205037.wav   ANTPAL     9.0        0.444  0.224854  32.315   \n",
      "4  EPTFUS_20200301_191434.wav   EPTFUS   161.0        0.398  0.114901  35.502   \n",
      "\n",
      "      Sc    Dur    Fmax    Fmin      Fk     Tk     Tc      S1   BWDth  \\\n",
      "0  84.83  3.601  43.750  31.157  35.004  2.090  3.370  326.50  12.593   \n",
      "1  61.99  6.088  48.466  27.932  30.731  4.213  5.505  208.94  20.534   \n",
      "2  68.58  2.948  39.362  29.800  31.430  1.990  2.898  297.09   9.562   \n",
      "3  92.00  4.292  54.628  31.916  35.201  2.918  4.116  547.76  22.712   \n",
      "4  31.02  6.288  46.429  34.205  37.141  3.196  5.315  332.20  12.224   \n",
      "\n",
      "       PkDur  \n",
      "0  35.545682  \n",
      "1  21.222076  \n",
      "2  30.800543  \n",
      "3  27.912395  \n",
      "4  33.699109  \n"
     ]
    }
   ],
   "source": [
    "print(rawtruthed1.head())"
   ]
  },
  {
   "cell_type": "code",
   "execution_count": 37,
   "metadata": {},
   "outputs": [
    {
     "data": {
      "text/plain": [
       "Noise     8860\n",
       "TADBRA    1900\n",
       "NoID      1621\n",
       "MYOYUM     742\n",
       "PARHES     544\n",
       "LASCIN     288\n",
       "LASNOC     264\n",
       "LASXAN     130\n",
       "EPTFUS     122\n",
       "MYOCAL      82\n",
       "LASBLO      63\n",
       "EUMUND      35\n",
       "EUMPER      25\n",
       "NYCFEM      12\n",
       "MYOVOL       9\n",
       "MYOTHY       7\n",
       "MYOOCC       6\n",
       "NYCMAC       6\n",
       "MYOCIL       5\n",
       "ANTPAL       4\n",
       "MYOVEL       3\n",
       "MYOEVO       2\n",
       "Name: AUTO ID*, dtype: int64"
      ]
     },
     "execution_count": 37,
     "metadata": {},
     "output_type": "execute_result"
    }
   ],
   "source": [
    "rawtruthed1['AUTO ID*'].value_counts()"
   ]
  },
  {
   "cell_type": "code",
   "execution_count": 38,
   "metadata": {},
   "outputs": [
    {
     "name": "stderr",
     "output_type": "stream",
     "text": [
      "C:\\Users\\matta\\anaconda3\\lib\\site-packages\\pandas\\core\\frame.py:3990: SettingWithCopyWarning: \n",
      "A value is trying to be set on a copy of a slice from a DataFrame\n",
      "\n",
      "See the caveats in the documentation: https://pandas.pydata.org/pandas-docs/stable/user_guide/indexing.html#returning-a-view-versus-a-copy\n",
      "  return super().drop(\n"
     ]
    }
   ],
   "source": [
    "#Drop noise files from dataframe\n",
    "noise_index2 = rawtruthed1[rawtruthed1['AUTO ID*'] == 'Noise'].index\n",
    "rawtruthed1.drop(noise_index2, inplace = True)"
   ]
  },
  {
   "cell_type": "code",
   "execution_count": 39,
   "metadata": {},
   "outputs": [
    {
     "data": {
      "text/plain": [
       "TADBRA    1900\n",
       "NoID      1621\n",
       "MYOYUM     742\n",
       "PARHES     544\n",
       "LASCIN     288\n",
       "LASNOC     264\n",
       "LASXAN     130\n",
       "EPTFUS     122\n",
       "MYOCAL      82\n",
       "LASBLO      63\n",
       "EUMUND      35\n",
       "EUMPER      25\n",
       "NYCFEM      12\n",
       "MYOVOL       9\n",
       "MYOTHY       7\n",
       "MYOOCC       6\n",
       "NYCMAC       6\n",
       "MYOCIL       5\n",
       "ANTPAL       4\n",
       "MYOVEL       3\n",
       "MYOEVO       2\n",
       "Name: AUTO ID*, dtype: int64"
      ]
     },
     "execution_count": 39,
     "metadata": {},
     "output_type": "execute_result"
    }
   ],
   "source": [
    "rawtruthed1['AUTO ID*'].value_counts()"
   ]
  },
  {
   "cell_type": "code",
   "execution_count": 40,
   "metadata": {},
   "outputs": [
    {
     "name": "stderr",
     "output_type": "stream",
     "text": [
      "<ipython-input-40-90dde91e8ddf>:1: SettingWithCopyWarning: \n",
      "A value is trying to be set on a copy of a slice from a DataFrame.\n",
      "Try using .loc[row_indexer,col_indexer] = value instead\n",
      "\n",
      "See the caveats in the documentation: https://pandas.pydata.org/pandas-docs/stable/user_guide/indexing.html#returning-a-view-versus-a-copy\n",
      "  rawtruthed1['COMP ID'] = rawtruthed1['IN FILE'].astype(str).str[0:6]\n"
     ]
    }
   ],
   "source": [
    "rawtruthed1['COMP ID'] = rawtruthed1['IN FILE'].astype(str).str[0:6]"
   ]
  },
  {
   "cell_type": "code",
   "execution_count": 41,
   "metadata": {},
   "outputs": [
    {
     "name": "stdout",
     "output_type": "stream",
     "text": [
      "                      IN FILE AUTO ID*  PULSES  MATCH RATIO    MARGIN      Fc  \\\n",
      "0    NoID_20200716_212136.wav   ANTPAL    97.0        0.258  0.088132  32.032   \n",
      "1  ANTPAL_20190607_204646.wav   ANTPAL    16.0        0.875  0.498225  28.955   \n",
      "2  ANTPAL_20200716_211653.wav   ANTPAL    14.0        0.714  0.512325  29.955   \n",
      "3  ANTPAL_20190626_205037.wav   ANTPAL     9.0        0.444  0.224854  32.315   \n",
      "4  EPTFUS_20200301_191434.wav   EPTFUS   161.0        0.398  0.114901  35.502   \n",
      "\n",
      "      Sc    Dur    Fmax    Fmin      Fk     Tk     Tc      S1   BWDth  \\\n",
      "0  84.83  3.601  43.750  31.157  35.004  2.090  3.370  326.50  12.593   \n",
      "1  61.99  6.088  48.466  27.932  30.731  4.213  5.505  208.94  20.534   \n",
      "2  68.58  2.948  39.362  29.800  31.430  1.990  2.898  297.09   9.562   \n",
      "3  92.00  4.292  54.628  31.916  35.201  2.918  4.116  547.76  22.712   \n",
      "4  31.02  6.288  46.429  34.205  37.141  3.196  5.315  332.20  12.224   \n",
      "\n",
      "       PkDur COMP ID  \n",
      "0  35.545682  NoID_2  \n",
      "1  21.222076  ANTPAL  \n",
      "2  30.800543  ANTPAL  \n",
      "3  27.912395  ANTPAL  \n",
      "4  33.699109  EPTFUS  \n"
     ]
    }
   ],
   "source": [
    "print(rawtruthed1.head())"
   ]
  },
  {
   "cell_type": "code",
   "execution_count": 42,
   "metadata": {},
   "outputs": [
    {
     "data": {
      "text/plain": [
       "NoID_2    1617\n",
       "TADBRA    1563\n",
       "MYOYUM     855\n",
       "PARHES     524\n",
       "LASNOC     392\n",
       "LASCIN     372\n",
       "EPTFUS     131\n",
       "LASXAN     126\n",
       "MYOCAL      87\n",
       "LASBLO      73\n",
       "EUMUND      43\n",
       "EUMPER      16\n",
       "MYOCIL      12\n",
       "MYOOCC      10\n",
       "NYCMAC       7\n",
       "MYOVOL       6\n",
       "202002       5\n",
       "MYOTHY       5\n",
       "NYCFEM       5\n",
       "202003       4\n",
       "ANTPAL       3\n",
       "202004       3\n",
       "201912       2\n",
       "202005       2\n",
       "202001       2\n",
       "202011       1\n",
       "MYOEVO       1\n",
       "201910       1\n",
       "201909       1\n",
       "MYOVEL       1\n",
       "Name: COMP ID, dtype: int64"
      ]
     },
     "execution_count": 42,
     "metadata": {},
     "output_type": "execute_result"
    }
   ],
   "source": [
    "rawtruthed1['COMP ID'].value_counts()"
   ]
  },
  {
   "cell_type": "code",
   "execution_count": 43,
   "metadata": {},
   "outputs": [],
   "source": [
    "#List of species rows to keep\n",
    "keep_species = ['NoID_2', 'TADBRA', 'MYOYUM', 'PARHES', 'LASNOC', 'LASCIN', 'EPTFUS', 'LASXAN', 'MYOCAL', 'LASBLO', 'EUMUND', 'EUMPER', 'MYOCIL', 'MYOOCC', 'NYCMAC', 'MYOVOL', 'MYOTHY', 'NYCFEM', 'ANTPAL', 'MYOEVO', 'MYOVEL']"
   ]
  },
  {
   "cell_type": "code",
   "execution_count": 44,
   "metadata": {},
   "outputs": [],
   "source": [
    "rawtruthed2 = rawtruthed1.loc[rawtruthed1['COMP ID'].isin(keep_species),:]"
   ]
  },
  {
   "cell_type": "code",
   "execution_count": 45,
   "metadata": {},
   "outputs": [
    {
     "data": {
      "text/plain": [
       "NoID_2    1617\n",
       "TADBRA    1563\n",
       "MYOYUM     855\n",
       "PARHES     524\n",
       "LASNOC     392\n",
       "LASCIN     372\n",
       "EPTFUS     131\n",
       "LASXAN     126\n",
       "MYOCAL      87\n",
       "LASBLO      73\n",
       "EUMUND      43\n",
       "EUMPER      16\n",
       "MYOCIL      12\n",
       "MYOOCC      10\n",
       "NYCMAC       7\n",
       "MYOVOL       6\n",
       "NYCFEM       5\n",
       "MYOTHY       5\n",
       "ANTPAL       3\n",
       "MYOEVO       1\n",
       "MYOVEL       1\n",
       "Name: COMP ID, dtype: int64"
      ]
     },
     "execution_count": 45,
     "metadata": {},
     "output_type": "execute_result"
    }
   ],
   "source": [
    "rawtruthed2['COMP ID'].value_counts()"
   ]
  },
  {
   "cell_type": "code",
   "execution_count": 46,
   "metadata": {},
   "outputs": [
    {
     "name": "stderr",
     "output_type": "stream",
     "text": [
      "<ipython-input-46-40bb4392d1b3>:1: SettingWithCopyWarning: \n",
      "A value is trying to be set on a copy of a slice from a DataFrame.\n",
      "Try using .loc[row_indexer,col_indexer] = value instead\n",
      "\n",
      "See the caveats in the documentation: https://pandas.pydata.org/pandas-docs/stable/user_guide/indexing.html#returning-a-view-versus-a-copy\n",
      "  rawtruthed2['COMP ID'] = rawtruthed2['COMP ID'].replace({'NoID_2' : 'NoID'})\n"
     ]
    }
   ],
   "source": [
    "rawtruthed2['COMP ID'] = rawtruthed2['COMP ID'].replace({'NoID_2' : 'NoID'})"
   ]
  },
  {
   "cell_type": "code",
   "execution_count": 47,
   "metadata": {},
   "outputs": [
    {
     "data": {
      "text/plain": [
       "NoID      1617\n",
       "TADBRA    1563\n",
       "MYOYUM     855\n",
       "PARHES     524\n",
       "LASNOC     392\n",
       "LASCIN     372\n",
       "EPTFUS     131\n",
       "LASXAN     126\n",
       "MYOCAL      87\n",
       "LASBLO      73\n",
       "EUMUND      43\n",
       "EUMPER      16\n",
       "MYOCIL      12\n",
       "MYOOCC      10\n",
       "NYCMAC       7\n",
       "MYOVOL       6\n",
       "NYCFEM       5\n",
       "MYOTHY       5\n",
       "ANTPAL       3\n",
       "MYOEVO       1\n",
       "MYOVEL       1\n",
       "Name: COMP ID, dtype: int64"
      ]
     },
     "execution_count": 47,
     "metadata": {},
     "output_type": "execute_result"
    }
   ],
   "source": [
    "rawtruthed2['COMP ID'].value_counts()"
   ]
  },
  {
   "cell_type": "code",
   "execution_count": 48,
   "metadata": {},
   "outputs": [
    {
     "name": "stderr",
     "output_type": "stream",
     "text": [
      "<ipython-input-48-17defc17cf5a>:4: SettingWithCopyWarning: \n",
      "A value is trying to be set on a copy of a slice from a DataFrame.\n",
      "Try using .loc[row_indexer,col_indexer] = value instead\n",
      "\n",
      "See the caveats in the documentation: https://pandas.pydata.org/pandas-docs/stable/user_guide/indexing.html#returning-a-view-versus-a-copy\n",
      "  rawtruthed2['Result'] = np.where(rawtruthed2['AUTO ID*'] == rawtruthed2['COMP ID'],\n"
     ]
    }
   ],
   "source": [
    "#Determining matching of 'COMP ID' to 'AUTO ID*' in rawtruthed2 dataframe.\n",
    "import numpy as np\n",
    "\n",
    "rawtruthed2['Result'] = np.where(rawtruthed2['AUTO ID*'] == rawtruthed2['COMP ID'],\n",
    "                        'True', 'False')"
   ]
  },
  {
   "cell_type": "code",
   "execution_count": 49,
   "metadata": {},
   "outputs": [
    {
     "data": {
      "text/plain": [
       "Index(['IN FILE', 'AUTO ID*', 'PULSES', 'MATCH RATIO', 'MARGIN', 'Fc', 'Sc',\n",
       "       'Dur', 'Fmax', 'Fmin', 'Fk', 'Tk', 'Tc', 'S1', 'BWDth', 'PkDur',\n",
       "       'COMP ID', 'Result'],\n",
       "      dtype='object')"
      ]
     },
     "execution_count": 49,
     "metadata": {},
     "output_type": "execute_result"
    }
   ],
   "source": [
    "rawtruthed2.columns"
   ]
  },
  {
   "cell_type": "code",
   "execution_count": 50,
   "metadata": {},
   "outputs": [
    {
     "data": {
      "text/plain": [
       "True     3990\n",
       "False    1859\n",
       "Name: Result, dtype: int64"
      ]
     },
     "execution_count": 50,
     "metadata": {},
     "output_type": "execute_result"
    }
   ],
   "source": [
    "rawtruthed2['Result'].value_counts()"
   ]
  },
  {
   "cell_type": "code",
   "execution_count": 51,
   "metadata": {},
   "outputs": [
    {
     "data": {
      "text/plain": [
       "68.21678919473413"
      ]
     },
     "execution_count": 51,
     "metadata": {},
     "output_type": "execute_result"
    }
   ],
   "source": [
    "#Determining percent accuracy of computer id ('COMP ID')\n",
    "\n",
    "sum(rawtruthed2['Result'] == 'True') / len(rawtruthed2) * 100"
   ]
  },
  {
   "cell_type": "code",
   "execution_count": 52,
   "metadata": {},
   "outputs": [
    {
     "name": "stdout",
     "output_type": "stream",
     "text": [
      "0.0\n",
      "4234\n",
      "73.85451110061408\n",
      "0.1\n",
      "4217\n",
      "74.00995968698126\n",
      "0.2\n",
      "4083\n",
      "74.96938525593926\n",
      "0.3\n",
      "3639\n",
      "77.13657598241275\n",
      "0.4\n",
      "2934\n",
      "80.33401499659169\n",
      "0.5\n",
      "2170\n",
      "84.47004608294931\n",
      "0.6\n",
      "1582\n",
      "87.61061946902655\n",
      "0.7\n",
      "1077\n",
      "89.322191272052\n",
      "0.8\n",
      "608\n",
      "92.26973684210526\n",
      "0.9\n",
      "299\n",
      "90.63545150501672\n"
     ]
    }
   ],
   "source": [
    "\n",
    "for i in [float(x/10) for x in range(10)]:\n",
    "    print(i)\n",
    "    tempdf = rawtruthed2[rawtruthed2['MATCH RATIO'] > i]\n",
    "    print(len(tempdf))\n",
    "    print(sum(tempdf['Result'] == 'True') / len(tempdf) * 100)"
   ]
  },
  {
   "cell_type": "code",
   "execution_count": 53,
   "metadata": {},
   "outputs": [
    {
     "name": "stdout",
     "output_type": "stream",
     "text": [
      "A file already exists with this name.\n",
      "\n",
      "Do you want to overwrite? (Y/N)Y\n",
      "Writing file.  \"C:/Users/matta/OneDrive/Documents/Springboard/Bat_Echolocation_Capstone/Clean_data\\truthed_library.csv\"\n"
     ]
    }
   ],
   "source": [
    "# save the data to a new csv file\n",
    "#C:\\Users\\matta\\OneDrive\\Documents\\Springboard\n",
    "#datapath = 'C:/Users/matta/OneDrive/Documents/Springboard/Clean_data'\n",
    "save_file(rawtruthed2, 'truthed_library.csv', datapath)"
   ]
  },
  {
   "cell_type": "code",
   "execution_count": null,
   "metadata": {},
   "outputs": [],
   "source": []
  }
 ],
 "metadata": {
  "kernelspec": {
   "display_name": "Python 3",
   "language": "python",
   "name": "python3"
  },
  "language_info": {
   "codemirror_mode": {
    "name": "ipython",
    "version": 3
   },
   "file_extension": ".py",
   "mimetype": "text/x-python",
   "name": "python",
   "nbconvert_exporter": "python",
   "pygments_lexer": "ipython3",
   "version": "3.8.3"
  },
  "toc": {
   "base_numbering": 1,
   "nav_menu": {},
   "number_sections": true,
   "sideBar": true,
   "skip_h1_title": false,
   "title_cell": "Table of Contents",
   "title_sidebar": "Contents",
   "toc_cell": true,
   "toc_position": {},
   "toc_section_display": true,
   "toc_window_display": false
  }
 },
 "nbformat": 4,
 "nbformat_minor": 4
}
